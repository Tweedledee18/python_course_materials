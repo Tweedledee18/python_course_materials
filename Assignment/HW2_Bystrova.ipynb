{
  "cells": [
    {
      "cell_type": "code",
      "execution_count": null,
      "metadata": {
        "id": "ugE0wOwTCWla"
      },
      "outputs": [],
      "source": [
        "%matplotlib inline\n",
        "import requests\n",
        "from bs4 import BeautifulSoup\n",
        "import os\n",
        "import pandas as pd\n",
        "import time\n",
        "import re\n",
        "import seaborn as sns\n",
        "from lxml import html\n",
        "import matplotlib \n",
        "import matplotlib.pyplot as plt\n",
        "\n",
        "%config InlineBackend.figure_format = 'svg'\n",
        "from pylab import rcParams\n",
        "rcParams['figure.figsize'] = 8, 5\n",
        "\n",
        "from collections import Counter\n",
        "import matplotlib.ticker as ticker\n",
        "from IPython.core.display import display, HTML"
      ]
    },
    {
      "cell_type": "markdown",
      "metadata": {
        "id": "OGxypew7WfF9"
      },
      "source": [
        "Получаем 250 самых топовых фильмов"
      ]
    },
    {
      "cell_type": "code",
      "execution_count": null,
      "metadata": {
        "id": "3pyngaW9JF2q"
      },
      "outputs": [],
      "source": [
        "url = 'http://www.imdb.com/chart/top'\n",
        "response = requests.get(url)\n",
        "soup = BeautifulSoup(response.text, 'lxml')"
      ]
    },
    {
      "cell_type": "markdown",
      "metadata": {
        "id": "5XSedO8AWs8T"
      },
      "source": [
        "Парсим страницу с фильмами и получаем грязные данные с\n",
        "\n",
        "\n",
        "1.   Названием фильма\n",
        "2.   Рейтингом\n",
        "3.   Командой \n",
        "4.   Ссылкой на основную страницу\n",
        "\n",
        "\n"
      ]
    },
    {
      "cell_type": "code",
      "execution_count": null,
      "metadata": {
        "id": "WbiBk8rKNfWe"
      },
      "outputs": [],
      "source": [
        "movies = soup.select('td.titleColumn')\n",
        "links = [a.attrs.get('href') for a in soup.select('td.titleColumn a')]\n",
        "crew = [a.attrs.get('title') for a in soup.select('td.titleColumn a')]\n",
        "ratings = [b.attrs.get('data-value') for b in soup.select('td.posterColumn span[name=ir]')]"
      ]
    },
    {
      "cell_type": "code",
      "execution_count": null,
      "metadata": {
        "colab": {
          "base_uri": "https://localhost:8080/",
          "height": 423
        },
        "id": "g7yNtxcRR03X",
        "outputId": "5a8c96a1-26cc-4666-e08e-9199d11167ec"
      },
      "outputs": [
        {
          "output_type": "execute_result",
          "data": {
            "text/plain": [
              "                                                movies            ratings  \\\n",
              "0    [\\n      1.\\n      , [The Shawshank Redemption...  9.235336975746515   \n",
              "1    [\\n      2.\\n      , [The Godfather], \\n, [(19...  9.156156229992018   \n",
              "2    [\\n      3.\\n      , [The Dark Knight], \\n, [(...   8.98977261048083   \n",
              "3    [\\n      4.\\n      , [The Godfather Part II], ...  8.984112200363233   \n",
              "4    [\\n      5.\\n      , [12 Angry Men], \\n, [(195...  8.951317166310817   \n",
              "..                                                 ...                ...   \n",
              "245  [\\n      246.\\n      , [The Iron Giant], \\n, [...   8.00558470116725   \n",
              "246  [\\n      247.\\n      , [Aladdin], \\n, [(1992)]...  8.004977362532944   \n",
              "247  [\\n      248.\\n      , [The Help], \\n, [(2011)...  8.004914922523998   \n",
              "248  [\\n      249.\\n      , [Gandhi], \\n, [(1982)],...  8.004048236531052   \n",
              "249  [\\n      250.\\n      , [Rififi], \\n, [(1955)],...  8.002180817988501   \n",
              "\n",
              "                                                  crew              links  \n",
              "0    Frank Darabont (dir.), Tim Robbins, Morgan Fre...  /title/tt0111161/  \n",
              "1    Francis Ford Coppola (dir.), Marlon Brando, Al...  /title/tt0068646/  \n",
              "2    Christopher Nolan (dir.), Christian Bale, Heat...  /title/tt0468569/  \n",
              "3    Francis Ford Coppola (dir.), Al Pacino, Robert...  /title/tt0071562/  \n",
              "4        Sidney Lumet (dir.), Henry Fonda, Lee J. Cobb  /title/tt0050083/  \n",
              "..                                                 ...                ...  \n",
              "245  Brad Bird (dir.), Eli Marienthal, Harry Connic...  /title/tt0129167/  \n",
              "246  Ron Clements (dir.), Scott Weinger, Robin Will...  /title/tt0103639/  \n",
              "247        Tate Taylor (dir.), Viola Davis, Emma Stone  /title/tt1454029/  \n",
              "248  Richard Attenborough (dir.), Ben Kingsley, Joh...  /title/tt0083987/  \n",
              "249     Jules Dassin (dir.), Jean Servais, Carl Möhner  /title/tt0048021/  \n",
              "\n",
              "[250 rows x 4 columns]"
            ],
            "text/html": [
              "\n",
              "  <div id=\"df-ac756f8d-eb80-4173-81b4-5ecf3530d49b\">\n",
              "    <div class=\"colab-df-container\">\n",
              "      <div>\n",
              "<style scoped>\n",
              "    .dataframe tbody tr th:only-of-type {\n",
              "        vertical-align: middle;\n",
              "    }\n",
              "\n",
              "    .dataframe tbody tr th {\n",
              "        vertical-align: top;\n",
              "    }\n",
              "\n",
              "    .dataframe thead th {\n",
              "        text-align: right;\n",
              "    }\n",
              "</style>\n",
              "<table border=\"1\" class=\"dataframe\">\n",
              "  <thead>\n",
              "    <tr style=\"text-align: right;\">\n",
              "      <th></th>\n",
              "      <th>movies</th>\n",
              "      <th>ratings</th>\n",
              "      <th>crew</th>\n",
              "      <th>links</th>\n",
              "    </tr>\n",
              "  </thead>\n",
              "  <tbody>\n",
              "    <tr>\n",
              "      <th>0</th>\n",
              "      <td>[\\n      1.\\n      , [The Shawshank Redemption...</td>\n",
              "      <td>9.235336975746515</td>\n",
              "      <td>Frank Darabont (dir.), Tim Robbins, Morgan Fre...</td>\n",
              "      <td>/title/tt0111161/</td>\n",
              "    </tr>\n",
              "    <tr>\n",
              "      <th>1</th>\n",
              "      <td>[\\n      2.\\n      , [The Godfather], \\n, [(19...</td>\n",
              "      <td>9.156156229992018</td>\n",
              "      <td>Francis Ford Coppola (dir.), Marlon Brando, Al...</td>\n",
              "      <td>/title/tt0068646/</td>\n",
              "    </tr>\n",
              "    <tr>\n",
              "      <th>2</th>\n",
              "      <td>[\\n      3.\\n      , [The Dark Knight], \\n, [(...</td>\n",
              "      <td>8.98977261048083</td>\n",
              "      <td>Christopher Nolan (dir.), Christian Bale, Heat...</td>\n",
              "      <td>/title/tt0468569/</td>\n",
              "    </tr>\n",
              "    <tr>\n",
              "      <th>3</th>\n",
              "      <td>[\\n      4.\\n      , [The Godfather Part II], ...</td>\n",
              "      <td>8.984112200363233</td>\n",
              "      <td>Francis Ford Coppola (dir.), Al Pacino, Robert...</td>\n",
              "      <td>/title/tt0071562/</td>\n",
              "    </tr>\n",
              "    <tr>\n",
              "      <th>4</th>\n",
              "      <td>[\\n      5.\\n      , [12 Angry Men], \\n, [(195...</td>\n",
              "      <td>8.951317166310817</td>\n",
              "      <td>Sidney Lumet (dir.), Henry Fonda, Lee J. Cobb</td>\n",
              "      <td>/title/tt0050083/</td>\n",
              "    </tr>\n",
              "    <tr>\n",
              "      <th>...</th>\n",
              "      <td>...</td>\n",
              "      <td>...</td>\n",
              "      <td>...</td>\n",
              "      <td>...</td>\n",
              "    </tr>\n",
              "    <tr>\n",
              "      <th>245</th>\n",
              "      <td>[\\n      246.\\n      , [The Iron Giant], \\n, [...</td>\n",
              "      <td>8.00558470116725</td>\n",
              "      <td>Brad Bird (dir.), Eli Marienthal, Harry Connic...</td>\n",
              "      <td>/title/tt0129167/</td>\n",
              "    </tr>\n",
              "    <tr>\n",
              "      <th>246</th>\n",
              "      <td>[\\n      247.\\n      , [Aladdin], \\n, [(1992)]...</td>\n",
              "      <td>8.004977362532944</td>\n",
              "      <td>Ron Clements (dir.), Scott Weinger, Robin Will...</td>\n",
              "      <td>/title/tt0103639/</td>\n",
              "    </tr>\n",
              "    <tr>\n",
              "      <th>247</th>\n",
              "      <td>[\\n      248.\\n      , [The Help], \\n, [(2011)...</td>\n",
              "      <td>8.004914922523998</td>\n",
              "      <td>Tate Taylor (dir.), Viola Davis, Emma Stone</td>\n",
              "      <td>/title/tt1454029/</td>\n",
              "    </tr>\n",
              "    <tr>\n",
              "      <th>248</th>\n",
              "      <td>[\\n      249.\\n      , [Gandhi], \\n, [(1982)],...</td>\n",
              "      <td>8.004048236531052</td>\n",
              "      <td>Richard Attenborough (dir.), Ben Kingsley, Joh...</td>\n",
              "      <td>/title/tt0083987/</td>\n",
              "    </tr>\n",
              "    <tr>\n",
              "      <th>249</th>\n",
              "      <td>[\\n      250.\\n      , [Rififi], \\n, [(1955)],...</td>\n",
              "      <td>8.002180817988501</td>\n",
              "      <td>Jules Dassin (dir.), Jean Servais, Carl Möhner</td>\n",
              "      <td>/title/tt0048021/</td>\n",
              "    </tr>\n",
              "  </tbody>\n",
              "</table>\n",
              "<p>250 rows × 4 columns</p>\n",
              "</div>\n",
              "      <button class=\"colab-df-convert\" onclick=\"convertToInteractive('df-ac756f8d-eb80-4173-81b4-5ecf3530d49b')\"\n",
              "              title=\"Convert this dataframe to an interactive table.\"\n",
              "              style=\"display:none;\">\n",
              "        \n",
              "  <svg xmlns=\"http://www.w3.org/2000/svg\" height=\"24px\"viewBox=\"0 0 24 24\"\n",
              "       width=\"24px\">\n",
              "    <path d=\"M0 0h24v24H0V0z\" fill=\"none\"/>\n",
              "    <path d=\"M18.56 5.44l.94 2.06.94-2.06 2.06-.94-2.06-.94-.94-2.06-.94 2.06-2.06.94zm-11 1L8.5 8.5l.94-2.06 2.06-.94-2.06-.94L8.5 2.5l-.94 2.06-2.06.94zm10 10l.94 2.06.94-2.06 2.06-.94-2.06-.94-.94-2.06-.94 2.06-2.06.94z\"/><path d=\"M17.41 7.96l-1.37-1.37c-.4-.4-.92-.59-1.43-.59-.52 0-1.04.2-1.43.59L10.3 9.45l-7.72 7.72c-.78.78-.78 2.05 0 2.83L4 21.41c.39.39.9.59 1.41.59.51 0 1.02-.2 1.41-.59l7.78-7.78 2.81-2.81c.8-.78.8-2.07 0-2.86zM5.41 20L4 18.59l7.72-7.72 1.47 1.35L5.41 20z\"/>\n",
              "  </svg>\n",
              "      </button>\n",
              "      \n",
              "  <style>\n",
              "    .colab-df-container {\n",
              "      display:flex;\n",
              "      flex-wrap:wrap;\n",
              "      gap: 12px;\n",
              "    }\n",
              "\n",
              "    .colab-df-convert {\n",
              "      background-color: #E8F0FE;\n",
              "      border: none;\n",
              "      border-radius: 50%;\n",
              "      cursor: pointer;\n",
              "      display: none;\n",
              "      fill: #1967D2;\n",
              "      height: 32px;\n",
              "      padding: 0 0 0 0;\n",
              "      width: 32px;\n",
              "    }\n",
              "\n",
              "    .colab-df-convert:hover {\n",
              "      background-color: #E2EBFA;\n",
              "      box-shadow: 0px 1px 2px rgba(60, 64, 67, 0.3), 0px 1px 3px 1px rgba(60, 64, 67, 0.15);\n",
              "      fill: #174EA6;\n",
              "    }\n",
              "\n",
              "    [theme=dark] .colab-df-convert {\n",
              "      background-color: #3B4455;\n",
              "      fill: #D2E3FC;\n",
              "    }\n",
              "\n",
              "    [theme=dark] .colab-df-convert:hover {\n",
              "      background-color: #434B5C;\n",
              "      box-shadow: 0px 1px 3px 1px rgba(0, 0, 0, 0.15);\n",
              "      filter: drop-shadow(0px 1px 2px rgba(0, 0, 0, 0.3));\n",
              "      fill: #FFFFFF;\n",
              "    }\n",
              "  </style>\n",
              "\n",
              "      <script>\n",
              "        const buttonEl =\n",
              "          document.querySelector('#df-ac756f8d-eb80-4173-81b4-5ecf3530d49b button.colab-df-convert');\n",
              "        buttonEl.style.display =\n",
              "          google.colab.kernel.accessAllowed ? 'block' : 'none';\n",
              "\n",
              "        async function convertToInteractive(key) {\n",
              "          const element = document.querySelector('#df-ac756f8d-eb80-4173-81b4-5ecf3530d49b');\n",
              "          const dataTable =\n",
              "            await google.colab.kernel.invokeFunction('convertToInteractive',\n",
              "                                                     [key], {});\n",
              "          if (!dataTable) return;\n",
              "\n",
              "          const docLinkHtml = 'Like what you see? Visit the ' +\n",
              "            '<a target=\"_blank\" href=https://colab.research.google.com/notebooks/data_table.ipynb>data table notebook</a>'\n",
              "            + ' to learn more about interactive tables.';\n",
              "          element.innerHTML = '';\n",
              "          dataTable['output_type'] = 'display_data';\n",
              "          await google.colab.output.renderOutput(dataTable, element);\n",
              "          const docLink = document.createElement('div');\n",
              "          docLink.innerHTML = docLinkHtml;\n",
              "          element.appendChild(docLink);\n",
              "        }\n",
              "      </script>\n",
              "    </div>\n",
              "  </div>\n",
              "  "
            ]
          },
          "metadata": {},
          "execution_count": 4
        }
      ],
      "source": [
        "data_frame = {\n",
        "    \"movies\": movies,\n",
        "    \"ratings\": ratings,\n",
        "    \"crew\": crew,\n",
        "    \"links\": links\n",
        "}\n",
        "\n",
        "data = pd.DataFrame(data_frame)\n",
        "data"
      ]
    },
    {
      "cell_type": "markdown",
      "metadata": {
        "id": "jvgoaN4eXGw2"
      },
      "source": [
        "Несколько функциий для преобзразования грязных заголовков с названием фильмов\n"
      ]
    },
    {
      "cell_type": "code",
      "execution_count": null,
      "metadata": {
        "id": "1ydY8dcmSJoo"
      },
      "outputs": [],
      "source": [
        "def process_text_mv(text):\n",
        "    data = text.get_text().split(\"\\n\")\n",
        "    return data[2].strip()"
      ]
    },
    {
      "cell_type": "code",
      "execution_count": null,
      "metadata": {
        "id": "DOUhCHOSUyWj"
      },
      "outputs": [],
      "source": [
        "def process_text_year(text):\n",
        "    data = text.get_text().split(\"\\n\")\n",
        "    return data[3].strip()[1:-1]"
      ]
    },
    {
      "cell_type": "code",
      "execution_count": null,
      "metadata": {
        "id": "83EXl09PU67J"
      },
      "outputs": [],
      "source": [
        "data[\"title\"] = data.movies.apply(process_text_mv)\n",
        "data[\"year\"] = data.movies.apply(process_text_year)"
      ]
    },
    {
      "cell_type": "code",
      "execution_count": null,
      "metadata": {
        "colab": {
          "base_uri": "https://localhost:8080/",
          "height": 206
        },
        "id": "8tg-WxG6VGde",
        "outputId": "eddad1ca-709e-4ced-b870-4861331d150f"
      },
      "outputs": [
        {
          "output_type": "execute_result",
          "data": {
            "text/plain": [
              "                                              movies            ratings  \\\n",
              "0  [\\n      1.\\n      , [The Shawshank Redemption...  9.235336975746515   \n",
              "1  [\\n      2.\\n      , [The Godfather], \\n, [(19...  9.156156229992018   \n",
              "2  [\\n      3.\\n      , [The Dark Knight], \\n, [(...   8.98977261048083   \n",
              "3  [\\n      4.\\n      , [The Godfather Part II], ...  8.984112200363233   \n",
              "4  [\\n      5.\\n      , [12 Angry Men], \\n, [(195...  8.951317166310817   \n",
              "\n",
              "                                                crew              links  \\\n",
              "0  Frank Darabont (dir.), Tim Robbins, Morgan Fre...  /title/tt0111161/   \n",
              "1  Francis Ford Coppola (dir.), Marlon Brando, Al...  /title/tt0068646/   \n",
              "2  Christopher Nolan (dir.), Christian Bale, Heat...  /title/tt0468569/   \n",
              "3  Francis Ford Coppola (dir.), Al Pacino, Robert...  /title/tt0071562/   \n",
              "4      Sidney Lumet (dir.), Henry Fonda, Lee J. Cobb  /title/tt0050083/   \n",
              "\n",
              "                      title  year  \n",
              "0  The Shawshank Redemption  1994  \n",
              "1             The Godfather  1972  \n",
              "2           The Dark Knight  2008  \n",
              "3     The Godfather Part II  1974  \n",
              "4              12 Angry Men  1957  "
            ],
            "text/html": [
              "\n",
              "  <div id=\"df-962bd40b-018e-4daa-97f3-e8a8e9c958f7\">\n",
              "    <div class=\"colab-df-container\">\n",
              "      <div>\n",
              "<style scoped>\n",
              "    .dataframe tbody tr th:only-of-type {\n",
              "        vertical-align: middle;\n",
              "    }\n",
              "\n",
              "    .dataframe tbody tr th {\n",
              "        vertical-align: top;\n",
              "    }\n",
              "\n",
              "    .dataframe thead th {\n",
              "        text-align: right;\n",
              "    }\n",
              "</style>\n",
              "<table border=\"1\" class=\"dataframe\">\n",
              "  <thead>\n",
              "    <tr style=\"text-align: right;\">\n",
              "      <th></th>\n",
              "      <th>movies</th>\n",
              "      <th>ratings</th>\n",
              "      <th>crew</th>\n",
              "      <th>links</th>\n",
              "      <th>title</th>\n",
              "      <th>year</th>\n",
              "    </tr>\n",
              "  </thead>\n",
              "  <tbody>\n",
              "    <tr>\n",
              "      <th>0</th>\n",
              "      <td>[\\n      1.\\n      , [The Shawshank Redemption...</td>\n",
              "      <td>9.235336975746515</td>\n",
              "      <td>Frank Darabont (dir.), Tim Robbins, Morgan Fre...</td>\n",
              "      <td>/title/tt0111161/</td>\n",
              "      <td>The Shawshank Redemption</td>\n",
              "      <td>1994</td>\n",
              "    </tr>\n",
              "    <tr>\n",
              "      <th>1</th>\n",
              "      <td>[\\n      2.\\n      , [The Godfather], \\n, [(19...</td>\n",
              "      <td>9.156156229992018</td>\n",
              "      <td>Francis Ford Coppola (dir.), Marlon Brando, Al...</td>\n",
              "      <td>/title/tt0068646/</td>\n",
              "      <td>The Godfather</td>\n",
              "      <td>1972</td>\n",
              "    </tr>\n",
              "    <tr>\n",
              "      <th>2</th>\n",
              "      <td>[\\n      3.\\n      , [The Dark Knight], \\n, [(...</td>\n",
              "      <td>8.98977261048083</td>\n",
              "      <td>Christopher Nolan (dir.), Christian Bale, Heat...</td>\n",
              "      <td>/title/tt0468569/</td>\n",
              "      <td>The Dark Knight</td>\n",
              "      <td>2008</td>\n",
              "    </tr>\n",
              "    <tr>\n",
              "      <th>3</th>\n",
              "      <td>[\\n      4.\\n      , [The Godfather Part II], ...</td>\n",
              "      <td>8.984112200363233</td>\n",
              "      <td>Francis Ford Coppola (dir.), Al Pacino, Robert...</td>\n",
              "      <td>/title/tt0071562/</td>\n",
              "      <td>The Godfather Part II</td>\n",
              "      <td>1974</td>\n",
              "    </tr>\n",
              "    <tr>\n",
              "      <th>4</th>\n",
              "      <td>[\\n      5.\\n      , [12 Angry Men], \\n, [(195...</td>\n",
              "      <td>8.951317166310817</td>\n",
              "      <td>Sidney Lumet (dir.), Henry Fonda, Lee J. Cobb</td>\n",
              "      <td>/title/tt0050083/</td>\n",
              "      <td>12 Angry Men</td>\n",
              "      <td>1957</td>\n",
              "    </tr>\n",
              "  </tbody>\n",
              "</table>\n",
              "</div>\n",
              "      <button class=\"colab-df-convert\" onclick=\"convertToInteractive('df-962bd40b-018e-4daa-97f3-e8a8e9c958f7')\"\n",
              "              title=\"Convert this dataframe to an interactive table.\"\n",
              "              style=\"display:none;\">\n",
              "        \n",
              "  <svg xmlns=\"http://www.w3.org/2000/svg\" height=\"24px\"viewBox=\"0 0 24 24\"\n",
              "       width=\"24px\">\n",
              "    <path d=\"M0 0h24v24H0V0z\" fill=\"none\"/>\n",
              "    <path d=\"M18.56 5.44l.94 2.06.94-2.06 2.06-.94-2.06-.94-.94-2.06-.94 2.06-2.06.94zm-11 1L8.5 8.5l.94-2.06 2.06-.94-2.06-.94L8.5 2.5l-.94 2.06-2.06.94zm10 10l.94 2.06.94-2.06 2.06-.94-2.06-.94-.94-2.06-.94 2.06-2.06.94z\"/><path d=\"M17.41 7.96l-1.37-1.37c-.4-.4-.92-.59-1.43-.59-.52 0-1.04.2-1.43.59L10.3 9.45l-7.72 7.72c-.78.78-.78 2.05 0 2.83L4 21.41c.39.39.9.59 1.41.59.51 0 1.02-.2 1.41-.59l7.78-7.78 2.81-2.81c.8-.78.8-2.07 0-2.86zM5.41 20L4 18.59l7.72-7.72 1.47 1.35L5.41 20z\"/>\n",
              "  </svg>\n",
              "      </button>\n",
              "      \n",
              "  <style>\n",
              "    .colab-df-container {\n",
              "      display:flex;\n",
              "      flex-wrap:wrap;\n",
              "      gap: 12px;\n",
              "    }\n",
              "\n",
              "    .colab-df-convert {\n",
              "      background-color: #E8F0FE;\n",
              "      border: none;\n",
              "      border-radius: 50%;\n",
              "      cursor: pointer;\n",
              "      display: none;\n",
              "      fill: #1967D2;\n",
              "      height: 32px;\n",
              "      padding: 0 0 0 0;\n",
              "      width: 32px;\n",
              "    }\n",
              "\n",
              "    .colab-df-convert:hover {\n",
              "      background-color: #E2EBFA;\n",
              "      box-shadow: 0px 1px 2px rgba(60, 64, 67, 0.3), 0px 1px 3px 1px rgba(60, 64, 67, 0.15);\n",
              "      fill: #174EA6;\n",
              "    }\n",
              "\n",
              "    [theme=dark] .colab-df-convert {\n",
              "      background-color: #3B4455;\n",
              "      fill: #D2E3FC;\n",
              "    }\n",
              "\n",
              "    [theme=dark] .colab-df-convert:hover {\n",
              "      background-color: #434B5C;\n",
              "      box-shadow: 0px 1px 3px 1px rgba(0, 0, 0, 0.15);\n",
              "      filter: drop-shadow(0px 1px 2px rgba(0, 0, 0, 0.3));\n",
              "      fill: #FFFFFF;\n",
              "    }\n",
              "  </style>\n",
              "\n",
              "      <script>\n",
              "        const buttonEl =\n",
              "          document.querySelector('#df-962bd40b-018e-4daa-97f3-e8a8e9c958f7 button.colab-df-convert');\n",
              "        buttonEl.style.display =\n",
              "          google.colab.kernel.accessAllowed ? 'block' : 'none';\n",
              "\n",
              "        async function convertToInteractive(key) {\n",
              "          const element = document.querySelector('#df-962bd40b-018e-4daa-97f3-e8a8e9c958f7');\n",
              "          const dataTable =\n",
              "            await google.colab.kernel.invokeFunction('convertToInteractive',\n",
              "                                                     [key], {});\n",
              "          if (!dataTable) return;\n",
              "\n",
              "          const docLinkHtml = 'Like what you see? Visit the ' +\n",
              "            '<a target=\"_blank\" href=https://colab.research.google.com/notebooks/data_table.ipynb>data table notebook</a>'\n",
              "            + ' to learn more about interactive tables.';\n",
              "          element.innerHTML = '';\n",
              "          dataTable['output_type'] = 'display_data';\n",
              "          await google.colab.output.renderOutput(dataTable, element);\n",
              "          const docLink = document.createElement('div');\n",
              "          docLink.innerHTML = docLinkHtml;\n",
              "          element.appendChild(docLink);\n",
              "        }\n",
              "      </script>\n",
              "    </div>\n",
              "  </div>\n",
              "  "
            ]
          },
          "metadata": {},
          "execution_count": 8
        }
      ],
      "source": [
        "data.head()"
      ]
    },
    {
      "cell_type": "code",
      "execution_count": null,
      "metadata": {
        "colab": {
          "base_uri": "https://localhost:8080/",
          "height": 36
        },
        "id": "ci1coegXX9IM",
        "outputId": "f49b2db2-22c1-4afb-c53b-8ad7be0d3f37"
      },
      "outputs": [
        {
          "output_type": "execute_result",
          "data": {
            "text/plain": [
              "'Francis Ford Coppola (dir.), Marlon Brando, Al Pacino'"
            ],
            "application/vnd.google.colaboratory.intrinsic+json": {
              "type": "string"
            }
          },
          "metadata": {},
          "execution_count": 9
        }
      ],
      "source": [
        "data.crew[1]"
      ]
    },
    {
      "cell_type": "code",
      "execution_count": null,
      "metadata": {
        "colab": {
          "base_uri": "https://localhost:8080/"
        },
        "id": "nHEj_KEvXtnF",
        "outputId": "6073bab9-a32a-44d4-e369-536028cb3b39"
      },
      "outputs": [
        {
          "output_type": "stream",
          "name": "stdout",
          "text": [
            "<class 'pandas.core.frame.DataFrame'>\n",
            "RangeIndex: 250 entries, 0 to 249\n",
            "Data columns (total 6 columns):\n",
            " #   Column   Non-Null Count  Dtype \n",
            "---  ------   --------------  ----- \n",
            " 0   movies   250 non-null    object\n",
            " 1   ratings  250 non-null    object\n",
            " 2   crew     250 non-null    object\n",
            " 3   links    250 non-null    object\n",
            " 4   title    250 non-null    object\n",
            " 5   year     250 non-null    object\n",
            "dtypes: object(6)\n",
            "memory usage: 11.8+ KB\n"
          ]
        }
      ],
      "source": [
        "data.info()"
      ]
    },
    {
      "cell_type": "markdown",
      "metadata": {
        "id": "3SDxPB6qX4MR"
      },
      "source": [
        "#### Задача 1.\n",
        "Получить список всех участников команд (убрать постфикс `(dir.)` у директоров). Найти количество уникальных имен. \n",
        "\n"
      ]
    },
    {
      "cell_type": "code",
      "execution_count": null,
      "metadata": {
        "scrolled": true,
        "colab": {
          "base_uri": "https://localhost:8080/"
        },
        "id": "Wi51Hq0WXtnH",
        "outputId": "e53b3080-c4f2-4abf-9113-e37e9ad34e1e"
      },
      "outputs": [
        {
          "output_type": "stream",
          "name": "stdout",
          "text": [
            "527\n",
            "Количество участников списка crew: 750\n",
            "Количество уникальных имён: 527\n",
            "['Tim Robbins', 'Heath Ledger', 'Lee J. Cobb', 'Liam Neeson', 'John Travolta', 'Eli Wallach', 'Robin Wright', 'Peter Jackson', 'Elijah Wood', 'Ian McKellen', 'Joseph Gordon-Levitt', 'Irvin Kershner', 'Lana Wachowski', 'Keanu Reeves', 'Laurence Fishburne', 'Ray Liotta', 'Louise Fletcher', 'Morgan Freeman', 'Donna Reed', 'Jonathan Demme', 'Fernando Meirelles', 'Alexandre Rodrigues', 'Leandro Firmino', 'Roberto Benigni', 'Nicoletta Braschi', 'Matthew McConaughey', 'Anne Hathaway', 'Frank Darabont', 'Michael Clarke Duncan', 'George Lucas', 'Robert Zemeckis', 'Michael J. Fox', 'Christopher Lloyd', 'Daveigh Chase', 'Suzanne Pleshette', 'Anthony Perkins', 'Janet Leigh', 'Adrien Brody', 'Thomas Kretschmann', 'Lee Sun-kyun', 'Luc Besson', 'Jean Reno', 'Gary Oldman', 'Roger Allers', 'Matthew Broderick', 'Jeremy Irons', 'Tony Kaye', 'Edward Norton', 'Edward Furlong', 'Bryan Singer', 'Gabriel Byrne', 'Damien Chazelle', 'Miles Teller', 'Michael Curtiz', 'Ingrid Bergman', 'Masaki Kobayashi', 'Akira Ishihama', 'Isao Takahata', 'Tsutomu Tatsumi', 'Ayano Shiraishi', 'Olivier Nakache', 'François Cluzet', 'Omar Sy', 'Charles Bronson', 'Giuseppe Tornatore', 'Philippe Noiret', 'Enzo Cannavale', 'Tom Skerritt', 'Virginia Cherrill', 'Francis Ford Coppola']\n"
          ]
        }
      ],
      "source": [
        "crew_list = data[\"crew\"].tolist()\n",
        "\n",
        "#Создаем список всех имен из крю\n",
        "crewlist_split = ', '.join(crew_list).split(\", \")\n",
        "\n",
        "#Список всех имён без постфиксов\n",
        "def correct_list(list):\n",
        "    return [s.replace(\" (dir.)\", \"\") for s in list]\n",
        "\n",
        "crewlist_corr = correct_list(crewlist_split)\n",
        "print(len(set(crewlist_corr))) #перепроверка через множеcтво функции ниже\n",
        "\n",
        "#Создан список уникальных имён. Продублирован список крю, удаляем из него дубликаты.\n",
        "crewlist_unique = crewlist_corr[:]\n",
        "for word in list(crewlist_unique):  \n",
        "    if crewlist_unique.count(word) > 1:\n",
        "        crewlist_unique.remove(word)\n",
        "\n",
        "\n",
        "print(\"Количество участников списка crew:\", len(crewlist_corr)) \n",
        "print(\"Количество уникальных имён:\", len(crewlist_unique))\n",
        "print(crewlist_unique[:70])"
      ]
    },
    {
      "cell_type": "markdown",
      "metadata": {
        "id": "lt39zXSKXtnI"
      },
      "source": [
        "#### Задача 2.\n",
        "Получить список всех директоров. Построить распределение (визуализация обязательна) и найти директора(ов), у которого(ых) больше всего фильмов в топе.\n",
        "\n"
      ]
    },
    {
      "cell_type": "code",
      "execution_count": null,
      "metadata": {
        "scrolled": true,
        "id": "3F-6eTRPXtnJ"
      },
      "outputs": [],
      "source": [
        "#Создаем список всех директоров\n",
        "pattern = re.compile(r\".*(dir.)\")\n",
        "directors_list = correct_list(list(filter(pattern.match, crewlist_split)))\n",
        "data[\"Directors\"] = pd.DataFrame(directors_list)"
      ]
    },
    {
      "cell_type": "code",
      "execution_count": null,
      "metadata": {
        "scrolled": true,
        "colab": {
          "base_uri": "https://localhost:8080/",
          "height": 206
        },
        "id": "gObXvmViXtnJ",
        "outputId": "575d4fc0-89b1-4c3b-ff9c-6278efa8de77"
      },
      "outputs": [
        {
          "output_type": "execute_result",
          "data": {
            "text/plain": [
              "                                              movies            ratings  \\\n",
              "0  [\\n      1.\\n      , [The Shawshank Redemption...  9.235336975746515   \n",
              "1  [\\n      2.\\n      , [The Godfather], \\n, [(19...  9.156156229992018   \n",
              "2  [\\n      3.\\n      , [The Dark Knight], \\n, [(...   8.98977261048083   \n",
              "3  [\\n      4.\\n      , [The Godfather Part II], ...  8.984112200363233   \n",
              "4  [\\n      5.\\n      , [12 Angry Men], \\n, [(195...  8.951317166310817   \n",
              "\n",
              "                                                crew              links  \\\n",
              "0  Frank Darabont (dir.), Tim Robbins, Morgan Fre...  /title/tt0111161/   \n",
              "1  Francis Ford Coppola (dir.), Marlon Brando, Al...  /title/tt0068646/   \n",
              "2  Christopher Nolan (dir.), Christian Bale, Heat...  /title/tt0468569/   \n",
              "3  Francis Ford Coppola (dir.), Al Pacino, Robert...  /title/tt0071562/   \n",
              "4      Sidney Lumet (dir.), Henry Fonda, Lee J. Cobb  /title/tt0050083/   \n",
              "\n",
              "                      title  year             Directors  \n",
              "0  The Shawshank Redemption  1994        Frank Darabont  \n",
              "1             The Godfather  1972  Francis Ford Coppola  \n",
              "2           The Dark Knight  2008     Christopher Nolan  \n",
              "3     The Godfather Part II  1974  Francis Ford Coppola  \n",
              "4              12 Angry Men  1957          Sidney Lumet  "
            ],
            "text/html": [
              "\n",
              "  <div id=\"df-65ece790-4666-4131-af4b-e1b0854bb365\">\n",
              "    <div class=\"colab-df-container\">\n",
              "      <div>\n",
              "<style scoped>\n",
              "    .dataframe tbody tr th:only-of-type {\n",
              "        vertical-align: middle;\n",
              "    }\n",
              "\n",
              "    .dataframe tbody tr th {\n",
              "        vertical-align: top;\n",
              "    }\n",
              "\n",
              "    .dataframe thead th {\n",
              "        text-align: right;\n",
              "    }\n",
              "</style>\n",
              "<table border=\"1\" class=\"dataframe\">\n",
              "  <thead>\n",
              "    <tr style=\"text-align: right;\">\n",
              "      <th></th>\n",
              "      <th>movies</th>\n",
              "      <th>ratings</th>\n",
              "      <th>crew</th>\n",
              "      <th>links</th>\n",
              "      <th>title</th>\n",
              "      <th>year</th>\n",
              "      <th>Directors</th>\n",
              "    </tr>\n",
              "  </thead>\n",
              "  <tbody>\n",
              "    <tr>\n",
              "      <th>0</th>\n",
              "      <td>[\\n      1.\\n      , [The Shawshank Redemption...</td>\n",
              "      <td>9.235336975746515</td>\n",
              "      <td>Frank Darabont (dir.), Tim Robbins, Morgan Fre...</td>\n",
              "      <td>/title/tt0111161/</td>\n",
              "      <td>The Shawshank Redemption</td>\n",
              "      <td>1994</td>\n",
              "      <td>Frank Darabont</td>\n",
              "    </tr>\n",
              "    <tr>\n",
              "      <th>1</th>\n",
              "      <td>[\\n      2.\\n      , [The Godfather], \\n, [(19...</td>\n",
              "      <td>9.156156229992018</td>\n",
              "      <td>Francis Ford Coppola (dir.), Marlon Brando, Al...</td>\n",
              "      <td>/title/tt0068646/</td>\n",
              "      <td>The Godfather</td>\n",
              "      <td>1972</td>\n",
              "      <td>Francis Ford Coppola</td>\n",
              "    </tr>\n",
              "    <tr>\n",
              "      <th>2</th>\n",
              "      <td>[\\n      3.\\n      , [The Dark Knight], \\n, [(...</td>\n",
              "      <td>8.98977261048083</td>\n",
              "      <td>Christopher Nolan (dir.), Christian Bale, Heat...</td>\n",
              "      <td>/title/tt0468569/</td>\n",
              "      <td>The Dark Knight</td>\n",
              "      <td>2008</td>\n",
              "      <td>Christopher Nolan</td>\n",
              "    </tr>\n",
              "    <tr>\n",
              "      <th>3</th>\n",
              "      <td>[\\n      4.\\n      , [The Godfather Part II], ...</td>\n",
              "      <td>8.984112200363233</td>\n",
              "      <td>Francis Ford Coppola (dir.), Al Pacino, Robert...</td>\n",
              "      <td>/title/tt0071562/</td>\n",
              "      <td>The Godfather Part II</td>\n",
              "      <td>1974</td>\n",
              "      <td>Francis Ford Coppola</td>\n",
              "    </tr>\n",
              "    <tr>\n",
              "      <th>4</th>\n",
              "      <td>[\\n      5.\\n      , [12 Angry Men], \\n, [(195...</td>\n",
              "      <td>8.951317166310817</td>\n",
              "      <td>Sidney Lumet (dir.), Henry Fonda, Lee J. Cobb</td>\n",
              "      <td>/title/tt0050083/</td>\n",
              "      <td>12 Angry Men</td>\n",
              "      <td>1957</td>\n",
              "      <td>Sidney Lumet</td>\n",
              "    </tr>\n",
              "  </tbody>\n",
              "</table>\n",
              "</div>\n",
              "      <button class=\"colab-df-convert\" onclick=\"convertToInteractive('df-65ece790-4666-4131-af4b-e1b0854bb365')\"\n",
              "              title=\"Convert this dataframe to an interactive table.\"\n",
              "              style=\"display:none;\">\n",
              "        \n",
              "  <svg xmlns=\"http://www.w3.org/2000/svg\" height=\"24px\"viewBox=\"0 0 24 24\"\n",
              "       width=\"24px\">\n",
              "    <path d=\"M0 0h24v24H0V0z\" fill=\"none\"/>\n",
              "    <path d=\"M18.56 5.44l.94 2.06.94-2.06 2.06-.94-2.06-.94-.94-2.06-.94 2.06-2.06.94zm-11 1L8.5 8.5l.94-2.06 2.06-.94-2.06-.94L8.5 2.5l-.94 2.06-2.06.94zm10 10l.94 2.06.94-2.06 2.06-.94-2.06-.94-.94-2.06-.94 2.06-2.06.94z\"/><path d=\"M17.41 7.96l-1.37-1.37c-.4-.4-.92-.59-1.43-.59-.52 0-1.04.2-1.43.59L10.3 9.45l-7.72 7.72c-.78.78-.78 2.05 0 2.83L4 21.41c.39.39.9.59 1.41.59.51 0 1.02-.2 1.41-.59l7.78-7.78 2.81-2.81c.8-.78.8-2.07 0-2.86zM5.41 20L4 18.59l7.72-7.72 1.47 1.35L5.41 20z\"/>\n",
              "  </svg>\n",
              "      </button>\n",
              "      \n",
              "  <style>\n",
              "    .colab-df-container {\n",
              "      display:flex;\n",
              "      flex-wrap:wrap;\n",
              "      gap: 12px;\n",
              "    }\n",
              "\n",
              "    .colab-df-convert {\n",
              "      background-color: #E8F0FE;\n",
              "      border: none;\n",
              "      border-radius: 50%;\n",
              "      cursor: pointer;\n",
              "      display: none;\n",
              "      fill: #1967D2;\n",
              "      height: 32px;\n",
              "      padding: 0 0 0 0;\n",
              "      width: 32px;\n",
              "    }\n",
              "\n",
              "    .colab-df-convert:hover {\n",
              "      background-color: #E2EBFA;\n",
              "      box-shadow: 0px 1px 2px rgba(60, 64, 67, 0.3), 0px 1px 3px 1px rgba(60, 64, 67, 0.15);\n",
              "      fill: #174EA6;\n",
              "    }\n",
              "\n",
              "    [theme=dark] .colab-df-convert {\n",
              "      background-color: #3B4455;\n",
              "      fill: #D2E3FC;\n",
              "    }\n",
              "\n",
              "    [theme=dark] .colab-df-convert:hover {\n",
              "      background-color: #434B5C;\n",
              "      box-shadow: 0px 1px 3px 1px rgba(0, 0, 0, 0.15);\n",
              "      filter: drop-shadow(0px 1px 2px rgba(0, 0, 0, 0.3));\n",
              "      fill: #FFFFFF;\n",
              "    }\n",
              "  </style>\n",
              "\n",
              "      <script>\n",
              "        const buttonEl =\n",
              "          document.querySelector('#df-65ece790-4666-4131-af4b-e1b0854bb365 button.colab-df-convert');\n",
              "        buttonEl.style.display =\n",
              "          google.colab.kernel.accessAllowed ? 'block' : 'none';\n",
              "\n",
              "        async function convertToInteractive(key) {\n",
              "          const element = document.querySelector('#df-65ece790-4666-4131-af4b-e1b0854bb365');\n",
              "          const dataTable =\n",
              "            await google.colab.kernel.invokeFunction('convertToInteractive',\n",
              "                                                     [key], {});\n",
              "          if (!dataTable) return;\n",
              "\n",
              "          const docLinkHtml = 'Like what you see? Visit the ' +\n",
              "            '<a target=\"_blank\" href=https://colab.research.google.com/notebooks/data_table.ipynb>data table notebook</a>'\n",
              "            + ' to learn more about interactive tables.';\n",
              "          element.innerHTML = '';\n",
              "          dataTable['output_type'] = 'display_data';\n",
              "          await google.colab.output.renderOutput(dataTable, element);\n",
              "          const docLink = document.createElement('div');\n",
              "          docLink.innerHTML = docLinkHtml;\n",
              "          element.appendChild(docLink);\n",
              "        }\n",
              "      </script>\n",
              "    </div>\n",
              "  </div>\n",
              "  "
            ]
          },
          "metadata": {},
          "execution_count": 13
        }
      ],
      "source": [
        "data.head()"
      ]
    },
    {
      "cell_type": "code",
      "execution_count": null,
      "metadata": {
        "colab": {
          "base_uri": "https://localhost:8080/"
        },
        "id": "IqaAG8P-XtnK",
        "outputId": "33e8b3bc-9a47-4cc3-a746-2a24be738861"
      },
      "outputs": [
        {
          "output_type": "execute_result",
          "data": {
            "text/plain": [
              "Martin Scorsese      7\n",
              "Akira Kurosawa       7\n",
              "Christopher Nolan    7\n",
              "Steven Spielberg     7\n",
              "Stanley Kubrick      7\n",
              "Alfred Hitchcock     6\n",
              "Quentin Tarantino    5\n",
              "Billy Wilder         5\n",
              "Charles Chaplin      5\n",
              "Hayao Miyazaki       4\n",
              "Name: Directors, dtype: int64"
            ]
          },
          "metadata": {},
          "execution_count": 14
        }
      ],
      "source": [
        "#Считаем какие режиссеры встречались в топе чаще всего:\n",
        "occurence = data['Directors'].value_counts()[:10]\n",
        "occurence"
      ]
    },
    {
      "cell_type": "code",
      "execution_count": null,
      "metadata": {
        "colab": {
          "base_uri": "https://localhost:8080/",
          "height": 425
        },
        "id": "R-6tnKCUXtnL",
        "outputId": "4b919cce-728c-4438-be1b-612823260cc2"
      },
      "outputs": [
        {
          "output_type": "display_data",
          "data": {
            "text/plain": [
              "<Figure size 576x360 with 1 Axes>"
            ],
            "image/svg+xml": "<?xml version=\"1.0\" encoding=\"utf-8\" standalone=\"no\"?>\n<!DOCTYPE svg PUBLIC \"-//W3C//DTD SVG 1.1//EN\"\n  \"http://www.w3.org/Graphics/SVG/1.1/DTD/svg11.dtd\">\n<!-- Created with matplotlib (https://matplotlib.org/) -->\n<svg height=\"302.878125pt\" version=\"1.1\" viewBox=\"0 0 558.229687 302.878125\" width=\"558.229687pt\" xmlns=\"http://www.w3.org/2000/svg\" xmlns:xlink=\"http://www.w3.org/1999/xlink\">\n <defs>\n  <style type=\"text/css\">\n*{stroke-linecap:butt;stroke-linejoin:round;}\n  </style>\n </defs>\n <g id=\"figure_1\">\n  <g id=\"patch_1\">\n   <path d=\"M 0 302.878125 \nL 558.229687 302.878125 \nL 558.229687 0 \nL 0 0 \nz\n\" style=\"fill:none;\"/>\n  </g>\n  <g id=\"axes_1\">\n   <g id=\"patch_2\">\n    <path d=\"M 104.629687 279 \nL 551.029688 279 \nL 551.029688 7.2 \nL 104.629687 7.2 \nz\n\" style=\"fill:#ffffff;\"/>\n   </g>\n   <g id=\"patch_3\">\n    <path clip-path=\"url(#p60cc3fa241)\" d=\"M 104.629687 272.205 \nL 529.772545 272.205 \nL 529.772545 258.615 \nL 104.629687 258.615 \nz\n\" style=\"fill:#1f77b4;\"/>\n   </g>\n   <g id=\"patch_4\">\n    <path clip-path=\"url(#p60cc3fa241)\" d=\"M 104.629687 245.025 \nL 529.772545 245.025 \nL 529.772545 231.435 \nL 104.629687 231.435 \nz\n\" style=\"fill:#1f77b4;\"/>\n   </g>\n   <g id=\"patch_5\">\n    <path clip-path=\"url(#p60cc3fa241)\" d=\"M 104.629687 217.845 \nL 529.772545 217.845 \nL 529.772545 204.255 \nL 104.629687 204.255 \nz\n\" style=\"fill:#1f77b4;\"/>\n   </g>\n   <g id=\"patch_6\">\n    <path clip-path=\"url(#p60cc3fa241)\" d=\"M 104.629687 190.665 \nL 529.772545 190.665 \nL 529.772545 177.075 \nL 104.629687 177.075 \nz\n\" style=\"fill:#1f77b4;\"/>\n   </g>\n   <g id=\"patch_7\">\n    <path clip-path=\"url(#p60cc3fa241)\" d=\"M 104.629687 163.485 \nL 529.772545 163.485 \nL 529.772545 149.895 \nL 104.629687 149.895 \nz\n\" style=\"fill:#1f77b4;\"/>\n   </g>\n   <g id=\"patch_8\">\n    <path clip-path=\"url(#p60cc3fa241)\" d=\"M 104.629687 136.305 \nL 469.037851 136.305 \nL 469.037851 122.715 \nL 104.629687 122.715 \nz\n\" style=\"fill:#1f77b4;\"/>\n   </g>\n   <g id=\"patch_9\">\n    <path clip-path=\"url(#p60cc3fa241)\" d=\"M 104.629687 109.125 \nL 408.303157 109.125 \nL 408.303157 95.535 \nL 104.629687 95.535 \nz\n\" style=\"fill:#1f77b4;\"/>\n   </g>\n   <g id=\"patch_10\">\n    <path clip-path=\"url(#p60cc3fa241)\" d=\"M 104.629687 81.945 \nL 408.303157 81.945 \nL 408.303157 68.355 \nL 104.629687 68.355 \nz\n\" style=\"fill:#1f77b4;\"/>\n   </g>\n   <g id=\"patch_11\">\n    <path clip-path=\"url(#p60cc3fa241)\" d=\"M 104.629687 54.765 \nL 408.303157 54.765 \nL 408.303157 41.175 \nL 104.629687 41.175 \nz\n\" style=\"fill:#1f77b4;\"/>\n   </g>\n   <g id=\"patch_12\">\n    <path clip-path=\"url(#p60cc3fa241)\" d=\"M 104.629687 27.585 \nL 347.568463 27.585 \nL 347.568463 13.995 \nL 104.629687 13.995 \nz\n\" style=\"fill:#1f77b4;\"/>\n   </g>\n   <g id=\"matplotlib.axis_1\">\n    <g id=\"xtick_1\">\n     <g id=\"line2d_1\">\n      <defs>\n       <path d=\"M 0 0 \nL 0 3.5 \n\" id=\"m2ea985262b\" style=\"stroke:#000000;stroke-width:0.8;\"/>\n      </defs>\n      <g>\n       <use style=\"stroke:#000000;stroke-width:0.8;\" x=\"104.629687\" xlink:href=\"#m2ea985262b\" y=\"279\"/>\n      </g>\n     </g>\n     <g id=\"text_1\">\n      <!-- 0 -->\n      <defs>\n       <path d=\"M 31.78125 66.40625 \nQ 24.171875 66.40625 20.328125 58.90625 \nQ 16.5 51.421875 16.5 36.375 \nQ 16.5 21.390625 20.328125 13.890625 \nQ 24.171875 6.390625 31.78125 6.390625 \nQ 39.453125 6.390625 43.28125 13.890625 \nQ 47.125 21.390625 47.125 36.375 \nQ 47.125 51.421875 43.28125 58.90625 \nQ 39.453125 66.40625 31.78125 66.40625 \nz\nM 31.78125 74.21875 \nQ 44.046875 74.21875 50.515625 64.515625 \nQ 56.984375 54.828125 56.984375 36.375 \nQ 56.984375 17.96875 50.515625 8.265625 \nQ 44.046875 -1.421875 31.78125 -1.421875 \nQ 19.53125 -1.421875 13.0625 8.265625 \nQ 6.59375 17.96875 6.59375 36.375 \nQ 6.59375 54.828125 13.0625 64.515625 \nQ 19.53125 74.21875 31.78125 74.21875 \nz\n\" id=\"DejaVuSans-48\"/>\n      </defs>\n      <g transform=\"translate(101.448437 293.598437)scale(0.1 -0.1)\">\n       <use xlink:href=\"#DejaVuSans-48\"/>\n      </g>\n     </g>\n    </g>\n    <g id=\"xtick_2\">\n     <g id=\"line2d_2\">\n      <g>\n       <use style=\"stroke:#000000;stroke-width:0.8;\" x=\"165.364381\" xlink:href=\"#m2ea985262b\" y=\"279\"/>\n      </g>\n     </g>\n     <g id=\"text_2\">\n      <!-- 1 -->\n      <defs>\n       <path d=\"M 12.40625 8.296875 \nL 28.515625 8.296875 \nL 28.515625 63.921875 \nL 10.984375 60.40625 \nL 10.984375 69.390625 \nL 28.421875 72.90625 \nL 38.28125 72.90625 \nL 38.28125 8.296875 \nL 54.390625 8.296875 \nL 54.390625 0 \nL 12.40625 0 \nz\n\" id=\"DejaVuSans-49\"/>\n      </defs>\n      <g transform=\"translate(162.183131 293.598437)scale(0.1 -0.1)\">\n       <use xlink:href=\"#DejaVuSans-49\"/>\n      </g>\n     </g>\n    </g>\n    <g id=\"xtick_3\">\n     <g id=\"line2d_3\">\n      <g>\n       <use style=\"stroke:#000000;stroke-width:0.8;\" x=\"226.099075\" xlink:href=\"#m2ea985262b\" y=\"279\"/>\n      </g>\n     </g>\n     <g id=\"text_3\">\n      <!-- 2 -->\n      <defs>\n       <path d=\"M 19.1875 8.296875 \nL 53.609375 8.296875 \nL 53.609375 0 \nL 7.328125 0 \nL 7.328125 8.296875 \nQ 12.9375 14.109375 22.625 23.890625 \nQ 32.328125 33.6875 34.8125 36.53125 \nQ 39.546875 41.84375 41.421875 45.53125 \nQ 43.3125 49.21875 43.3125 52.78125 \nQ 43.3125 58.59375 39.234375 62.25 \nQ 35.15625 65.921875 28.609375 65.921875 \nQ 23.96875 65.921875 18.8125 64.3125 \nQ 13.671875 62.703125 7.8125 59.421875 \nL 7.8125 69.390625 \nQ 13.765625 71.78125 18.9375 73 \nQ 24.125 74.21875 28.421875 74.21875 \nQ 39.75 74.21875 46.484375 68.546875 \nQ 53.21875 62.890625 53.21875 53.421875 \nQ 53.21875 48.921875 51.53125 44.890625 \nQ 49.859375 40.875 45.40625 35.40625 \nQ 44.1875 33.984375 37.640625 27.21875 \nQ 31.109375 20.453125 19.1875 8.296875 \nz\n\" id=\"DejaVuSans-50\"/>\n      </defs>\n      <g transform=\"translate(222.917825 293.598437)scale(0.1 -0.1)\">\n       <use xlink:href=\"#DejaVuSans-50\"/>\n      </g>\n     </g>\n    </g>\n    <g id=\"xtick_4\">\n     <g id=\"line2d_4\">\n      <g>\n       <use style=\"stroke:#000000;stroke-width:0.8;\" x=\"286.833769\" xlink:href=\"#m2ea985262b\" y=\"279\"/>\n      </g>\n     </g>\n     <g id=\"text_4\">\n      <!-- 3 -->\n      <defs>\n       <path d=\"M 40.578125 39.3125 \nQ 47.65625 37.796875 51.625 33 \nQ 55.609375 28.21875 55.609375 21.1875 \nQ 55.609375 10.40625 48.1875 4.484375 \nQ 40.765625 -1.421875 27.09375 -1.421875 \nQ 22.515625 -1.421875 17.65625 -0.515625 \nQ 12.796875 0.390625 7.625 2.203125 \nL 7.625 11.71875 \nQ 11.71875 9.328125 16.59375 8.109375 \nQ 21.484375 6.890625 26.8125 6.890625 \nQ 36.078125 6.890625 40.9375 10.546875 \nQ 45.796875 14.203125 45.796875 21.1875 \nQ 45.796875 27.640625 41.28125 31.265625 \nQ 36.765625 34.90625 28.71875 34.90625 \nL 20.21875 34.90625 \nL 20.21875 43.015625 \nL 29.109375 43.015625 \nQ 36.375 43.015625 40.234375 45.921875 \nQ 44.09375 48.828125 44.09375 54.296875 \nQ 44.09375 59.90625 40.109375 62.90625 \nQ 36.140625 65.921875 28.71875 65.921875 \nQ 24.65625 65.921875 20.015625 65.03125 \nQ 15.375 64.15625 9.8125 62.3125 \nL 9.8125 71.09375 \nQ 15.4375 72.65625 20.34375 73.4375 \nQ 25.25 74.21875 29.59375 74.21875 \nQ 40.828125 74.21875 47.359375 69.109375 \nQ 53.90625 64.015625 53.90625 55.328125 \nQ 53.90625 49.265625 50.4375 45.09375 \nQ 46.96875 40.921875 40.578125 39.3125 \nz\n\" id=\"DejaVuSans-51\"/>\n      </defs>\n      <g transform=\"translate(283.652519 293.598437)scale(0.1 -0.1)\">\n       <use xlink:href=\"#DejaVuSans-51\"/>\n      </g>\n     </g>\n    </g>\n    <g id=\"xtick_5\">\n     <g id=\"line2d_5\">\n      <g>\n       <use style=\"stroke:#000000;stroke-width:0.8;\" x=\"347.568463\" xlink:href=\"#m2ea985262b\" y=\"279\"/>\n      </g>\n     </g>\n     <g id=\"text_5\">\n      <!-- 4 -->\n      <defs>\n       <path d=\"M 37.796875 64.3125 \nL 12.890625 25.390625 \nL 37.796875 25.390625 \nz\nM 35.203125 72.90625 \nL 47.609375 72.90625 \nL 47.609375 25.390625 \nL 58.015625 25.390625 \nL 58.015625 17.1875 \nL 47.609375 17.1875 \nL 47.609375 0 \nL 37.796875 0 \nL 37.796875 17.1875 \nL 4.890625 17.1875 \nL 4.890625 26.703125 \nz\n\" id=\"DejaVuSans-52\"/>\n      </defs>\n      <g transform=\"translate(344.387213 293.598437)scale(0.1 -0.1)\">\n       <use xlink:href=\"#DejaVuSans-52\"/>\n      </g>\n     </g>\n    </g>\n    <g id=\"xtick_6\">\n     <g id=\"line2d_6\">\n      <g>\n       <use style=\"stroke:#000000;stroke-width:0.8;\" x=\"408.303157\" xlink:href=\"#m2ea985262b\" y=\"279\"/>\n      </g>\n     </g>\n     <g id=\"text_6\">\n      <!-- 5 -->\n      <defs>\n       <path d=\"M 10.796875 72.90625 \nL 49.515625 72.90625 \nL 49.515625 64.59375 \nL 19.828125 64.59375 \nL 19.828125 46.734375 \nQ 21.96875 47.46875 24.109375 47.828125 \nQ 26.265625 48.1875 28.421875 48.1875 \nQ 40.625 48.1875 47.75 41.5 \nQ 54.890625 34.8125 54.890625 23.390625 \nQ 54.890625 11.625 47.5625 5.09375 \nQ 40.234375 -1.421875 26.90625 -1.421875 \nQ 22.3125 -1.421875 17.546875 -0.640625 \nQ 12.796875 0.140625 7.71875 1.703125 \nL 7.71875 11.625 \nQ 12.109375 9.234375 16.796875 8.0625 \nQ 21.484375 6.890625 26.703125 6.890625 \nQ 35.15625 6.890625 40.078125 11.328125 \nQ 45.015625 15.765625 45.015625 23.390625 \nQ 45.015625 31 40.078125 35.4375 \nQ 35.15625 39.890625 26.703125 39.890625 \nQ 22.75 39.890625 18.8125 39.015625 \nQ 14.890625 38.140625 10.796875 36.28125 \nz\n\" id=\"DejaVuSans-53\"/>\n      </defs>\n      <g transform=\"translate(405.121907 293.598437)scale(0.1 -0.1)\">\n       <use xlink:href=\"#DejaVuSans-53\"/>\n      </g>\n     </g>\n    </g>\n    <g id=\"xtick_7\">\n     <g id=\"line2d_7\">\n      <g>\n       <use style=\"stroke:#000000;stroke-width:0.8;\" x=\"469.037851\" xlink:href=\"#m2ea985262b\" y=\"279\"/>\n      </g>\n     </g>\n     <g id=\"text_7\">\n      <!-- 6 -->\n      <defs>\n       <path d=\"M 33.015625 40.375 \nQ 26.375 40.375 22.484375 35.828125 \nQ 18.609375 31.296875 18.609375 23.390625 \nQ 18.609375 15.53125 22.484375 10.953125 \nQ 26.375 6.390625 33.015625 6.390625 \nQ 39.65625 6.390625 43.53125 10.953125 \nQ 47.40625 15.53125 47.40625 23.390625 \nQ 47.40625 31.296875 43.53125 35.828125 \nQ 39.65625 40.375 33.015625 40.375 \nz\nM 52.59375 71.296875 \nL 52.59375 62.3125 \nQ 48.875 64.0625 45.09375 64.984375 \nQ 41.3125 65.921875 37.59375 65.921875 \nQ 27.828125 65.921875 22.671875 59.328125 \nQ 17.53125 52.734375 16.796875 39.40625 \nQ 19.671875 43.65625 24.015625 45.921875 \nQ 28.375 48.1875 33.59375 48.1875 \nQ 44.578125 48.1875 50.953125 41.515625 \nQ 57.328125 34.859375 57.328125 23.390625 \nQ 57.328125 12.15625 50.6875 5.359375 \nQ 44.046875 -1.421875 33.015625 -1.421875 \nQ 20.359375 -1.421875 13.671875 8.265625 \nQ 6.984375 17.96875 6.984375 36.375 \nQ 6.984375 53.65625 15.1875 63.9375 \nQ 23.390625 74.21875 37.203125 74.21875 \nQ 40.921875 74.21875 44.703125 73.484375 \nQ 48.484375 72.75 52.59375 71.296875 \nz\n\" id=\"DejaVuSans-54\"/>\n      </defs>\n      <g transform=\"translate(465.856601 293.598437)scale(0.1 -0.1)\">\n       <use xlink:href=\"#DejaVuSans-54\"/>\n      </g>\n     </g>\n    </g>\n    <g id=\"xtick_8\">\n     <g id=\"line2d_8\">\n      <g>\n       <use style=\"stroke:#000000;stroke-width:0.8;\" x=\"529.772545\" xlink:href=\"#m2ea985262b\" y=\"279\"/>\n      </g>\n     </g>\n     <g id=\"text_8\">\n      <!-- 7 -->\n      <defs>\n       <path d=\"M 8.203125 72.90625 \nL 55.078125 72.90625 \nL 55.078125 68.703125 \nL 28.609375 0 \nL 18.3125 0 \nL 43.21875 64.59375 \nL 8.203125 64.59375 \nz\n\" id=\"DejaVuSans-55\"/>\n      </defs>\n      <g transform=\"translate(526.591295 293.598437)scale(0.1 -0.1)\">\n       <use xlink:href=\"#DejaVuSans-55\"/>\n      </g>\n     </g>\n    </g>\n   </g>\n   <g id=\"matplotlib.axis_2\">\n    <g id=\"ytick_1\">\n     <g id=\"line2d_9\">\n      <defs>\n       <path d=\"M 0 0 \nL -3.5 0 \n\" id=\"m8d5db7a06b\" style=\"stroke:#000000;stroke-width:0.8;\"/>\n      </defs>\n      <g>\n       <use style=\"stroke:#000000;stroke-width:0.8;\" x=\"104.629687\" xlink:href=\"#m8d5db7a06b\" y=\"265.41\"/>\n      </g>\n     </g>\n     <g id=\"text_9\">\n      <!-- Martin Scorsese -->\n      <defs>\n       <path d=\"M 9.8125 72.90625 \nL 24.515625 72.90625 \nL 43.109375 23.296875 \nL 61.8125 72.90625 \nL 76.515625 72.90625 \nL 76.515625 0 \nL 66.890625 0 \nL 66.890625 64.015625 \nL 48.09375 14.015625 \nL 38.1875 14.015625 \nL 19.390625 64.015625 \nL 19.390625 0 \nL 9.8125 0 \nz\n\" id=\"DejaVuSans-77\"/>\n       <path d=\"M 34.28125 27.484375 \nQ 23.390625 27.484375 19.1875 25 \nQ 14.984375 22.515625 14.984375 16.5 \nQ 14.984375 11.71875 18.140625 8.90625 \nQ 21.296875 6.109375 26.703125 6.109375 \nQ 34.1875 6.109375 38.703125 11.40625 \nQ 43.21875 16.703125 43.21875 25.484375 \nL 43.21875 27.484375 \nz\nM 52.203125 31.203125 \nL 52.203125 0 \nL 43.21875 0 \nL 43.21875 8.296875 \nQ 40.140625 3.328125 35.546875 0.953125 \nQ 30.953125 -1.421875 24.3125 -1.421875 \nQ 15.921875 -1.421875 10.953125 3.296875 \nQ 6 8.015625 6 15.921875 \nQ 6 25.140625 12.171875 29.828125 \nQ 18.359375 34.515625 30.609375 34.515625 \nL 43.21875 34.515625 \nL 43.21875 35.40625 \nQ 43.21875 41.609375 39.140625 45 \nQ 35.0625 48.390625 27.6875 48.390625 \nQ 23 48.390625 18.546875 47.265625 \nQ 14.109375 46.140625 10.015625 43.890625 \nL 10.015625 52.203125 \nQ 14.9375 54.109375 19.578125 55.046875 \nQ 24.21875 56 28.609375 56 \nQ 40.484375 56 46.34375 49.84375 \nQ 52.203125 43.703125 52.203125 31.203125 \nz\n\" id=\"DejaVuSans-97\"/>\n       <path d=\"M 41.109375 46.296875 \nQ 39.59375 47.171875 37.8125 47.578125 \nQ 36.03125 48 33.890625 48 \nQ 26.265625 48 22.1875 43.046875 \nQ 18.109375 38.09375 18.109375 28.8125 \nL 18.109375 0 \nL 9.078125 0 \nL 9.078125 54.6875 \nL 18.109375 54.6875 \nL 18.109375 46.1875 \nQ 20.953125 51.171875 25.484375 53.578125 \nQ 30.03125 56 36.53125 56 \nQ 37.453125 56 38.578125 55.875 \nQ 39.703125 55.765625 41.0625 55.515625 \nz\n\" id=\"DejaVuSans-114\"/>\n       <path d=\"M 18.3125 70.21875 \nL 18.3125 54.6875 \nL 36.8125 54.6875 \nL 36.8125 47.703125 \nL 18.3125 47.703125 \nL 18.3125 18.015625 \nQ 18.3125 11.328125 20.140625 9.421875 \nQ 21.96875 7.515625 27.59375 7.515625 \nL 36.8125 7.515625 \nL 36.8125 0 \nL 27.59375 0 \nQ 17.1875 0 13.234375 3.875 \nQ 9.28125 7.765625 9.28125 18.015625 \nL 9.28125 47.703125 \nL 2.6875 47.703125 \nL 2.6875 54.6875 \nL 9.28125 54.6875 \nL 9.28125 70.21875 \nz\n\" id=\"DejaVuSans-116\"/>\n       <path d=\"M 9.421875 54.6875 \nL 18.40625 54.6875 \nL 18.40625 0 \nL 9.421875 0 \nz\nM 9.421875 75.984375 \nL 18.40625 75.984375 \nL 18.40625 64.59375 \nL 9.421875 64.59375 \nz\n\" id=\"DejaVuSans-105\"/>\n       <path d=\"M 54.890625 33.015625 \nL 54.890625 0 \nL 45.90625 0 \nL 45.90625 32.71875 \nQ 45.90625 40.484375 42.875 44.328125 \nQ 39.84375 48.1875 33.796875 48.1875 \nQ 26.515625 48.1875 22.3125 43.546875 \nQ 18.109375 38.921875 18.109375 30.90625 \nL 18.109375 0 \nL 9.078125 0 \nL 9.078125 54.6875 \nL 18.109375 54.6875 \nL 18.109375 46.1875 \nQ 21.34375 51.125 25.703125 53.5625 \nQ 30.078125 56 35.796875 56 \nQ 45.21875 56 50.046875 50.171875 \nQ 54.890625 44.34375 54.890625 33.015625 \nz\n\" id=\"DejaVuSans-110\"/>\n       <path id=\"DejaVuSans-32\"/>\n       <path d=\"M 53.515625 70.515625 \nL 53.515625 60.890625 \nQ 47.90625 63.578125 42.921875 64.890625 \nQ 37.9375 66.21875 33.296875 66.21875 \nQ 25.25 66.21875 20.875 63.09375 \nQ 16.5 59.96875 16.5 54.203125 \nQ 16.5 49.359375 19.40625 46.890625 \nQ 22.3125 44.4375 30.421875 42.921875 \nL 36.375 41.703125 \nQ 47.40625 39.59375 52.65625 34.296875 \nQ 57.90625 29 57.90625 20.125 \nQ 57.90625 9.515625 50.796875 4.046875 \nQ 43.703125 -1.421875 29.984375 -1.421875 \nQ 24.8125 -1.421875 18.96875 -0.25 \nQ 13.140625 0.921875 6.890625 3.21875 \nL 6.890625 13.375 \nQ 12.890625 10.015625 18.65625 8.296875 \nQ 24.421875 6.59375 29.984375 6.59375 \nQ 38.421875 6.59375 43.015625 9.90625 \nQ 47.609375 13.234375 47.609375 19.390625 \nQ 47.609375 24.75 44.3125 27.78125 \nQ 41.015625 30.8125 33.5 32.328125 \nL 27.484375 33.5 \nQ 16.453125 35.6875 11.515625 40.375 \nQ 6.59375 45.0625 6.59375 53.421875 \nQ 6.59375 63.09375 13.40625 68.65625 \nQ 20.21875 74.21875 32.171875 74.21875 \nQ 37.3125 74.21875 42.625 73.28125 \nQ 47.953125 72.359375 53.515625 70.515625 \nz\n\" id=\"DejaVuSans-83\"/>\n       <path d=\"M 48.78125 52.59375 \nL 48.78125 44.1875 \nQ 44.96875 46.296875 41.140625 47.34375 \nQ 37.3125 48.390625 33.40625 48.390625 \nQ 24.65625 48.390625 19.8125 42.84375 \nQ 14.984375 37.3125 14.984375 27.296875 \nQ 14.984375 17.28125 19.8125 11.734375 \nQ 24.65625 6.203125 33.40625 6.203125 \nQ 37.3125 6.203125 41.140625 7.25 \nQ 44.96875 8.296875 48.78125 10.40625 \nL 48.78125 2.09375 \nQ 45.015625 0.34375 40.984375 -0.53125 \nQ 36.96875 -1.421875 32.421875 -1.421875 \nQ 20.0625 -1.421875 12.78125 6.34375 \nQ 5.515625 14.109375 5.515625 27.296875 \nQ 5.515625 40.671875 12.859375 48.328125 \nQ 20.21875 56 33.015625 56 \nQ 37.15625 56 41.109375 55.140625 \nQ 45.0625 54.296875 48.78125 52.59375 \nz\n\" id=\"DejaVuSans-99\"/>\n       <path d=\"M 30.609375 48.390625 \nQ 23.390625 48.390625 19.1875 42.75 \nQ 14.984375 37.109375 14.984375 27.296875 \nQ 14.984375 17.484375 19.15625 11.84375 \nQ 23.34375 6.203125 30.609375 6.203125 \nQ 37.796875 6.203125 41.984375 11.859375 \nQ 46.1875 17.53125 46.1875 27.296875 \nQ 46.1875 37.015625 41.984375 42.703125 \nQ 37.796875 48.390625 30.609375 48.390625 \nz\nM 30.609375 56 \nQ 42.328125 56 49.015625 48.375 \nQ 55.71875 40.765625 55.71875 27.296875 \nQ 55.71875 13.875 49.015625 6.21875 \nQ 42.328125 -1.421875 30.609375 -1.421875 \nQ 18.84375 -1.421875 12.171875 6.21875 \nQ 5.515625 13.875 5.515625 27.296875 \nQ 5.515625 40.765625 12.171875 48.375 \nQ 18.84375 56 30.609375 56 \nz\n\" id=\"DejaVuSans-111\"/>\n       <path d=\"M 44.28125 53.078125 \nL 44.28125 44.578125 \nQ 40.484375 46.53125 36.375 47.5 \nQ 32.28125 48.484375 27.875 48.484375 \nQ 21.1875 48.484375 17.84375 46.4375 \nQ 14.5 44.390625 14.5 40.28125 \nQ 14.5 37.15625 16.890625 35.375 \nQ 19.28125 33.59375 26.515625 31.984375 \nL 29.59375 31.296875 \nQ 39.15625 29.25 43.1875 25.515625 \nQ 47.21875 21.78125 47.21875 15.09375 \nQ 47.21875 7.46875 41.1875 3.015625 \nQ 35.15625 -1.421875 24.609375 -1.421875 \nQ 20.21875 -1.421875 15.453125 -0.5625 \nQ 10.6875 0.296875 5.421875 2 \nL 5.421875 11.28125 \nQ 10.40625 8.6875 15.234375 7.390625 \nQ 20.0625 6.109375 24.8125 6.109375 \nQ 31.15625 6.109375 34.5625 8.28125 \nQ 37.984375 10.453125 37.984375 14.40625 \nQ 37.984375 18.0625 35.515625 20.015625 \nQ 33.0625 21.96875 24.703125 23.78125 \nL 21.578125 24.515625 \nQ 13.234375 26.265625 9.515625 29.90625 \nQ 5.8125 33.546875 5.8125 39.890625 \nQ 5.8125 47.609375 11.28125 51.796875 \nQ 16.75 56 26.8125 56 \nQ 31.78125 56 36.171875 55.265625 \nQ 40.578125 54.546875 44.28125 53.078125 \nz\n\" id=\"DejaVuSans-115\"/>\n       <path d=\"M 56.203125 29.59375 \nL 56.203125 25.203125 \nL 14.890625 25.203125 \nQ 15.484375 15.921875 20.484375 11.0625 \nQ 25.484375 6.203125 34.421875 6.203125 \nQ 39.59375 6.203125 44.453125 7.46875 \nQ 49.3125 8.734375 54.109375 11.28125 \nL 54.109375 2.78125 \nQ 49.265625 0.734375 44.1875 -0.34375 \nQ 39.109375 -1.421875 33.890625 -1.421875 \nQ 20.796875 -1.421875 13.15625 6.1875 \nQ 5.515625 13.8125 5.515625 26.8125 \nQ 5.515625 40.234375 12.765625 48.109375 \nQ 20.015625 56 32.328125 56 \nQ 43.359375 56 49.78125 48.890625 \nQ 56.203125 41.796875 56.203125 29.59375 \nz\nM 47.21875 32.234375 \nQ 47.125 39.59375 43.09375 43.984375 \nQ 39.0625 48.390625 32.421875 48.390625 \nQ 24.90625 48.390625 20.390625 44.140625 \nQ 15.875 39.890625 15.1875 32.171875 \nz\n\" id=\"DejaVuSans-101\"/>\n      </defs>\n      <g transform=\"translate(17.746875 269.209219)scale(0.1 -0.1)\">\n       <use xlink:href=\"#DejaVuSans-77\"/>\n       <use x=\"86.279297\" xlink:href=\"#DejaVuSans-97\"/>\n       <use x=\"147.558594\" xlink:href=\"#DejaVuSans-114\"/>\n       <use x=\"188.671875\" xlink:href=\"#DejaVuSans-116\"/>\n       <use x=\"227.880859\" xlink:href=\"#DejaVuSans-105\"/>\n       <use x=\"255.664062\" xlink:href=\"#DejaVuSans-110\"/>\n       <use x=\"319.042969\" xlink:href=\"#DejaVuSans-32\"/>\n       <use x=\"350.830078\" xlink:href=\"#DejaVuSans-83\"/>\n       <use x=\"414.306641\" xlink:href=\"#DejaVuSans-99\"/>\n       <use x=\"469.287109\" xlink:href=\"#DejaVuSans-111\"/>\n       <use x=\"530.46875\" xlink:href=\"#DejaVuSans-114\"/>\n       <use x=\"571.582031\" xlink:href=\"#DejaVuSans-115\"/>\n       <use x=\"623.681641\" xlink:href=\"#DejaVuSans-101\"/>\n       <use x=\"685.205078\" xlink:href=\"#DejaVuSans-115\"/>\n       <use x=\"737.304688\" xlink:href=\"#DejaVuSans-101\"/>\n      </g>\n     </g>\n    </g>\n    <g id=\"ytick_2\">\n     <g id=\"line2d_10\">\n      <g>\n       <use style=\"stroke:#000000;stroke-width:0.8;\" x=\"104.629687\" xlink:href=\"#m8d5db7a06b\" y=\"238.23\"/>\n      </g>\n     </g>\n     <g id=\"text_10\">\n      <!-- Akira Kurosawa -->\n      <defs>\n       <path d=\"M 34.1875 63.1875 \nL 20.796875 26.90625 \nL 47.609375 26.90625 \nz\nM 28.609375 72.90625 \nL 39.796875 72.90625 \nL 67.578125 0 \nL 57.328125 0 \nL 50.6875 18.703125 \nL 17.828125 18.703125 \nL 11.1875 0 \nL 0.78125 0 \nz\n\" id=\"DejaVuSans-65\"/>\n       <path d=\"M 9.078125 75.984375 \nL 18.109375 75.984375 \nL 18.109375 31.109375 \nL 44.921875 54.6875 \nL 56.390625 54.6875 \nL 27.390625 29.109375 \nL 57.625 0 \nL 45.90625 0 \nL 18.109375 26.703125 \nL 18.109375 0 \nL 9.078125 0 \nz\n\" id=\"DejaVuSans-107\"/>\n       <path d=\"M 9.8125 72.90625 \nL 19.671875 72.90625 \nL 19.671875 42.09375 \nL 52.390625 72.90625 \nL 65.09375 72.90625 \nL 28.90625 38.921875 \nL 67.671875 0 \nL 54.6875 0 \nL 19.671875 35.109375 \nL 19.671875 0 \nL 9.8125 0 \nz\n\" id=\"DejaVuSans-75\"/>\n       <path d=\"M 8.5 21.578125 \nL 8.5 54.6875 \nL 17.484375 54.6875 \nL 17.484375 21.921875 \nQ 17.484375 14.15625 20.5 10.265625 \nQ 23.53125 6.390625 29.59375 6.390625 \nQ 36.859375 6.390625 41.078125 11.03125 \nQ 45.3125 15.671875 45.3125 23.6875 \nL 45.3125 54.6875 \nL 54.296875 54.6875 \nL 54.296875 0 \nL 45.3125 0 \nL 45.3125 8.40625 \nQ 42.046875 3.421875 37.71875 1 \nQ 33.40625 -1.421875 27.6875 -1.421875 \nQ 18.265625 -1.421875 13.375 4.4375 \nQ 8.5 10.296875 8.5 21.578125 \nz\nM 31.109375 56 \nz\n\" id=\"DejaVuSans-117\"/>\n       <path d=\"M 4.203125 54.6875 \nL 13.1875 54.6875 \nL 24.421875 12.015625 \nL 35.59375 54.6875 \nL 46.1875 54.6875 \nL 57.421875 12.015625 \nL 68.609375 54.6875 \nL 77.59375 54.6875 \nL 63.28125 0 \nL 52.6875 0 \nL 40.921875 44.828125 \nL 29.109375 0 \nL 18.5 0 \nz\n\" id=\"DejaVuSans-119\"/>\n      </defs>\n      <g transform=\"translate(20.759375 242.029219)scale(0.1 -0.1)\">\n       <use xlink:href=\"#DejaVuSans-65\"/>\n       <use x=\"68.408203\" xlink:href=\"#DejaVuSans-107\"/>\n       <use x=\"126.318359\" xlink:href=\"#DejaVuSans-105\"/>\n       <use x=\"154.101562\" xlink:href=\"#DejaVuSans-114\"/>\n       <use x=\"195.214844\" xlink:href=\"#DejaVuSans-97\"/>\n       <use x=\"256.494141\" xlink:href=\"#DejaVuSans-32\"/>\n       <use x=\"288.28125\" xlink:href=\"#DejaVuSans-75\"/>\n       <use x=\"348.857422\" xlink:href=\"#DejaVuSans-117\"/>\n       <use x=\"412.236328\" xlink:href=\"#DejaVuSans-114\"/>\n       <use x=\"451.099609\" xlink:href=\"#DejaVuSans-111\"/>\n       <use x=\"512.28125\" xlink:href=\"#DejaVuSans-115\"/>\n       <use x=\"564.380859\" xlink:href=\"#DejaVuSans-97\"/>\n       <use x=\"625.660156\" xlink:href=\"#DejaVuSans-119\"/>\n       <use x=\"707.447266\" xlink:href=\"#DejaVuSans-97\"/>\n      </g>\n     </g>\n    </g>\n    <g id=\"ytick_3\">\n     <g id=\"line2d_11\">\n      <g>\n       <use style=\"stroke:#000000;stroke-width:0.8;\" x=\"104.629687\" xlink:href=\"#m8d5db7a06b\" y=\"211.05\"/>\n      </g>\n     </g>\n     <g id=\"text_11\">\n      <!-- Christopher Nolan -->\n      <defs>\n       <path d=\"M 64.40625 67.28125 \nL 64.40625 56.890625 \nQ 59.421875 61.53125 53.78125 63.8125 \nQ 48.140625 66.109375 41.796875 66.109375 \nQ 29.296875 66.109375 22.65625 58.46875 \nQ 16.015625 50.828125 16.015625 36.375 \nQ 16.015625 21.96875 22.65625 14.328125 \nQ 29.296875 6.6875 41.796875 6.6875 \nQ 48.140625 6.6875 53.78125 8.984375 \nQ 59.421875 11.28125 64.40625 15.921875 \nL 64.40625 5.609375 \nQ 59.234375 2.09375 53.4375 0.328125 \nQ 47.65625 -1.421875 41.21875 -1.421875 \nQ 24.65625 -1.421875 15.125 8.703125 \nQ 5.609375 18.84375 5.609375 36.375 \nQ 5.609375 53.953125 15.125 64.078125 \nQ 24.65625 74.21875 41.21875 74.21875 \nQ 47.75 74.21875 53.53125 72.484375 \nQ 59.328125 70.75 64.40625 67.28125 \nz\n\" id=\"DejaVuSans-67\"/>\n       <path d=\"M 54.890625 33.015625 \nL 54.890625 0 \nL 45.90625 0 \nL 45.90625 32.71875 \nQ 45.90625 40.484375 42.875 44.328125 \nQ 39.84375 48.1875 33.796875 48.1875 \nQ 26.515625 48.1875 22.3125 43.546875 \nQ 18.109375 38.921875 18.109375 30.90625 \nL 18.109375 0 \nL 9.078125 0 \nL 9.078125 75.984375 \nL 18.109375 75.984375 \nL 18.109375 46.1875 \nQ 21.34375 51.125 25.703125 53.5625 \nQ 30.078125 56 35.796875 56 \nQ 45.21875 56 50.046875 50.171875 \nQ 54.890625 44.34375 54.890625 33.015625 \nz\n\" id=\"DejaVuSans-104\"/>\n       <path d=\"M 18.109375 8.203125 \nL 18.109375 -20.796875 \nL 9.078125 -20.796875 \nL 9.078125 54.6875 \nL 18.109375 54.6875 \nL 18.109375 46.390625 \nQ 20.953125 51.265625 25.265625 53.625 \nQ 29.59375 56 35.59375 56 \nQ 45.5625 56 51.78125 48.09375 \nQ 58.015625 40.1875 58.015625 27.296875 \nQ 58.015625 14.40625 51.78125 6.484375 \nQ 45.5625 -1.421875 35.59375 -1.421875 \nQ 29.59375 -1.421875 25.265625 0.953125 \nQ 20.953125 3.328125 18.109375 8.203125 \nz\nM 48.6875 27.296875 \nQ 48.6875 37.203125 44.609375 42.84375 \nQ 40.53125 48.484375 33.40625 48.484375 \nQ 26.265625 48.484375 22.1875 42.84375 \nQ 18.109375 37.203125 18.109375 27.296875 \nQ 18.109375 17.390625 22.1875 11.75 \nQ 26.265625 6.109375 33.40625 6.109375 \nQ 40.53125 6.109375 44.609375 11.75 \nQ 48.6875 17.390625 48.6875 27.296875 \nz\n\" id=\"DejaVuSans-112\"/>\n       <path d=\"M 9.8125 72.90625 \nL 23.09375 72.90625 \nL 55.421875 11.921875 \nL 55.421875 72.90625 \nL 64.984375 72.90625 \nL 64.984375 0 \nL 51.703125 0 \nL 19.390625 60.984375 \nL 19.390625 0 \nL 9.8125 0 \nz\n\" id=\"DejaVuSans-78\"/>\n       <path d=\"M 9.421875 75.984375 \nL 18.40625 75.984375 \nL 18.40625 0 \nL 9.421875 0 \nz\n\" id=\"DejaVuSans-108\"/>\n      </defs>\n      <g transform=\"translate(7.2 214.849219)scale(0.1 -0.1)\">\n       <use xlink:href=\"#DejaVuSans-67\"/>\n       <use x=\"69.824219\" xlink:href=\"#DejaVuSans-104\"/>\n       <use x=\"133.203125\" xlink:href=\"#DejaVuSans-114\"/>\n       <use x=\"174.316406\" xlink:href=\"#DejaVuSans-105\"/>\n       <use x=\"202.099609\" xlink:href=\"#DejaVuSans-115\"/>\n       <use x=\"254.199219\" xlink:href=\"#DejaVuSans-116\"/>\n       <use x=\"293.408203\" xlink:href=\"#DejaVuSans-111\"/>\n       <use x=\"354.589844\" xlink:href=\"#DejaVuSans-112\"/>\n       <use x=\"418.066406\" xlink:href=\"#DejaVuSans-104\"/>\n       <use x=\"481.445312\" xlink:href=\"#DejaVuSans-101\"/>\n       <use x=\"542.96875\" xlink:href=\"#DejaVuSans-114\"/>\n       <use x=\"584.082031\" xlink:href=\"#DejaVuSans-32\"/>\n       <use x=\"615.869141\" xlink:href=\"#DejaVuSans-78\"/>\n       <use x=\"690.673828\" xlink:href=\"#DejaVuSans-111\"/>\n       <use x=\"751.855469\" xlink:href=\"#DejaVuSans-108\"/>\n       <use x=\"779.638672\" xlink:href=\"#DejaVuSans-97\"/>\n       <use x=\"840.917969\" xlink:href=\"#DejaVuSans-110\"/>\n      </g>\n     </g>\n    </g>\n    <g id=\"ytick_4\">\n     <g id=\"line2d_12\">\n      <g>\n       <use style=\"stroke:#000000;stroke-width:0.8;\" x=\"104.629687\" xlink:href=\"#m8d5db7a06b\" y=\"183.87\"/>\n      </g>\n     </g>\n     <g id=\"text_12\">\n      <!-- Steven Spielberg -->\n      <defs>\n       <path d=\"M 2.984375 54.6875 \nL 12.5 54.6875 \nL 29.59375 8.796875 \nL 46.6875 54.6875 \nL 56.203125 54.6875 \nL 35.6875 0 \nL 23.484375 0 \nz\n\" id=\"DejaVuSans-118\"/>\n       <path d=\"M 48.6875 27.296875 \nQ 48.6875 37.203125 44.609375 42.84375 \nQ 40.53125 48.484375 33.40625 48.484375 \nQ 26.265625 48.484375 22.1875 42.84375 \nQ 18.109375 37.203125 18.109375 27.296875 \nQ 18.109375 17.390625 22.1875 11.75 \nQ 26.265625 6.109375 33.40625 6.109375 \nQ 40.53125 6.109375 44.609375 11.75 \nQ 48.6875 17.390625 48.6875 27.296875 \nz\nM 18.109375 46.390625 \nQ 20.953125 51.265625 25.265625 53.625 \nQ 29.59375 56 35.59375 56 \nQ 45.5625 56 51.78125 48.09375 \nQ 58.015625 40.1875 58.015625 27.296875 \nQ 58.015625 14.40625 51.78125 6.484375 \nQ 45.5625 -1.421875 35.59375 -1.421875 \nQ 29.59375 -1.421875 25.265625 0.953125 \nQ 20.953125 3.328125 18.109375 8.203125 \nL 18.109375 0 \nL 9.078125 0 \nL 9.078125 75.984375 \nL 18.109375 75.984375 \nz\n\" id=\"DejaVuSans-98\"/>\n       <path d=\"M 45.40625 27.984375 \nQ 45.40625 37.75 41.375 43.109375 \nQ 37.359375 48.484375 30.078125 48.484375 \nQ 22.859375 48.484375 18.828125 43.109375 \nQ 14.796875 37.75 14.796875 27.984375 \nQ 14.796875 18.265625 18.828125 12.890625 \nQ 22.859375 7.515625 30.078125 7.515625 \nQ 37.359375 7.515625 41.375 12.890625 \nQ 45.40625 18.265625 45.40625 27.984375 \nz\nM 54.390625 6.78125 \nQ 54.390625 -7.171875 48.1875 -13.984375 \nQ 42 -20.796875 29.203125 -20.796875 \nQ 24.46875 -20.796875 20.265625 -20.09375 \nQ 16.0625 -19.390625 12.109375 -17.921875 \nL 12.109375 -9.1875 \nQ 16.0625 -11.328125 19.921875 -12.34375 \nQ 23.78125 -13.375 27.78125 -13.375 \nQ 36.625 -13.375 41.015625 -8.765625 \nQ 45.40625 -4.15625 45.40625 5.171875 \nL 45.40625 9.625 \nQ 42.625 4.78125 38.28125 2.390625 \nQ 33.9375 0 27.875 0 \nQ 17.828125 0 11.671875 7.65625 \nQ 5.515625 15.328125 5.515625 27.984375 \nQ 5.515625 40.671875 11.671875 48.328125 \nQ 17.828125 56 27.875 56 \nQ 33.9375 56 38.28125 53.609375 \nQ 42.625 51.21875 45.40625 46.390625 \nL 45.40625 54.6875 \nL 54.390625 54.6875 \nz\n\" id=\"DejaVuSans-103\"/>\n      </defs>\n      <g transform=\"translate(12.428125 187.669219)scale(0.1 -0.1)\">\n       <use xlink:href=\"#DejaVuSans-83\"/>\n       <use x=\"63.476562\" xlink:href=\"#DejaVuSans-116\"/>\n       <use x=\"102.685547\" xlink:href=\"#DejaVuSans-101\"/>\n       <use x=\"164.208984\" xlink:href=\"#DejaVuSans-118\"/>\n       <use x=\"223.388672\" xlink:href=\"#DejaVuSans-101\"/>\n       <use x=\"284.912109\" xlink:href=\"#DejaVuSans-110\"/>\n       <use x=\"348.291016\" xlink:href=\"#DejaVuSans-32\"/>\n       <use x=\"380.078125\" xlink:href=\"#DejaVuSans-83\"/>\n       <use x=\"443.554688\" xlink:href=\"#DejaVuSans-112\"/>\n       <use x=\"507.03125\" xlink:href=\"#DejaVuSans-105\"/>\n       <use x=\"534.814453\" xlink:href=\"#DejaVuSans-101\"/>\n       <use x=\"596.337891\" xlink:href=\"#DejaVuSans-108\"/>\n       <use x=\"624.121094\" xlink:href=\"#DejaVuSans-98\"/>\n       <use x=\"687.597656\" xlink:href=\"#DejaVuSans-101\"/>\n       <use x=\"749.121094\" xlink:href=\"#DejaVuSans-114\"/>\n       <use x=\"788.484375\" xlink:href=\"#DejaVuSans-103\"/>\n      </g>\n     </g>\n    </g>\n    <g id=\"ytick_5\">\n     <g id=\"line2d_13\">\n      <g>\n       <use style=\"stroke:#000000;stroke-width:0.8;\" x=\"104.629687\" xlink:href=\"#m8d5db7a06b\" y=\"156.69\"/>\n      </g>\n     </g>\n     <g id=\"text_13\">\n      <!-- Stanley Kubrick -->\n      <defs>\n       <path d=\"M 32.171875 -5.078125 \nQ 28.375 -14.84375 24.75 -17.8125 \nQ 21.140625 -20.796875 15.09375 -20.796875 \nL 7.90625 -20.796875 \nL 7.90625 -13.28125 \nL 13.1875 -13.28125 \nQ 16.890625 -13.28125 18.9375 -11.515625 \nQ 21 -9.765625 23.484375 -3.21875 \nL 25.09375 0.875 \nL 2.984375 54.6875 \nL 12.5 54.6875 \nL 29.59375 11.921875 \nL 46.6875 54.6875 \nL 56.203125 54.6875 \nz\n\" id=\"DejaVuSans-121\"/>\n      </defs>\n      <g transform=\"translate(19.945312 160.489219)scale(0.1 -0.1)\">\n       <use xlink:href=\"#DejaVuSans-83\"/>\n       <use x=\"63.476562\" xlink:href=\"#DejaVuSans-116\"/>\n       <use x=\"102.685547\" xlink:href=\"#DejaVuSans-97\"/>\n       <use x=\"163.964844\" xlink:href=\"#DejaVuSans-110\"/>\n       <use x=\"227.34375\" xlink:href=\"#DejaVuSans-108\"/>\n       <use x=\"255.126953\" xlink:href=\"#DejaVuSans-101\"/>\n       <use x=\"316.650391\" xlink:href=\"#DejaVuSans-121\"/>\n       <use x=\"375.830078\" xlink:href=\"#DejaVuSans-32\"/>\n       <use x=\"407.617188\" xlink:href=\"#DejaVuSans-75\"/>\n       <use x=\"468.193359\" xlink:href=\"#DejaVuSans-117\"/>\n       <use x=\"531.572266\" xlink:href=\"#DejaVuSans-98\"/>\n       <use x=\"595.048828\" xlink:href=\"#DejaVuSans-114\"/>\n       <use x=\"636.162109\" xlink:href=\"#DejaVuSans-105\"/>\n       <use x=\"663.945312\" xlink:href=\"#DejaVuSans-99\"/>\n       <use x=\"718.925781\" xlink:href=\"#DejaVuSans-107\"/>\n      </g>\n     </g>\n    </g>\n    <g id=\"ytick_6\">\n     <g id=\"line2d_14\">\n      <g>\n       <use style=\"stroke:#000000;stroke-width:0.8;\" x=\"104.629687\" xlink:href=\"#m8d5db7a06b\" y=\"129.51\"/>\n      </g>\n     </g>\n     <g id=\"text_14\">\n      <!-- Alfred Hitchcock -->\n      <defs>\n       <path d=\"M 37.109375 75.984375 \nL 37.109375 68.5 \nL 28.515625 68.5 \nQ 23.6875 68.5 21.796875 66.546875 \nQ 19.921875 64.59375 19.921875 59.515625 \nL 19.921875 54.6875 \nL 34.71875 54.6875 \nL 34.71875 47.703125 \nL 19.921875 47.703125 \nL 19.921875 0 \nL 10.890625 0 \nL 10.890625 47.703125 \nL 2.296875 47.703125 \nL 2.296875 54.6875 \nL 10.890625 54.6875 \nL 10.890625 58.5 \nQ 10.890625 67.625 15.140625 71.796875 \nQ 19.390625 75.984375 28.609375 75.984375 \nz\n\" id=\"DejaVuSans-102\"/>\n       <path d=\"M 45.40625 46.390625 \nL 45.40625 75.984375 \nL 54.390625 75.984375 \nL 54.390625 0 \nL 45.40625 0 \nL 45.40625 8.203125 \nQ 42.578125 3.328125 38.25 0.953125 \nQ 33.9375 -1.421875 27.875 -1.421875 \nQ 17.96875 -1.421875 11.734375 6.484375 \nQ 5.515625 14.40625 5.515625 27.296875 \nQ 5.515625 40.1875 11.734375 48.09375 \nQ 17.96875 56 27.875 56 \nQ 33.9375 56 38.25 53.625 \nQ 42.578125 51.265625 45.40625 46.390625 \nz\nM 14.796875 27.296875 \nQ 14.796875 17.390625 18.875 11.75 \nQ 22.953125 6.109375 30.078125 6.109375 \nQ 37.203125 6.109375 41.296875 11.75 \nQ 45.40625 17.390625 45.40625 27.296875 \nQ 45.40625 37.203125 41.296875 42.84375 \nQ 37.203125 48.484375 30.078125 48.484375 \nQ 22.953125 48.484375 18.875 42.84375 \nQ 14.796875 37.203125 14.796875 27.296875 \nz\n\" id=\"DejaVuSans-100\"/>\n       <path d=\"M 9.8125 72.90625 \nL 19.671875 72.90625 \nL 19.671875 43.015625 \nL 55.515625 43.015625 \nL 55.515625 72.90625 \nL 65.375 72.90625 \nL 65.375 0 \nL 55.515625 0 \nL 55.515625 34.71875 \nL 19.671875 34.71875 \nL 19.671875 0 \nL 9.8125 0 \nz\n\" id=\"DejaVuSans-72\"/>\n      </defs>\n      <g transform=\"translate(15.964062 133.309219)scale(0.1 -0.1)\">\n       <use xlink:href=\"#DejaVuSans-65\"/>\n       <use x=\"68.408203\" xlink:href=\"#DejaVuSans-108\"/>\n       <use x=\"96.191406\" xlink:href=\"#DejaVuSans-102\"/>\n       <use x=\"131.396484\" xlink:href=\"#DejaVuSans-114\"/>\n       <use x=\"170.259766\" xlink:href=\"#DejaVuSans-101\"/>\n       <use x=\"231.783203\" xlink:href=\"#DejaVuSans-100\"/>\n       <use x=\"295.259766\" xlink:href=\"#DejaVuSans-32\"/>\n       <use x=\"327.046875\" xlink:href=\"#DejaVuSans-72\"/>\n       <use x=\"402.242188\" xlink:href=\"#DejaVuSans-105\"/>\n       <use x=\"430.025391\" xlink:href=\"#DejaVuSans-116\"/>\n       <use x=\"469.234375\" xlink:href=\"#DejaVuSans-99\"/>\n       <use x=\"524.214844\" xlink:href=\"#DejaVuSans-104\"/>\n       <use x=\"587.59375\" xlink:href=\"#DejaVuSans-99\"/>\n       <use x=\"642.574219\" xlink:href=\"#DejaVuSans-111\"/>\n       <use x=\"703.755859\" xlink:href=\"#DejaVuSans-99\"/>\n       <use x=\"758.736328\" xlink:href=\"#DejaVuSans-107\"/>\n      </g>\n     </g>\n    </g>\n    <g id=\"ytick_7\">\n     <g id=\"line2d_15\">\n      <g>\n       <use style=\"stroke:#000000;stroke-width:0.8;\" x=\"104.629687\" xlink:href=\"#m8d5db7a06b\" y=\"102.33\"/>\n      </g>\n     </g>\n     <g id=\"text_15\">\n      <!-- Quentin Tarantino -->\n      <defs>\n       <path d=\"M 39.40625 66.21875 \nQ 28.65625 66.21875 22.328125 58.203125 \nQ 16.015625 50.203125 16.015625 36.375 \nQ 16.015625 22.609375 22.328125 14.59375 \nQ 28.65625 6.59375 39.40625 6.59375 \nQ 50.140625 6.59375 56.421875 14.59375 \nQ 62.703125 22.609375 62.703125 36.375 \nQ 62.703125 50.203125 56.421875 58.203125 \nQ 50.140625 66.21875 39.40625 66.21875 \nz\nM 53.21875 1.3125 \nL 66.21875 -12.890625 \nL 54.296875 -12.890625 \nL 43.5 -1.21875 \nQ 41.890625 -1.3125 41.03125 -1.359375 \nQ 40.1875 -1.421875 39.40625 -1.421875 \nQ 24.03125 -1.421875 14.8125 8.859375 \nQ 5.609375 19.140625 5.609375 36.375 \nQ 5.609375 53.65625 14.8125 63.9375 \nQ 24.03125 74.21875 39.40625 74.21875 \nQ 54.734375 74.21875 63.90625 63.9375 \nQ 73.09375 53.65625 73.09375 36.375 \nQ 73.09375 23.6875 67.984375 14.640625 \nQ 62.890625 5.609375 53.21875 1.3125 \nz\n\" id=\"DejaVuSans-81\"/>\n       <path d=\"M -0.296875 72.90625 \nL 61.375 72.90625 \nL 61.375 64.59375 \nL 35.5 64.59375 \nL 35.5 0 \nL 25.59375 0 \nL 25.59375 64.59375 \nL -0.296875 64.59375 \nz\n\" id=\"DejaVuSans-84\"/>\n      </defs>\n      <g transform=\"translate(8.398437 106.129219)scale(0.1 -0.1)\">\n       <use xlink:href=\"#DejaVuSans-81\"/>\n       <use x=\"78.710938\" xlink:href=\"#DejaVuSans-117\"/>\n       <use x=\"142.089844\" xlink:href=\"#DejaVuSans-101\"/>\n       <use x=\"203.613281\" xlink:href=\"#DejaVuSans-110\"/>\n       <use x=\"266.992188\" xlink:href=\"#DejaVuSans-116\"/>\n       <use x=\"306.201172\" xlink:href=\"#DejaVuSans-105\"/>\n       <use x=\"333.984375\" xlink:href=\"#DejaVuSans-110\"/>\n       <use x=\"397.363281\" xlink:href=\"#DejaVuSans-32\"/>\n       <use x=\"429.150391\" xlink:href=\"#DejaVuSans-84\"/>\n       <use x=\"473.734375\" xlink:href=\"#DejaVuSans-97\"/>\n       <use x=\"535.013672\" xlink:href=\"#DejaVuSans-114\"/>\n       <use x=\"576.126953\" xlink:href=\"#DejaVuSans-97\"/>\n       <use x=\"637.40625\" xlink:href=\"#DejaVuSans-110\"/>\n       <use x=\"700.785156\" xlink:href=\"#DejaVuSans-116\"/>\n       <use x=\"739.994141\" xlink:href=\"#DejaVuSans-105\"/>\n       <use x=\"767.777344\" xlink:href=\"#DejaVuSans-110\"/>\n       <use x=\"831.15625\" xlink:href=\"#DejaVuSans-111\"/>\n      </g>\n     </g>\n    </g>\n    <g id=\"ytick_8\">\n     <g id=\"line2d_16\">\n      <g>\n       <use style=\"stroke:#000000;stroke-width:0.8;\" x=\"104.629687\" xlink:href=\"#m8d5db7a06b\" y=\"75.15\"/>\n      </g>\n     </g>\n     <g id=\"text_16\">\n      <!-- Billy Wilder -->\n      <defs>\n       <path d=\"M 19.671875 34.8125 \nL 19.671875 8.109375 \nL 35.5 8.109375 \nQ 43.453125 8.109375 47.28125 11.40625 \nQ 51.125 14.703125 51.125 21.484375 \nQ 51.125 28.328125 47.28125 31.5625 \nQ 43.453125 34.8125 35.5 34.8125 \nz\nM 19.671875 64.796875 \nL 19.671875 42.828125 \nL 34.28125 42.828125 \nQ 41.5 42.828125 45.03125 45.53125 \nQ 48.578125 48.25 48.578125 53.8125 \nQ 48.578125 59.328125 45.03125 62.0625 \nQ 41.5 64.796875 34.28125 64.796875 \nz\nM 9.8125 72.90625 \nL 35.015625 72.90625 \nQ 46.296875 72.90625 52.390625 68.21875 \nQ 58.5 63.53125 58.5 54.890625 \nQ 58.5 48.1875 55.375 44.234375 \nQ 52.25 40.28125 46.1875 39.3125 \nQ 53.46875 37.75 57.5 32.78125 \nQ 61.53125 27.828125 61.53125 20.40625 \nQ 61.53125 10.640625 54.890625 5.3125 \nQ 48.25 0 35.984375 0 \nL 9.8125 0 \nz\n\" id=\"DejaVuSans-66\"/>\n       <path d=\"M 3.328125 72.90625 \nL 13.28125 72.90625 \nL 28.609375 11.28125 \nL 43.890625 72.90625 \nL 54.984375 72.90625 \nL 70.3125 11.28125 \nL 85.59375 72.90625 \nL 95.609375 72.90625 \nL 77.296875 0 \nL 64.890625 0 \nL 49.515625 63.28125 \nL 33.984375 0 \nL 21.578125 0 \nz\n\" id=\"DejaVuSans-87\"/>\n      </defs>\n      <g transform=\"translate(41.50625 78.949219)scale(0.1 -0.1)\">\n       <use xlink:href=\"#DejaVuSans-66\"/>\n       <use x=\"68.603516\" xlink:href=\"#DejaVuSans-105\"/>\n       <use x=\"96.386719\" xlink:href=\"#DejaVuSans-108\"/>\n       <use x=\"124.169922\" xlink:href=\"#DejaVuSans-108\"/>\n       <use x=\"151.953125\" xlink:href=\"#DejaVuSans-121\"/>\n       <use x=\"211.132812\" xlink:href=\"#DejaVuSans-32\"/>\n       <use x=\"242.919922\" xlink:href=\"#DejaVuSans-87\"/>\n       <use x=\"339.546875\" xlink:href=\"#DejaVuSans-105\"/>\n       <use x=\"367.330078\" xlink:href=\"#DejaVuSans-108\"/>\n       <use x=\"395.113281\" xlink:href=\"#DejaVuSans-100\"/>\n       <use x=\"458.589844\" xlink:href=\"#DejaVuSans-101\"/>\n       <use x=\"520.113281\" xlink:href=\"#DejaVuSans-114\"/>\n      </g>\n     </g>\n    </g>\n    <g id=\"ytick_9\">\n     <g id=\"line2d_17\">\n      <g>\n       <use style=\"stroke:#000000;stroke-width:0.8;\" x=\"104.629687\" xlink:href=\"#m8d5db7a06b\" y=\"47.97\"/>\n      </g>\n     </g>\n     <g id=\"text_17\">\n      <!-- Charles Chaplin -->\n      <g transform=\"translate(19.060937 51.769219)scale(0.1 -0.1)\">\n       <use xlink:href=\"#DejaVuSans-67\"/>\n       <use x=\"69.824219\" xlink:href=\"#DejaVuSans-104\"/>\n       <use x=\"133.203125\" xlink:href=\"#DejaVuSans-97\"/>\n       <use x=\"194.482422\" xlink:href=\"#DejaVuSans-114\"/>\n       <use x=\"235.595703\" xlink:href=\"#DejaVuSans-108\"/>\n       <use x=\"263.378906\" xlink:href=\"#DejaVuSans-101\"/>\n       <use x=\"324.902344\" xlink:href=\"#DejaVuSans-115\"/>\n       <use x=\"377.001953\" xlink:href=\"#DejaVuSans-32\"/>\n       <use x=\"408.789062\" xlink:href=\"#DejaVuSans-67\"/>\n       <use x=\"478.613281\" xlink:href=\"#DejaVuSans-104\"/>\n       <use x=\"541.992188\" xlink:href=\"#DejaVuSans-97\"/>\n       <use x=\"603.271484\" xlink:href=\"#DejaVuSans-112\"/>\n       <use x=\"666.748047\" xlink:href=\"#DejaVuSans-108\"/>\n       <use x=\"694.53125\" xlink:href=\"#DejaVuSans-105\"/>\n       <use x=\"722.314453\" xlink:href=\"#DejaVuSans-110\"/>\n      </g>\n     </g>\n    </g>\n    <g id=\"ytick_10\">\n     <g id=\"line2d_18\">\n      <g>\n       <use style=\"stroke:#000000;stroke-width:0.8;\" x=\"104.629687\" xlink:href=\"#m8d5db7a06b\" y=\"20.79\"/>\n      </g>\n     </g>\n     <g id=\"text_18\">\n      <!-- Hayao Miyazaki -->\n      <defs>\n       <path d=\"M 5.515625 54.6875 \nL 48.1875 54.6875 \nL 48.1875 46.484375 \nL 14.40625 7.171875 \nL 48.1875 7.171875 \nL 48.1875 0 \nL 4.296875 0 \nL 4.296875 8.203125 \nL 38.09375 47.515625 \nL 5.515625 47.515625 \nz\n\" id=\"DejaVuSans-122\"/>\n      </defs>\n      <g transform=\"translate(19.239062 24.589219)scale(0.1 -0.1)\">\n       <use xlink:href=\"#DejaVuSans-72\"/>\n       <use x=\"75.195312\" xlink:href=\"#DejaVuSans-97\"/>\n       <use x=\"136.474609\" xlink:href=\"#DejaVuSans-121\"/>\n       <use x=\"195.654297\" xlink:href=\"#DejaVuSans-97\"/>\n       <use x=\"256.933594\" xlink:href=\"#DejaVuSans-111\"/>\n       <use x=\"318.115234\" xlink:href=\"#DejaVuSans-32\"/>\n       <use x=\"349.902344\" xlink:href=\"#DejaVuSans-77\"/>\n       <use x=\"436.181641\" xlink:href=\"#DejaVuSans-105\"/>\n       <use x=\"463.964844\" xlink:href=\"#DejaVuSans-121\"/>\n       <use x=\"523.144531\" xlink:href=\"#DejaVuSans-97\"/>\n       <use x=\"584.423828\" xlink:href=\"#DejaVuSans-122\"/>\n       <use x=\"636.914062\" xlink:href=\"#DejaVuSans-97\"/>\n       <use x=\"698.193359\" xlink:href=\"#DejaVuSans-107\"/>\n       <use x=\"756.103516\" xlink:href=\"#DejaVuSans-105\"/>\n      </g>\n     </g>\n    </g>\n   </g>\n   <g id=\"patch_13\">\n    <path d=\"M 104.629687 279 \nL 104.629687 7.2 \n\" style=\"fill:none;stroke:#000000;stroke-linecap:square;stroke-linejoin:miter;stroke-width:0.8;\"/>\n   </g>\n   <g id=\"patch_14\">\n    <path d=\"M 551.029688 279 \nL 551.029688 7.2 \n\" style=\"fill:none;stroke:#000000;stroke-linecap:square;stroke-linejoin:miter;stroke-width:0.8;\"/>\n   </g>\n   <g id=\"patch_15\">\n    <path d=\"M 104.629687 279 \nL 551.029688 279 \n\" style=\"fill:none;stroke:#000000;stroke-linecap:square;stroke-linejoin:miter;stroke-width:0.8;\"/>\n   </g>\n   <g id=\"patch_16\">\n    <path d=\"M 104.629687 7.2 \nL 551.029688 7.2 \n\" style=\"fill:none;stroke:#000000;stroke-linecap:square;stroke-linejoin:miter;stroke-width:0.8;\"/>\n   </g>\n  </g>\n </g>\n <defs>\n  <clipPath id=\"p60cc3fa241\">\n   <rect height=\"271.8\" width=\"446.4\" x=\"104.629687\" y=\"7.2\"/>\n  </clipPath>\n </defs>\n</svg>\n"
          },
          "metadata": {
            "needs_background": "light"
          }
        }
      ],
      "source": [
        "#Визуализируем результаты:\n",
        "occurence.plot.barh()\n",
        "plt.show()"
      ]
    },
    {
      "cell_type": "markdown",
      "metadata": {
        "id": "4EG0yHMsXtnM"
      },
      "source": [
        "#### Задача 3. \n",
        "Найти участника(ов) команд, у которого(ых) больше всего фильмов в топе.\n"
      ]
    },
    {
      "cell_type": "code",
      "execution_count": null,
      "metadata": {
        "colab": {
          "base_uri": "https://localhost:8080/"
        },
        "id": "VDZBI01nXtnN",
        "outputId": "af55edcb-e32c-4de0-93b4-58519ba905cd"
      },
      "outputs": [
        {
          "output_type": "execute_result",
          "data": {
            "text/plain": [
              "['Tim Robbins',\n",
              " 'Morgan Freeman',\n",
              " 'Marlon Brando',\n",
              " 'Al Pacino',\n",
              " 'Christian Bale',\n",
              " 'Heath Ledger',\n",
              " 'Al Pacino',\n",
              " 'Robert De Niro',\n",
              " 'Henry Fonda',\n",
              " 'Lee J. Cobb']"
            ]
          },
          "metadata": {},
          "execution_count": 16
        }
      ],
      "source": [
        "#Создаем список актеров, удаляя всех с постфиксом дир.\n",
        "pattern = re.compile(r\".*(dir.)\")\n",
        "cast = crewlist_split[:]\n",
        "for line in cast:\n",
        "    if \"(dir.)\" in line:\n",
        "        cast.remove(line)\n",
        "\n",
        "cast[:10]"
      ]
    },
    {
      "cell_type": "code",
      "execution_count": null,
      "metadata": {
        "colab": {
          "base_uri": "https://localhost:8080/"
        },
        "id": "otigJ77BXtnN",
        "outputId": "a36b0482-b3f8-4ceb-d8e7-720ec90f7726"
      },
      "outputs": [
        {
          "output_type": "stream",
          "name": "stdout",
          "text": [
            "Чаще всего снимались в топовых фильмах: [('Robert De Niro', 9), ('Tom Hanks', 6), ('Harrison Ford', 6), ('Christian Bale', 5), ('Clint Eastwood', 5), ('Leonardo DiCaprio', 5), ('Charles Chaplin', 5), ('Al Pacino', 4), ('Brad Pitt', 4), ('Toshirô Mifune', 4), ('James Stewart', 4), ('Matt Damon', 4), ('Marlon Brando', 3), ('Henry Fonda', 3), ('Elijah Wood', 3)]\n"
          ]
        }
      ],
      "source": [
        "occurence = Counter(cast)\n",
        "print(\"Чаще всего снимались в топовых фильмах:\", occurence.most_common(15))"
      ]
    },
    {
      "cell_type": "markdown",
      "metadata": {
        "id": "YNUgtDteXtnO"
      },
      "source": [
        "#### Задача 4. \n",
        "Построить распределение топовых фильмов по годам\n",
        "\n"
      ]
    },
    {
      "cell_type": "code",
      "execution_count": null,
      "metadata": {
        "colab": {
          "base_uri": "https://localhost:8080/",
          "height": 502
        },
        "id": "e5sN8v-LXtnP",
        "outputId": "e7c82378-ecbf-4a4d-bfd6-024e5f5a9a98"
      },
      "outputs": [
        {
          "output_type": "execute_result",
          "data": {
            "text/plain": [
              "Text(0.5, 0, 'Года с 1921 по 2022')"
            ]
          },
          "metadata": {},
          "execution_count": 18
        },
        {
          "output_type": "display_data",
          "data": {
            "text/plain": [
              "<Figure size 576x360 with 1 Axes>"
            ],
            "image/svg+xml": "<?xml version=\"1.0\" encoding=\"utf-8\" standalone=\"no\"?>\n<!DOCTYPE svg PUBLIC \"-//W3C//DTD SVG 1.1//EN\"\n  \"http://www.w3.org/Graphics/SVG/1.1/DTD/svg11.dtd\">\n<!-- Created with matplotlib (https://matplotlib.org/) -->\n<svg height=\"347.44625pt\" version=\"1.1\" viewBox=\"0 0 487.840625 347.44625\" width=\"487.840625pt\" xmlns=\"http://www.w3.org/2000/svg\" xmlns:xlink=\"http://www.w3.org/1999/xlink\">\n <defs>\n  <style type=\"text/css\">\n*{stroke-linecap:butt;stroke-linejoin:round;}\n  </style>\n </defs>\n <g id=\"figure_1\">\n  <g id=\"patch_1\">\n   <path d=\"M 0 347.44625 \nL 487.840625 347.44625 \nL 487.840625 0 \nL 0 0 \nz\n\" style=\"fill:none;\"/>\n  </g>\n  <g id=\"axes_1\">\n   <g id=\"patch_2\">\n    <path d=\"M 34.240625 294.118125 \nL 480.640625 294.118125 \nL 480.640625 22.318125 \nL 34.240625 22.318125 \nz\n\" style=\"fill:#ffffff;\"/>\n   </g>\n   <g id=\"patch_3\">\n    <path clip-path=\"url(#p0841e3a7cf)\" d=\"M 41.680625 294.118125 \nL 56.560625 294.118125 \nL 56.560625 99.975268 \nL 41.680625 99.975268 \nz\n\" style=\"fill:#800080;\"/>\n   </g>\n   <g id=\"patch_4\">\n    <path clip-path=\"url(#p0841e3a7cf)\" d=\"M 71.440625 294.118125 \nL 86.320625 294.118125 \nL 86.320625 132.332411 \nL 71.440625 132.332411 \nz\n\" style=\"fill:#800080;\"/>\n   </g>\n   <g id=\"patch_5\">\n    <path clip-path=\"url(#p0841e3a7cf)\" d=\"M 101.200625 294.118125 \nL 116.080625 294.118125 \nL 116.080625 132.332411 \nL 101.200625 132.332411 \nz\n\" style=\"fill:#800080;\"/>\n   </g>\n   <g id=\"patch_6\">\n    <path clip-path=\"url(#p0841e3a7cf)\" d=\"M 130.960625 294.118125 \nL 145.840625 294.118125 \nL 145.840625 35.260982 \nL 130.960625 35.260982 \nz\n\" style=\"fill:#800080;\"/>\n   </g>\n   <g id=\"patch_7\">\n    <path clip-path=\"url(#p0841e3a7cf)\" d=\"M 160.720625 294.118125 \nL 175.600625 294.118125 \nL 175.600625 132.332411 \nL 160.720625 132.332411 \nz\n\" style=\"fill:#800080;\"/>\n   </g>\n   <g id=\"patch_8\">\n    <path clip-path=\"url(#p0841e3a7cf)\" d=\"M 190.480625 294.118125 \nL 205.360625 294.118125 \nL 205.360625 132.332411 \nL 190.480625 132.332411 \nz\n\" style=\"fill:#800080;\"/>\n   </g>\n   <g id=\"patch_9\">\n    <path clip-path=\"url(#p0841e3a7cf)\" d=\"M 220.240625 294.118125 \nL 235.120625 294.118125 \nL 235.120625 99.975268 \nL 220.240625 99.975268 \nz\n\" style=\"fill:#800080;\"/>\n   </g>\n   <g id=\"patch_10\">\n    <path clip-path=\"url(#p0841e3a7cf)\" d=\"M 250.000625 294.118125 \nL 264.880625 294.118125 \nL 264.880625 132.332411 \nL 250.000625 132.332411 \nz\n\" style=\"fill:#800080;\"/>\n   </g>\n   <g id=\"patch_11\">\n    <path clip-path=\"url(#p0841e3a7cf)\" d=\"M 279.760625 294.118125 \nL 294.640625 294.118125 \nL 294.640625 99.975268 \nL 279.760625 99.975268 \nz\n\" style=\"fill:#800080;\"/>\n   </g>\n   <g id=\"patch_12\">\n    <path clip-path=\"url(#p0841e3a7cf)\" d=\"M 309.520625 294.118125 \nL 324.400625 294.118125 \nL 324.400625 67.618125 \nL 309.520625 67.618125 \nz\n\" style=\"fill:#800080;\"/>\n   </g>\n   <g id=\"patch_13\">\n    <path clip-path=\"url(#p0841e3a7cf)\" d=\"M 339.280625 294.118125 \nL 354.160625 294.118125 \nL 354.160625 132.332411 \nL 339.280625 132.332411 \nz\n\" style=\"fill:#800080;\"/>\n   </g>\n   <g id=\"patch_14\">\n    <path clip-path=\"url(#p0841e3a7cf)\" d=\"M 369.040625 294.118125 \nL 383.920625 294.118125 \nL 383.920625 99.975268 \nL 369.040625 99.975268 \nz\n\" style=\"fill:#800080;\"/>\n   </g>\n   <g id=\"patch_15\">\n    <path clip-path=\"url(#p0841e3a7cf)\" d=\"M 398.800625 294.118125 \nL 413.680625 294.118125 \nL 413.680625 132.332411 \nL 398.800625 132.332411 \nz\n\" style=\"fill:#800080;\"/>\n   </g>\n   <g id=\"patch_16\">\n    <path clip-path=\"url(#p0841e3a7cf)\" d=\"M 428.560625 294.118125 \nL 443.440625 294.118125 \nL 443.440625 132.332411 \nL 428.560625 132.332411 \nz\n\" style=\"fill:#800080;\"/>\n   </g>\n   <g id=\"patch_17\">\n    <path clip-path=\"url(#p0841e3a7cf)\" d=\"M 458.320625 294.118125 \nL 473.200625 294.118125 \nL 473.200625 99.975268 \nL 458.320625 99.975268 \nz\n\" style=\"fill:#800080;\"/>\n   </g>\n   <g id=\"matplotlib.axis_1\">\n    <g id=\"xtick_1\">\n     <g id=\"line2d_1\">\n      <defs>\n       <path d=\"M 0 0 \nL 0 3.5 \n\" id=\"mafec06fb86\" style=\"stroke:#000000;stroke-width:0.8;\"/>\n      </defs>\n      <g>\n       <use style=\"stroke:#000000;stroke-width:0.8;\" x=\"49.120625\" xlink:href=\"#mafec06fb86\" y=\"294.118125\"/>\n      </g>\n     </g>\n     <g id=\"text_1\">\n      <!-- 1957 -->\n      <defs>\n       <path d=\"M 12.40625 8.296875 \nL 28.515625 8.296875 \nL 28.515625 63.921875 \nL 10.984375 60.40625 \nL 10.984375 69.390625 \nL 28.421875 72.90625 \nL 38.28125 72.90625 \nL 38.28125 8.296875 \nL 54.390625 8.296875 \nL 54.390625 0 \nL 12.40625 0 \nz\n\" id=\"DejaVuSans-49\"/>\n       <path d=\"M 10.984375 1.515625 \nL 10.984375 10.5 \nQ 14.703125 8.734375 18.5 7.8125 \nQ 22.3125 6.890625 25.984375 6.890625 \nQ 35.75 6.890625 40.890625 13.453125 \nQ 46.046875 20.015625 46.78125 33.40625 \nQ 43.953125 29.203125 39.59375 26.953125 \nQ 35.25 24.703125 29.984375 24.703125 \nQ 19.046875 24.703125 12.671875 31.3125 \nQ 6.296875 37.9375 6.296875 49.421875 \nQ 6.296875 60.640625 12.9375 67.421875 \nQ 19.578125 74.21875 30.609375 74.21875 \nQ 43.265625 74.21875 49.921875 64.515625 \nQ 56.59375 54.828125 56.59375 36.375 \nQ 56.59375 19.140625 48.40625 8.859375 \nQ 40.234375 -1.421875 26.421875 -1.421875 \nQ 22.703125 -1.421875 18.890625 -0.6875 \nQ 15.09375 0.046875 10.984375 1.515625 \nz\nM 30.609375 32.421875 \nQ 37.25 32.421875 41.125 36.953125 \nQ 45.015625 41.5 45.015625 49.421875 \nQ 45.015625 57.28125 41.125 61.84375 \nQ 37.25 66.40625 30.609375 66.40625 \nQ 23.96875 66.40625 20.09375 61.84375 \nQ 16.21875 57.28125 16.21875 49.421875 \nQ 16.21875 41.5 20.09375 36.953125 \nQ 23.96875 32.421875 30.609375 32.421875 \nz\n\" id=\"DejaVuSans-57\"/>\n       <path d=\"M 10.796875 72.90625 \nL 49.515625 72.90625 \nL 49.515625 64.59375 \nL 19.828125 64.59375 \nL 19.828125 46.734375 \nQ 21.96875 47.46875 24.109375 47.828125 \nQ 26.265625 48.1875 28.421875 48.1875 \nQ 40.625 48.1875 47.75 41.5 \nQ 54.890625 34.8125 54.890625 23.390625 \nQ 54.890625 11.625 47.5625 5.09375 \nQ 40.234375 -1.421875 26.90625 -1.421875 \nQ 22.3125 -1.421875 17.546875 -0.640625 \nQ 12.796875 0.140625 7.71875 1.703125 \nL 7.71875 11.625 \nQ 12.109375 9.234375 16.796875 8.0625 \nQ 21.484375 6.890625 26.703125 6.890625 \nQ 35.15625 6.890625 40.078125 11.328125 \nQ 45.015625 15.765625 45.015625 23.390625 \nQ 45.015625 31 40.078125 35.4375 \nQ 35.15625 39.890625 26.703125 39.890625 \nQ 22.75 39.890625 18.8125 39.015625 \nQ 14.890625 38.140625 10.796875 36.28125 \nz\n\" id=\"DejaVuSans-53\"/>\n       <path d=\"M 8.203125 72.90625 \nL 55.078125 72.90625 \nL 55.078125 68.703125 \nL 28.609375 0 \nL 18.3125 0 \nL 43.21875 64.59375 \nL 8.203125 64.59375 \nz\n\" id=\"DejaVuSans-55\"/>\n      </defs>\n      <g transform=\"translate(51.88 326.568125)rotate(-90)scale(0.1 -0.1)\">\n       <use xlink:href=\"#DejaVuSans-49\"/>\n       <use x=\"63.623047\" xlink:href=\"#DejaVuSans-57\"/>\n       <use x=\"127.246094\" xlink:href=\"#DejaVuSans-53\"/>\n       <use x=\"190.869141\" xlink:href=\"#DejaVuSans-55\"/>\n      </g>\n     </g>\n    </g>\n    <g id=\"xtick_2\">\n     <g id=\"line2d_2\">\n      <g>\n       <use style=\"stroke:#000000;stroke-width:0.8;\" x=\"78.880625\" xlink:href=\"#mafec06fb86\" y=\"294.118125\"/>\n      </g>\n     </g>\n     <g id=\"text_2\">\n      <!-- 1975 -->\n      <g transform=\"translate(81.64 326.568125)rotate(-90)scale(0.1 -0.1)\">\n       <use xlink:href=\"#DejaVuSans-49\"/>\n       <use x=\"63.623047\" xlink:href=\"#DejaVuSans-57\"/>\n       <use x=\"127.246094\" xlink:href=\"#DejaVuSans-55\"/>\n       <use x=\"190.869141\" xlink:href=\"#DejaVuSans-53\"/>\n      </g>\n     </g>\n    </g>\n    <g id=\"xtick_3\">\n     <g id=\"line2d_3\">\n      <g>\n       <use style=\"stroke:#000000;stroke-width:0.8;\" x=\"108.640625\" xlink:href=\"#mafec06fb86\" y=\"294.118125\"/>\n      </g>\n     </g>\n     <g id=\"text_3\">\n      <!-- 1994 -->\n      <defs>\n       <path d=\"M 37.796875 64.3125 \nL 12.890625 25.390625 \nL 37.796875 25.390625 \nz\nM 35.203125 72.90625 \nL 47.609375 72.90625 \nL 47.609375 25.390625 \nL 58.015625 25.390625 \nL 58.015625 17.1875 \nL 47.609375 17.1875 \nL 47.609375 0 \nL 37.796875 0 \nL 37.796875 17.1875 \nL 4.890625 17.1875 \nL 4.890625 26.703125 \nz\n\" id=\"DejaVuSans-52\"/>\n      </defs>\n      <g transform=\"translate(111.4 326.568125)rotate(-90)scale(0.1 -0.1)\">\n       <use xlink:href=\"#DejaVuSans-49\"/>\n       <use x=\"63.623047\" xlink:href=\"#DejaVuSans-57\"/>\n       <use x=\"127.246094\" xlink:href=\"#DejaVuSans-57\"/>\n       <use x=\"190.869141\" xlink:href=\"#DejaVuSans-52\"/>\n      </g>\n     </g>\n    </g>\n    <g id=\"xtick_4\">\n     <g id=\"line2d_4\">\n      <g>\n       <use style=\"stroke:#000000;stroke-width:0.8;\" x=\"138.400625\" xlink:href=\"#mafec06fb86\" y=\"294.118125\"/>\n      </g>\n     </g>\n     <g id=\"text_4\">\n      <!-- 1995 -->\n      <g transform=\"translate(141.16 326.568125)rotate(-90)scale(0.1 -0.1)\">\n       <use xlink:href=\"#DejaVuSans-49\"/>\n       <use x=\"63.623047\" xlink:href=\"#DejaVuSans-57\"/>\n       <use x=\"127.246094\" xlink:href=\"#DejaVuSans-57\"/>\n       <use x=\"190.869141\" xlink:href=\"#DejaVuSans-53\"/>\n      </g>\n     </g>\n    </g>\n    <g id=\"xtick_5\">\n     <g id=\"line2d_5\">\n      <g>\n       <use style=\"stroke:#000000;stroke-width:0.8;\" x=\"168.160625\" xlink:href=\"#mafec06fb86\" y=\"294.118125\"/>\n      </g>\n     </g>\n     <g id=\"text_5\">\n      <!-- 1997 -->\n      <g transform=\"translate(170.92 326.568125)rotate(-90)scale(0.1 -0.1)\">\n       <use xlink:href=\"#DejaVuSans-49\"/>\n       <use x=\"63.623047\" xlink:href=\"#DejaVuSans-57\"/>\n       <use x=\"127.246094\" xlink:href=\"#DejaVuSans-57\"/>\n       <use x=\"190.869141\" xlink:href=\"#DejaVuSans-55\"/>\n      </g>\n     </g>\n    </g>\n    <g id=\"xtick_6\">\n     <g id=\"line2d_6\">\n      <g>\n       <use style=\"stroke:#000000;stroke-width:0.8;\" x=\"197.920625\" xlink:href=\"#mafec06fb86\" y=\"294.118125\"/>\n      </g>\n     </g>\n     <g id=\"text_6\">\n      <!-- 1998 -->\n      <defs>\n       <path d=\"M 31.78125 34.625 \nQ 24.75 34.625 20.71875 30.859375 \nQ 16.703125 27.09375 16.703125 20.515625 \nQ 16.703125 13.921875 20.71875 10.15625 \nQ 24.75 6.390625 31.78125 6.390625 \nQ 38.8125 6.390625 42.859375 10.171875 \nQ 46.921875 13.96875 46.921875 20.515625 \nQ 46.921875 27.09375 42.890625 30.859375 \nQ 38.875 34.625 31.78125 34.625 \nz\nM 21.921875 38.8125 \nQ 15.578125 40.375 12.03125 44.71875 \nQ 8.5 49.078125 8.5 55.328125 \nQ 8.5 64.0625 14.71875 69.140625 \nQ 20.953125 74.21875 31.78125 74.21875 \nQ 42.671875 74.21875 48.875 69.140625 \nQ 55.078125 64.0625 55.078125 55.328125 \nQ 55.078125 49.078125 51.53125 44.71875 \nQ 48 40.375 41.703125 38.8125 \nQ 48.828125 37.15625 52.796875 32.3125 \nQ 56.78125 27.484375 56.78125 20.515625 \nQ 56.78125 9.90625 50.3125 4.234375 \nQ 43.84375 -1.421875 31.78125 -1.421875 \nQ 19.734375 -1.421875 13.25 4.234375 \nQ 6.78125 9.90625 6.78125 20.515625 \nQ 6.78125 27.484375 10.78125 32.3125 \nQ 14.796875 37.15625 21.921875 38.8125 \nz\nM 18.3125 54.390625 \nQ 18.3125 48.734375 21.84375 45.5625 \nQ 25.390625 42.390625 31.78125 42.390625 \nQ 38.140625 42.390625 41.71875 45.5625 \nQ 45.3125 48.734375 45.3125 54.390625 \nQ 45.3125 60.0625 41.71875 63.234375 \nQ 38.140625 66.40625 31.78125 66.40625 \nQ 25.390625 66.40625 21.84375 63.234375 \nQ 18.3125 60.0625 18.3125 54.390625 \nz\n\" id=\"DejaVuSans-56\"/>\n      </defs>\n      <g transform=\"translate(200.68 326.568125)rotate(-90)scale(0.1 -0.1)\">\n       <use xlink:href=\"#DejaVuSans-49\"/>\n       <use x=\"63.623047\" xlink:href=\"#DejaVuSans-57\"/>\n       <use x=\"127.246094\" xlink:href=\"#DejaVuSans-57\"/>\n       <use x=\"190.869141\" xlink:href=\"#DejaVuSans-56\"/>\n      </g>\n     </g>\n    </g>\n    <g id=\"xtick_7\">\n     <g id=\"line2d_7\">\n      <g>\n       <use style=\"stroke:#000000;stroke-width:0.8;\" x=\"227.680625\" xlink:href=\"#mafec06fb86\" y=\"294.118125\"/>\n      </g>\n     </g>\n     <g id=\"text_7\">\n      <!-- 1999 -->\n      <g transform=\"translate(230.44 326.568125)rotate(-90)scale(0.1 -0.1)\">\n       <use xlink:href=\"#DejaVuSans-49\"/>\n       <use x=\"63.623047\" xlink:href=\"#DejaVuSans-57\"/>\n       <use x=\"127.246094\" xlink:href=\"#DejaVuSans-57\"/>\n       <use x=\"190.869141\" xlink:href=\"#DejaVuSans-57\"/>\n      </g>\n     </g>\n    </g>\n    <g id=\"xtick_8\">\n     <g id=\"line2d_8\">\n      <g>\n       <use style=\"stroke:#000000;stroke-width:0.8;\" x=\"257.440625\" xlink:href=\"#mafec06fb86\" y=\"294.118125\"/>\n      </g>\n     </g>\n     <g id=\"text_8\">\n      <!-- 2000 -->\n      <defs>\n       <path d=\"M 19.1875 8.296875 \nL 53.609375 8.296875 \nL 53.609375 0 \nL 7.328125 0 \nL 7.328125 8.296875 \nQ 12.9375 14.109375 22.625 23.890625 \nQ 32.328125 33.6875 34.8125 36.53125 \nQ 39.546875 41.84375 41.421875 45.53125 \nQ 43.3125 49.21875 43.3125 52.78125 \nQ 43.3125 58.59375 39.234375 62.25 \nQ 35.15625 65.921875 28.609375 65.921875 \nQ 23.96875 65.921875 18.8125 64.3125 \nQ 13.671875 62.703125 7.8125 59.421875 \nL 7.8125 69.390625 \nQ 13.765625 71.78125 18.9375 73 \nQ 24.125 74.21875 28.421875 74.21875 \nQ 39.75 74.21875 46.484375 68.546875 \nQ 53.21875 62.890625 53.21875 53.421875 \nQ 53.21875 48.921875 51.53125 44.890625 \nQ 49.859375 40.875 45.40625 35.40625 \nQ 44.1875 33.984375 37.640625 27.21875 \nQ 31.109375 20.453125 19.1875 8.296875 \nz\n\" id=\"DejaVuSans-50\"/>\n       <path d=\"M 31.78125 66.40625 \nQ 24.171875 66.40625 20.328125 58.90625 \nQ 16.5 51.421875 16.5 36.375 \nQ 16.5 21.390625 20.328125 13.890625 \nQ 24.171875 6.390625 31.78125 6.390625 \nQ 39.453125 6.390625 43.28125 13.890625 \nQ 47.125 21.390625 47.125 36.375 \nQ 47.125 51.421875 43.28125 58.90625 \nQ 39.453125 66.40625 31.78125 66.40625 \nz\nM 31.78125 74.21875 \nQ 44.046875 74.21875 50.515625 64.515625 \nQ 56.984375 54.828125 56.984375 36.375 \nQ 56.984375 17.96875 50.515625 8.265625 \nQ 44.046875 -1.421875 31.78125 -1.421875 \nQ 19.53125 -1.421875 13.0625 8.265625 \nQ 6.59375 17.96875 6.59375 36.375 \nQ 6.59375 54.828125 13.0625 64.515625 \nQ 19.53125 74.21875 31.78125 74.21875 \nz\n\" id=\"DejaVuSans-48\"/>\n      </defs>\n      <g transform=\"translate(260.2 326.568125)rotate(-90)scale(0.1 -0.1)\">\n       <use xlink:href=\"#DejaVuSans-50\"/>\n       <use x=\"63.623047\" xlink:href=\"#DejaVuSans-48\"/>\n       <use x=\"127.246094\" xlink:href=\"#DejaVuSans-48\"/>\n       <use x=\"190.869141\" xlink:href=\"#DejaVuSans-48\"/>\n      </g>\n     </g>\n    </g>\n    <g id=\"xtick_9\">\n     <g id=\"line2d_9\">\n      <g>\n       <use style=\"stroke:#000000;stroke-width:0.8;\" x=\"287.200625\" xlink:href=\"#mafec06fb86\" y=\"294.118125\"/>\n      </g>\n     </g>\n     <g id=\"text_9\">\n      <!-- 2003 -->\n      <defs>\n       <path d=\"M 40.578125 39.3125 \nQ 47.65625 37.796875 51.625 33 \nQ 55.609375 28.21875 55.609375 21.1875 \nQ 55.609375 10.40625 48.1875 4.484375 \nQ 40.765625 -1.421875 27.09375 -1.421875 \nQ 22.515625 -1.421875 17.65625 -0.515625 \nQ 12.796875 0.390625 7.625 2.203125 \nL 7.625 11.71875 \nQ 11.71875 9.328125 16.59375 8.109375 \nQ 21.484375 6.890625 26.8125 6.890625 \nQ 36.078125 6.890625 40.9375 10.546875 \nQ 45.796875 14.203125 45.796875 21.1875 \nQ 45.796875 27.640625 41.28125 31.265625 \nQ 36.765625 34.90625 28.71875 34.90625 \nL 20.21875 34.90625 \nL 20.21875 43.015625 \nL 29.109375 43.015625 \nQ 36.375 43.015625 40.234375 45.921875 \nQ 44.09375 48.828125 44.09375 54.296875 \nQ 44.09375 59.90625 40.109375 62.90625 \nQ 36.140625 65.921875 28.71875 65.921875 \nQ 24.65625 65.921875 20.015625 65.03125 \nQ 15.375 64.15625 9.8125 62.3125 \nL 9.8125 71.09375 \nQ 15.4375 72.65625 20.34375 73.4375 \nQ 25.25 74.21875 29.59375 74.21875 \nQ 40.828125 74.21875 47.359375 69.109375 \nQ 53.90625 64.015625 53.90625 55.328125 \nQ 53.90625 49.265625 50.4375 45.09375 \nQ 46.96875 40.921875 40.578125 39.3125 \nz\n\" id=\"DejaVuSans-51\"/>\n      </defs>\n      <g transform=\"translate(289.96 326.568125)rotate(-90)scale(0.1 -0.1)\">\n       <use xlink:href=\"#DejaVuSans-50\"/>\n       <use x=\"63.623047\" xlink:href=\"#DejaVuSans-48\"/>\n       <use x=\"127.246094\" xlink:href=\"#DejaVuSans-48\"/>\n       <use x=\"190.869141\" xlink:href=\"#DejaVuSans-51\"/>\n      </g>\n     </g>\n    </g>\n    <g id=\"xtick_10\">\n     <g id=\"line2d_10\">\n      <g>\n       <use style=\"stroke:#000000;stroke-width:0.8;\" x=\"316.960625\" xlink:href=\"#mafec06fb86\" y=\"294.118125\"/>\n      </g>\n     </g>\n     <g id=\"text_10\">\n      <!-- 2004 -->\n      <g transform=\"translate(319.72 326.568125)rotate(-90)scale(0.1 -0.1)\">\n       <use xlink:href=\"#DejaVuSans-50\"/>\n       <use x=\"63.623047\" xlink:href=\"#DejaVuSans-48\"/>\n       <use x=\"127.246094\" xlink:href=\"#DejaVuSans-48\"/>\n       <use x=\"190.869141\" xlink:href=\"#DejaVuSans-52\"/>\n      </g>\n     </g>\n    </g>\n    <g id=\"xtick_11\">\n     <g id=\"line2d_11\">\n      <g>\n       <use style=\"stroke:#000000;stroke-width:0.8;\" x=\"346.720625\" xlink:href=\"#mafec06fb86\" y=\"294.118125\"/>\n      </g>\n     </g>\n     <g id=\"text_11\">\n      <!-- 2007 -->\n      <g transform=\"translate(349.48 326.568125)rotate(-90)scale(0.1 -0.1)\">\n       <use xlink:href=\"#DejaVuSans-50\"/>\n       <use x=\"63.623047\" xlink:href=\"#DejaVuSans-48\"/>\n       <use x=\"127.246094\" xlink:href=\"#DejaVuSans-48\"/>\n       <use x=\"190.869141\" xlink:href=\"#DejaVuSans-55\"/>\n      </g>\n     </g>\n    </g>\n    <g id=\"xtick_12\">\n     <g id=\"line2d_12\">\n      <g>\n       <use style=\"stroke:#000000;stroke-width:0.8;\" x=\"376.480625\" xlink:href=\"#mafec06fb86\" y=\"294.118125\"/>\n      </g>\n     </g>\n     <g id=\"text_12\">\n      <!-- 2009 -->\n      <g transform=\"translate(379.24 326.568125)rotate(-90)scale(0.1 -0.1)\">\n       <use xlink:href=\"#DejaVuSans-50\"/>\n       <use x=\"63.623047\" xlink:href=\"#DejaVuSans-48\"/>\n       <use x=\"127.246094\" xlink:href=\"#DejaVuSans-48\"/>\n       <use x=\"190.869141\" xlink:href=\"#DejaVuSans-57\"/>\n      </g>\n     </g>\n    </g>\n    <g id=\"xtick_13\">\n     <g id=\"line2d_13\">\n      <g>\n       <use style=\"stroke:#000000;stroke-width:0.8;\" x=\"406.240625\" xlink:href=\"#mafec06fb86\" y=\"294.118125\"/>\n      </g>\n     </g>\n     <g id=\"text_13\">\n      <!-- 2011 -->\n      <g transform=\"translate(409 326.568125)rotate(-90)scale(0.1 -0.1)\">\n       <use xlink:href=\"#DejaVuSans-50\"/>\n       <use x=\"63.623047\" xlink:href=\"#DejaVuSans-48\"/>\n       <use x=\"127.246094\" xlink:href=\"#DejaVuSans-49\"/>\n       <use x=\"190.869141\" xlink:href=\"#DejaVuSans-49\"/>\n      </g>\n     </g>\n    </g>\n    <g id=\"xtick_14\">\n     <g id=\"line2d_14\">\n      <g>\n       <use style=\"stroke:#000000;stroke-width:0.8;\" x=\"436.000625\" xlink:href=\"#mafec06fb86\" y=\"294.118125\"/>\n      </g>\n     </g>\n     <g id=\"text_14\">\n      <!-- 2014 -->\n      <g transform=\"translate(438.76 326.568125)rotate(-90)scale(0.1 -0.1)\">\n       <use xlink:href=\"#DejaVuSans-50\"/>\n       <use x=\"63.623047\" xlink:href=\"#DejaVuSans-48\"/>\n       <use x=\"127.246094\" xlink:href=\"#DejaVuSans-49\"/>\n       <use x=\"190.869141\" xlink:href=\"#DejaVuSans-52\"/>\n      </g>\n     </g>\n    </g>\n    <g id=\"xtick_15\">\n     <g id=\"line2d_15\">\n      <g>\n       <use style=\"stroke:#000000;stroke-width:0.8;\" x=\"465.760625\" xlink:href=\"#mafec06fb86\" y=\"294.118125\"/>\n      </g>\n     </g>\n     <g id=\"text_15\">\n      <!-- 2019 -->\n      <g transform=\"translate(468.52 326.568125)rotate(-90)scale(0.1 -0.1)\">\n       <use xlink:href=\"#DejaVuSans-50\"/>\n       <use x=\"63.623047\" xlink:href=\"#DejaVuSans-48\"/>\n       <use x=\"127.246094\" xlink:href=\"#DejaVuSans-49\"/>\n       <use x=\"190.869141\" xlink:href=\"#DejaVuSans-57\"/>\n      </g>\n     </g>\n    </g>\n    <g id=\"text_16\">\n     <!-- Года с 1921 по 2022 -->\n     <defs>\n      <path d=\"M 9.8125 0 \nL 9.8125 72.90625 \nL 55.171875 72.90625 \nL 55.171875 64.59375 \nL 19.671875 64.59375 \nL 19.671875 0 \nz\n\" id=\"DejaVuSans-1043\"/>\n      <path d=\"M 30.609375 48.390625 \nQ 23.390625 48.390625 19.1875 42.75 \nQ 14.984375 37.109375 14.984375 27.296875 \nQ 14.984375 17.484375 19.15625 11.84375 \nQ 23.34375 6.203125 30.609375 6.203125 \nQ 37.796875 6.203125 41.984375 11.859375 \nQ 46.1875 17.53125 46.1875 27.296875 \nQ 46.1875 37.015625 41.984375 42.703125 \nQ 37.796875 48.390625 30.609375 48.390625 \nz\nM 30.609375 56 \nQ 42.328125 56 49.015625 48.375 \nQ 55.71875 40.765625 55.71875 27.296875 \nQ 55.71875 13.875 49.015625 6.21875 \nQ 42.328125 -1.421875 30.609375 -1.421875 \nQ 18.84375 -1.421875 12.171875 6.21875 \nQ 5.515625 13.875 5.515625 27.296875 \nQ 5.515625 40.765625 12.171875 48.375 \nQ 18.84375 56 30.609375 56 \nz\n\" id=\"DejaVuSans-1086\"/>\n      <path d=\"M 21.625 7.171875 \nL 47.703125 7.171875 \nL 47.703125 47.515625 \nL 28.8125 47.515625 \nL 28.8125 40.671875 \nQ 28.8125 20.5625 23.046875 9.8125 \nz\nM 8.59375 7.171875 \nQ 13.03125 9.125 14.984375 13.28125 \nQ 19.78125 23.578125 19.78125 44.34375 \nL 19.78125 54.6875 \nL 56.734375 54.6875 \nL 56.734375 7.171875 \nL 63.921875 7.171875 \nL 63.921875 -13.8125 \nL 56.734375 -13.8125 \nL 56.734375 0 \nL 12.40625 0 \nL 12.40625 -13.8125 \nL 5.21875 -13.8125 \nL 5.21875 7.171875 \nz\n\" id=\"DejaVuSans-1076\"/>\n      <path d=\"M 34.28125 27.484375 \nQ 23.390625 27.484375 19.1875 25 \nQ 14.984375 22.515625 14.984375 16.5 \nQ 14.984375 11.71875 18.140625 8.90625 \nQ 21.296875 6.109375 26.703125 6.109375 \nQ 34.1875 6.109375 38.703125 11.40625 \nQ 43.21875 16.703125 43.21875 25.484375 \nL 43.21875 27.484375 \nz\nM 52.203125 31.203125 \nL 52.203125 0 \nL 43.21875 0 \nL 43.21875 8.296875 \nQ 40.140625 3.328125 35.546875 0.953125 \nQ 30.953125 -1.421875 24.3125 -1.421875 \nQ 15.921875 -1.421875 10.953125 3.296875 \nQ 6 8.015625 6 15.921875 \nQ 6 25.140625 12.171875 29.828125 \nQ 18.359375 34.515625 30.609375 34.515625 \nL 43.21875 34.515625 \nL 43.21875 35.40625 \nQ 43.21875 41.609375 39.140625 45 \nQ 35.0625 48.390625 27.6875 48.390625 \nQ 23 48.390625 18.546875 47.265625 \nQ 14.109375 46.140625 10.015625 43.890625 \nL 10.015625 52.203125 \nQ 14.9375 54.109375 19.578125 55.046875 \nQ 24.21875 56 28.609375 56 \nQ 40.484375 56 46.34375 49.84375 \nQ 52.203125 43.703125 52.203125 31.203125 \nz\n\" id=\"DejaVuSans-1072\"/>\n      <path id=\"DejaVuSans-32\"/>\n      <path d=\"M 48.78125 52.59375 \nL 48.78125 44.1875 \nQ 44.96875 46.296875 41.140625 47.34375 \nQ 37.3125 48.390625 33.40625 48.390625 \nQ 24.65625 48.390625 19.8125 42.84375 \nQ 14.984375 37.3125 14.984375 27.296875 \nQ 14.984375 17.28125 19.8125 11.734375 \nQ 24.65625 6.203125 33.40625 6.203125 \nQ 37.3125 6.203125 41.140625 7.25 \nQ 44.96875 8.296875 48.78125 10.40625 \nL 48.78125 2.09375 \nQ 45.015625 0.34375 40.984375 -0.53125 \nQ 36.96875 -1.421875 32.421875 -1.421875 \nQ 20.0625 -1.421875 12.78125 6.34375 \nQ 5.515625 14.109375 5.515625 27.296875 \nQ 5.515625 40.671875 12.859375 48.328125 \nQ 20.21875 56 33.015625 56 \nQ 37.15625 56 41.109375 55.140625 \nQ 45.0625 54.296875 48.78125 52.59375 \nz\n\" id=\"DejaVuSans-1089\"/>\n      <path d=\"M 56.296875 54.6875 \nL 56.296875 0 \nL 47.265625 0 \nL 47.265625 47.515625 \nL 18.109375 47.515625 \nL 18.109375 0 \nL 9.078125 0 \nL 9.078125 54.6875 \nz\n\" id=\"DejaVuSans-1087\"/>\n     </defs>\n     <g transform=\"translate(203.927344 338.166562)scale(0.1 -0.1)\">\n      <use xlink:href=\"#DejaVuSans-1043\"/>\n      <use x=\"60.986328\" xlink:href=\"#DejaVuSans-1086\"/>\n      <use x=\"122.167969\" xlink:href=\"#DejaVuSans-1076\"/>\n      <use x=\"191.308594\" xlink:href=\"#DejaVuSans-1072\"/>\n      <use x=\"252.587891\" xlink:href=\"#DejaVuSans-32\"/>\n      <use x=\"284.375\" xlink:href=\"#DejaVuSans-1089\"/>\n      <use x=\"339.355469\" xlink:href=\"#DejaVuSans-32\"/>\n      <use x=\"371.142578\" xlink:href=\"#DejaVuSans-49\"/>\n      <use x=\"434.765625\" xlink:href=\"#DejaVuSans-57\"/>\n      <use x=\"498.388672\" xlink:href=\"#DejaVuSans-50\"/>\n      <use x=\"562.011719\" xlink:href=\"#DejaVuSans-49\"/>\n      <use x=\"625.634766\" xlink:href=\"#DejaVuSans-32\"/>\n      <use x=\"657.421875\" xlink:href=\"#DejaVuSans-1087\"/>\n      <use x=\"722.802734\" xlink:href=\"#DejaVuSans-1086\"/>\n      <use x=\"783.984375\" xlink:href=\"#DejaVuSans-32\"/>\n      <use x=\"815.771484\" xlink:href=\"#DejaVuSans-50\"/>\n      <use x=\"879.394531\" xlink:href=\"#DejaVuSans-48\"/>\n      <use x=\"943.017578\" xlink:href=\"#DejaVuSans-50\"/>\n      <use x=\"1006.640625\" xlink:href=\"#DejaVuSans-50\"/>\n     </g>\n    </g>\n   </g>\n   <g id=\"matplotlib.axis_2\">\n    <g id=\"ytick_1\">\n     <g id=\"line2d_16\">\n      <path clip-path=\"url(#p0841e3a7cf)\" d=\"M 34.240625 294.118125 \nL 480.640625 294.118125 \n\" style=\"fill:none;stroke:#808080;stroke-dasharray:1.85,0.8;stroke-dashoffset:0;stroke-width:0.5;\"/>\n     </g>\n     <g id=\"line2d_17\">\n      <defs>\n       <path d=\"M 0 0 \nL -3.5 0 \n\" id=\"mfa080dc836\" style=\"stroke:#000000;stroke-width:0.8;\"/>\n      </defs>\n      <g>\n       <use style=\"stroke:#000000;stroke-width:0.8;\" x=\"34.240625\" xlink:href=\"#mfa080dc836\" y=\"294.118125\"/>\n      </g>\n     </g>\n     <g id=\"text_17\">\n      <!-- 0 -->\n      <g transform=\"translate(20.878125 297.917344)scale(0.1 -0.1)\">\n       <use xlink:href=\"#DejaVuSans-48\"/>\n      </g>\n     </g>\n    </g>\n    <g id=\"ytick_2\">\n     <g id=\"line2d_18\">\n      <path clip-path=\"url(#p0841e3a7cf)\" d=\"M 34.240625 261.760982 \nL 480.640625 261.760982 \n\" style=\"fill:none;stroke:#808080;stroke-dasharray:1.85,0.8;stroke-dashoffset:0;stroke-width:0.5;\"/>\n     </g>\n     <g id=\"line2d_19\">\n      <g>\n       <use style=\"stroke:#000000;stroke-width:0.8;\" x=\"34.240625\" xlink:href=\"#mfa080dc836\" y=\"261.760982\"/>\n      </g>\n     </g>\n     <g id=\"text_18\">\n      <!-- 1 -->\n      <g transform=\"translate(20.878125 265.560201)scale(0.1 -0.1)\">\n       <use xlink:href=\"#DejaVuSans-49\"/>\n      </g>\n     </g>\n    </g>\n    <g id=\"ytick_3\">\n     <g id=\"line2d_20\">\n      <path clip-path=\"url(#p0841e3a7cf)\" d=\"M 34.240625 229.403839 \nL 480.640625 229.403839 \n\" style=\"fill:none;stroke:#808080;stroke-dasharray:1.85,0.8;stroke-dashoffset:0;stroke-width:0.5;\"/>\n     </g>\n     <g id=\"line2d_21\">\n      <g>\n       <use style=\"stroke:#000000;stroke-width:0.8;\" x=\"34.240625\" xlink:href=\"#mfa080dc836\" y=\"229.403839\"/>\n      </g>\n     </g>\n     <g id=\"text_19\">\n      <!-- 2 -->\n      <g transform=\"translate(20.878125 233.203058)scale(0.1 -0.1)\">\n       <use xlink:href=\"#DejaVuSans-50\"/>\n      </g>\n     </g>\n    </g>\n    <g id=\"ytick_4\">\n     <g id=\"line2d_22\">\n      <path clip-path=\"url(#p0841e3a7cf)\" d=\"M 34.240625 197.046696 \nL 480.640625 197.046696 \n\" style=\"fill:none;stroke:#808080;stroke-dasharray:1.85,0.8;stroke-dashoffset:0;stroke-width:0.5;\"/>\n     </g>\n     <g id=\"line2d_23\">\n      <g>\n       <use style=\"stroke:#000000;stroke-width:0.8;\" x=\"34.240625\" xlink:href=\"#mfa080dc836\" y=\"197.046696\"/>\n      </g>\n     </g>\n     <g id=\"text_20\">\n      <!-- 3 -->\n      <g transform=\"translate(20.878125 200.845915)scale(0.1 -0.1)\">\n       <use xlink:href=\"#DejaVuSans-51\"/>\n      </g>\n     </g>\n    </g>\n    <g id=\"ytick_5\">\n     <g id=\"line2d_24\">\n      <path clip-path=\"url(#p0841e3a7cf)\" d=\"M 34.240625 164.689554 \nL 480.640625 164.689554 \n\" style=\"fill:none;stroke:#808080;stroke-dasharray:1.85,0.8;stroke-dashoffset:0;stroke-width:0.5;\"/>\n     </g>\n     <g id=\"line2d_25\">\n      <g>\n       <use style=\"stroke:#000000;stroke-width:0.8;\" x=\"34.240625\" xlink:href=\"#mfa080dc836\" y=\"164.689554\"/>\n      </g>\n     </g>\n     <g id=\"text_21\">\n      <!-- 4 -->\n      <g transform=\"translate(20.878125 168.488772)scale(0.1 -0.1)\">\n       <use xlink:href=\"#DejaVuSans-52\"/>\n      </g>\n     </g>\n    </g>\n    <g id=\"ytick_6\">\n     <g id=\"line2d_26\">\n      <path clip-path=\"url(#p0841e3a7cf)\" d=\"M 34.240625 132.332411 \nL 480.640625 132.332411 \n\" style=\"fill:none;stroke:#808080;stroke-dasharray:1.85,0.8;stroke-dashoffset:0;stroke-width:0.5;\"/>\n     </g>\n     <g id=\"line2d_27\">\n      <g>\n       <use style=\"stroke:#000000;stroke-width:0.8;\" x=\"34.240625\" xlink:href=\"#mfa080dc836\" y=\"132.332411\"/>\n      </g>\n     </g>\n     <g id=\"text_22\">\n      <!-- 5 -->\n      <g transform=\"translate(20.878125 136.131629)scale(0.1 -0.1)\">\n       <use xlink:href=\"#DejaVuSans-53\"/>\n      </g>\n     </g>\n    </g>\n    <g id=\"ytick_7\">\n     <g id=\"line2d_28\">\n      <path clip-path=\"url(#p0841e3a7cf)\" d=\"M 34.240625 99.975268 \nL 480.640625 99.975268 \n\" style=\"fill:none;stroke:#808080;stroke-dasharray:1.85,0.8;stroke-dashoffset:0;stroke-width:0.5;\"/>\n     </g>\n     <g id=\"line2d_29\">\n      <g>\n       <use style=\"stroke:#000000;stroke-width:0.8;\" x=\"34.240625\" xlink:href=\"#mfa080dc836\" y=\"99.975268\"/>\n      </g>\n     </g>\n     <g id=\"text_23\">\n      <!-- 6 -->\n      <defs>\n       <path d=\"M 33.015625 40.375 \nQ 26.375 40.375 22.484375 35.828125 \nQ 18.609375 31.296875 18.609375 23.390625 \nQ 18.609375 15.53125 22.484375 10.953125 \nQ 26.375 6.390625 33.015625 6.390625 \nQ 39.65625 6.390625 43.53125 10.953125 \nQ 47.40625 15.53125 47.40625 23.390625 \nQ 47.40625 31.296875 43.53125 35.828125 \nQ 39.65625 40.375 33.015625 40.375 \nz\nM 52.59375 71.296875 \nL 52.59375 62.3125 \nQ 48.875 64.0625 45.09375 64.984375 \nQ 41.3125 65.921875 37.59375 65.921875 \nQ 27.828125 65.921875 22.671875 59.328125 \nQ 17.53125 52.734375 16.796875 39.40625 \nQ 19.671875 43.65625 24.015625 45.921875 \nQ 28.375 48.1875 33.59375 48.1875 \nQ 44.578125 48.1875 50.953125 41.515625 \nQ 57.328125 34.859375 57.328125 23.390625 \nQ 57.328125 12.15625 50.6875 5.359375 \nQ 44.046875 -1.421875 33.015625 -1.421875 \nQ 20.359375 -1.421875 13.671875 8.265625 \nQ 6.984375 17.96875 6.984375 36.375 \nQ 6.984375 53.65625 15.1875 63.9375 \nQ 23.390625 74.21875 37.203125 74.21875 \nQ 40.921875 74.21875 44.703125 73.484375 \nQ 48.484375 72.75 52.59375 71.296875 \nz\n\" id=\"DejaVuSans-54\"/>\n      </defs>\n      <g transform=\"translate(20.878125 103.774487)scale(0.1 -0.1)\">\n       <use xlink:href=\"#DejaVuSans-54\"/>\n      </g>\n     </g>\n    </g>\n    <g id=\"ytick_8\">\n     <g id=\"line2d_30\">\n      <path clip-path=\"url(#p0841e3a7cf)\" d=\"M 34.240625 67.618125 \nL 480.640625 67.618125 \n\" style=\"fill:none;stroke:#808080;stroke-dasharray:1.85,0.8;stroke-dashoffset:0;stroke-width:0.5;\"/>\n     </g>\n     <g id=\"line2d_31\">\n      <g>\n       <use style=\"stroke:#000000;stroke-width:0.8;\" x=\"34.240625\" xlink:href=\"#mfa080dc836\" y=\"67.618125\"/>\n      </g>\n     </g>\n     <g id=\"text_24\">\n      <!-- 7 -->\n      <g transform=\"translate(20.878125 71.417344)scale(0.1 -0.1)\">\n       <use xlink:href=\"#DejaVuSans-55\"/>\n      </g>\n     </g>\n    </g>\n    <g id=\"ytick_9\">\n     <g id=\"line2d_32\">\n      <path clip-path=\"url(#p0841e3a7cf)\" d=\"M 34.240625 35.260982 \nL 480.640625 35.260982 \n\" style=\"fill:none;stroke:#808080;stroke-dasharray:1.85,0.8;stroke-dashoffset:0;stroke-width:0.5;\"/>\n     </g>\n     <g id=\"line2d_33\">\n      <g>\n       <use style=\"stroke:#000000;stroke-width:0.8;\" x=\"34.240625\" xlink:href=\"#mfa080dc836\" y=\"35.260982\"/>\n      </g>\n     </g>\n     <g id=\"text_25\">\n      <!-- 8 -->\n      <g transform=\"translate(20.878125 39.060201)scale(0.1 -0.1)\">\n       <use xlink:href=\"#DejaVuSans-56\"/>\n      </g>\n     </g>\n    </g>\n    <g id=\"text_26\">\n     <!-- Число фильмов в топ-250 -->\n     <defs>\n      <path d=\"M 48.828125 0 \nL 48.828125 29.890625 \nL 28.46875 29.890625 \nQ 19.390625 29.890625 13.96875 35.578125 \nQ 8.546875 41.265625 8.546875 52.875 \nL 8.546875 72.90625 \nL 18.359375 72.90625 \nL 18.359375 53.65625 \nQ 18.359375 45.90625 21.390625 42.046875 \nQ 24.421875 38.1875 30.46875 38.1875 \nL 48.828125 38.1875 \nL 48.828125 72.90625 \nL 58.734375 72.90625 \nL 58.734375 0 \nz\n\" id=\"DejaVuSans-1063\"/>\n      <path d=\"M 55.90625 54.6875 \nL 55.90625 0 \nL 46.96875 0 \nL 46.96875 43.890625 \nL 20.609375 0 \nL 9.078125 0 \nL 9.078125 54.6875 \nL 18.015625 54.6875 \nL 18.015625 10.890625 \nL 44.34375 54.6875 \nz\n\" id=\"DejaVuSans-1080\"/>\n      <path d=\"M 3.71875 0 \nL 3.71875 7.46875 \nQ 12.59375 8.84375 15.328125 14.984375 \nQ 18.65625 23.640625 18.65625 45.75 \nL 18.65625 54.6875 \nL 55.609375 54.6875 \nL 55.609375 0 \nL 46.625 0 \nL 46.625 47.515625 \nL 27.640625 47.515625 \nL 27.640625 42.09375 \nQ 27.640625 21 23.34375 11.53125 \nQ 18.75 1.421875 3.71875 0 \nz\n\" id=\"DejaVuSans-1083\"/>\n      <path d=\"M 14.796875 27.296875 \nQ 14.796875 15.828125 18.328125 10.96875 \nQ 21.875 6.109375 27.875 6.109375 \nQ 32.671875 6.109375 38.234375 14.3125 \nL 38.234375 40.28125 \nQ 32.671875 48.484375 27.875 48.484375 \nQ 21.875 48.484375 18.328125 43.625 \nQ 14.796875 38.765625 14.796875 27.296875 \nz\nM 38.234375 -20.796875 \nL 38.234375 6.984375 \nQ 35.453125 2.390625 32.25 0.484375 \nQ 29.046875 -1.421875 25 -1.421875 \nQ 16.84375 -1.421875 11.15625 6.125 \nQ 5.46875 13.671875 5.46875 27.09375 \nQ 5.46875 40.53125 11.15625 48.265625 \nQ 16.84375 56 25 56 \nQ 29.046875 56 32.25 54.140625 \nQ 35.453125 52.296875 38.234375 47.703125 \nL 38.234375 72.90625 \nL 47.265625 72.90625 \nL 47.265625 47.703125 \nQ 50.046875 52.296875 53.25 54.140625 \nQ 56.453125 56 60.5 56 \nQ 68.65625 56 74.34375 48.265625 \nQ 80.03125 40.53125 80.03125 27.09375 \nQ 80.03125 13.671875 74.34375 6.125 \nQ 68.65625 -1.421875 60.5 -1.421875 \nQ 56.453125 -1.421875 53.25 0.484375 \nQ 50.046875 2.390625 47.265625 6.984375 \nL 47.265625 -20.796875 \nz\nM 70.703125 27.296875 \nQ 70.703125 38.765625 67.15625 43.625 \nQ 63.625 48.484375 57.625 48.484375 \nQ 52.828125 48.484375 47.265625 40.28125 \nL 47.265625 14.3125 \nQ 52.828125 6.109375 57.625 6.109375 \nQ 63.625 6.109375 67.15625 10.96875 \nQ 70.703125 15.828125 70.703125 27.296875 \nz\n\" id=\"DejaVuSans-1092\"/>\n      <path d=\"M 43.453125 16.21875 \nQ 43.453125 20.609375 40.25 22.90625 \nQ 37.0625 25.203125 30.90625 25.203125 \nL 18.109375 25.203125 \nL 18.109375 7.171875 \nL 30.90625 7.171875 \nQ 37.0625 7.171875 40.25 9.484375 \nQ 43.453125 11.8125 43.453125 16.21875 \nz\nM 9.078125 54.6875 \nL 18.109375 54.6875 \nL 18.109375 32.375 \nL 31.296875 32.375 \nQ 41.75 32.375 47.390625 28.390625 \nQ 53.03125 24.421875 53.03125 16.21875 \nQ 53.03125 8.015625 47.390625 4 \nQ 41.75 0 31.296875 0 \nL 9.078125 0 \nz\n\" id=\"DejaVuSans-1100\"/>\n      <path d=\"M 9.078125 54.6875 \nL 22.21875 54.6875 \nL 37.75 18.0625 \nL 53.328125 54.6875 \nL 66.359375 54.6875 \nL 66.359375 0 \nL 57.328125 0 \nL 57.328125 46.09375 \nL 42.234375 10.5 \nL 33.25 10.5 \nL 18.109375 46.09375 \nL 18.109375 0 \nL 9.078125 0 \nz\n\" id=\"DejaVuSans-1084\"/>\n      <path d=\"M 18.0625 25.203125 \nL 18.0625 7.171875 \nL 30.859375 7.171875 \nQ 37.015625 7.171875 40.234375 9.484375 \nQ 43.453125 11.8125 43.453125 16.21875 \nQ 43.453125 20.609375 40.234375 22.90625 \nQ 37.015625 25.203125 30.859375 25.203125 \nz\nM 18.0625 47.515625 \nL 18.0625 32.375 \nL 29.890625 32.375 \nQ 34.96875 32.375 38.1875 34.390625 \nQ 41.40625 36.421875 41.40625 40.046875 \nQ 41.40625 43.65625 38.1875 45.578125 \nQ 34.96875 47.515625 29.890625 47.515625 \nz\nM 9.078125 54.6875 \nL 30.46875 54.6875 \nQ 40.09375 54.6875 45.265625 51.171875 \nQ 50.4375 47.65625 50.4375 41.15625 \nQ 50.4375 36.140625 47.796875 33.171875 \nQ 45.171875 30.21875 39.984375 29.5 \nQ 46.1875 28.328125 49.609375 24.609375 \nQ 53.03125 20.90625 53.03125 15.328125 \nQ 53.03125 8.015625 47.390625 4 \nQ 41.75 0 31.296875 0 \nL 9.078125 0 \nz\n\" id=\"DejaVuSans-1074\"/>\n      <path d=\"M 2.9375 54.6875 \nL 55.328125 54.6875 \nL 55.328125 47.515625 \nL 33.546875 47.515625 \nL 33.546875 0 \nL 24.703125 0 \nL 24.703125 47.515625 \nL 2.9375 47.515625 \nz\n\" id=\"DejaVuSans-1090\"/>\n      <path d=\"M 4.890625 31.390625 \nL 31.203125 31.390625 \nL 31.203125 23.390625 \nL 4.890625 23.390625 \nz\n\" id=\"DejaVuSans-45\"/>\n     </defs>\n     <g transform=\"translate(14.798438 225.647812)rotate(-90)scale(0.1 -0.1)\">\n      <use xlink:href=\"#DejaVuSans-1063\"/>\n      <use x=\"68.554688\" xlink:href=\"#DejaVuSans-1080\"/>\n      <use x=\"133.544922\" xlink:href=\"#DejaVuSans-1089\"/>\n      <use x=\"188.525391\" xlink:href=\"#DejaVuSans-1083\"/>\n      <use x=\"252.441406\" xlink:href=\"#DejaVuSans-1086\"/>\n      <use x=\"313.623047\" xlink:href=\"#DejaVuSans-32\"/>\n      <use x=\"345.410156\" xlink:href=\"#DejaVuSans-1092\"/>\n      <use x=\"430.908203\" xlink:href=\"#DejaVuSans-1080\"/>\n      <use x=\"495.898438\" xlink:href=\"#DejaVuSans-1083\"/>\n      <use x=\"559.814453\" xlink:href=\"#DejaVuSans-1100\"/>\n      <use x=\"618.75\" xlink:href=\"#DejaVuSans-1084\"/>\n      <use x=\"694.189453\" xlink:href=\"#DejaVuSans-1086\"/>\n      <use x=\"755.371094\" xlink:href=\"#DejaVuSans-1074\"/>\n      <use x=\"814.306641\" xlink:href=\"#DejaVuSans-32\"/>\n      <use x=\"846.09375\" xlink:href=\"#DejaVuSans-1074\"/>\n      <use x=\"905.029297\" xlink:href=\"#DejaVuSans-32\"/>\n      <use x=\"936.816406\" xlink:href=\"#DejaVuSans-1090\"/>\n      <use x=\"995.068359\" xlink:href=\"#DejaVuSans-1086\"/>\n      <use x=\"1056.25\" xlink:href=\"#DejaVuSans-1087\"/>\n      <use x=\"1121.630859\" xlink:href=\"#DejaVuSans-45\"/>\n      <use x=\"1157.714844\" xlink:href=\"#DejaVuSans-50\"/>\n      <use x=\"1221.337891\" xlink:href=\"#DejaVuSans-53\"/>\n      <use x=\"1284.960938\" xlink:href=\"#DejaVuSans-48\"/>\n     </g>\n    </g>\n   </g>\n   <g id=\"patch_18\">\n    <path d=\"M 34.240625 294.118125 \nL 34.240625 22.318125 \n\" style=\"fill:none;stroke:#000000;stroke-linecap:square;stroke-linejoin:miter;stroke-width:0.8;\"/>\n   </g>\n   <g id=\"patch_19\">\n    <path d=\"M 480.640625 294.118125 \nL 480.640625 22.318125 \n\" style=\"fill:none;stroke:#000000;stroke-linecap:square;stroke-linejoin:miter;stroke-width:0.8;\"/>\n   </g>\n   <g id=\"patch_20\">\n    <path d=\"M 34.240625 294.118125 \nL 480.640625 294.118125 \n\" style=\"fill:none;stroke:#000000;stroke-linecap:square;stroke-linejoin:miter;stroke-width:0.8;\"/>\n   </g>\n   <g id=\"patch_21\">\n    <path d=\"M 34.240625 22.318125 \nL 480.640625 22.318125 \n\" style=\"fill:none;stroke:#000000;stroke-linecap:square;stroke-linejoin:miter;stroke-width:0.8;\"/>\n   </g>\n   <g id=\"text_27\">\n    <!-- Распределение фильмов по топ годам: -->\n    <defs>\n     <path d=\"M 19.671875 64.796875 \nL 19.671875 37.40625 \nL 32.078125 37.40625 \nQ 38.96875 37.40625 42.71875 40.96875 \nQ 46.484375 44.53125 46.484375 51.125 \nQ 46.484375 57.671875 42.71875 61.234375 \nQ 38.96875 64.796875 32.078125 64.796875 \nz\nM 9.8125 72.90625 \nL 32.078125 72.90625 \nQ 44.34375 72.90625 50.609375 67.359375 \nQ 56.890625 61.8125 56.890625 51.125 \nQ 56.890625 40.328125 50.609375 34.8125 \nQ 44.34375 29.296875 32.078125 29.296875 \nL 19.671875 29.296875 \nL 19.671875 0 \nL 9.8125 0 \nz\n\" id=\"DejaVuSans-1056\"/>\n     <path d=\"M 18.109375 8.203125 \nL 18.109375 -20.796875 \nL 9.078125 -20.796875 \nL 9.078125 54.6875 \nL 18.109375 54.6875 \nL 18.109375 46.390625 \nQ 20.953125 51.265625 25.265625 53.625 \nQ 29.59375 56 35.59375 56 \nQ 45.5625 56 51.78125 48.09375 \nQ 58.015625 40.1875 58.015625 27.296875 \nQ 58.015625 14.40625 51.78125 6.484375 \nQ 45.5625 -1.421875 35.59375 -1.421875 \nQ 29.59375 -1.421875 25.265625 0.953125 \nQ 20.953125 3.328125 18.109375 8.203125 \nz\nM 48.6875 27.296875 \nQ 48.6875 37.203125 44.609375 42.84375 \nQ 40.53125 48.484375 33.40625 48.484375 \nQ 26.265625 48.484375 22.1875 42.84375 \nQ 18.109375 37.203125 18.109375 27.296875 \nQ 18.109375 17.390625 22.1875 11.75 \nQ 26.265625 6.109375 33.40625 6.109375 \nQ 40.53125 6.109375 44.609375 11.75 \nQ 48.6875 17.390625 48.6875 27.296875 \nz\n\" id=\"DejaVuSans-1088\"/>\n     <path d=\"M 56.203125 29.59375 \nL 56.203125 25.203125 \nL 14.890625 25.203125 \nQ 15.484375 15.921875 20.484375 11.0625 \nQ 25.484375 6.203125 34.421875 6.203125 \nQ 39.59375 6.203125 44.453125 7.46875 \nQ 49.3125 8.734375 54.109375 11.28125 \nL 54.109375 2.78125 \nQ 49.265625 0.734375 44.1875 -0.34375 \nQ 39.109375 -1.421875 33.890625 -1.421875 \nQ 20.796875 -1.421875 13.15625 6.1875 \nQ 5.515625 13.8125 5.515625 26.8125 \nQ 5.515625 40.234375 12.765625 48.109375 \nQ 20.015625 56 32.328125 56 \nQ 43.359375 56 49.78125 48.890625 \nQ 56.203125 41.796875 56.203125 29.59375 \nz\nM 47.21875 32.234375 \nQ 47.125 39.59375 43.09375 43.984375 \nQ 39.0625 48.390625 32.421875 48.390625 \nQ 24.90625 48.390625 20.390625 44.140625 \nQ 15.875 39.890625 15.1875 32.171875 \nz\n\" id=\"DejaVuSans-1077\"/>\n     <path d=\"M 9.078125 54.6875 \nL 18.109375 54.6875 \nL 18.109375 32.375 \nL 47.265625 32.375 \nL 47.265625 54.6875 \nL 56.296875 54.6875 \nL 56.296875 0 \nL 47.265625 0 \nL 47.265625 25.203125 \nL 18.109375 25.203125 \nL 18.109375 0 \nL 9.078125 0 \nz\n\" id=\"DejaVuSans-1085\"/>\n     <path d=\"M 9.078125 0 \nL 9.078125 54.6875 \nL 47.65625 54.6875 \nL 47.65625 47.515625 \nL 18.109375 47.515625 \nL 18.109375 0 \nz\n\" id=\"DejaVuSans-1075\"/>\n     <path d=\"M 11.71875 12.40625 \nL 22.015625 12.40625 \nL 22.015625 0 \nL 11.71875 0 \nz\nM 11.71875 51.703125 \nL 22.015625 51.703125 \nL 22.015625 39.3125 \nL 11.71875 39.3125 \nz\n\" id=\"DejaVuSans-58\"/>\n    </defs>\n    <g transform=\"translate(132.90125 16.318125)scale(0.12 -0.12)\">\n     <use xlink:href=\"#DejaVuSans-1056\"/>\n     <use x=\"60.302734\" xlink:href=\"#DejaVuSans-1072\"/>\n     <use x=\"121.582031\" xlink:href=\"#DejaVuSans-1089\"/>\n     <use x=\"176.5625\" xlink:href=\"#DejaVuSans-1087\"/>\n     <use x=\"241.943359\" xlink:href=\"#DejaVuSans-1088\"/>\n     <use x=\"305.419922\" xlink:href=\"#DejaVuSans-1077\"/>\n     <use x=\"366.943359\" xlink:href=\"#DejaVuSans-1076\"/>\n     <use x=\"436.083984\" xlink:href=\"#DejaVuSans-1077\"/>\n     <use x=\"497.607422\" xlink:href=\"#DejaVuSans-1083\"/>\n     <use x=\"561.523438\" xlink:href=\"#DejaVuSans-1077\"/>\n     <use x=\"623.046875\" xlink:href=\"#DejaVuSans-1085\"/>\n     <use x=\"688.427734\" xlink:href=\"#DejaVuSans-1080\"/>\n     <use x=\"753.417969\" xlink:href=\"#DejaVuSans-1077\"/>\n     <use x=\"814.941406\" xlink:href=\"#DejaVuSans-32\"/>\n     <use x=\"846.728516\" xlink:href=\"#DejaVuSans-1092\"/>\n     <use x=\"932.226562\" xlink:href=\"#DejaVuSans-1080\"/>\n     <use x=\"997.216797\" xlink:href=\"#DejaVuSans-1083\"/>\n     <use x=\"1061.132812\" xlink:href=\"#DejaVuSans-1100\"/>\n     <use x=\"1120.068359\" xlink:href=\"#DejaVuSans-1084\"/>\n     <use x=\"1195.507812\" xlink:href=\"#DejaVuSans-1086\"/>\n     <use x=\"1256.689453\" xlink:href=\"#DejaVuSans-1074\"/>\n     <use x=\"1315.625\" xlink:href=\"#DejaVuSans-32\"/>\n     <use x=\"1347.412109\" xlink:href=\"#DejaVuSans-1087\"/>\n     <use x=\"1412.792969\" xlink:href=\"#DejaVuSans-1086\"/>\n     <use x=\"1473.974609\" xlink:href=\"#DejaVuSans-32\"/>\n     <use x=\"1505.761719\" xlink:href=\"#DejaVuSans-1090\"/>\n     <use x=\"1564.013672\" xlink:href=\"#DejaVuSans-1086\"/>\n     <use x=\"1625.195312\" xlink:href=\"#DejaVuSans-1087\"/>\n     <use x=\"1690.576172\" xlink:href=\"#DejaVuSans-32\"/>\n     <use x=\"1722.363281\" xlink:href=\"#DejaVuSans-1075\"/>\n     <use x=\"1774.902344\" xlink:href=\"#DejaVuSans-1086\"/>\n     <use x=\"1836.083984\" xlink:href=\"#DejaVuSans-1076\"/>\n     <use x=\"1905.224609\" xlink:href=\"#DejaVuSans-1072\"/>\n     <use x=\"1966.503906\" xlink:href=\"#DejaVuSans-1084\"/>\n     <use x=\"2041.943359\" xlink:href=\"#DejaVuSans-58\"/>\n    </g>\n   </g>\n  </g>\n </g>\n <defs>\n  <clipPath id=\"p0841e3a7cf\">\n   <rect height=\"271.8\" width=\"446.4\" x=\"34.240625\" y=\"22.318125\"/>\n  </clipPath>\n </defs>\n</svg>\n"
          },
          "metadata": {
            "needs_background": "light"
          }
        }
      ],
      "source": [
        "#Считаем распределение фильмов топа по годам\n",
        "topplt = data.year.value_counts()[0:15].sort_index().plot(kind=\"bar\", color = 'purple', title=\"Распределение фильмов по топ годам:\")\n",
        "topplt.grid(axis = \"y\", color = 'grey', linewidth = 0.5, linestyle = '--') #улучшила визуализацию сетки\n",
        "topplt.set_ylabel('Число фильмов в топ-250')\n",
        "miny = data.year.min()\n",
        "maxy = data.year.max()\n",
        "topplt.set_xlabel(f\"Года с {miny} по {maxy}\")\n"
      ]
    },
    {
      "cell_type": "code",
      "execution_count": null,
      "metadata": {
        "scrolled": true,
        "colab": {
          "base_uri": "https://localhost:8080/",
          "height": 463
        },
        "id": "YdGj35zOXtnO",
        "outputId": "a2ac1f99-c7a6-4725-e104-b201b4148737"
      },
      "outputs": [
        {
          "output_type": "display_data",
          "data": {
            "text/plain": [
              "<Figure size 576x360 with 1 Axes>"
            ],
            "image/svg+xml": "<?xml version=\"1.0\" encoding=\"utf-8\" standalone=\"no\"?>\n<!DOCTYPE svg PUBLIC \"-//W3C//DTD SVG 1.1//EN\"\n  \"http://www.w3.org/Graphics/SVG/1.1/DTD/svg11.dtd\">\n<!-- Created with matplotlib (https://matplotlib.org/) -->\n<svg height=\"331.674375pt\" version=\"1.1\" viewBox=\"0 0 487.840625 331.674375\" width=\"487.840625pt\" xmlns=\"http://www.w3.org/2000/svg\" xmlns:xlink=\"http://www.w3.org/1999/xlink\">\n <defs>\n  <style type=\"text/css\">\n*{stroke-linecap:butt;stroke-linejoin:round;}\n  </style>\n </defs>\n <g id=\"figure_1\">\n  <g id=\"patch_1\">\n   <path d=\"M 0 331.674375 \nL 487.840625 331.674375 \nL 487.840625 0 \nL 0 0 \nz\n\" style=\"fill:none;\"/>\n  </g>\n  <g id=\"axes_1\">\n   <g id=\"patch_2\">\n    <path d=\"M 34.240625 294.118125 \nL 480.640625 294.118125 \nL 480.640625 22.318125 \nL 34.240625 22.318125 \nz\n\" style=\"fill:#ffffff;\"/>\n   </g>\n   <g id=\"matplotlib.axis_1\">\n    <g id=\"xtick_1\">\n     <g id=\"line2d_1\">\n      <path clip-path=\"url(#p5618e3274b)\" d=\"M 50.513532 294.118125 \nL 50.513532 22.318125 \n\" style=\"fill:none;stroke:#b0b0b0;stroke-linecap:square;stroke-width:0.8;\"/>\n     </g>\n     <g id=\"line2d_2\">\n      <defs>\n       <path d=\"M 0 0 \nL 0 3.5 \n\" id=\"mbebdfa01a7\" style=\"stroke:#000000;stroke-width:0.8;\"/>\n      </defs>\n      <g>\n       <use style=\"stroke:#000000;stroke-width:0.8;\" x=\"50.513532\" xlink:href=\"#mbebdfa01a7\" y=\"294.118125\"/>\n      </g>\n     </g>\n     <g id=\"text_1\">\n      <!-- 1920 -->\n      <defs>\n       <path d=\"M 12.40625 8.296875 \nL 28.515625 8.296875 \nL 28.515625 63.921875 \nL 10.984375 60.40625 \nL 10.984375 69.390625 \nL 28.421875 72.90625 \nL 38.28125 72.90625 \nL 38.28125 8.296875 \nL 54.390625 8.296875 \nL 54.390625 0 \nL 12.40625 0 \nz\n\" id=\"DejaVuSans-49\"/>\n       <path d=\"M 10.984375 1.515625 \nL 10.984375 10.5 \nQ 14.703125 8.734375 18.5 7.8125 \nQ 22.3125 6.890625 25.984375 6.890625 \nQ 35.75 6.890625 40.890625 13.453125 \nQ 46.046875 20.015625 46.78125 33.40625 \nQ 43.953125 29.203125 39.59375 26.953125 \nQ 35.25 24.703125 29.984375 24.703125 \nQ 19.046875 24.703125 12.671875 31.3125 \nQ 6.296875 37.9375 6.296875 49.421875 \nQ 6.296875 60.640625 12.9375 67.421875 \nQ 19.578125 74.21875 30.609375 74.21875 \nQ 43.265625 74.21875 49.921875 64.515625 \nQ 56.59375 54.828125 56.59375 36.375 \nQ 56.59375 19.140625 48.40625 8.859375 \nQ 40.234375 -1.421875 26.421875 -1.421875 \nQ 22.703125 -1.421875 18.890625 -0.6875 \nQ 15.09375 0.046875 10.984375 1.515625 \nz\nM 30.609375 32.421875 \nQ 37.25 32.421875 41.125 36.953125 \nQ 45.015625 41.5 45.015625 49.421875 \nQ 45.015625 57.28125 41.125 61.84375 \nQ 37.25 66.40625 30.609375 66.40625 \nQ 23.96875 66.40625 20.09375 61.84375 \nQ 16.21875 57.28125 16.21875 49.421875 \nQ 16.21875 41.5 20.09375 36.953125 \nQ 23.96875 32.421875 30.609375 32.421875 \nz\n\" id=\"DejaVuSans-57\"/>\n       <path d=\"M 19.1875 8.296875 \nL 53.609375 8.296875 \nL 53.609375 0 \nL 7.328125 0 \nL 7.328125 8.296875 \nQ 12.9375 14.109375 22.625 23.890625 \nQ 32.328125 33.6875 34.8125 36.53125 \nQ 39.546875 41.84375 41.421875 45.53125 \nQ 43.3125 49.21875 43.3125 52.78125 \nQ 43.3125 58.59375 39.234375 62.25 \nQ 35.15625 65.921875 28.609375 65.921875 \nQ 23.96875 65.921875 18.8125 64.3125 \nQ 13.671875 62.703125 7.8125 59.421875 \nL 7.8125 69.390625 \nQ 13.765625 71.78125 18.9375 73 \nQ 24.125 74.21875 28.421875 74.21875 \nQ 39.75 74.21875 46.484375 68.546875 \nQ 53.21875 62.890625 53.21875 53.421875 \nQ 53.21875 48.921875 51.53125 44.890625 \nQ 49.859375 40.875 45.40625 35.40625 \nQ 44.1875 33.984375 37.640625 27.21875 \nQ 31.109375 20.453125 19.1875 8.296875 \nz\n\" id=\"DejaVuSans-50\"/>\n       <path d=\"M 31.78125 66.40625 \nQ 24.171875 66.40625 20.328125 58.90625 \nQ 16.5 51.421875 16.5 36.375 \nQ 16.5 21.390625 20.328125 13.890625 \nQ 24.171875 6.390625 31.78125 6.390625 \nQ 39.453125 6.390625 43.28125 13.890625 \nQ 47.125 21.390625 47.125 36.375 \nQ 47.125 51.421875 43.28125 58.90625 \nQ 39.453125 66.40625 31.78125 66.40625 \nz\nM 31.78125 74.21875 \nQ 44.046875 74.21875 50.515625 64.515625 \nQ 56.984375 54.828125 56.984375 36.375 \nQ 56.984375 17.96875 50.515625 8.265625 \nQ 44.046875 -1.421875 31.78125 -1.421875 \nQ 19.53125 -1.421875 13.0625 8.265625 \nQ 6.59375 17.96875 6.59375 36.375 \nQ 6.59375 54.828125 13.0625 64.515625 \nQ 19.53125 74.21875 31.78125 74.21875 \nz\n\" id=\"DejaVuSans-48\"/>\n      </defs>\n      <g transform=\"translate(37.788532 308.716563)scale(0.1 -0.1)\">\n       <use xlink:href=\"#DejaVuSans-49\"/>\n       <use x=\"63.623047\" xlink:href=\"#DejaVuSans-57\"/>\n       <use x=\"127.246094\" xlink:href=\"#DejaVuSans-50\"/>\n       <use x=\"190.869141\" xlink:href=\"#DejaVuSans-48\"/>\n      </g>\n     </g>\n    </g>\n    <g id=\"xtick_2\">\n     <g id=\"line2d_3\">\n      <path clip-path=\"url(#p5618e3274b)\" d=\"M 90.69355 294.118125 \nL 90.69355 22.318125 \n\" style=\"fill:none;stroke:#b0b0b0;stroke-linecap:square;stroke-width:0.8;\"/>\n     </g>\n     <g id=\"line2d_4\">\n      <g>\n       <use style=\"stroke:#000000;stroke-width:0.8;\" x=\"90.69355\" xlink:href=\"#mbebdfa01a7\" y=\"294.118125\"/>\n      </g>\n     </g>\n     <g id=\"text_2\">\n      <!-- 1930 -->\n      <defs>\n       <path d=\"M 40.578125 39.3125 \nQ 47.65625 37.796875 51.625 33 \nQ 55.609375 28.21875 55.609375 21.1875 \nQ 55.609375 10.40625 48.1875 4.484375 \nQ 40.765625 -1.421875 27.09375 -1.421875 \nQ 22.515625 -1.421875 17.65625 -0.515625 \nQ 12.796875 0.390625 7.625 2.203125 \nL 7.625 11.71875 \nQ 11.71875 9.328125 16.59375 8.109375 \nQ 21.484375 6.890625 26.8125 6.890625 \nQ 36.078125 6.890625 40.9375 10.546875 \nQ 45.796875 14.203125 45.796875 21.1875 \nQ 45.796875 27.640625 41.28125 31.265625 \nQ 36.765625 34.90625 28.71875 34.90625 \nL 20.21875 34.90625 \nL 20.21875 43.015625 \nL 29.109375 43.015625 \nQ 36.375 43.015625 40.234375 45.921875 \nQ 44.09375 48.828125 44.09375 54.296875 \nQ 44.09375 59.90625 40.109375 62.90625 \nQ 36.140625 65.921875 28.71875 65.921875 \nQ 24.65625 65.921875 20.015625 65.03125 \nQ 15.375 64.15625 9.8125 62.3125 \nL 9.8125 71.09375 \nQ 15.4375 72.65625 20.34375 73.4375 \nQ 25.25 74.21875 29.59375 74.21875 \nQ 40.828125 74.21875 47.359375 69.109375 \nQ 53.90625 64.015625 53.90625 55.328125 \nQ 53.90625 49.265625 50.4375 45.09375 \nQ 46.96875 40.921875 40.578125 39.3125 \nz\n\" id=\"DejaVuSans-51\"/>\n      </defs>\n      <g transform=\"translate(77.96855 308.716563)scale(0.1 -0.1)\">\n       <use xlink:href=\"#DejaVuSans-49\"/>\n       <use x=\"63.623047\" xlink:href=\"#DejaVuSans-57\"/>\n       <use x=\"127.246094\" xlink:href=\"#DejaVuSans-51\"/>\n       <use x=\"190.869141\" xlink:href=\"#DejaVuSans-48\"/>\n      </g>\n     </g>\n    </g>\n    <g id=\"xtick_3\">\n     <g id=\"line2d_5\">\n      <path clip-path=\"url(#p5618e3274b)\" d=\"M 130.873568 294.118125 \nL 130.873568 22.318125 \n\" style=\"fill:none;stroke:#b0b0b0;stroke-linecap:square;stroke-width:0.8;\"/>\n     </g>\n     <g id=\"line2d_6\">\n      <g>\n       <use style=\"stroke:#000000;stroke-width:0.8;\" x=\"130.873568\" xlink:href=\"#mbebdfa01a7\" y=\"294.118125\"/>\n      </g>\n     </g>\n     <g id=\"text_3\">\n      <!-- 1940 -->\n      <defs>\n       <path d=\"M 37.796875 64.3125 \nL 12.890625 25.390625 \nL 37.796875 25.390625 \nz\nM 35.203125 72.90625 \nL 47.609375 72.90625 \nL 47.609375 25.390625 \nL 58.015625 25.390625 \nL 58.015625 17.1875 \nL 47.609375 17.1875 \nL 47.609375 0 \nL 37.796875 0 \nL 37.796875 17.1875 \nL 4.890625 17.1875 \nL 4.890625 26.703125 \nz\n\" id=\"DejaVuSans-52\"/>\n      </defs>\n      <g transform=\"translate(118.148568 308.716563)scale(0.1 -0.1)\">\n       <use xlink:href=\"#DejaVuSans-49\"/>\n       <use x=\"63.623047\" xlink:href=\"#DejaVuSans-57\"/>\n       <use x=\"127.246094\" xlink:href=\"#DejaVuSans-52\"/>\n       <use x=\"190.869141\" xlink:href=\"#DejaVuSans-48\"/>\n      </g>\n     </g>\n    </g>\n    <g id=\"xtick_4\">\n     <g id=\"line2d_7\">\n      <path clip-path=\"url(#p5618e3274b)\" d=\"M 171.053586 294.118125 \nL 171.053586 22.318125 \n\" style=\"fill:none;stroke:#b0b0b0;stroke-linecap:square;stroke-width:0.8;\"/>\n     </g>\n     <g id=\"line2d_8\">\n      <g>\n       <use style=\"stroke:#000000;stroke-width:0.8;\" x=\"171.053586\" xlink:href=\"#mbebdfa01a7\" y=\"294.118125\"/>\n      </g>\n     </g>\n     <g id=\"text_4\">\n      <!-- 1950 -->\n      <defs>\n       <path d=\"M 10.796875 72.90625 \nL 49.515625 72.90625 \nL 49.515625 64.59375 \nL 19.828125 64.59375 \nL 19.828125 46.734375 \nQ 21.96875 47.46875 24.109375 47.828125 \nQ 26.265625 48.1875 28.421875 48.1875 \nQ 40.625 48.1875 47.75 41.5 \nQ 54.890625 34.8125 54.890625 23.390625 \nQ 54.890625 11.625 47.5625 5.09375 \nQ 40.234375 -1.421875 26.90625 -1.421875 \nQ 22.3125 -1.421875 17.546875 -0.640625 \nQ 12.796875 0.140625 7.71875 1.703125 \nL 7.71875 11.625 \nQ 12.109375 9.234375 16.796875 8.0625 \nQ 21.484375 6.890625 26.703125 6.890625 \nQ 35.15625 6.890625 40.078125 11.328125 \nQ 45.015625 15.765625 45.015625 23.390625 \nQ 45.015625 31 40.078125 35.4375 \nQ 35.15625 39.890625 26.703125 39.890625 \nQ 22.75 39.890625 18.8125 39.015625 \nQ 14.890625 38.140625 10.796875 36.28125 \nz\n\" id=\"DejaVuSans-53\"/>\n      </defs>\n      <g transform=\"translate(158.328586 308.716563)scale(0.1 -0.1)\">\n       <use xlink:href=\"#DejaVuSans-49\"/>\n       <use x=\"63.623047\" xlink:href=\"#DejaVuSans-57\"/>\n       <use x=\"127.246094\" xlink:href=\"#DejaVuSans-53\"/>\n       <use x=\"190.869141\" xlink:href=\"#DejaVuSans-48\"/>\n      </g>\n     </g>\n    </g>\n    <g id=\"xtick_5\">\n     <g id=\"line2d_9\">\n      <path clip-path=\"url(#p5618e3274b)\" d=\"M 211.233604 294.118125 \nL 211.233604 22.318125 \n\" style=\"fill:none;stroke:#b0b0b0;stroke-linecap:square;stroke-width:0.8;\"/>\n     </g>\n     <g id=\"line2d_10\">\n      <g>\n       <use style=\"stroke:#000000;stroke-width:0.8;\" x=\"211.233604\" xlink:href=\"#mbebdfa01a7\" y=\"294.118125\"/>\n      </g>\n     </g>\n     <g id=\"text_5\">\n      <!-- 1960 -->\n      <defs>\n       <path d=\"M 33.015625 40.375 \nQ 26.375 40.375 22.484375 35.828125 \nQ 18.609375 31.296875 18.609375 23.390625 \nQ 18.609375 15.53125 22.484375 10.953125 \nQ 26.375 6.390625 33.015625 6.390625 \nQ 39.65625 6.390625 43.53125 10.953125 \nQ 47.40625 15.53125 47.40625 23.390625 \nQ 47.40625 31.296875 43.53125 35.828125 \nQ 39.65625 40.375 33.015625 40.375 \nz\nM 52.59375 71.296875 \nL 52.59375 62.3125 \nQ 48.875 64.0625 45.09375 64.984375 \nQ 41.3125 65.921875 37.59375 65.921875 \nQ 27.828125 65.921875 22.671875 59.328125 \nQ 17.53125 52.734375 16.796875 39.40625 \nQ 19.671875 43.65625 24.015625 45.921875 \nQ 28.375 48.1875 33.59375 48.1875 \nQ 44.578125 48.1875 50.953125 41.515625 \nQ 57.328125 34.859375 57.328125 23.390625 \nQ 57.328125 12.15625 50.6875 5.359375 \nQ 44.046875 -1.421875 33.015625 -1.421875 \nQ 20.359375 -1.421875 13.671875 8.265625 \nQ 6.984375 17.96875 6.984375 36.375 \nQ 6.984375 53.65625 15.1875 63.9375 \nQ 23.390625 74.21875 37.203125 74.21875 \nQ 40.921875 74.21875 44.703125 73.484375 \nQ 48.484375 72.75 52.59375 71.296875 \nz\n\" id=\"DejaVuSans-54\"/>\n      </defs>\n      <g transform=\"translate(198.508604 308.716563)scale(0.1 -0.1)\">\n       <use xlink:href=\"#DejaVuSans-49\"/>\n       <use x=\"63.623047\" xlink:href=\"#DejaVuSans-57\"/>\n       <use x=\"127.246094\" xlink:href=\"#DejaVuSans-54\"/>\n       <use x=\"190.869141\" xlink:href=\"#DejaVuSans-48\"/>\n      </g>\n     </g>\n    </g>\n    <g id=\"xtick_6\">\n     <g id=\"line2d_11\">\n      <path clip-path=\"url(#p5618e3274b)\" d=\"M 251.413622 294.118125 \nL 251.413622 22.318125 \n\" style=\"fill:none;stroke:#b0b0b0;stroke-linecap:square;stroke-width:0.8;\"/>\n     </g>\n     <g id=\"line2d_12\">\n      <g>\n       <use style=\"stroke:#000000;stroke-width:0.8;\" x=\"251.413622\" xlink:href=\"#mbebdfa01a7\" y=\"294.118125\"/>\n      </g>\n     </g>\n     <g id=\"text_6\">\n      <!-- 1970 -->\n      <defs>\n       <path d=\"M 8.203125 72.90625 \nL 55.078125 72.90625 \nL 55.078125 68.703125 \nL 28.609375 0 \nL 18.3125 0 \nL 43.21875 64.59375 \nL 8.203125 64.59375 \nz\n\" id=\"DejaVuSans-55\"/>\n      </defs>\n      <g transform=\"translate(238.688622 308.716563)scale(0.1 -0.1)\">\n       <use xlink:href=\"#DejaVuSans-49\"/>\n       <use x=\"63.623047\" xlink:href=\"#DejaVuSans-57\"/>\n       <use x=\"127.246094\" xlink:href=\"#DejaVuSans-55\"/>\n       <use x=\"190.869141\" xlink:href=\"#DejaVuSans-48\"/>\n      </g>\n     </g>\n    </g>\n    <g id=\"xtick_7\">\n     <g id=\"line2d_13\">\n      <path clip-path=\"url(#p5618e3274b)\" d=\"M 291.59364 294.118125 \nL 291.59364 22.318125 \n\" style=\"fill:none;stroke:#b0b0b0;stroke-linecap:square;stroke-width:0.8;\"/>\n     </g>\n     <g id=\"line2d_14\">\n      <g>\n       <use style=\"stroke:#000000;stroke-width:0.8;\" x=\"291.59364\" xlink:href=\"#mbebdfa01a7\" y=\"294.118125\"/>\n      </g>\n     </g>\n     <g id=\"text_7\">\n      <!-- 1980 -->\n      <defs>\n       <path d=\"M 31.78125 34.625 \nQ 24.75 34.625 20.71875 30.859375 \nQ 16.703125 27.09375 16.703125 20.515625 \nQ 16.703125 13.921875 20.71875 10.15625 \nQ 24.75 6.390625 31.78125 6.390625 \nQ 38.8125 6.390625 42.859375 10.171875 \nQ 46.921875 13.96875 46.921875 20.515625 \nQ 46.921875 27.09375 42.890625 30.859375 \nQ 38.875 34.625 31.78125 34.625 \nz\nM 21.921875 38.8125 \nQ 15.578125 40.375 12.03125 44.71875 \nQ 8.5 49.078125 8.5 55.328125 \nQ 8.5 64.0625 14.71875 69.140625 \nQ 20.953125 74.21875 31.78125 74.21875 \nQ 42.671875 74.21875 48.875 69.140625 \nQ 55.078125 64.0625 55.078125 55.328125 \nQ 55.078125 49.078125 51.53125 44.71875 \nQ 48 40.375 41.703125 38.8125 \nQ 48.828125 37.15625 52.796875 32.3125 \nQ 56.78125 27.484375 56.78125 20.515625 \nQ 56.78125 9.90625 50.3125 4.234375 \nQ 43.84375 -1.421875 31.78125 -1.421875 \nQ 19.734375 -1.421875 13.25 4.234375 \nQ 6.78125 9.90625 6.78125 20.515625 \nQ 6.78125 27.484375 10.78125 32.3125 \nQ 14.796875 37.15625 21.921875 38.8125 \nz\nM 18.3125 54.390625 \nQ 18.3125 48.734375 21.84375 45.5625 \nQ 25.390625 42.390625 31.78125 42.390625 \nQ 38.140625 42.390625 41.71875 45.5625 \nQ 45.3125 48.734375 45.3125 54.390625 \nQ 45.3125 60.0625 41.71875 63.234375 \nQ 38.140625 66.40625 31.78125 66.40625 \nQ 25.390625 66.40625 21.84375 63.234375 \nQ 18.3125 60.0625 18.3125 54.390625 \nz\n\" id=\"DejaVuSans-56\"/>\n      </defs>\n      <g transform=\"translate(278.86864 308.716563)scale(0.1 -0.1)\">\n       <use xlink:href=\"#DejaVuSans-49\"/>\n       <use x=\"63.623047\" xlink:href=\"#DejaVuSans-57\"/>\n       <use x=\"127.246094\" xlink:href=\"#DejaVuSans-56\"/>\n       <use x=\"190.869141\" xlink:href=\"#DejaVuSans-48\"/>\n      </g>\n     </g>\n    </g>\n    <g id=\"xtick_8\">\n     <g id=\"line2d_15\">\n      <path clip-path=\"url(#p5618e3274b)\" d=\"M 331.773658 294.118125 \nL 331.773658 22.318125 \n\" style=\"fill:none;stroke:#b0b0b0;stroke-linecap:square;stroke-width:0.8;\"/>\n     </g>\n     <g id=\"line2d_16\">\n      <g>\n       <use style=\"stroke:#000000;stroke-width:0.8;\" x=\"331.773658\" xlink:href=\"#mbebdfa01a7\" y=\"294.118125\"/>\n      </g>\n     </g>\n     <g id=\"text_8\">\n      <!-- 1990 -->\n      <g transform=\"translate(319.048658 308.716563)scale(0.1 -0.1)\">\n       <use xlink:href=\"#DejaVuSans-49\"/>\n       <use x=\"63.623047\" xlink:href=\"#DejaVuSans-57\"/>\n       <use x=\"127.246094\" xlink:href=\"#DejaVuSans-57\"/>\n       <use x=\"190.869141\" xlink:href=\"#DejaVuSans-48\"/>\n      </g>\n     </g>\n    </g>\n    <g id=\"xtick_9\">\n     <g id=\"line2d_17\">\n      <path clip-path=\"url(#p5618e3274b)\" d=\"M 371.953676 294.118125 \nL 371.953676 22.318125 \n\" style=\"fill:none;stroke:#b0b0b0;stroke-linecap:square;stroke-width:0.8;\"/>\n     </g>\n     <g id=\"line2d_18\">\n      <g>\n       <use style=\"stroke:#000000;stroke-width:0.8;\" x=\"371.953676\" xlink:href=\"#mbebdfa01a7\" y=\"294.118125\"/>\n      </g>\n     </g>\n     <g id=\"text_9\">\n      <!-- 2000 -->\n      <g transform=\"translate(359.228676 308.716563)scale(0.1 -0.1)\">\n       <use xlink:href=\"#DejaVuSans-50\"/>\n       <use x=\"63.623047\" xlink:href=\"#DejaVuSans-48\"/>\n       <use x=\"127.246094\" xlink:href=\"#DejaVuSans-48\"/>\n       <use x=\"190.869141\" xlink:href=\"#DejaVuSans-48\"/>\n      </g>\n     </g>\n    </g>\n    <g id=\"xtick_10\">\n     <g id=\"line2d_19\">\n      <path clip-path=\"url(#p5618e3274b)\" d=\"M 412.133694 294.118125 \nL 412.133694 22.318125 \n\" style=\"fill:none;stroke:#b0b0b0;stroke-linecap:square;stroke-width:0.8;\"/>\n     </g>\n     <g id=\"line2d_20\">\n      <g>\n       <use style=\"stroke:#000000;stroke-width:0.8;\" x=\"412.133694\" xlink:href=\"#mbebdfa01a7\" y=\"294.118125\"/>\n      </g>\n     </g>\n     <g id=\"text_10\">\n      <!-- 2010 -->\n      <g transform=\"translate(399.408694 308.716563)scale(0.1 -0.1)\">\n       <use xlink:href=\"#DejaVuSans-50\"/>\n       <use x=\"63.623047\" xlink:href=\"#DejaVuSans-48\"/>\n       <use x=\"127.246094\" xlink:href=\"#DejaVuSans-49\"/>\n       <use x=\"190.869141\" xlink:href=\"#DejaVuSans-48\"/>\n      </g>\n     </g>\n    </g>\n    <g id=\"xtick_11\">\n     <g id=\"line2d_21\">\n      <path clip-path=\"url(#p5618e3274b)\" d=\"M 452.313712 294.118125 \nL 452.313712 22.318125 \n\" style=\"fill:none;stroke:#b0b0b0;stroke-linecap:square;stroke-width:0.8;\"/>\n     </g>\n     <g id=\"line2d_22\">\n      <g>\n       <use style=\"stroke:#000000;stroke-width:0.8;\" x=\"452.313712\" xlink:href=\"#mbebdfa01a7\" y=\"294.118125\"/>\n      </g>\n     </g>\n     <g id=\"text_11\">\n      <!-- 2020 -->\n      <g transform=\"translate(439.588712 308.716563)scale(0.1 -0.1)\">\n       <use xlink:href=\"#DejaVuSans-50\"/>\n       <use x=\"63.623047\" xlink:href=\"#DejaVuSans-48\"/>\n       <use x=\"127.246094\" xlink:href=\"#DejaVuSans-50\"/>\n       <use x=\"190.869141\" xlink:href=\"#DejaVuSans-48\"/>\n      </g>\n     </g>\n    </g>\n    <g id=\"xtick_12\">\n     <g id=\"line2d_23\">\n      <defs>\n       <path d=\"M 0 0 \nL 0 2 \n\" id=\"m233d5c70d2\" style=\"stroke:#000000;stroke-width:0.6;\"/>\n      </defs>\n      <g>\n       <use style=\"stroke:#000000;stroke-width:0.6;\" x=\"34.441525\" xlink:href=\"#m233d5c70d2\" y=\"294.118125\"/>\n      </g>\n     </g>\n    </g>\n    <g id=\"xtick_13\">\n     <g id=\"line2d_24\">\n      <g>\n       <use style=\"stroke:#000000;stroke-width:0.6;\" x=\"42.477529\" xlink:href=\"#m233d5c70d2\" y=\"294.118125\"/>\n      </g>\n     </g>\n    </g>\n    <g id=\"xtick_14\">\n     <g id=\"line2d_25\">\n      <g>\n       <use style=\"stroke:#000000;stroke-width:0.6;\" x=\"58.549536\" xlink:href=\"#m233d5c70d2\" y=\"294.118125\"/>\n      </g>\n     </g>\n    </g>\n    <g id=\"xtick_15\">\n     <g id=\"line2d_26\">\n      <g>\n       <use style=\"stroke:#000000;stroke-width:0.6;\" x=\"66.585539\" xlink:href=\"#m233d5c70d2\" y=\"294.118125\"/>\n      </g>\n     </g>\n    </g>\n    <g id=\"xtick_16\">\n     <g id=\"line2d_27\">\n      <g>\n       <use style=\"stroke:#000000;stroke-width:0.6;\" x=\"74.621543\" xlink:href=\"#m233d5c70d2\" y=\"294.118125\"/>\n      </g>\n     </g>\n    </g>\n    <g id=\"xtick_17\">\n     <g id=\"line2d_28\">\n      <g>\n       <use style=\"stroke:#000000;stroke-width:0.6;\" x=\"82.657547\" xlink:href=\"#m233d5c70d2\" y=\"294.118125\"/>\n      </g>\n     </g>\n    </g>\n    <g id=\"xtick_18\">\n     <g id=\"line2d_29\">\n      <g>\n       <use style=\"stroke:#000000;stroke-width:0.6;\" x=\"98.729554\" xlink:href=\"#m233d5c70d2\" y=\"294.118125\"/>\n      </g>\n     </g>\n    </g>\n    <g id=\"xtick_19\">\n     <g id=\"line2d_30\">\n      <g>\n       <use style=\"stroke:#000000;stroke-width:0.6;\" x=\"106.765557\" xlink:href=\"#m233d5c70d2\" y=\"294.118125\"/>\n      </g>\n     </g>\n    </g>\n    <g id=\"xtick_20\">\n     <g id=\"line2d_31\">\n      <g>\n       <use style=\"stroke:#000000;stroke-width:0.6;\" x=\"114.801561\" xlink:href=\"#m233d5c70d2\" y=\"294.118125\"/>\n      </g>\n     </g>\n    </g>\n    <g id=\"xtick_21\">\n     <g id=\"line2d_32\">\n      <g>\n       <use style=\"stroke:#000000;stroke-width:0.6;\" x=\"122.837565\" xlink:href=\"#m233d5c70d2\" y=\"294.118125\"/>\n      </g>\n     </g>\n    </g>\n    <g id=\"xtick_22\">\n     <g id=\"line2d_33\">\n      <g>\n       <use style=\"stroke:#000000;stroke-width:0.6;\" x=\"138.909572\" xlink:href=\"#m233d5c70d2\" y=\"294.118125\"/>\n      </g>\n     </g>\n    </g>\n    <g id=\"xtick_23\">\n     <g id=\"line2d_34\">\n      <g>\n       <use style=\"stroke:#000000;stroke-width:0.6;\" x=\"146.945575\" xlink:href=\"#m233d5c70d2\" y=\"294.118125\"/>\n      </g>\n     </g>\n    </g>\n    <g id=\"xtick_24\">\n     <g id=\"line2d_35\">\n      <g>\n       <use style=\"stroke:#000000;stroke-width:0.6;\" x=\"154.981579\" xlink:href=\"#m233d5c70d2\" y=\"294.118125\"/>\n      </g>\n     </g>\n    </g>\n    <g id=\"xtick_25\">\n     <g id=\"line2d_36\">\n      <g>\n       <use style=\"stroke:#000000;stroke-width:0.6;\" x=\"163.017583\" xlink:href=\"#m233d5c70d2\" y=\"294.118125\"/>\n      </g>\n     </g>\n    </g>\n    <g id=\"xtick_26\">\n     <g id=\"line2d_37\">\n      <g>\n       <use style=\"stroke:#000000;stroke-width:0.6;\" x=\"179.08959\" xlink:href=\"#m233d5c70d2\" y=\"294.118125\"/>\n      </g>\n     </g>\n    </g>\n    <g id=\"xtick_27\">\n     <g id=\"line2d_38\">\n      <g>\n       <use style=\"stroke:#000000;stroke-width:0.6;\" x=\"187.125593\" xlink:href=\"#m233d5c70d2\" y=\"294.118125\"/>\n      </g>\n     </g>\n    </g>\n    <g id=\"xtick_28\">\n     <g id=\"line2d_39\">\n      <g>\n       <use style=\"stroke:#000000;stroke-width:0.6;\" x=\"195.161597\" xlink:href=\"#m233d5c70d2\" y=\"294.118125\"/>\n      </g>\n     </g>\n    </g>\n    <g id=\"xtick_29\">\n     <g id=\"line2d_40\">\n      <g>\n       <use style=\"stroke:#000000;stroke-width:0.6;\" x=\"203.197601\" xlink:href=\"#m233d5c70d2\" y=\"294.118125\"/>\n      </g>\n     </g>\n    </g>\n    <g id=\"xtick_30\">\n     <g id=\"line2d_41\">\n      <g>\n       <use style=\"stroke:#000000;stroke-width:0.6;\" x=\"219.269608\" xlink:href=\"#m233d5c70d2\" y=\"294.118125\"/>\n      </g>\n     </g>\n    </g>\n    <g id=\"xtick_31\">\n     <g id=\"line2d_42\">\n      <g>\n       <use style=\"stroke:#000000;stroke-width:0.6;\" x=\"227.305611\" xlink:href=\"#m233d5c70d2\" y=\"294.118125\"/>\n      </g>\n     </g>\n    </g>\n    <g id=\"xtick_32\">\n     <g id=\"line2d_43\">\n      <g>\n       <use style=\"stroke:#000000;stroke-width:0.6;\" x=\"235.341615\" xlink:href=\"#m233d5c70d2\" y=\"294.118125\"/>\n      </g>\n     </g>\n    </g>\n    <g id=\"xtick_33\">\n     <g id=\"line2d_44\">\n      <g>\n       <use style=\"stroke:#000000;stroke-width:0.6;\" x=\"243.377619\" xlink:href=\"#m233d5c70d2\" y=\"294.118125\"/>\n      </g>\n     </g>\n    </g>\n    <g id=\"xtick_34\">\n     <g id=\"line2d_45\">\n      <g>\n       <use style=\"stroke:#000000;stroke-width:0.6;\" x=\"259.449626\" xlink:href=\"#m233d5c70d2\" y=\"294.118125\"/>\n      </g>\n     </g>\n    </g>\n    <g id=\"xtick_35\">\n     <g id=\"line2d_46\">\n      <g>\n       <use style=\"stroke:#000000;stroke-width:0.6;\" x=\"267.48563\" xlink:href=\"#m233d5c70d2\" y=\"294.118125\"/>\n      </g>\n     </g>\n    </g>\n    <g id=\"xtick_36\">\n     <g id=\"line2d_47\">\n      <g>\n       <use style=\"stroke:#000000;stroke-width:0.6;\" x=\"275.521633\" xlink:href=\"#m233d5c70d2\" y=\"294.118125\"/>\n      </g>\n     </g>\n    </g>\n    <g id=\"xtick_37\">\n     <g id=\"line2d_48\">\n      <g>\n       <use style=\"stroke:#000000;stroke-width:0.6;\" x=\"283.557637\" xlink:href=\"#m233d5c70d2\" y=\"294.118125\"/>\n      </g>\n     </g>\n    </g>\n    <g id=\"xtick_38\">\n     <g id=\"line2d_49\">\n      <g>\n       <use style=\"stroke:#000000;stroke-width:0.6;\" x=\"299.629644\" xlink:href=\"#m233d5c70d2\" y=\"294.118125\"/>\n      </g>\n     </g>\n    </g>\n    <g id=\"xtick_39\">\n     <g id=\"line2d_50\">\n      <g>\n       <use style=\"stroke:#000000;stroke-width:0.6;\" x=\"307.665648\" xlink:href=\"#m233d5c70d2\" y=\"294.118125\"/>\n      </g>\n     </g>\n    </g>\n    <g id=\"xtick_40\">\n     <g id=\"line2d_51\">\n      <g>\n       <use style=\"stroke:#000000;stroke-width:0.6;\" x=\"315.701651\" xlink:href=\"#m233d5c70d2\" y=\"294.118125\"/>\n      </g>\n     </g>\n    </g>\n    <g id=\"xtick_41\">\n     <g id=\"line2d_52\">\n      <g>\n       <use style=\"stroke:#000000;stroke-width:0.6;\" x=\"323.737655\" xlink:href=\"#m233d5c70d2\" y=\"294.118125\"/>\n      </g>\n     </g>\n    </g>\n    <g id=\"xtick_42\">\n     <g id=\"line2d_53\">\n      <g>\n       <use style=\"stroke:#000000;stroke-width:0.6;\" x=\"339.809662\" xlink:href=\"#m233d5c70d2\" y=\"294.118125\"/>\n      </g>\n     </g>\n    </g>\n    <g id=\"xtick_43\">\n     <g id=\"line2d_54\">\n      <g>\n       <use style=\"stroke:#000000;stroke-width:0.6;\" x=\"347.845666\" xlink:href=\"#m233d5c70d2\" y=\"294.118125\"/>\n      </g>\n     </g>\n    </g>\n    <g id=\"xtick_44\">\n     <g id=\"line2d_55\">\n      <g>\n       <use style=\"stroke:#000000;stroke-width:0.6;\" x=\"355.881669\" xlink:href=\"#m233d5c70d2\" y=\"294.118125\"/>\n      </g>\n     </g>\n    </g>\n    <g id=\"xtick_45\">\n     <g id=\"line2d_56\">\n      <g>\n       <use style=\"stroke:#000000;stroke-width:0.6;\" x=\"363.917673\" xlink:href=\"#m233d5c70d2\" y=\"294.118125\"/>\n      </g>\n     </g>\n    </g>\n    <g id=\"xtick_46\">\n     <g id=\"line2d_57\">\n      <g>\n       <use style=\"stroke:#000000;stroke-width:0.6;\" x=\"379.98968\" xlink:href=\"#m233d5c70d2\" y=\"294.118125\"/>\n      </g>\n     </g>\n    </g>\n    <g id=\"xtick_47\">\n     <g id=\"line2d_58\">\n      <g>\n       <use style=\"stroke:#000000;stroke-width:0.6;\" x=\"388.025684\" xlink:href=\"#m233d5c70d2\" y=\"294.118125\"/>\n      </g>\n     </g>\n    </g>\n    <g id=\"xtick_48\">\n     <g id=\"line2d_59\">\n      <g>\n       <use style=\"stroke:#000000;stroke-width:0.6;\" x=\"396.061687\" xlink:href=\"#m233d5c70d2\" y=\"294.118125\"/>\n      </g>\n     </g>\n    </g>\n    <g id=\"xtick_49\">\n     <g id=\"line2d_60\">\n      <g>\n       <use style=\"stroke:#000000;stroke-width:0.6;\" x=\"404.097691\" xlink:href=\"#m233d5c70d2\" y=\"294.118125\"/>\n      </g>\n     </g>\n    </g>\n    <g id=\"xtick_50\">\n     <g id=\"line2d_61\">\n      <g>\n       <use style=\"stroke:#000000;stroke-width:0.6;\" x=\"420.169698\" xlink:href=\"#m233d5c70d2\" y=\"294.118125\"/>\n      </g>\n     </g>\n    </g>\n    <g id=\"xtick_51\">\n     <g id=\"line2d_62\">\n      <g>\n       <use style=\"stroke:#000000;stroke-width:0.6;\" x=\"428.205702\" xlink:href=\"#m233d5c70d2\" y=\"294.118125\"/>\n      </g>\n     </g>\n    </g>\n    <g id=\"xtick_52\">\n     <g id=\"line2d_63\">\n      <g>\n       <use style=\"stroke:#000000;stroke-width:0.6;\" x=\"436.241705\" xlink:href=\"#m233d5c70d2\" y=\"294.118125\"/>\n      </g>\n     </g>\n    </g>\n    <g id=\"xtick_53\">\n     <g id=\"line2d_64\">\n      <g>\n       <use style=\"stroke:#000000;stroke-width:0.6;\" x=\"444.277709\" xlink:href=\"#m233d5c70d2\" y=\"294.118125\"/>\n      </g>\n     </g>\n    </g>\n    <g id=\"xtick_54\">\n     <g id=\"line2d_65\">\n      <g>\n       <use style=\"stroke:#000000;stroke-width:0.6;\" x=\"460.349716\" xlink:href=\"#m233d5c70d2\" y=\"294.118125\"/>\n      </g>\n     </g>\n    </g>\n    <g id=\"xtick_55\">\n     <g id=\"line2d_66\">\n      <g>\n       <use style=\"stroke:#000000;stroke-width:0.6;\" x=\"468.38572\" xlink:href=\"#m233d5c70d2\" y=\"294.118125\"/>\n      </g>\n     </g>\n    </g>\n    <g id=\"xtick_56\">\n     <g id=\"line2d_67\">\n      <g>\n       <use style=\"stroke:#000000;stroke-width:0.6;\" x=\"476.421723\" xlink:href=\"#m233d5c70d2\" y=\"294.118125\"/>\n      </g>\n     </g>\n    </g>\n    <g id=\"text_12\">\n     <!-- Года -->\n     <defs>\n      <path d=\"M 9.8125 0 \nL 9.8125 72.90625 \nL 55.171875 72.90625 \nL 55.171875 64.59375 \nL 19.671875 64.59375 \nL 19.671875 0 \nz\n\" id=\"DejaVuSans-1043\"/>\n      <path d=\"M 30.609375 48.390625 \nQ 23.390625 48.390625 19.1875 42.75 \nQ 14.984375 37.109375 14.984375 27.296875 \nQ 14.984375 17.484375 19.15625 11.84375 \nQ 23.34375 6.203125 30.609375 6.203125 \nQ 37.796875 6.203125 41.984375 11.859375 \nQ 46.1875 17.53125 46.1875 27.296875 \nQ 46.1875 37.015625 41.984375 42.703125 \nQ 37.796875 48.390625 30.609375 48.390625 \nz\nM 30.609375 56 \nQ 42.328125 56 49.015625 48.375 \nQ 55.71875 40.765625 55.71875 27.296875 \nQ 55.71875 13.875 49.015625 6.21875 \nQ 42.328125 -1.421875 30.609375 -1.421875 \nQ 18.84375 -1.421875 12.171875 6.21875 \nQ 5.515625 13.875 5.515625 27.296875 \nQ 5.515625 40.765625 12.171875 48.375 \nQ 18.84375 56 30.609375 56 \nz\n\" id=\"DejaVuSans-1086\"/>\n      <path d=\"M 21.625 7.171875 \nL 47.703125 7.171875 \nL 47.703125 47.515625 \nL 28.8125 47.515625 \nL 28.8125 40.671875 \nQ 28.8125 20.5625 23.046875 9.8125 \nz\nM 8.59375 7.171875 \nQ 13.03125 9.125 14.984375 13.28125 \nQ 19.78125 23.578125 19.78125 44.34375 \nL 19.78125 54.6875 \nL 56.734375 54.6875 \nL 56.734375 7.171875 \nL 63.921875 7.171875 \nL 63.921875 -13.8125 \nL 56.734375 -13.8125 \nL 56.734375 0 \nL 12.40625 0 \nL 12.40625 -13.8125 \nL 5.21875 -13.8125 \nL 5.21875 7.171875 \nz\n\" id=\"DejaVuSans-1076\"/>\n      <path d=\"M 34.28125 27.484375 \nQ 23.390625 27.484375 19.1875 25 \nQ 14.984375 22.515625 14.984375 16.5 \nQ 14.984375 11.71875 18.140625 8.90625 \nQ 21.296875 6.109375 26.703125 6.109375 \nQ 34.1875 6.109375 38.703125 11.40625 \nQ 43.21875 16.703125 43.21875 25.484375 \nL 43.21875 27.484375 \nz\nM 52.203125 31.203125 \nL 52.203125 0 \nL 43.21875 0 \nL 43.21875 8.296875 \nQ 40.140625 3.328125 35.546875 0.953125 \nQ 30.953125 -1.421875 24.3125 -1.421875 \nQ 15.921875 -1.421875 10.953125 3.296875 \nQ 6 8.015625 6 15.921875 \nQ 6 25.140625 12.171875 29.828125 \nQ 18.359375 34.515625 30.609375 34.515625 \nL 43.21875 34.515625 \nL 43.21875 35.40625 \nQ 43.21875 41.609375 39.140625 45 \nQ 35.0625 48.390625 27.6875 48.390625 \nQ 23 48.390625 18.546875 47.265625 \nQ 14.109375 46.140625 10.015625 43.890625 \nL 10.015625 52.203125 \nQ 14.9375 54.109375 19.578125 55.046875 \nQ 24.21875 56 28.609375 56 \nQ 40.484375 56 46.34375 49.84375 \nQ 52.203125 43.703125 52.203125 31.203125 \nz\n\" id=\"DejaVuSans-1072\"/>\n     </defs>\n     <g transform=\"translate(244.810938 322.394687)scale(0.1 -0.1)\">\n      <use xlink:href=\"#DejaVuSans-1043\"/>\n      <use x=\"60.986328\" xlink:href=\"#DejaVuSans-1086\"/>\n      <use x=\"122.167969\" xlink:href=\"#DejaVuSans-1076\"/>\n      <use x=\"191.308594\" xlink:href=\"#DejaVuSans-1072\"/>\n     </g>\n    </g>\n   </g>\n   <g id=\"matplotlib.axis_2\">\n    <g id=\"ytick_1\">\n     <g id=\"line2d_68\">\n      <path clip-path=\"url(#p5618e3274b)\" d=\"M 34.240625 281.76358 \nL 480.640625 281.76358 \n\" style=\"fill:none;stroke:#b0b0b0;stroke-linecap:square;stroke-width:0.8;\"/>\n     </g>\n     <g id=\"line2d_69\">\n      <defs>\n       <path d=\"M 0 0 \nL -3.5 0 \n\" id=\"m1afb7f425b\" style=\"stroke:#000000;stroke-width:0.8;\"/>\n      </defs>\n      <g>\n       <use style=\"stroke:#000000;stroke-width:0.8;\" x=\"34.240625\" xlink:href=\"#m1afb7f425b\" y=\"281.76358\"/>\n      </g>\n     </g>\n     <g id=\"text_13\">\n      <!-- 1 -->\n      <g transform=\"translate(20.878125 285.562798)scale(0.1 -0.1)\">\n       <use xlink:href=\"#DejaVuSans-49\"/>\n      </g>\n     </g>\n    </g>\n    <g id=\"ytick_2\">\n     <g id=\"line2d_70\">\n      <path clip-path=\"url(#p5618e3274b)\" d=\"M 34.240625 246.464878 \nL 480.640625 246.464878 \n\" style=\"fill:none;stroke:#b0b0b0;stroke-linecap:square;stroke-width:0.8;\"/>\n     </g>\n     <g id=\"line2d_71\">\n      <g>\n       <use style=\"stroke:#000000;stroke-width:0.8;\" x=\"34.240625\" xlink:href=\"#m1afb7f425b\" y=\"246.464878\"/>\n      </g>\n     </g>\n     <g id=\"text_14\">\n      <!-- 2 -->\n      <g transform=\"translate(20.878125 250.264097)scale(0.1 -0.1)\">\n       <use xlink:href=\"#DejaVuSans-50\"/>\n      </g>\n     </g>\n    </g>\n    <g id=\"ytick_3\">\n     <g id=\"line2d_72\">\n      <path clip-path=\"url(#p5618e3274b)\" d=\"M 34.240625 211.166177 \nL 480.640625 211.166177 \n\" style=\"fill:none;stroke:#b0b0b0;stroke-linecap:square;stroke-width:0.8;\"/>\n     </g>\n     <g id=\"line2d_73\">\n      <g>\n       <use style=\"stroke:#000000;stroke-width:0.8;\" x=\"34.240625\" xlink:href=\"#m1afb7f425b\" y=\"211.166177\"/>\n      </g>\n     </g>\n     <g id=\"text_15\">\n      <!-- 3 -->\n      <g transform=\"translate(20.878125 214.965396)scale(0.1 -0.1)\">\n       <use xlink:href=\"#DejaVuSans-51\"/>\n      </g>\n     </g>\n    </g>\n    <g id=\"ytick_4\">\n     <g id=\"line2d_74\">\n      <path clip-path=\"url(#p5618e3274b)\" d=\"M 34.240625 175.867476 \nL 480.640625 175.867476 \n\" style=\"fill:none;stroke:#b0b0b0;stroke-linecap:square;stroke-width:0.8;\"/>\n     </g>\n     <g id=\"line2d_75\">\n      <g>\n       <use style=\"stroke:#000000;stroke-width:0.8;\" x=\"34.240625\" xlink:href=\"#m1afb7f425b\" y=\"175.867476\"/>\n      </g>\n     </g>\n     <g id=\"text_16\">\n      <!-- 4 -->\n      <g transform=\"translate(20.878125 179.666694)scale(0.1 -0.1)\">\n       <use xlink:href=\"#DejaVuSans-52\"/>\n      </g>\n     </g>\n    </g>\n    <g id=\"ytick_5\">\n     <g id=\"line2d_76\">\n      <path clip-path=\"url(#p5618e3274b)\" d=\"M 34.240625 140.568774 \nL 480.640625 140.568774 \n\" style=\"fill:none;stroke:#b0b0b0;stroke-linecap:square;stroke-width:0.8;\"/>\n     </g>\n     <g id=\"line2d_77\">\n      <g>\n       <use style=\"stroke:#000000;stroke-width:0.8;\" x=\"34.240625\" xlink:href=\"#m1afb7f425b\" y=\"140.568774\"/>\n      </g>\n     </g>\n     <g id=\"text_17\">\n      <!-- 5 -->\n      <g transform=\"translate(20.878125 144.367993)scale(0.1 -0.1)\">\n       <use xlink:href=\"#DejaVuSans-53\"/>\n      </g>\n     </g>\n    </g>\n    <g id=\"ytick_6\">\n     <g id=\"line2d_78\">\n      <path clip-path=\"url(#p5618e3274b)\" d=\"M 34.240625 105.270073 \nL 480.640625 105.270073 \n\" style=\"fill:none;stroke:#b0b0b0;stroke-linecap:square;stroke-width:0.8;\"/>\n     </g>\n     <g id=\"line2d_79\">\n      <g>\n       <use style=\"stroke:#000000;stroke-width:0.8;\" x=\"34.240625\" xlink:href=\"#m1afb7f425b\" y=\"105.270073\"/>\n      </g>\n     </g>\n     <g id=\"text_18\">\n      <!-- 6 -->\n      <g transform=\"translate(20.878125 109.069292)scale(0.1 -0.1)\">\n       <use xlink:href=\"#DejaVuSans-54\"/>\n      </g>\n     </g>\n    </g>\n    <g id=\"ytick_7\">\n     <g id=\"line2d_80\">\n      <path clip-path=\"url(#p5618e3274b)\" d=\"M 34.240625 69.971372 \nL 480.640625 69.971372 \n\" style=\"fill:none;stroke:#b0b0b0;stroke-linecap:square;stroke-width:0.8;\"/>\n     </g>\n     <g id=\"line2d_81\">\n      <g>\n       <use style=\"stroke:#000000;stroke-width:0.8;\" x=\"34.240625\" xlink:href=\"#m1afb7f425b\" y=\"69.971372\"/>\n      </g>\n     </g>\n     <g id=\"text_19\">\n      <!-- 7 -->\n      <g transform=\"translate(20.878125 73.770591)scale(0.1 -0.1)\">\n       <use xlink:href=\"#DejaVuSans-55\"/>\n      </g>\n     </g>\n    </g>\n    <g id=\"ytick_8\">\n     <g id=\"line2d_82\">\n      <path clip-path=\"url(#p5618e3274b)\" d=\"M 34.240625 34.67267 \nL 480.640625 34.67267 \n\" style=\"fill:none;stroke:#b0b0b0;stroke-linecap:square;stroke-width:0.8;\"/>\n     </g>\n     <g id=\"line2d_83\">\n      <g>\n       <use style=\"stroke:#000000;stroke-width:0.8;\" x=\"34.240625\" xlink:href=\"#m1afb7f425b\" y=\"34.67267\"/>\n      </g>\n     </g>\n     <g id=\"text_20\">\n      <!-- 8 -->\n      <g transform=\"translate(20.878125 38.471889)scale(0.1 -0.1)\">\n       <use xlink:href=\"#DejaVuSans-56\"/>\n      </g>\n     </g>\n    </g>\n    <g id=\"text_21\">\n     <!-- Число фильмов в топ-250 -->\n     <defs>\n      <path d=\"M 48.828125 0 \nL 48.828125 29.890625 \nL 28.46875 29.890625 \nQ 19.390625 29.890625 13.96875 35.578125 \nQ 8.546875 41.265625 8.546875 52.875 \nL 8.546875 72.90625 \nL 18.359375 72.90625 \nL 18.359375 53.65625 \nQ 18.359375 45.90625 21.390625 42.046875 \nQ 24.421875 38.1875 30.46875 38.1875 \nL 48.828125 38.1875 \nL 48.828125 72.90625 \nL 58.734375 72.90625 \nL 58.734375 0 \nz\n\" id=\"DejaVuSans-1063\"/>\n      <path d=\"M 55.90625 54.6875 \nL 55.90625 0 \nL 46.96875 0 \nL 46.96875 43.890625 \nL 20.609375 0 \nL 9.078125 0 \nL 9.078125 54.6875 \nL 18.015625 54.6875 \nL 18.015625 10.890625 \nL 44.34375 54.6875 \nz\n\" id=\"DejaVuSans-1080\"/>\n      <path d=\"M 48.78125 52.59375 \nL 48.78125 44.1875 \nQ 44.96875 46.296875 41.140625 47.34375 \nQ 37.3125 48.390625 33.40625 48.390625 \nQ 24.65625 48.390625 19.8125 42.84375 \nQ 14.984375 37.3125 14.984375 27.296875 \nQ 14.984375 17.28125 19.8125 11.734375 \nQ 24.65625 6.203125 33.40625 6.203125 \nQ 37.3125 6.203125 41.140625 7.25 \nQ 44.96875 8.296875 48.78125 10.40625 \nL 48.78125 2.09375 \nQ 45.015625 0.34375 40.984375 -0.53125 \nQ 36.96875 -1.421875 32.421875 -1.421875 \nQ 20.0625 -1.421875 12.78125 6.34375 \nQ 5.515625 14.109375 5.515625 27.296875 \nQ 5.515625 40.671875 12.859375 48.328125 \nQ 20.21875 56 33.015625 56 \nQ 37.15625 56 41.109375 55.140625 \nQ 45.0625 54.296875 48.78125 52.59375 \nz\n\" id=\"DejaVuSans-1089\"/>\n      <path d=\"M 3.71875 0 \nL 3.71875 7.46875 \nQ 12.59375 8.84375 15.328125 14.984375 \nQ 18.65625 23.640625 18.65625 45.75 \nL 18.65625 54.6875 \nL 55.609375 54.6875 \nL 55.609375 0 \nL 46.625 0 \nL 46.625 47.515625 \nL 27.640625 47.515625 \nL 27.640625 42.09375 \nQ 27.640625 21 23.34375 11.53125 \nQ 18.75 1.421875 3.71875 0 \nz\n\" id=\"DejaVuSans-1083\"/>\n      <path id=\"DejaVuSans-32\"/>\n      <path d=\"M 14.796875 27.296875 \nQ 14.796875 15.828125 18.328125 10.96875 \nQ 21.875 6.109375 27.875 6.109375 \nQ 32.671875 6.109375 38.234375 14.3125 \nL 38.234375 40.28125 \nQ 32.671875 48.484375 27.875 48.484375 \nQ 21.875 48.484375 18.328125 43.625 \nQ 14.796875 38.765625 14.796875 27.296875 \nz\nM 38.234375 -20.796875 \nL 38.234375 6.984375 \nQ 35.453125 2.390625 32.25 0.484375 \nQ 29.046875 -1.421875 25 -1.421875 \nQ 16.84375 -1.421875 11.15625 6.125 \nQ 5.46875 13.671875 5.46875 27.09375 \nQ 5.46875 40.53125 11.15625 48.265625 \nQ 16.84375 56 25 56 \nQ 29.046875 56 32.25 54.140625 \nQ 35.453125 52.296875 38.234375 47.703125 \nL 38.234375 72.90625 \nL 47.265625 72.90625 \nL 47.265625 47.703125 \nQ 50.046875 52.296875 53.25 54.140625 \nQ 56.453125 56 60.5 56 \nQ 68.65625 56 74.34375 48.265625 \nQ 80.03125 40.53125 80.03125 27.09375 \nQ 80.03125 13.671875 74.34375 6.125 \nQ 68.65625 -1.421875 60.5 -1.421875 \nQ 56.453125 -1.421875 53.25 0.484375 \nQ 50.046875 2.390625 47.265625 6.984375 \nL 47.265625 -20.796875 \nz\nM 70.703125 27.296875 \nQ 70.703125 38.765625 67.15625 43.625 \nQ 63.625 48.484375 57.625 48.484375 \nQ 52.828125 48.484375 47.265625 40.28125 \nL 47.265625 14.3125 \nQ 52.828125 6.109375 57.625 6.109375 \nQ 63.625 6.109375 67.15625 10.96875 \nQ 70.703125 15.828125 70.703125 27.296875 \nz\n\" id=\"DejaVuSans-1092\"/>\n      <path d=\"M 43.453125 16.21875 \nQ 43.453125 20.609375 40.25 22.90625 \nQ 37.0625 25.203125 30.90625 25.203125 \nL 18.109375 25.203125 \nL 18.109375 7.171875 \nL 30.90625 7.171875 \nQ 37.0625 7.171875 40.25 9.484375 \nQ 43.453125 11.8125 43.453125 16.21875 \nz\nM 9.078125 54.6875 \nL 18.109375 54.6875 \nL 18.109375 32.375 \nL 31.296875 32.375 \nQ 41.75 32.375 47.390625 28.390625 \nQ 53.03125 24.421875 53.03125 16.21875 \nQ 53.03125 8.015625 47.390625 4 \nQ 41.75 0 31.296875 0 \nL 9.078125 0 \nz\n\" id=\"DejaVuSans-1100\"/>\n      <path d=\"M 9.078125 54.6875 \nL 22.21875 54.6875 \nL 37.75 18.0625 \nL 53.328125 54.6875 \nL 66.359375 54.6875 \nL 66.359375 0 \nL 57.328125 0 \nL 57.328125 46.09375 \nL 42.234375 10.5 \nL 33.25 10.5 \nL 18.109375 46.09375 \nL 18.109375 0 \nL 9.078125 0 \nz\n\" id=\"DejaVuSans-1084\"/>\n      <path d=\"M 18.0625 25.203125 \nL 18.0625 7.171875 \nL 30.859375 7.171875 \nQ 37.015625 7.171875 40.234375 9.484375 \nQ 43.453125 11.8125 43.453125 16.21875 \nQ 43.453125 20.609375 40.234375 22.90625 \nQ 37.015625 25.203125 30.859375 25.203125 \nz\nM 18.0625 47.515625 \nL 18.0625 32.375 \nL 29.890625 32.375 \nQ 34.96875 32.375 38.1875 34.390625 \nQ 41.40625 36.421875 41.40625 40.046875 \nQ 41.40625 43.65625 38.1875 45.578125 \nQ 34.96875 47.515625 29.890625 47.515625 \nz\nM 9.078125 54.6875 \nL 30.46875 54.6875 \nQ 40.09375 54.6875 45.265625 51.171875 \nQ 50.4375 47.65625 50.4375 41.15625 \nQ 50.4375 36.140625 47.796875 33.171875 \nQ 45.171875 30.21875 39.984375 29.5 \nQ 46.1875 28.328125 49.609375 24.609375 \nQ 53.03125 20.90625 53.03125 15.328125 \nQ 53.03125 8.015625 47.390625 4 \nQ 41.75 0 31.296875 0 \nL 9.078125 0 \nz\n\" id=\"DejaVuSans-1074\"/>\n      <path d=\"M 2.9375 54.6875 \nL 55.328125 54.6875 \nL 55.328125 47.515625 \nL 33.546875 47.515625 \nL 33.546875 0 \nL 24.703125 0 \nL 24.703125 47.515625 \nL 2.9375 47.515625 \nz\n\" id=\"DejaVuSans-1090\"/>\n      <path d=\"M 56.296875 54.6875 \nL 56.296875 0 \nL 47.265625 0 \nL 47.265625 47.515625 \nL 18.109375 47.515625 \nL 18.109375 0 \nL 9.078125 0 \nL 9.078125 54.6875 \nz\n\" id=\"DejaVuSans-1087\"/>\n      <path d=\"M 4.890625 31.390625 \nL 31.203125 31.390625 \nL 31.203125 23.390625 \nL 4.890625 23.390625 \nz\n\" id=\"DejaVuSans-45\"/>\n     </defs>\n     <g transform=\"translate(14.798438 225.647813)rotate(-90)scale(0.1 -0.1)\">\n      <use xlink:href=\"#DejaVuSans-1063\"/>\n      <use x=\"68.554688\" xlink:href=\"#DejaVuSans-1080\"/>\n      <use x=\"133.544922\" xlink:href=\"#DejaVuSans-1089\"/>\n      <use x=\"188.525391\" xlink:href=\"#DejaVuSans-1083\"/>\n      <use x=\"252.441406\" xlink:href=\"#DejaVuSans-1086\"/>\n      <use x=\"313.623047\" xlink:href=\"#DejaVuSans-32\"/>\n      <use x=\"345.410156\" xlink:href=\"#DejaVuSans-1092\"/>\n      <use x=\"430.908203\" xlink:href=\"#DejaVuSans-1080\"/>\n      <use x=\"495.898438\" xlink:href=\"#DejaVuSans-1083\"/>\n      <use x=\"559.814453\" xlink:href=\"#DejaVuSans-1100\"/>\n      <use x=\"618.75\" xlink:href=\"#DejaVuSans-1084\"/>\n      <use x=\"694.189453\" xlink:href=\"#DejaVuSans-1086\"/>\n      <use x=\"755.371094\" xlink:href=\"#DejaVuSans-1074\"/>\n      <use x=\"814.306641\" xlink:href=\"#DejaVuSans-32\"/>\n      <use x=\"846.09375\" xlink:href=\"#DejaVuSans-1074\"/>\n      <use x=\"905.029297\" xlink:href=\"#DejaVuSans-32\"/>\n      <use x=\"936.816406\" xlink:href=\"#DejaVuSans-1090\"/>\n      <use x=\"995.068359\" xlink:href=\"#DejaVuSans-1086\"/>\n      <use x=\"1056.25\" xlink:href=\"#DejaVuSans-1087\"/>\n      <use x=\"1121.630859\" xlink:href=\"#DejaVuSans-45\"/>\n      <use x=\"1157.714844\" xlink:href=\"#DejaVuSans-50\"/>\n      <use x=\"1221.337891\" xlink:href=\"#DejaVuSans-53\"/>\n      <use x=\"1284.960938\" xlink:href=\"#DejaVuSans-48\"/>\n     </g>\n    </g>\n   </g>\n   <g id=\"line2d_84\">\n    <path clip-path=\"url(#p5618e3274b)\" d=\"M 54.531534 281.76358 \nL 66.585539 281.76358 \nL 70.603541 281.76358 \nL 74.621543 281.76358 \nL 78.639545 281.76358 \nL 82.657547 281.76358 \nL 94.711552 246.464878 \nL 106.765557 281.76358 \nL 114.801561 281.76358 \nL 126.855566 211.166177 \nL 130.873568 211.166177 \nL 134.89157 281.76358 \nL 138.909572 246.464878 \nL 146.945575 281.76358 \nL 154.981579 246.464878 \nL 163.017583 246.464878 \nL 167.035584 281.76358 \nL 171.053586 211.166177 \nL 179.08959 246.464878 \nL 183.107592 246.464878 \nL 187.125593 175.867476 \nL 191.143595 246.464878 \nL 199.179599 105.270073 \nL 203.197601 281.76358 \nL 207.215602 175.867476 \nL 211.233604 246.464878 \nL 215.251606 246.464878 \nL 219.269608 211.166177 \nL 223.28761 246.464878 \nL 227.305611 281.76358 \nL 231.323613 246.464878 \nL 235.341615 211.166177 \nL 239.359617 281.76358 \nL 243.377619 246.464878 \nL 255.431624 281.76358 \nL 259.449626 281.76358 \nL 263.467628 246.464878 \nL 267.48563 246.464878 \nL 271.503631 140.568774 \nL 275.521633 211.166177 \nL 279.539635 281.76358 \nL 283.557637 281.76358 \nL 287.575639 211.166177 \nL 291.59364 175.867476 \nL 295.611642 246.464878 \nL 299.629644 211.166177 \nL 303.647646 246.464878 \nL 307.665648 211.166177 \nL 311.683649 211.166177 \nL 315.701651 211.166177 \nL 319.719653 281.76358 \nL 323.737655 175.867476 \nL 327.755657 246.464878 \nL 331.773658 281.76358 \nL 335.79166 246.464878 \nL 339.809662 211.166177 \nL 343.827664 175.867476 \nL 347.845666 140.568774 \nL 351.863667 34.67267 \nL 355.881669 246.464878 \nL 359.899671 140.568774 \nL 363.917673 140.568774 \nL 367.935675 105.270073 \nL 371.953676 140.568774 \nL 375.971678 140.568774 \nL 379.98968 175.867476 \nL 384.007682 105.270073 \nL 388.025684 69.971372 \nL 392.043685 211.166177 \nL 396.061687 175.867476 \nL 400.079689 140.568774 \nL 404.097691 211.166177 \nL 408.115693 105.270073 \nL 412.133694 140.568774 \nL 416.151696 140.568774 \nL 420.169698 211.166177 \nL 424.1877 175.867476 \nL 428.205702 140.568774 \nL 432.223703 175.867476 \nL 436.241705 175.867476 \nL 440.259707 211.166177 \nL 444.277709 175.867476 \nL 448.295711 105.270073 \nL 452.313712 246.464878 \nL 456.331714 246.464878 \nL 460.349716 281.76358 \n\" style=\"fill:none;stroke:#fa8072;stroke-linecap:square;stroke-width:1.5;\"/>\n   </g>\n   <g id=\"line2d_85\">\n    <path clip-path=\"url(#p5618e3274b)\" d=\"M 54.531534 281.76358 \nL 66.585539 281.76358 \nL 70.603541 281.76358 \nL 74.621543 281.76358 \nL 78.639545 281.76358 \nL 82.657547 281.76358 \nL 94.711552 246.464878 \nL 106.765557 281.76358 \nL 114.801561 281.76358 \nL 126.855566 211.166177 \nL 130.873568 211.166177 \nL 134.89157 281.76358 \nL 138.909572 246.464878 \nL 146.945575 281.76358 \nL 154.981579 246.464878 \nL 163.017583 246.464878 \nL 167.035584 281.76358 \nL 171.053586 211.166177 \nL 179.08959 246.464878 \nL 183.107592 246.464878 \nL 187.125593 175.867476 \nL 191.143595 246.464878 \nL 199.179599 105.270073 \nL 203.197601 281.76358 \nL 207.215602 175.867476 \nL 211.233604 246.464878 \nL 215.251606 246.464878 \nL 219.269608 211.166177 \nL 223.28761 246.464878 \nL 227.305611 281.76358 \nL 231.323613 246.464878 \nL 235.341615 211.166177 \nL 239.359617 281.76358 \nL 243.377619 246.464878 \nL 255.431624 281.76358 \nL 259.449626 281.76358 \nL 263.467628 246.464878 \nL 267.48563 246.464878 \nL 271.503631 140.568774 \nL 275.521633 211.166177 \nL 279.539635 281.76358 \nL 283.557637 281.76358 \nL 287.575639 211.166177 \nL 291.59364 175.867476 \nL 295.611642 246.464878 \nL 299.629644 211.166177 \nL 303.647646 246.464878 \nL 307.665648 211.166177 \nL 311.683649 211.166177 \nL 315.701651 211.166177 \nL 319.719653 281.76358 \nL 323.737655 175.867476 \nL 327.755657 246.464878 \nL 331.773658 281.76358 \nL 335.79166 246.464878 \nL 339.809662 211.166177 \nL 343.827664 175.867476 \nL 347.845666 140.568774 \nL 351.863667 34.67267 \nL 355.881669 246.464878 \nL 359.899671 140.568774 \nL 363.917673 140.568774 \nL 367.935675 105.270073 \nL 371.953676 140.568774 \nL 375.971678 140.568774 \nL 379.98968 175.867476 \nL 384.007682 105.270073 \nL 388.025684 69.971372 \nL 392.043685 211.166177 \nL 396.061687 175.867476 \nL 400.079689 140.568774 \nL 404.097691 211.166177 \nL 408.115693 105.270073 \nL 412.133694 140.568774 \nL 416.151696 140.568774 \nL 420.169698 211.166177 \nL 424.1877 175.867476 \nL 428.205702 140.568774 \nL 432.223703 175.867476 \nL 436.241705 175.867476 \nL 440.259707 211.166177 \nL 444.277709 175.867476 \nL 448.295711 105.270073 \nL 452.313712 246.464878 \nL 456.331714 246.464878 \nL 460.349716 281.76358 \n\" style=\"fill:none;stroke:#fa8072;stroke-linecap:square;stroke-width:1.5;\"/>\n   </g>\n   <g id=\"line2d_86\">\n    <path clip-path=\"url(#p5618e3274b)\" d=\"M 54.531534 281.76358 \nL 66.585539 281.76358 \nL 70.603541 281.76358 \nL 74.621543 281.76358 \nL 78.639545 281.76358 \nL 82.657547 281.76358 \nL 94.711552 281.76358 \nL 106.765557 281.76358 \nL 114.801561 281.76358 \nL 126.855566 281.76358 \nL 130.873568 281.76358 \nL 134.89157 281.76358 \nL 138.909572 281.76358 \nL 146.945575 281.76358 \nL 154.981579 281.76358 \nL 163.017583 281.76358 \nL 167.035584 281.76358 \nL 171.053586 281.76358 \nL 179.08959 281.76358 \nL 183.107592 281.76358 \nL 187.125593 281.76358 \nL 191.143595 281.76358 \nL 199.179599 281.76358 \nL 203.197601 281.76358 \nL 207.215602 281.76358 \nL 211.233604 281.76358 \nL 215.251606 281.76358 \nL 219.269608 281.76358 \nL 223.28761 281.76358 \nL 227.305611 281.76358 \nL 231.323613 281.76358 \nL 235.341615 281.76358 \nL 239.359617 281.76358 \nL 243.377619 281.76358 \nL 255.431624 281.76358 \nL 259.449626 281.76358 \nL 263.467628 281.76358 \nL 267.48563 281.76358 \nL 271.503631 281.76358 \nL 275.521633 281.76358 \nL 279.539635 281.76358 \nL 283.557637 281.76358 \nL 287.575639 281.76358 \nL 291.59364 281.76358 \nL 295.611642 281.76358 \nL 299.629644 281.76358 \nL 303.647646 281.76358 \nL 307.665648 281.76358 \nL 311.683649 281.76358 \nL 315.701651 281.76358 \nL 319.719653 281.76358 \nL 323.737655 281.76358 \nL 327.755657 281.76358 \nL 331.773658 281.76358 \nL 335.79166 281.76358 \nL 339.809662 281.76358 \nL 343.827664 281.76358 \nL 347.845666 281.76358 \nL 351.863667 281.76358 \nL 355.881669 281.76358 \nL 359.899671 281.76358 \nL 363.917673 281.76358 \nL 367.935675 281.76358 \nL 371.953676 281.76358 \nL 375.971678 281.76358 \nL 379.98968 281.76358 \nL 384.007682 281.76358 \nL 388.025684 281.76358 \nL 392.043685 281.76358 \nL 396.061687 281.76358 \nL 400.079689 281.76358 \nL 404.097691 281.76358 \nL 408.115693 281.76358 \nL 412.133694 281.76358 \nL 416.151696 281.76358 \nL 420.169698 281.76358 \nL 424.1877 281.76358 \nL 428.205702 281.76358 \nL 432.223703 281.76358 \nL 436.241705 281.76358 \nL 440.259707 281.76358 \nL 444.277709 281.76358 \nL 448.295711 281.76358 \nL 452.313712 281.76358 \nL 456.331714 281.76358 \nL 460.349716 281.76358 \n\" style=\"fill:none;stroke:#fa8072;stroke-linecap:square;stroke-width:1.5;\"/>\n   </g>\n   <g id=\"patch_3\">\n    <path d=\"M 34.240625 294.118125 \nL 34.240625 22.318125 \n\" style=\"fill:none;stroke:#000000;stroke-linecap:square;stroke-linejoin:miter;stroke-width:0.8;\"/>\n   </g>\n   <g id=\"patch_4\">\n    <path d=\"M 480.640625 294.118125 \nL 480.640625 22.318125 \n\" style=\"fill:none;stroke:#000000;stroke-linecap:square;stroke-linejoin:miter;stroke-width:0.8;\"/>\n   </g>\n   <g id=\"patch_5\">\n    <path d=\"M 34.240625 294.118125 \nL 480.640625 294.118125 \n\" style=\"fill:none;stroke:#000000;stroke-linecap:square;stroke-linejoin:miter;stroke-width:0.8;\"/>\n   </g>\n   <g id=\"patch_6\">\n    <path d=\"M 34.240625 22.318125 \nL 480.640625 22.318125 \n\" style=\"fill:none;stroke:#000000;stroke-linecap:square;stroke-linejoin:miter;stroke-width:0.8;\"/>\n   </g>\n   <g id=\"text_22\">\n    <!-- Фильмы, вошедшие в топ, по годам: -->\n    <defs>\n     <path d=\"M 38.140625 57.90625 \nQ 27.546875 56.9375 21.921875 51.953125 \nQ 16.3125 46.96875 16.3125 37.359375 \nQ 16.3125 27.734375 21.921875 22.78125 \nQ 27.546875 17.828125 38.140625 16.84375 \nz\nM 48.046875 16.84375 \nQ 58.640625 17.828125 64.203125 22.78125 \nQ 69.78125 27.734375 69.78125 37.359375 \nQ 69.78125 46.96875 64.203125 51.953125 \nQ 58.640625 56.9375 48.046875 57.90625 \nz\nM 38.140625 8.6875 \nQ 22.65625 9.8125 14.28125 17.109375 \nQ 5.90625 24.421875 5.90625 37.359375 \nQ 5.90625 50.296875 14.28125 57.640625 \nQ 22.65625 64.984375 38.140625 66.109375 \nL 38.140625 72.90625 \nL 48.046875 72.90625 \nL 48.046875 66.109375 \nQ 63.53125 64.984375 71.84375 57.6875 \nQ 80.171875 50.390625 80.171875 37.359375 \nQ 80.171875 24.421875 71.84375 17.109375 \nQ 63.53125 9.8125 48.046875 8.6875 \nL 48.046875 0 \nL 38.140625 0 \nz\n\" id=\"DejaVuSans-1060\"/>\n     <path d=\"M 61.046875 54.6875 \nL 70.03125 54.6875 \nL 70.03125 0 \nL 61.046875 0 \nz\nM 65.546875 56 \nz\nM 43.453125 16.21875 \nQ 43.453125 20.609375 40.25 22.90625 \nQ 37.0625 25.203125 30.90625 25.203125 \nL 18.109375 25.203125 \nL 18.109375 7.171875 \nL 30.90625 7.171875 \nQ 37.0625 7.171875 40.25 9.484375 \nQ 43.453125 11.8125 43.453125 16.21875 \nz\nM 9.078125 54.6875 \nL 18.109375 54.6875 \nL 18.109375 32.375 \nL 31.296875 32.375 \nQ 41.75 32.375 47.390625 28.390625 \nQ 53.03125 24.421875 53.03125 16.21875 \nQ 53.03125 8.015625 47.390625 4 \nQ 41.75 0 31.296875 0 \nL 9.078125 0 \nz\n\" id=\"DejaVuSans-1099\"/>\n     <path d=\"M 11.71875 12.40625 \nL 22.015625 12.40625 \nL 22.015625 4 \nL 14.015625 -11.625 \nL 7.71875 -11.625 \nL 11.71875 4 \nz\n\" id=\"DejaVuSans-44\"/>\n     <path d=\"M 50.25 7.171875 \nL 73.390625 7.171875 \nL 73.390625 54.6875 \nL 82.421875 54.6875 \nL 82.421875 0 \nL 9.078125 0 \nL 9.078125 54.6875 \nL 18.109375 54.6875 \nL 18.109375 7.171875 \nL 41.21875 7.171875 \nL 41.21875 54.6875 \nL 50.25 54.6875 \nz\n\" id=\"DejaVuSans-1096\"/>\n     <path d=\"M 56.203125 29.59375 \nL 56.203125 25.203125 \nL 14.890625 25.203125 \nQ 15.484375 15.921875 20.484375 11.0625 \nQ 25.484375 6.203125 34.421875 6.203125 \nQ 39.59375 6.203125 44.453125 7.46875 \nQ 49.3125 8.734375 54.109375 11.28125 \nL 54.109375 2.78125 \nQ 49.265625 0.734375 44.1875 -0.34375 \nQ 39.109375 -1.421875 33.890625 -1.421875 \nQ 20.796875 -1.421875 13.15625 6.1875 \nQ 5.515625 13.8125 5.515625 26.8125 \nQ 5.515625 40.234375 12.765625 48.109375 \nQ 20.015625 56 32.328125 56 \nQ 43.359375 56 49.78125 48.890625 \nQ 56.203125 41.796875 56.203125 29.59375 \nz\nM 47.21875 32.234375 \nQ 47.125 39.59375 43.09375 43.984375 \nQ 39.0625 48.390625 32.421875 48.390625 \nQ 24.90625 48.390625 20.390625 44.140625 \nQ 15.875 39.890625 15.1875 32.171875 \nz\n\" id=\"DejaVuSans-1077\"/>\n     <path d=\"M 9.078125 0 \nL 9.078125 54.6875 \nL 47.65625 54.6875 \nL 47.65625 47.515625 \nL 18.109375 47.515625 \nL 18.109375 0 \nz\n\" id=\"DejaVuSans-1075\"/>\n     <path d=\"M 11.71875 12.40625 \nL 22.015625 12.40625 \nL 22.015625 0 \nL 11.71875 0 \nz\nM 11.71875 51.703125 \nL 22.015625 51.703125 \nL 22.015625 39.3125 \nL 11.71875 39.3125 \nz\n\" id=\"DejaVuSans-58\"/>\n    </defs>\n    <g transform=\"translate(141.359375 16.318125)scale(0.12 -0.12)\">\n     <use xlink:href=\"#DejaVuSans-1060\"/>\n     <use x=\"86.083984\" xlink:href=\"#DejaVuSans-1080\"/>\n     <use x=\"151.074219\" xlink:href=\"#DejaVuSans-1083\"/>\n     <use x=\"214.990234\" xlink:href=\"#DejaVuSans-1100\"/>\n     <use x=\"273.925781\" xlink:href=\"#DejaVuSans-1084\"/>\n     <use x=\"349.365234\" xlink:href=\"#DejaVuSans-1099\"/>\n     <use x=\"428.320312\" xlink:href=\"#DejaVuSans-44\"/>\n     <use x=\"460.107422\" xlink:href=\"#DejaVuSans-32\"/>\n     <use x=\"491.894531\" xlink:href=\"#DejaVuSans-1074\"/>\n     <use x=\"550.830078\" xlink:href=\"#DejaVuSans-1086\"/>\n     <use x=\"612.011719\" xlink:href=\"#DejaVuSans-1096\"/>\n     <use x=\"703.515625\" xlink:href=\"#DejaVuSans-1077\"/>\n     <use x=\"765.039062\" xlink:href=\"#DejaVuSans-1076\"/>\n     <use x=\"834.179688\" xlink:href=\"#DejaVuSans-1096\"/>\n     <use x=\"925.683594\" xlink:href=\"#DejaVuSans-1080\"/>\n     <use x=\"990.673828\" xlink:href=\"#DejaVuSans-1077\"/>\n     <use x=\"1052.197266\" xlink:href=\"#DejaVuSans-32\"/>\n     <use x=\"1083.984375\" xlink:href=\"#DejaVuSans-1074\"/>\n     <use x=\"1142.919922\" xlink:href=\"#DejaVuSans-32\"/>\n     <use x=\"1174.707031\" xlink:href=\"#DejaVuSans-1090\"/>\n     <use x=\"1232.958984\" xlink:href=\"#DejaVuSans-1086\"/>\n     <use x=\"1294.140625\" xlink:href=\"#DejaVuSans-1087\"/>\n     <use x=\"1359.521484\" xlink:href=\"#DejaVuSans-44\"/>\n     <use x=\"1391.308594\" xlink:href=\"#DejaVuSans-32\"/>\n     <use x=\"1423.095703\" xlink:href=\"#DejaVuSans-1087\"/>\n     <use x=\"1488.476562\" xlink:href=\"#DejaVuSans-1086\"/>\n     <use x=\"1549.658203\" xlink:href=\"#DejaVuSans-32\"/>\n     <use x=\"1581.445312\" xlink:href=\"#DejaVuSans-1075\"/>\n     <use x=\"1633.984375\" xlink:href=\"#DejaVuSans-1086\"/>\n     <use x=\"1695.166016\" xlink:href=\"#DejaVuSans-1076\"/>\n     <use x=\"1764.306641\" xlink:href=\"#DejaVuSans-1072\"/>\n     <use x=\"1825.585938\" xlink:href=\"#DejaVuSans-1084\"/>\n     <use x=\"1901.025391\" xlink:href=\"#DejaVuSans-58\"/>\n    </g>\n   </g>\n  </g>\n </g>\n <defs>\n  <clipPath id=\"p5618e3274b\">\n   <rect height=\"271.8\" width=\"446.4\" x=\"34.240625\" y=\"22.318125\"/>\n  </clipPath>\n </defs>\n</svg>\n"
          },
          "metadata": {
            "needs_background": "light"
          }
        }
      ],
      "source": [
        "#Группируем данные по годам и визуализируем:\n",
        "data[\"year\"] = data[\"year\"].astype(int)\n",
        "plt = data[['year', \"title\"]].groupby('year').describe().plot(color=\"salmon\", title=\"Фильмы, вошедшие в топ, по годам:\")\n",
        "plt.axis()\n",
        "plt.get_legend().remove()  #убрала окошко с описанием\n",
        "plt.set_ylabel('Число фильмов в топ-250') #проименовала оси\n",
        "plt.set_xlabel('Года')\n",
        "plt.xaxis.set_major_locator(ticker.MultipleLocator(10)) #поставила интервал делений на оси Х: 10 лет \n",
        "plt.xaxis.set_minor_locator(ticker.MultipleLocator(2)) #добавила ещё тики (каждые 2 года) между делениями.\n",
        "plt.grid()"
      ]
    },
    {
      "cell_type": "markdown",
      "metadata": {
        "id": "b3tH1GL4XtnP"
      },
      "source": [
        "#### Задача 5. \n",
        "Построить распределение топовых фильмов по рейтингу:\n",
        "\n",
        "\n",
        "*   Округлить до сотых и отрисовать\n",
        "*   Округлить до десятых и отрисовать\n",
        "*   Округлить до целых и отрисовать\n"
      ]
    },
    {
      "cell_type": "code",
      "execution_count": null,
      "metadata": {
        "colab": {
          "base_uri": "https://localhost:8080/"
        },
        "id": "deNBn7JpXtnP",
        "outputId": "60b902b1-febb-415e-f6a1-90e6eb19200c"
      },
      "outputs": [
        {
          "output_type": "execute_result",
          "data": {
            "text/plain": [
              "count    250.000000\n",
              "mean       8.253847\n",
              "std        0.232316\n",
              "min        8.002181\n",
              "25%        8.075964\n",
              "50%        8.200154\n",
              "75%        8.360711\n",
              "max        9.235337\n",
              "Name: ratings, dtype: float64"
            ]
          },
          "metadata": {},
          "execution_count": 20
        }
      ],
      "source": [
        "#ratings - 250 - non-null - object. => Меняем тип данных для обработки\n",
        "data[\"ratings\"] = data[\"ratings\"].astype(float)\n",
        "data[\"ratings\"].describe()"
      ]
    },
    {
      "cell_type": "code",
      "execution_count": null,
      "metadata": {
        "scrolled": true,
        "colab": {
          "base_uri": "https://localhost:8080/",
          "height": 206
        },
        "id": "x7JibGF2XtnQ",
        "outputId": "a904cb30-19ee-4715-e50b-94a605349c5d"
      },
      "outputs": [
        {
          "output_type": "execute_result",
          "data": {
            "text/plain": [
              "   ratings                     title\n",
              "0     9.24  The Shawshank Redemption\n",
              "1     9.16             The Godfather\n",
              "2     8.99           The Dark Knight\n",
              "3     8.98     The Godfather Part II\n",
              "4     8.95              12 Angry Men"
            ],
            "text/html": [
              "\n",
              "  <div id=\"df-997cbbd0-3948-4cd8-875e-45318c17eaea\">\n",
              "    <div class=\"colab-df-container\">\n",
              "      <div>\n",
              "<style scoped>\n",
              "    .dataframe tbody tr th:only-of-type {\n",
              "        vertical-align: middle;\n",
              "    }\n",
              "\n",
              "    .dataframe tbody tr th {\n",
              "        vertical-align: top;\n",
              "    }\n",
              "\n",
              "    .dataframe thead th {\n",
              "        text-align: right;\n",
              "    }\n",
              "</style>\n",
              "<table border=\"1\" class=\"dataframe\">\n",
              "  <thead>\n",
              "    <tr style=\"text-align: right;\">\n",
              "      <th></th>\n",
              "      <th>ratings</th>\n",
              "      <th>title</th>\n",
              "    </tr>\n",
              "  </thead>\n",
              "  <tbody>\n",
              "    <tr>\n",
              "      <th>0</th>\n",
              "      <td>9.24</td>\n",
              "      <td>The Shawshank Redemption</td>\n",
              "    </tr>\n",
              "    <tr>\n",
              "      <th>1</th>\n",
              "      <td>9.16</td>\n",
              "      <td>The Godfather</td>\n",
              "    </tr>\n",
              "    <tr>\n",
              "      <th>2</th>\n",
              "      <td>8.99</td>\n",
              "      <td>The Dark Knight</td>\n",
              "    </tr>\n",
              "    <tr>\n",
              "      <th>3</th>\n",
              "      <td>8.98</td>\n",
              "      <td>The Godfather Part II</td>\n",
              "    </tr>\n",
              "    <tr>\n",
              "      <th>4</th>\n",
              "      <td>8.95</td>\n",
              "      <td>12 Angry Men</td>\n",
              "    </tr>\n",
              "  </tbody>\n",
              "</table>\n",
              "</div>\n",
              "      <button class=\"colab-df-convert\" onclick=\"convertToInteractive('df-997cbbd0-3948-4cd8-875e-45318c17eaea')\"\n",
              "              title=\"Convert this dataframe to an interactive table.\"\n",
              "              style=\"display:none;\">\n",
              "        \n",
              "  <svg xmlns=\"http://www.w3.org/2000/svg\" height=\"24px\"viewBox=\"0 0 24 24\"\n",
              "       width=\"24px\">\n",
              "    <path d=\"M0 0h24v24H0V0z\" fill=\"none\"/>\n",
              "    <path d=\"M18.56 5.44l.94 2.06.94-2.06 2.06-.94-2.06-.94-.94-2.06-.94 2.06-2.06.94zm-11 1L8.5 8.5l.94-2.06 2.06-.94-2.06-.94L8.5 2.5l-.94 2.06-2.06.94zm10 10l.94 2.06.94-2.06 2.06-.94-2.06-.94-.94-2.06-.94 2.06-2.06.94z\"/><path d=\"M17.41 7.96l-1.37-1.37c-.4-.4-.92-.59-1.43-.59-.52 0-1.04.2-1.43.59L10.3 9.45l-7.72 7.72c-.78.78-.78 2.05 0 2.83L4 21.41c.39.39.9.59 1.41.59.51 0 1.02-.2 1.41-.59l7.78-7.78 2.81-2.81c.8-.78.8-2.07 0-2.86zM5.41 20L4 18.59l7.72-7.72 1.47 1.35L5.41 20z\"/>\n",
              "  </svg>\n",
              "      </button>\n",
              "      \n",
              "  <style>\n",
              "    .colab-df-container {\n",
              "      display:flex;\n",
              "      flex-wrap:wrap;\n",
              "      gap: 12px;\n",
              "    }\n",
              "\n",
              "    .colab-df-convert {\n",
              "      background-color: #E8F0FE;\n",
              "      border: none;\n",
              "      border-radius: 50%;\n",
              "      cursor: pointer;\n",
              "      display: none;\n",
              "      fill: #1967D2;\n",
              "      height: 32px;\n",
              "      padding: 0 0 0 0;\n",
              "      width: 32px;\n",
              "    }\n",
              "\n",
              "    .colab-df-convert:hover {\n",
              "      background-color: #E2EBFA;\n",
              "      box-shadow: 0px 1px 2px rgba(60, 64, 67, 0.3), 0px 1px 3px 1px rgba(60, 64, 67, 0.15);\n",
              "      fill: #174EA6;\n",
              "    }\n",
              "\n",
              "    [theme=dark] .colab-df-convert {\n",
              "      background-color: #3B4455;\n",
              "      fill: #D2E3FC;\n",
              "    }\n",
              "\n",
              "    [theme=dark] .colab-df-convert:hover {\n",
              "      background-color: #434B5C;\n",
              "      box-shadow: 0px 1px 3px 1px rgba(0, 0, 0, 0.15);\n",
              "      filter: drop-shadow(0px 1px 2px rgba(0, 0, 0, 0.3));\n",
              "      fill: #FFFFFF;\n",
              "    }\n",
              "  </style>\n",
              "\n",
              "      <script>\n",
              "        const buttonEl =\n",
              "          document.querySelector('#df-997cbbd0-3948-4cd8-875e-45318c17eaea button.colab-df-convert');\n",
              "        buttonEl.style.display =\n",
              "          google.colab.kernel.accessAllowed ? 'block' : 'none';\n",
              "\n",
              "        async function convertToInteractive(key) {\n",
              "          const element = document.querySelector('#df-997cbbd0-3948-4cd8-875e-45318c17eaea');\n",
              "          const dataTable =\n",
              "            await google.colab.kernel.invokeFunction('convertToInteractive',\n",
              "                                                     [key], {});\n",
              "          if (!dataTable) return;\n",
              "\n",
              "          const docLinkHtml = 'Like what you see? Visit the ' +\n",
              "            '<a target=\"_blank\" href=https://colab.research.google.com/notebooks/data_table.ipynb>data table notebook</a>'\n",
              "            + ' to learn more about interactive tables.';\n",
              "          element.innerHTML = '';\n",
              "          dataTable['output_type'] = 'display_data';\n",
              "          await google.colab.output.renderOutput(dataTable, element);\n",
              "          const docLink = document.createElement('div');\n",
              "          docLink.innerHTML = docLinkHtml;\n",
              "          element.appendChild(docLink);\n",
              "        }\n",
              "      </script>\n",
              "    </div>\n",
              "  </div>\n",
              "  "
            ]
          },
          "metadata": {},
          "execution_count": 21
        }
      ],
      "source": [
        "#Делаем срез таблицы и округляем до сотых\n",
        "film_rating = data[[\"ratings\", \"title\"]][:10]\n",
        "film_rating.reset_index(drop=True , inplace=True)\n",
        "film_rating[\"ratings\"] = film_rating.ratings.round(2)\n",
        "film_rating.head()"
      ]
    },
    {
      "cell_type": "code",
      "execution_count": null,
      "metadata": {
        "colab": {
          "base_uri": "https://localhost:8080/",
          "height": 481
        },
        "id": "yD-LvHKtXtnQ",
        "outputId": "c626a752-dfde-48b8-9ced-5f7ab25544c6"
      },
      "outputs": [
        {
          "output_type": "execute_result",
          "data": {
            "text/plain": [
              "[Text(0.5, 1.0, 'Топ фильмов по их рейтингу(округлен до сотых)')]"
            ]
          },
          "metadata": {},
          "execution_count": 22
        },
        {
          "output_type": "display_data",
          "data": {
            "text/plain": [
              "<Figure size 576x360 with 1 Axes>"
            ],
            "image/svg+xml": "<?xml version=\"1.0\" encoding=\"utf-8\" standalone=\"no\"?>\n<!DOCTYPE svg PUBLIC \"-//W3C//DTD SVG 1.1//EN\"\n  \"http://www.w3.org/Graphics/SVG/1.1/DTD/svg11.dtd\">\n<!-- Created with matplotlib (https://matplotlib.org/) -->\n<svg height=\"331.674375pt\" version=\"1.1\" viewBox=\"0 0 726.4625 331.674375\" width=\"726.4625pt\" xmlns=\"http://www.w3.org/2000/svg\" xmlns:xlink=\"http://www.w3.org/1999/xlink\">\n <defs>\n  <style type=\"text/css\">\n*{stroke-linecap:butt;stroke-linejoin:round;}\n  </style>\n </defs>\n <g id=\"figure_1\">\n  <g id=\"patch_1\">\n   <path d=\"M 0 331.674375 \nL 726.4625 331.674375 \nL 726.4625 0 \nL 0 0 \nz\n\" style=\"fill:none;\"/>\n  </g>\n  <g id=\"axes_1\">\n   <g id=\"patch_2\">\n    <path d=\"M 272.8625 294.118125 \nL 719.2625 294.118125 \nL 719.2625 22.318125 \nL 272.8625 22.318125 \nz\n\" style=\"fill:#ffffff;\"/>\n   </g>\n   <g id=\"patch_3\">\n    <path clip-path=\"url(#pd56af77161)\" d=\"M 272.8625 25.036125 \nL 698.005357 25.036125 \nL 698.005357 46.780125 \nL 272.8625 46.780125 \nz\n\" style=\"fill:#3274a1;\"/>\n   </g>\n   <g id=\"patch_4\">\n    <path clip-path=\"url(#pd56af77161)\" d=\"M 272.8625 52.216125 \nL 694.324467 52.216125 \nL 694.324467 73.960125 \nL 272.8625 73.960125 \nz\n\" style=\"fill:#e1812c;\"/>\n   </g>\n   <g id=\"patch_5\">\n    <path clip-path=\"url(#pd56af77161)\" d=\"M 272.8625 79.396125 \nL 686.502574 79.396125 \nL 686.502574 101.140125 \nL 272.8625 101.140125 \nz\n\" style=\"fill:#3a923a;\"/>\n   </g>\n   <g id=\"patch_6\">\n    <path clip-path=\"url(#pd56af77161)\" d=\"M 272.8625 106.576125 \nL 686.042463 106.576125 \nL 686.042463 128.320125 \nL 272.8625 128.320125 \nz\n\" style=\"fill:#c03d3e;\"/>\n   </g>\n   <g id=\"patch_7\">\n    <path clip-path=\"url(#pd56af77161)\" d=\"M 272.8625 133.756125 \nL 684.662129 133.756125 \nL 684.662129 155.500125 \nL 272.8625 155.500125 \nz\n\" style=\"fill:#9372b2;\"/>\n   </g>\n   <g id=\"patch_8\">\n    <path clip-path=\"url(#pd56af77161)\" d=\"M 272.8625 160.936125 \nL 684.202018 160.936125 \nL 684.202018 182.680125 \nL 272.8625 182.680125 \nz\n\" style=\"fill:#845b53;\"/>\n   </g>\n   <g id=\"patch_9\">\n    <path clip-path=\"url(#pd56af77161)\" d=\"M 272.8625 188.116125 \nL 683.741906 188.116125 \nL 683.741906 209.860125 \nL 272.8625 209.860125 \nz\n\" style=\"fill:#d684bd;\"/>\n   </g>\n   <g id=\"patch_10\">\n    <path clip-path=\"url(#pd56af77161)\" d=\"M 272.8625 215.296125 \nL 680.061016 215.296125 \nL 680.061016 237.040125 \nL 272.8625 237.040125 \nz\n\" style=\"fill:#7f7f7f;\"/>\n   </g>\n   <g id=\"patch_11\">\n    <path clip-path=\"url(#pd56af77161)\" d=\"M 272.8625 242.476125 \nL 678.220571 242.476125 \nL 678.220571 264.220125 \nL 272.8625 264.220125 \nz\n\" style=\"fill:#a9aa35;\"/>\n   </g>\n   <g id=\"patch_12\">\n    <path clip-path=\"url(#pd56af77161)\" d=\"M 272.8625 269.656125 \nL 677.300348 269.656125 \nL 677.300348 291.400125 \nL 272.8625 291.400125 \nz\n\" style=\"fill:#2eabb8;\"/>\n   </g>\n   <g id=\"matplotlib.axis_1\">\n    <g id=\"xtick_1\">\n     <g id=\"line2d_1\">\n      <defs>\n       <path d=\"M 0 0 \nL 0 3.5 \n\" id=\"m51022ad076\" style=\"stroke:#000000;stroke-width:0.8;\"/>\n      </defs>\n      <g>\n       <use style=\"stroke:#000000;stroke-width:0.8;\" x=\"272.8625\" xlink:href=\"#m51022ad076\" y=\"294.118125\"/>\n      </g>\n     </g>\n     <g id=\"text_1\">\n      <!-- 0 -->\n      <defs>\n       <path d=\"M 31.78125 66.40625 \nQ 24.171875 66.40625 20.328125 58.90625 \nQ 16.5 51.421875 16.5 36.375 \nQ 16.5 21.390625 20.328125 13.890625 \nQ 24.171875 6.390625 31.78125 6.390625 \nQ 39.453125 6.390625 43.28125 13.890625 \nQ 47.125 21.390625 47.125 36.375 \nQ 47.125 51.421875 43.28125 58.90625 \nQ 39.453125 66.40625 31.78125 66.40625 \nz\nM 31.78125 74.21875 \nQ 44.046875 74.21875 50.515625 64.515625 \nQ 56.984375 54.828125 56.984375 36.375 \nQ 56.984375 17.96875 50.515625 8.265625 \nQ 44.046875 -1.421875 31.78125 -1.421875 \nQ 19.53125 -1.421875 13.0625 8.265625 \nQ 6.59375 17.96875 6.59375 36.375 \nQ 6.59375 54.828125 13.0625 64.515625 \nQ 19.53125 74.21875 31.78125 74.21875 \nz\n\" id=\"DejaVuSans-48\"/>\n      </defs>\n      <g transform=\"translate(269.68125 308.716563)scale(0.1 -0.1)\">\n       <use xlink:href=\"#DejaVuSans-48\"/>\n      </g>\n     </g>\n    </g>\n    <g id=\"xtick_2\">\n     <g id=\"line2d_2\">\n      <g>\n       <use style=\"stroke:#000000;stroke-width:0.8;\" x=\"364.884763\" xlink:href=\"#m51022ad076\" y=\"294.118125\"/>\n      </g>\n     </g>\n     <g id=\"text_2\">\n      <!-- 2 -->\n      <defs>\n       <path d=\"M 19.1875 8.296875 \nL 53.609375 8.296875 \nL 53.609375 0 \nL 7.328125 0 \nL 7.328125 8.296875 \nQ 12.9375 14.109375 22.625 23.890625 \nQ 32.328125 33.6875 34.8125 36.53125 \nQ 39.546875 41.84375 41.421875 45.53125 \nQ 43.3125 49.21875 43.3125 52.78125 \nQ 43.3125 58.59375 39.234375 62.25 \nQ 35.15625 65.921875 28.609375 65.921875 \nQ 23.96875 65.921875 18.8125 64.3125 \nQ 13.671875 62.703125 7.8125 59.421875 \nL 7.8125 69.390625 \nQ 13.765625 71.78125 18.9375 73 \nQ 24.125 74.21875 28.421875 74.21875 \nQ 39.75 74.21875 46.484375 68.546875 \nQ 53.21875 62.890625 53.21875 53.421875 \nQ 53.21875 48.921875 51.53125 44.890625 \nQ 49.859375 40.875 45.40625 35.40625 \nQ 44.1875 33.984375 37.640625 27.21875 \nQ 31.109375 20.453125 19.1875 8.296875 \nz\n\" id=\"DejaVuSans-50\"/>\n      </defs>\n      <g transform=\"translate(361.703513 308.716563)scale(0.1 -0.1)\">\n       <use xlink:href=\"#DejaVuSans-50\"/>\n      </g>\n     </g>\n    </g>\n    <g id=\"xtick_3\">\n     <g id=\"line2d_3\">\n      <g>\n       <use style=\"stroke:#000000;stroke-width:0.8;\" x=\"456.907027\" xlink:href=\"#m51022ad076\" y=\"294.118125\"/>\n      </g>\n     </g>\n     <g id=\"text_3\">\n      <!-- 4 -->\n      <defs>\n       <path d=\"M 37.796875 64.3125 \nL 12.890625 25.390625 \nL 37.796875 25.390625 \nz\nM 35.203125 72.90625 \nL 47.609375 72.90625 \nL 47.609375 25.390625 \nL 58.015625 25.390625 \nL 58.015625 17.1875 \nL 47.609375 17.1875 \nL 47.609375 0 \nL 37.796875 0 \nL 37.796875 17.1875 \nL 4.890625 17.1875 \nL 4.890625 26.703125 \nz\n\" id=\"DejaVuSans-52\"/>\n      </defs>\n      <g transform=\"translate(453.725777 308.716563)scale(0.1 -0.1)\">\n       <use xlink:href=\"#DejaVuSans-52\"/>\n      </g>\n     </g>\n    </g>\n    <g id=\"xtick_4\">\n     <g id=\"line2d_4\">\n      <g>\n       <use style=\"stroke:#000000;stroke-width:0.8;\" x=\"548.92929\" xlink:href=\"#m51022ad076\" y=\"294.118125\"/>\n      </g>\n     </g>\n     <g id=\"text_4\">\n      <!-- 6 -->\n      <defs>\n       <path d=\"M 33.015625 40.375 \nQ 26.375 40.375 22.484375 35.828125 \nQ 18.609375 31.296875 18.609375 23.390625 \nQ 18.609375 15.53125 22.484375 10.953125 \nQ 26.375 6.390625 33.015625 6.390625 \nQ 39.65625 6.390625 43.53125 10.953125 \nQ 47.40625 15.53125 47.40625 23.390625 \nQ 47.40625 31.296875 43.53125 35.828125 \nQ 39.65625 40.375 33.015625 40.375 \nz\nM 52.59375 71.296875 \nL 52.59375 62.3125 \nQ 48.875 64.0625 45.09375 64.984375 \nQ 41.3125 65.921875 37.59375 65.921875 \nQ 27.828125 65.921875 22.671875 59.328125 \nQ 17.53125 52.734375 16.796875 39.40625 \nQ 19.671875 43.65625 24.015625 45.921875 \nQ 28.375 48.1875 33.59375 48.1875 \nQ 44.578125 48.1875 50.953125 41.515625 \nQ 57.328125 34.859375 57.328125 23.390625 \nQ 57.328125 12.15625 50.6875 5.359375 \nQ 44.046875 -1.421875 33.015625 -1.421875 \nQ 20.359375 -1.421875 13.671875 8.265625 \nQ 6.984375 17.96875 6.984375 36.375 \nQ 6.984375 53.65625 15.1875 63.9375 \nQ 23.390625 74.21875 37.203125 74.21875 \nQ 40.921875 74.21875 44.703125 73.484375 \nQ 48.484375 72.75 52.59375 71.296875 \nz\n\" id=\"DejaVuSans-54\"/>\n      </defs>\n      <g transform=\"translate(545.74804 308.716563)scale(0.1 -0.1)\">\n       <use xlink:href=\"#DejaVuSans-54\"/>\n      </g>\n     </g>\n    </g>\n    <g id=\"xtick_5\">\n     <g id=\"line2d_5\">\n      <g>\n       <use style=\"stroke:#000000;stroke-width:0.8;\" x=\"640.951554\" xlink:href=\"#m51022ad076\" y=\"294.118125\"/>\n      </g>\n     </g>\n     <g id=\"text_5\">\n      <!-- 8 -->\n      <defs>\n       <path d=\"M 31.78125 34.625 \nQ 24.75 34.625 20.71875 30.859375 \nQ 16.703125 27.09375 16.703125 20.515625 \nQ 16.703125 13.921875 20.71875 10.15625 \nQ 24.75 6.390625 31.78125 6.390625 \nQ 38.8125 6.390625 42.859375 10.171875 \nQ 46.921875 13.96875 46.921875 20.515625 \nQ 46.921875 27.09375 42.890625 30.859375 \nQ 38.875 34.625 31.78125 34.625 \nz\nM 21.921875 38.8125 \nQ 15.578125 40.375 12.03125 44.71875 \nQ 8.5 49.078125 8.5 55.328125 \nQ 8.5 64.0625 14.71875 69.140625 \nQ 20.953125 74.21875 31.78125 74.21875 \nQ 42.671875 74.21875 48.875 69.140625 \nQ 55.078125 64.0625 55.078125 55.328125 \nQ 55.078125 49.078125 51.53125 44.71875 \nQ 48 40.375 41.703125 38.8125 \nQ 48.828125 37.15625 52.796875 32.3125 \nQ 56.78125 27.484375 56.78125 20.515625 \nQ 56.78125 9.90625 50.3125 4.234375 \nQ 43.84375 -1.421875 31.78125 -1.421875 \nQ 19.734375 -1.421875 13.25 4.234375 \nQ 6.78125 9.90625 6.78125 20.515625 \nQ 6.78125 27.484375 10.78125 32.3125 \nQ 14.796875 37.15625 21.921875 38.8125 \nz\nM 18.3125 54.390625 \nQ 18.3125 48.734375 21.84375 45.5625 \nQ 25.390625 42.390625 31.78125 42.390625 \nQ 38.140625 42.390625 41.71875 45.5625 \nQ 45.3125 48.734375 45.3125 54.390625 \nQ 45.3125 60.0625 41.71875 63.234375 \nQ 38.140625 66.40625 31.78125 66.40625 \nQ 25.390625 66.40625 21.84375 63.234375 \nQ 18.3125 60.0625 18.3125 54.390625 \nz\n\" id=\"DejaVuSans-56\"/>\n      </defs>\n      <g transform=\"translate(637.770304 308.716563)scale(0.1 -0.1)\">\n       <use xlink:href=\"#DejaVuSans-56\"/>\n      </g>\n     </g>\n    </g>\n    <g id=\"text_6\">\n     <!-- ratings -->\n     <defs>\n      <path d=\"M 41.109375 46.296875 \nQ 39.59375 47.171875 37.8125 47.578125 \nQ 36.03125 48 33.890625 48 \nQ 26.265625 48 22.1875 43.046875 \nQ 18.109375 38.09375 18.109375 28.8125 \nL 18.109375 0 \nL 9.078125 0 \nL 9.078125 54.6875 \nL 18.109375 54.6875 \nL 18.109375 46.1875 \nQ 20.953125 51.171875 25.484375 53.578125 \nQ 30.03125 56 36.53125 56 \nQ 37.453125 56 38.578125 55.875 \nQ 39.703125 55.765625 41.0625 55.515625 \nz\n\" id=\"DejaVuSans-114\"/>\n      <path d=\"M 34.28125 27.484375 \nQ 23.390625 27.484375 19.1875 25 \nQ 14.984375 22.515625 14.984375 16.5 \nQ 14.984375 11.71875 18.140625 8.90625 \nQ 21.296875 6.109375 26.703125 6.109375 \nQ 34.1875 6.109375 38.703125 11.40625 \nQ 43.21875 16.703125 43.21875 25.484375 \nL 43.21875 27.484375 \nz\nM 52.203125 31.203125 \nL 52.203125 0 \nL 43.21875 0 \nL 43.21875 8.296875 \nQ 40.140625 3.328125 35.546875 0.953125 \nQ 30.953125 -1.421875 24.3125 -1.421875 \nQ 15.921875 -1.421875 10.953125 3.296875 \nQ 6 8.015625 6 15.921875 \nQ 6 25.140625 12.171875 29.828125 \nQ 18.359375 34.515625 30.609375 34.515625 \nL 43.21875 34.515625 \nL 43.21875 35.40625 \nQ 43.21875 41.609375 39.140625 45 \nQ 35.0625 48.390625 27.6875 48.390625 \nQ 23 48.390625 18.546875 47.265625 \nQ 14.109375 46.140625 10.015625 43.890625 \nL 10.015625 52.203125 \nQ 14.9375 54.109375 19.578125 55.046875 \nQ 24.21875 56 28.609375 56 \nQ 40.484375 56 46.34375 49.84375 \nQ 52.203125 43.703125 52.203125 31.203125 \nz\n\" id=\"DejaVuSans-97\"/>\n      <path d=\"M 18.3125 70.21875 \nL 18.3125 54.6875 \nL 36.8125 54.6875 \nL 36.8125 47.703125 \nL 18.3125 47.703125 \nL 18.3125 18.015625 \nQ 18.3125 11.328125 20.140625 9.421875 \nQ 21.96875 7.515625 27.59375 7.515625 \nL 36.8125 7.515625 \nL 36.8125 0 \nL 27.59375 0 \nQ 17.1875 0 13.234375 3.875 \nQ 9.28125 7.765625 9.28125 18.015625 \nL 9.28125 47.703125 \nL 2.6875 47.703125 \nL 2.6875 54.6875 \nL 9.28125 54.6875 \nL 9.28125 70.21875 \nz\n\" id=\"DejaVuSans-116\"/>\n      <path d=\"M 9.421875 54.6875 \nL 18.40625 54.6875 \nL 18.40625 0 \nL 9.421875 0 \nz\nM 9.421875 75.984375 \nL 18.40625 75.984375 \nL 18.40625 64.59375 \nL 9.421875 64.59375 \nz\n\" id=\"DejaVuSans-105\"/>\n      <path d=\"M 54.890625 33.015625 \nL 54.890625 0 \nL 45.90625 0 \nL 45.90625 32.71875 \nQ 45.90625 40.484375 42.875 44.328125 \nQ 39.84375 48.1875 33.796875 48.1875 \nQ 26.515625 48.1875 22.3125 43.546875 \nQ 18.109375 38.921875 18.109375 30.90625 \nL 18.109375 0 \nL 9.078125 0 \nL 9.078125 54.6875 \nL 18.109375 54.6875 \nL 18.109375 46.1875 \nQ 21.34375 51.125 25.703125 53.5625 \nQ 30.078125 56 35.796875 56 \nQ 45.21875 56 50.046875 50.171875 \nQ 54.890625 44.34375 54.890625 33.015625 \nz\n\" id=\"DejaVuSans-110\"/>\n      <path d=\"M 45.40625 27.984375 \nQ 45.40625 37.75 41.375 43.109375 \nQ 37.359375 48.484375 30.078125 48.484375 \nQ 22.859375 48.484375 18.828125 43.109375 \nQ 14.796875 37.75 14.796875 27.984375 \nQ 14.796875 18.265625 18.828125 12.890625 \nQ 22.859375 7.515625 30.078125 7.515625 \nQ 37.359375 7.515625 41.375 12.890625 \nQ 45.40625 18.265625 45.40625 27.984375 \nz\nM 54.390625 6.78125 \nQ 54.390625 -7.171875 48.1875 -13.984375 \nQ 42 -20.796875 29.203125 -20.796875 \nQ 24.46875 -20.796875 20.265625 -20.09375 \nQ 16.0625 -19.390625 12.109375 -17.921875 \nL 12.109375 -9.1875 \nQ 16.0625 -11.328125 19.921875 -12.34375 \nQ 23.78125 -13.375 27.78125 -13.375 \nQ 36.625 -13.375 41.015625 -8.765625 \nQ 45.40625 -4.15625 45.40625 5.171875 \nL 45.40625 9.625 \nQ 42.625 4.78125 38.28125 2.390625 \nQ 33.9375 0 27.875 0 \nQ 17.828125 0 11.671875 7.65625 \nQ 5.515625 15.328125 5.515625 27.984375 \nQ 5.515625 40.671875 11.671875 48.328125 \nQ 17.828125 56 27.875 56 \nQ 33.9375 56 38.28125 53.609375 \nQ 42.625 51.21875 45.40625 46.390625 \nL 45.40625 54.6875 \nL 54.390625 54.6875 \nz\n\" id=\"DejaVuSans-103\"/>\n      <path d=\"M 44.28125 53.078125 \nL 44.28125 44.578125 \nQ 40.484375 46.53125 36.375 47.5 \nQ 32.28125 48.484375 27.875 48.484375 \nQ 21.1875 48.484375 17.84375 46.4375 \nQ 14.5 44.390625 14.5 40.28125 \nQ 14.5 37.15625 16.890625 35.375 \nQ 19.28125 33.59375 26.515625 31.984375 \nL 29.59375 31.296875 \nQ 39.15625 29.25 43.1875 25.515625 \nQ 47.21875 21.78125 47.21875 15.09375 \nQ 47.21875 7.46875 41.1875 3.015625 \nQ 35.15625 -1.421875 24.609375 -1.421875 \nQ 20.21875 -1.421875 15.453125 -0.5625 \nQ 10.6875 0.296875 5.421875 2 \nL 5.421875 11.28125 \nQ 10.40625 8.6875 15.234375 7.390625 \nQ 20.0625 6.109375 24.8125 6.109375 \nQ 31.15625 6.109375 34.5625 8.28125 \nQ 37.984375 10.453125 37.984375 14.40625 \nQ 37.984375 18.0625 35.515625 20.015625 \nQ 33.0625 21.96875 24.703125 23.78125 \nL 21.578125 24.515625 \nQ 13.234375 26.265625 9.515625 29.90625 \nQ 5.8125 33.546875 5.8125 39.890625 \nQ 5.8125 47.609375 11.28125 51.796875 \nQ 16.75 56 26.8125 56 \nQ 31.78125 56 36.171875 55.265625 \nQ 40.578125 54.546875 44.28125 53.078125 \nz\n\" id=\"DejaVuSans-115\"/>\n     </defs>\n     <g transform=\"translate(478.646094 322.394687)scale(0.1 -0.1)\">\n      <use xlink:href=\"#DejaVuSans-114\"/>\n      <use x=\"41.113281\" xlink:href=\"#DejaVuSans-97\"/>\n      <use x=\"102.392578\" xlink:href=\"#DejaVuSans-116\"/>\n      <use x=\"141.601562\" xlink:href=\"#DejaVuSans-105\"/>\n      <use x=\"169.384766\" xlink:href=\"#DejaVuSans-110\"/>\n      <use x=\"232.763672\" xlink:href=\"#DejaVuSans-103\"/>\n      <use x=\"296.240234\" xlink:href=\"#DejaVuSans-115\"/>\n     </g>\n    </g>\n   </g>\n   <g id=\"matplotlib.axis_2\">\n    <g id=\"ytick_1\">\n     <g id=\"line2d_6\">\n      <defs>\n       <path d=\"M 0 0 \nL -3.5 0 \n\" id=\"m04f68330b0\" style=\"stroke:#000000;stroke-width:0.8;\"/>\n      </defs>\n      <g>\n       <use style=\"stroke:#000000;stroke-width:0.8;\" x=\"272.8625\" xlink:href=\"#m04f68330b0\" y=\"35.908125\"/>\n      </g>\n     </g>\n     <g id=\"text_7\">\n      <!-- The Shawshank Redemption -->\n      <defs>\n       <path d=\"M -0.296875 72.90625 \nL 61.375 72.90625 \nL 61.375 64.59375 \nL 35.5 64.59375 \nL 35.5 0 \nL 25.59375 0 \nL 25.59375 64.59375 \nL -0.296875 64.59375 \nz\n\" id=\"DejaVuSans-84\"/>\n       <path d=\"M 54.890625 33.015625 \nL 54.890625 0 \nL 45.90625 0 \nL 45.90625 32.71875 \nQ 45.90625 40.484375 42.875 44.328125 \nQ 39.84375 48.1875 33.796875 48.1875 \nQ 26.515625 48.1875 22.3125 43.546875 \nQ 18.109375 38.921875 18.109375 30.90625 \nL 18.109375 0 \nL 9.078125 0 \nL 9.078125 75.984375 \nL 18.109375 75.984375 \nL 18.109375 46.1875 \nQ 21.34375 51.125 25.703125 53.5625 \nQ 30.078125 56 35.796875 56 \nQ 45.21875 56 50.046875 50.171875 \nQ 54.890625 44.34375 54.890625 33.015625 \nz\n\" id=\"DejaVuSans-104\"/>\n       <path d=\"M 56.203125 29.59375 \nL 56.203125 25.203125 \nL 14.890625 25.203125 \nQ 15.484375 15.921875 20.484375 11.0625 \nQ 25.484375 6.203125 34.421875 6.203125 \nQ 39.59375 6.203125 44.453125 7.46875 \nQ 49.3125 8.734375 54.109375 11.28125 \nL 54.109375 2.78125 \nQ 49.265625 0.734375 44.1875 -0.34375 \nQ 39.109375 -1.421875 33.890625 -1.421875 \nQ 20.796875 -1.421875 13.15625 6.1875 \nQ 5.515625 13.8125 5.515625 26.8125 \nQ 5.515625 40.234375 12.765625 48.109375 \nQ 20.015625 56 32.328125 56 \nQ 43.359375 56 49.78125 48.890625 \nQ 56.203125 41.796875 56.203125 29.59375 \nz\nM 47.21875 32.234375 \nQ 47.125 39.59375 43.09375 43.984375 \nQ 39.0625 48.390625 32.421875 48.390625 \nQ 24.90625 48.390625 20.390625 44.140625 \nQ 15.875 39.890625 15.1875 32.171875 \nz\n\" id=\"DejaVuSans-101\"/>\n       <path id=\"DejaVuSans-32\"/>\n       <path d=\"M 53.515625 70.515625 \nL 53.515625 60.890625 \nQ 47.90625 63.578125 42.921875 64.890625 \nQ 37.9375 66.21875 33.296875 66.21875 \nQ 25.25 66.21875 20.875 63.09375 \nQ 16.5 59.96875 16.5 54.203125 \nQ 16.5 49.359375 19.40625 46.890625 \nQ 22.3125 44.4375 30.421875 42.921875 \nL 36.375 41.703125 \nQ 47.40625 39.59375 52.65625 34.296875 \nQ 57.90625 29 57.90625 20.125 \nQ 57.90625 9.515625 50.796875 4.046875 \nQ 43.703125 -1.421875 29.984375 -1.421875 \nQ 24.8125 -1.421875 18.96875 -0.25 \nQ 13.140625 0.921875 6.890625 3.21875 \nL 6.890625 13.375 \nQ 12.890625 10.015625 18.65625 8.296875 \nQ 24.421875 6.59375 29.984375 6.59375 \nQ 38.421875 6.59375 43.015625 9.90625 \nQ 47.609375 13.234375 47.609375 19.390625 \nQ 47.609375 24.75 44.3125 27.78125 \nQ 41.015625 30.8125 33.5 32.328125 \nL 27.484375 33.5 \nQ 16.453125 35.6875 11.515625 40.375 \nQ 6.59375 45.0625 6.59375 53.421875 \nQ 6.59375 63.09375 13.40625 68.65625 \nQ 20.21875 74.21875 32.171875 74.21875 \nQ 37.3125 74.21875 42.625 73.28125 \nQ 47.953125 72.359375 53.515625 70.515625 \nz\n\" id=\"DejaVuSans-83\"/>\n       <path d=\"M 4.203125 54.6875 \nL 13.1875 54.6875 \nL 24.421875 12.015625 \nL 35.59375 54.6875 \nL 46.1875 54.6875 \nL 57.421875 12.015625 \nL 68.609375 54.6875 \nL 77.59375 54.6875 \nL 63.28125 0 \nL 52.6875 0 \nL 40.921875 44.828125 \nL 29.109375 0 \nL 18.5 0 \nz\n\" id=\"DejaVuSans-119\"/>\n       <path d=\"M 9.078125 75.984375 \nL 18.109375 75.984375 \nL 18.109375 31.109375 \nL 44.921875 54.6875 \nL 56.390625 54.6875 \nL 27.390625 29.109375 \nL 57.625 0 \nL 45.90625 0 \nL 18.109375 26.703125 \nL 18.109375 0 \nL 9.078125 0 \nz\n\" id=\"DejaVuSans-107\"/>\n       <path d=\"M 44.390625 34.1875 \nQ 47.5625 33.109375 50.5625 29.59375 \nQ 53.5625 26.078125 56.59375 19.921875 \nL 66.609375 0 \nL 56 0 \nL 46.6875 18.703125 \nQ 43.0625 26.03125 39.671875 28.421875 \nQ 36.28125 30.8125 30.421875 30.8125 \nL 19.671875 30.8125 \nL 19.671875 0 \nL 9.8125 0 \nL 9.8125 72.90625 \nL 32.078125 72.90625 \nQ 44.578125 72.90625 50.734375 67.671875 \nQ 56.890625 62.453125 56.890625 51.90625 \nQ 56.890625 45.015625 53.6875 40.46875 \nQ 50.484375 35.9375 44.390625 34.1875 \nz\nM 19.671875 64.796875 \nL 19.671875 38.921875 \nL 32.078125 38.921875 \nQ 39.203125 38.921875 42.84375 42.21875 \nQ 46.484375 45.515625 46.484375 51.90625 \nQ 46.484375 58.296875 42.84375 61.546875 \nQ 39.203125 64.796875 32.078125 64.796875 \nz\n\" id=\"DejaVuSans-82\"/>\n       <path d=\"M 45.40625 46.390625 \nL 45.40625 75.984375 \nL 54.390625 75.984375 \nL 54.390625 0 \nL 45.40625 0 \nL 45.40625 8.203125 \nQ 42.578125 3.328125 38.25 0.953125 \nQ 33.9375 -1.421875 27.875 -1.421875 \nQ 17.96875 -1.421875 11.734375 6.484375 \nQ 5.515625 14.40625 5.515625 27.296875 \nQ 5.515625 40.1875 11.734375 48.09375 \nQ 17.96875 56 27.875 56 \nQ 33.9375 56 38.25 53.625 \nQ 42.578125 51.265625 45.40625 46.390625 \nz\nM 14.796875 27.296875 \nQ 14.796875 17.390625 18.875 11.75 \nQ 22.953125 6.109375 30.078125 6.109375 \nQ 37.203125 6.109375 41.296875 11.75 \nQ 45.40625 17.390625 45.40625 27.296875 \nQ 45.40625 37.203125 41.296875 42.84375 \nQ 37.203125 48.484375 30.078125 48.484375 \nQ 22.953125 48.484375 18.875 42.84375 \nQ 14.796875 37.203125 14.796875 27.296875 \nz\n\" id=\"DejaVuSans-100\"/>\n       <path d=\"M 52 44.1875 \nQ 55.375 50.25 60.0625 53.125 \nQ 64.75 56 71.09375 56 \nQ 79.640625 56 84.28125 50.015625 \nQ 88.921875 44.046875 88.921875 33.015625 \nL 88.921875 0 \nL 79.890625 0 \nL 79.890625 32.71875 \nQ 79.890625 40.578125 77.09375 44.375 \nQ 74.3125 48.1875 68.609375 48.1875 \nQ 61.625 48.1875 57.5625 43.546875 \nQ 53.515625 38.921875 53.515625 30.90625 \nL 53.515625 0 \nL 44.484375 0 \nL 44.484375 32.71875 \nQ 44.484375 40.625 41.703125 44.40625 \nQ 38.921875 48.1875 33.109375 48.1875 \nQ 26.21875 48.1875 22.15625 43.53125 \nQ 18.109375 38.875 18.109375 30.90625 \nL 18.109375 0 \nL 9.078125 0 \nL 9.078125 54.6875 \nL 18.109375 54.6875 \nL 18.109375 46.1875 \nQ 21.1875 51.21875 25.484375 53.609375 \nQ 29.78125 56 35.6875 56 \nQ 41.65625 56 45.828125 52.96875 \nQ 50 49.953125 52 44.1875 \nz\n\" id=\"DejaVuSans-109\"/>\n       <path d=\"M 18.109375 8.203125 \nL 18.109375 -20.796875 \nL 9.078125 -20.796875 \nL 9.078125 54.6875 \nL 18.109375 54.6875 \nL 18.109375 46.390625 \nQ 20.953125 51.265625 25.265625 53.625 \nQ 29.59375 56 35.59375 56 \nQ 45.5625 56 51.78125 48.09375 \nQ 58.015625 40.1875 58.015625 27.296875 \nQ 58.015625 14.40625 51.78125 6.484375 \nQ 45.5625 -1.421875 35.59375 -1.421875 \nQ 29.59375 -1.421875 25.265625 0.953125 \nQ 20.953125 3.328125 18.109375 8.203125 \nz\nM 48.6875 27.296875 \nQ 48.6875 37.203125 44.609375 42.84375 \nQ 40.53125 48.484375 33.40625 48.484375 \nQ 26.265625 48.484375 22.1875 42.84375 \nQ 18.109375 37.203125 18.109375 27.296875 \nQ 18.109375 17.390625 22.1875 11.75 \nQ 26.265625 6.109375 33.40625 6.109375 \nQ 40.53125 6.109375 44.609375 11.75 \nQ 48.6875 17.390625 48.6875 27.296875 \nz\n\" id=\"DejaVuSans-112\"/>\n       <path d=\"M 30.609375 48.390625 \nQ 23.390625 48.390625 19.1875 42.75 \nQ 14.984375 37.109375 14.984375 27.296875 \nQ 14.984375 17.484375 19.15625 11.84375 \nQ 23.34375 6.203125 30.609375 6.203125 \nQ 37.796875 6.203125 41.984375 11.859375 \nQ 46.1875 17.53125 46.1875 27.296875 \nQ 46.1875 37.015625 41.984375 42.703125 \nQ 37.796875 48.390625 30.609375 48.390625 \nz\nM 30.609375 56 \nQ 42.328125 56 49.015625 48.375 \nQ 55.71875 40.765625 55.71875 27.296875 \nQ 55.71875 13.875 49.015625 6.21875 \nQ 42.328125 -1.421875 30.609375 -1.421875 \nQ 18.84375 -1.421875 12.171875 6.21875 \nQ 5.515625 13.875 5.515625 27.296875 \nQ 5.515625 40.765625 12.171875 48.375 \nQ 18.84375 56 30.609375 56 \nz\n\" id=\"DejaVuSans-111\"/>\n      </defs>\n      <g transform=\"translate(123.715625 39.707344)scale(0.1 -0.1)\">\n       <use xlink:href=\"#DejaVuSans-84\"/>\n       <use x=\"61.083984\" xlink:href=\"#DejaVuSans-104\"/>\n       <use x=\"124.462891\" xlink:href=\"#DejaVuSans-101\"/>\n       <use x=\"185.986328\" xlink:href=\"#DejaVuSans-32\"/>\n       <use x=\"217.773438\" xlink:href=\"#DejaVuSans-83\"/>\n       <use x=\"281.25\" xlink:href=\"#DejaVuSans-104\"/>\n       <use x=\"344.628906\" xlink:href=\"#DejaVuSans-97\"/>\n       <use x=\"405.908203\" xlink:href=\"#DejaVuSans-119\"/>\n       <use x=\"487.695312\" xlink:href=\"#DejaVuSans-115\"/>\n       <use x=\"539.794922\" xlink:href=\"#DejaVuSans-104\"/>\n       <use x=\"603.173828\" xlink:href=\"#DejaVuSans-97\"/>\n       <use x=\"664.453125\" xlink:href=\"#DejaVuSans-110\"/>\n       <use x=\"727.832031\" xlink:href=\"#DejaVuSans-107\"/>\n       <use x=\"785.742188\" xlink:href=\"#DejaVuSans-32\"/>\n       <use x=\"817.529297\" xlink:href=\"#DejaVuSans-82\"/>\n       <use x=\"882.511719\" xlink:href=\"#DejaVuSans-101\"/>\n       <use x=\"944.035156\" xlink:href=\"#DejaVuSans-100\"/>\n       <use x=\"1007.511719\" xlink:href=\"#DejaVuSans-101\"/>\n       <use x=\"1069.035156\" xlink:href=\"#DejaVuSans-109\"/>\n       <use x=\"1166.447266\" xlink:href=\"#DejaVuSans-112\"/>\n       <use x=\"1229.923828\" xlink:href=\"#DejaVuSans-116\"/>\n       <use x=\"1269.132812\" xlink:href=\"#DejaVuSans-105\"/>\n       <use x=\"1296.916016\" xlink:href=\"#DejaVuSans-111\"/>\n       <use x=\"1358.097656\" xlink:href=\"#DejaVuSans-110\"/>\n      </g>\n     </g>\n    </g>\n    <g id=\"ytick_2\">\n     <g id=\"line2d_7\">\n      <g>\n       <use style=\"stroke:#000000;stroke-width:0.8;\" x=\"272.8625\" xlink:href=\"#m04f68330b0\" y=\"63.088125\"/>\n      </g>\n     </g>\n     <g id=\"text_8\">\n      <!-- The Godfather -->\n      <defs>\n       <path d=\"M 59.515625 10.40625 \nL 59.515625 29.984375 \nL 43.40625 29.984375 \nL 43.40625 38.09375 \nL 69.28125 38.09375 \nL 69.28125 6.78125 \nQ 63.578125 2.734375 56.6875 0.65625 \nQ 49.8125 -1.421875 42 -1.421875 \nQ 24.90625 -1.421875 15.25 8.5625 \nQ 5.609375 18.5625 5.609375 36.375 \nQ 5.609375 54.25 15.25 64.234375 \nQ 24.90625 74.21875 42 74.21875 \nQ 49.125 74.21875 55.546875 72.453125 \nQ 61.96875 70.703125 67.390625 67.28125 \nL 67.390625 56.78125 \nQ 61.921875 61.421875 55.765625 63.765625 \nQ 49.609375 66.109375 42.828125 66.109375 \nQ 29.4375 66.109375 22.71875 58.640625 \nQ 16.015625 51.171875 16.015625 36.375 \nQ 16.015625 21.625 22.71875 14.15625 \nQ 29.4375 6.6875 42.828125 6.6875 \nQ 48.046875 6.6875 52.140625 7.59375 \nQ 56.25 8.5 59.515625 10.40625 \nz\n\" id=\"DejaVuSans-71\"/>\n       <path d=\"M 37.109375 75.984375 \nL 37.109375 68.5 \nL 28.515625 68.5 \nQ 23.6875 68.5 21.796875 66.546875 \nQ 19.921875 64.59375 19.921875 59.515625 \nL 19.921875 54.6875 \nL 34.71875 54.6875 \nL 34.71875 47.703125 \nL 19.921875 47.703125 \nL 19.921875 0 \nL 10.890625 0 \nL 10.890625 47.703125 \nL 2.296875 47.703125 \nL 2.296875 54.6875 \nL 10.890625 54.6875 \nL 10.890625 58.5 \nQ 10.890625 67.625 15.140625 71.796875 \nQ 19.390625 75.984375 28.609375 75.984375 \nz\n\" id=\"DejaVuSans-102\"/>\n      </defs>\n      <g transform=\"translate(193.7 66.887344)scale(0.1 -0.1)\">\n       <use xlink:href=\"#DejaVuSans-84\"/>\n       <use x=\"61.083984\" xlink:href=\"#DejaVuSans-104\"/>\n       <use x=\"124.462891\" xlink:href=\"#DejaVuSans-101\"/>\n       <use x=\"185.986328\" xlink:href=\"#DejaVuSans-32\"/>\n       <use x=\"217.773438\" xlink:href=\"#DejaVuSans-71\"/>\n       <use x=\"295.263672\" xlink:href=\"#DejaVuSans-111\"/>\n       <use x=\"356.445312\" xlink:href=\"#DejaVuSans-100\"/>\n       <use x=\"419.921875\" xlink:href=\"#DejaVuSans-102\"/>\n       <use x=\"455.126953\" xlink:href=\"#DejaVuSans-97\"/>\n       <use x=\"516.40625\" xlink:href=\"#DejaVuSans-116\"/>\n       <use x=\"555.615234\" xlink:href=\"#DejaVuSans-104\"/>\n       <use x=\"618.994141\" xlink:href=\"#DejaVuSans-101\"/>\n       <use x=\"680.517578\" xlink:href=\"#DejaVuSans-114\"/>\n      </g>\n     </g>\n    </g>\n    <g id=\"ytick_3\">\n     <g id=\"line2d_8\">\n      <g>\n       <use style=\"stroke:#000000;stroke-width:0.8;\" x=\"272.8625\" xlink:href=\"#m04f68330b0\" y=\"90.268125\"/>\n      </g>\n     </g>\n     <g id=\"text_9\">\n      <!-- The Dark Knight -->\n      <defs>\n       <path d=\"M 19.671875 64.796875 \nL 19.671875 8.109375 \nL 31.59375 8.109375 \nQ 46.6875 8.109375 53.6875 14.9375 \nQ 60.6875 21.78125 60.6875 36.53125 \nQ 60.6875 51.171875 53.6875 57.984375 \nQ 46.6875 64.796875 31.59375 64.796875 \nz\nM 9.8125 72.90625 \nL 30.078125 72.90625 \nQ 51.265625 72.90625 61.171875 64.09375 \nQ 71.09375 55.28125 71.09375 36.53125 \nQ 71.09375 17.671875 61.125 8.828125 \nQ 51.171875 0 30.078125 0 \nL 9.8125 0 \nz\n\" id=\"DejaVuSans-68\"/>\n       <path d=\"M 9.8125 72.90625 \nL 19.671875 72.90625 \nL 19.671875 42.09375 \nL 52.390625 72.90625 \nL 65.09375 72.90625 \nL 28.90625 38.921875 \nL 67.671875 0 \nL 54.6875 0 \nL 19.671875 35.109375 \nL 19.671875 0 \nL 9.8125 0 \nz\n\" id=\"DejaVuSans-75\"/>\n      </defs>\n      <g transform=\"translate(184.898437 94.067344)scale(0.1 -0.1)\">\n       <use xlink:href=\"#DejaVuSans-84\"/>\n       <use x=\"61.083984\" xlink:href=\"#DejaVuSans-104\"/>\n       <use x=\"124.462891\" xlink:href=\"#DejaVuSans-101\"/>\n       <use x=\"185.986328\" xlink:href=\"#DejaVuSans-32\"/>\n       <use x=\"217.773438\" xlink:href=\"#DejaVuSans-68\"/>\n       <use x=\"294.775391\" xlink:href=\"#DejaVuSans-97\"/>\n       <use x=\"356.054688\" xlink:href=\"#DejaVuSans-114\"/>\n       <use x=\"397.167969\" xlink:href=\"#DejaVuSans-107\"/>\n       <use x=\"455.078125\" xlink:href=\"#DejaVuSans-32\"/>\n       <use x=\"486.865234\" xlink:href=\"#DejaVuSans-75\"/>\n       <use x=\"552.441406\" xlink:href=\"#DejaVuSans-110\"/>\n       <use x=\"615.820312\" xlink:href=\"#DejaVuSans-105\"/>\n       <use x=\"643.603516\" xlink:href=\"#DejaVuSans-103\"/>\n       <use x=\"707.080078\" xlink:href=\"#DejaVuSans-104\"/>\n       <use x=\"770.458984\" xlink:href=\"#DejaVuSans-116\"/>\n      </g>\n     </g>\n    </g>\n    <g id=\"ytick_4\">\n     <g id=\"line2d_9\">\n      <g>\n       <use style=\"stroke:#000000;stroke-width:0.8;\" x=\"272.8625\" xlink:href=\"#m04f68330b0\" y=\"117.448125\"/>\n      </g>\n     </g>\n     <g id=\"text_10\">\n      <!-- The Godfather Part II -->\n      <defs>\n       <path d=\"M 19.671875 64.796875 \nL 19.671875 37.40625 \nL 32.078125 37.40625 \nQ 38.96875 37.40625 42.71875 40.96875 \nQ 46.484375 44.53125 46.484375 51.125 \nQ 46.484375 57.671875 42.71875 61.234375 \nQ 38.96875 64.796875 32.078125 64.796875 \nz\nM 9.8125 72.90625 \nL 32.078125 72.90625 \nQ 44.34375 72.90625 50.609375 67.359375 \nQ 56.890625 61.8125 56.890625 51.125 \nQ 56.890625 40.328125 50.609375 34.8125 \nQ 44.34375 29.296875 32.078125 29.296875 \nL 19.671875 29.296875 \nL 19.671875 0 \nL 9.8125 0 \nz\n\" id=\"DejaVuSans-80\"/>\n       <path d=\"M 9.8125 72.90625 \nL 19.671875 72.90625 \nL 19.671875 0 \nL 9.8125 0 \nz\n\" id=\"DejaVuSans-73\"/>\n      </defs>\n      <g transform=\"translate(161.704687 121.247344)scale(0.1 -0.1)\">\n       <use xlink:href=\"#DejaVuSans-84\"/>\n       <use x=\"61.083984\" xlink:href=\"#DejaVuSans-104\"/>\n       <use x=\"124.462891\" xlink:href=\"#DejaVuSans-101\"/>\n       <use x=\"185.986328\" xlink:href=\"#DejaVuSans-32\"/>\n       <use x=\"217.773438\" xlink:href=\"#DejaVuSans-71\"/>\n       <use x=\"295.263672\" xlink:href=\"#DejaVuSans-111\"/>\n       <use x=\"356.445312\" xlink:href=\"#DejaVuSans-100\"/>\n       <use x=\"419.921875\" xlink:href=\"#DejaVuSans-102\"/>\n       <use x=\"455.126953\" xlink:href=\"#DejaVuSans-97\"/>\n       <use x=\"516.40625\" xlink:href=\"#DejaVuSans-116\"/>\n       <use x=\"555.615234\" xlink:href=\"#DejaVuSans-104\"/>\n       <use x=\"618.994141\" xlink:href=\"#DejaVuSans-101\"/>\n       <use x=\"680.517578\" xlink:href=\"#DejaVuSans-114\"/>\n       <use x=\"721.630859\" xlink:href=\"#DejaVuSans-32\"/>\n       <use x=\"753.417969\" xlink:href=\"#DejaVuSans-80\"/>\n       <use x=\"809.220703\" xlink:href=\"#DejaVuSans-97\"/>\n       <use x=\"870.5\" xlink:href=\"#DejaVuSans-114\"/>\n       <use x=\"911.613281\" xlink:href=\"#DejaVuSans-116\"/>\n       <use x=\"950.822266\" xlink:href=\"#DejaVuSans-32\"/>\n       <use x=\"982.609375\" xlink:href=\"#DejaVuSans-73\"/>\n       <use x=\"1012.101562\" xlink:href=\"#DejaVuSans-73\"/>\n      </g>\n     </g>\n    </g>\n    <g id=\"ytick_5\">\n     <g id=\"line2d_10\">\n      <g>\n       <use style=\"stroke:#000000;stroke-width:0.8;\" x=\"272.8625\" xlink:href=\"#m04f68330b0\" y=\"144.628125\"/>\n      </g>\n     </g>\n     <g id=\"text_11\">\n      <!-- 12 Angry Men -->\n      <defs>\n       <path d=\"M 12.40625 8.296875 \nL 28.515625 8.296875 \nL 28.515625 63.921875 \nL 10.984375 60.40625 \nL 10.984375 69.390625 \nL 28.421875 72.90625 \nL 38.28125 72.90625 \nL 38.28125 8.296875 \nL 54.390625 8.296875 \nL 54.390625 0 \nL 12.40625 0 \nz\n\" id=\"DejaVuSans-49\"/>\n       <path d=\"M 34.1875 63.1875 \nL 20.796875 26.90625 \nL 47.609375 26.90625 \nz\nM 28.609375 72.90625 \nL 39.796875 72.90625 \nL 67.578125 0 \nL 57.328125 0 \nL 50.6875 18.703125 \nL 17.828125 18.703125 \nL 11.1875 0 \nL 0.78125 0 \nz\n\" id=\"DejaVuSans-65\"/>\n       <path d=\"M 32.171875 -5.078125 \nQ 28.375 -14.84375 24.75 -17.8125 \nQ 21.140625 -20.796875 15.09375 -20.796875 \nL 7.90625 -20.796875 \nL 7.90625 -13.28125 \nL 13.1875 -13.28125 \nQ 16.890625 -13.28125 18.9375 -11.515625 \nQ 21 -9.765625 23.484375 -3.21875 \nL 25.09375 0.875 \nL 2.984375 54.6875 \nL 12.5 54.6875 \nL 29.59375 11.921875 \nL 46.6875 54.6875 \nL 56.203125 54.6875 \nz\n\" id=\"DejaVuSans-121\"/>\n       <path d=\"M 9.8125 72.90625 \nL 24.515625 72.90625 \nL 43.109375 23.296875 \nL 61.8125 72.90625 \nL 76.515625 72.90625 \nL 76.515625 0 \nL 66.890625 0 \nL 66.890625 64.015625 \nL 48.09375 14.015625 \nL 38.1875 14.015625 \nL 19.390625 64.015625 \nL 19.390625 0 \nL 9.8125 0 \nz\n\" id=\"DejaVuSans-77\"/>\n      </defs>\n      <g transform=\"translate(196.10625 148.427344)scale(0.1 -0.1)\">\n       <use xlink:href=\"#DejaVuSans-49\"/>\n       <use x=\"63.623047\" xlink:href=\"#DejaVuSans-50\"/>\n       <use x=\"127.246094\" xlink:href=\"#DejaVuSans-32\"/>\n       <use x=\"159.033203\" xlink:href=\"#DejaVuSans-65\"/>\n       <use x=\"227.441406\" xlink:href=\"#DejaVuSans-110\"/>\n       <use x=\"290.820312\" xlink:href=\"#DejaVuSans-103\"/>\n       <use x=\"354.296875\" xlink:href=\"#DejaVuSans-114\"/>\n       <use x=\"395.410156\" xlink:href=\"#DejaVuSans-121\"/>\n       <use x=\"454.589844\" xlink:href=\"#DejaVuSans-32\"/>\n       <use x=\"486.376953\" xlink:href=\"#DejaVuSans-77\"/>\n       <use x=\"572.65625\" xlink:href=\"#DejaVuSans-101\"/>\n       <use x=\"634.179688\" xlink:href=\"#DejaVuSans-110\"/>\n      </g>\n     </g>\n    </g>\n    <g id=\"ytick_6\">\n     <g id=\"line2d_11\">\n      <g>\n       <use style=\"stroke:#000000;stroke-width:0.8;\" x=\"272.8625\" xlink:href=\"#m04f68330b0\" y=\"171.808125\"/>\n      </g>\n     </g>\n     <g id=\"text_12\">\n      <!-- Schindler's List -->\n      <defs>\n       <path d=\"M 48.78125 52.59375 \nL 48.78125 44.1875 \nQ 44.96875 46.296875 41.140625 47.34375 \nQ 37.3125 48.390625 33.40625 48.390625 \nQ 24.65625 48.390625 19.8125 42.84375 \nQ 14.984375 37.3125 14.984375 27.296875 \nQ 14.984375 17.28125 19.8125 11.734375 \nQ 24.65625 6.203125 33.40625 6.203125 \nQ 37.3125 6.203125 41.140625 7.25 \nQ 44.96875 8.296875 48.78125 10.40625 \nL 48.78125 2.09375 \nQ 45.015625 0.34375 40.984375 -0.53125 \nQ 36.96875 -1.421875 32.421875 -1.421875 \nQ 20.0625 -1.421875 12.78125 6.34375 \nQ 5.515625 14.109375 5.515625 27.296875 \nQ 5.515625 40.671875 12.859375 48.328125 \nQ 20.21875 56 33.015625 56 \nQ 37.15625 56 41.109375 55.140625 \nQ 45.0625 54.296875 48.78125 52.59375 \nz\n\" id=\"DejaVuSans-99\"/>\n       <path d=\"M 9.421875 75.984375 \nL 18.40625 75.984375 \nL 18.40625 0 \nL 9.421875 0 \nz\n\" id=\"DejaVuSans-108\"/>\n       <path d=\"M 17.921875 72.90625 \nL 17.921875 45.796875 \nL 9.625 45.796875 \nL 9.625 72.90625 \nz\n\" id=\"DejaVuSans-39\"/>\n       <path d=\"M 9.8125 72.90625 \nL 19.671875 72.90625 \nL 19.671875 8.296875 \nL 55.171875 8.296875 \nL 55.171875 0 \nL 9.8125 0 \nz\n\" id=\"DejaVuSans-76\"/>\n      </defs>\n      <g transform=\"translate(190.55625 175.607344)scale(0.1 -0.1)\">\n       <use xlink:href=\"#DejaVuSans-83\"/>\n       <use x=\"63.476562\" xlink:href=\"#DejaVuSans-99\"/>\n       <use x=\"118.457031\" xlink:href=\"#DejaVuSans-104\"/>\n       <use x=\"181.835938\" xlink:href=\"#DejaVuSans-105\"/>\n       <use x=\"209.619141\" xlink:href=\"#DejaVuSans-110\"/>\n       <use x=\"272.998047\" xlink:href=\"#DejaVuSans-100\"/>\n       <use x=\"336.474609\" xlink:href=\"#DejaVuSans-108\"/>\n       <use x=\"364.257812\" xlink:href=\"#DejaVuSans-101\"/>\n       <use x=\"425.78125\" xlink:href=\"#DejaVuSans-114\"/>\n       <use x=\"466.894531\" xlink:href=\"#DejaVuSans-39\"/>\n       <use x=\"494.384766\" xlink:href=\"#DejaVuSans-115\"/>\n       <use x=\"546.484375\" xlink:href=\"#DejaVuSans-32\"/>\n       <use x=\"578.271484\" xlink:href=\"#DejaVuSans-76\"/>\n       <use x=\"633.984375\" xlink:href=\"#DejaVuSans-105\"/>\n       <use x=\"661.767578\" xlink:href=\"#DejaVuSans-115\"/>\n       <use x=\"713.867188\" xlink:href=\"#DejaVuSans-116\"/>\n      </g>\n     </g>\n    </g>\n    <g id=\"ytick_7\">\n     <g id=\"line2d_12\">\n      <g>\n       <use style=\"stroke:#000000;stroke-width:0.8;\" x=\"272.8625\" xlink:href=\"#m04f68330b0\" y=\"198.988125\"/>\n      </g>\n     </g>\n     <g id=\"text_13\">\n      <!-- The Lord of the Rings: The Return of the King -->\n      <defs>\n       <path d=\"M 11.71875 12.40625 \nL 22.015625 12.40625 \nL 22.015625 0 \nL 11.71875 0 \nz\nM 11.71875 51.703125 \nL 22.015625 51.703125 \nL 22.015625 39.3125 \nL 11.71875 39.3125 \nz\n\" id=\"DejaVuSans-58\"/>\n       <path d=\"M 8.5 21.578125 \nL 8.5 54.6875 \nL 17.484375 54.6875 \nL 17.484375 21.921875 \nQ 17.484375 14.15625 20.5 10.265625 \nQ 23.53125 6.390625 29.59375 6.390625 \nQ 36.859375 6.390625 41.078125 11.03125 \nQ 45.3125 15.671875 45.3125 23.6875 \nL 45.3125 54.6875 \nL 54.296875 54.6875 \nL 54.296875 0 \nL 45.3125 0 \nL 45.3125 8.40625 \nQ 42.046875 3.421875 37.71875 1 \nQ 33.40625 -1.421875 27.6875 -1.421875 \nQ 18.265625 -1.421875 13.375 4.4375 \nQ 8.5 10.296875 8.5 21.578125 \nz\nM 31.109375 56 \nz\n\" id=\"DejaVuSans-117\"/>\n      </defs>\n      <g transform=\"translate(39.967187 202.787344)scale(0.1 -0.1)\">\n       <use xlink:href=\"#DejaVuSans-84\"/>\n       <use x=\"61.083984\" xlink:href=\"#DejaVuSans-104\"/>\n       <use x=\"124.462891\" xlink:href=\"#DejaVuSans-101\"/>\n       <use x=\"185.986328\" xlink:href=\"#DejaVuSans-32\"/>\n       <use x=\"217.773438\" xlink:href=\"#DejaVuSans-76\"/>\n       <use x=\"271.736328\" xlink:href=\"#DejaVuSans-111\"/>\n       <use x=\"332.917969\" xlink:href=\"#DejaVuSans-114\"/>\n       <use x=\"372.28125\" xlink:href=\"#DejaVuSans-100\"/>\n       <use x=\"435.757812\" xlink:href=\"#DejaVuSans-32\"/>\n       <use x=\"467.544922\" xlink:href=\"#DejaVuSans-111\"/>\n       <use x=\"528.726562\" xlink:href=\"#DejaVuSans-102\"/>\n       <use x=\"563.931641\" xlink:href=\"#DejaVuSans-32\"/>\n       <use x=\"595.71875\" xlink:href=\"#DejaVuSans-116\"/>\n       <use x=\"634.927734\" xlink:href=\"#DejaVuSans-104\"/>\n       <use x=\"698.306641\" xlink:href=\"#DejaVuSans-101\"/>\n       <use x=\"759.830078\" xlink:href=\"#DejaVuSans-32\"/>\n       <use x=\"791.617188\" xlink:href=\"#DejaVuSans-82\"/>\n       <use x=\"861.099609\" xlink:href=\"#DejaVuSans-105\"/>\n       <use x=\"888.882812\" xlink:href=\"#DejaVuSans-110\"/>\n       <use x=\"952.261719\" xlink:href=\"#DejaVuSans-103\"/>\n       <use x=\"1015.738281\" xlink:href=\"#DejaVuSans-115\"/>\n       <use x=\"1067.837891\" xlink:href=\"#DejaVuSans-58\"/>\n       <use x=\"1101.529297\" xlink:href=\"#DejaVuSans-32\"/>\n       <use x=\"1133.316406\" xlink:href=\"#DejaVuSans-84\"/>\n       <use x=\"1194.400391\" xlink:href=\"#DejaVuSans-104\"/>\n       <use x=\"1257.779297\" xlink:href=\"#DejaVuSans-101\"/>\n       <use x=\"1319.302734\" xlink:href=\"#DejaVuSans-32\"/>\n       <use x=\"1351.089844\" xlink:href=\"#DejaVuSans-82\"/>\n       <use x=\"1416.072266\" xlink:href=\"#DejaVuSans-101\"/>\n       <use x=\"1477.595703\" xlink:href=\"#DejaVuSans-116\"/>\n       <use x=\"1516.804688\" xlink:href=\"#DejaVuSans-117\"/>\n       <use x=\"1580.183594\" xlink:href=\"#DejaVuSans-114\"/>\n       <use x=\"1619.546875\" xlink:href=\"#DejaVuSans-110\"/>\n       <use x=\"1682.925781\" xlink:href=\"#DejaVuSans-32\"/>\n       <use x=\"1714.712891\" xlink:href=\"#DejaVuSans-111\"/>\n       <use x=\"1775.894531\" xlink:href=\"#DejaVuSans-102\"/>\n       <use x=\"1811.099609\" xlink:href=\"#DejaVuSans-32\"/>\n       <use x=\"1842.886719\" xlink:href=\"#DejaVuSans-116\"/>\n       <use x=\"1882.095703\" xlink:href=\"#DejaVuSans-104\"/>\n       <use x=\"1945.474609\" xlink:href=\"#DejaVuSans-101\"/>\n       <use x=\"2006.998047\" xlink:href=\"#DejaVuSans-32\"/>\n       <use x=\"2038.785156\" xlink:href=\"#DejaVuSans-75\"/>\n       <use x=\"2104.361328\" xlink:href=\"#DejaVuSans-105\"/>\n       <use x=\"2132.144531\" xlink:href=\"#DejaVuSans-110\"/>\n       <use x=\"2195.523438\" xlink:href=\"#DejaVuSans-103\"/>\n      </g>\n     </g>\n    </g>\n    <g id=\"ytick_8\">\n     <g id=\"line2d_13\">\n      <g>\n       <use style=\"stroke:#000000;stroke-width:0.8;\" x=\"272.8625\" xlink:href=\"#m04f68330b0\" y=\"226.168125\"/>\n      </g>\n     </g>\n     <g id=\"text_14\">\n      <!-- Pulp Fiction -->\n      <defs>\n       <path d=\"M 9.8125 72.90625 \nL 51.703125 72.90625 \nL 51.703125 64.59375 \nL 19.671875 64.59375 \nL 19.671875 43.109375 \nL 48.578125 43.109375 \nL 48.578125 34.8125 \nL 19.671875 34.8125 \nL 19.671875 0 \nL 9.8125 0 \nz\n\" id=\"DejaVuSans-70\"/>\n      </defs>\n      <g transform=\"translate(208.907812 229.967344)scale(0.1 -0.1)\">\n       <use xlink:href=\"#DejaVuSans-80\"/>\n       <use x=\"58.552734\" xlink:href=\"#DejaVuSans-117\"/>\n       <use x=\"121.931641\" xlink:href=\"#DejaVuSans-108\"/>\n       <use x=\"149.714844\" xlink:href=\"#DejaVuSans-112\"/>\n       <use x=\"213.191406\" xlink:href=\"#DejaVuSans-32\"/>\n       <use x=\"244.978516\" xlink:href=\"#DejaVuSans-70\"/>\n       <use x=\"295.248047\" xlink:href=\"#DejaVuSans-105\"/>\n       <use x=\"323.03125\" xlink:href=\"#DejaVuSans-99\"/>\n       <use x=\"378.011719\" xlink:href=\"#DejaVuSans-116\"/>\n       <use x=\"417.220703\" xlink:href=\"#DejaVuSans-105\"/>\n       <use x=\"445.003906\" xlink:href=\"#DejaVuSans-111\"/>\n       <use x=\"506.185547\" xlink:href=\"#DejaVuSans-110\"/>\n      </g>\n     </g>\n    </g>\n    <g id=\"ytick_9\">\n     <g id=\"line2d_14\">\n      <g>\n       <use style=\"stroke:#000000;stroke-width:0.8;\" x=\"272.8625\" xlink:href=\"#m04f68330b0\" y=\"253.348125\"/>\n      </g>\n     </g>\n     <g id=\"text_15\">\n      <!-- The Lord of the Rings: The Fellowship of the Ring -->\n      <g transform=\"translate(20.878125 257.147344)scale(0.1 -0.1)\">\n       <use xlink:href=\"#DejaVuSans-84\"/>\n       <use x=\"61.083984\" xlink:href=\"#DejaVuSans-104\"/>\n       <use x=\"124.462891\" xlink:href=\"#DejaVuSans-101\"/>\n       <use x=\"185.986328\" xlink:href=\"#DejaVuSans-32\"/>\n       <use x=\"217.773438\" xlink:href=\"#DejaVuSans-76\"/>\n       <use x=\"271.736328\" xlink:href=\"#DejaVuSans-111\"/>\n       <use x=\"332.917969\" xlink:href=\"#DejaVuSans-114\"/>\n       <use x=\"372.28125\" xlink:href=\"#DejaVuSans-100\"/>\n       <use x=\"435.757812\" xlink:href=\"#DejaVuSans-32\"/>\n       <use x=\"467.544922\" xlink:href=\"#DejaVuSans-111\"/>\n       <use x=\"528.726562\" xlink:href=\"#DejaVuSans-102\"/>\n       <use x=\"563.931641\" xlink:href=\"#DejaVuSans-32\"/>\n       <use x=\"595.71875\" xlink:href=\"#DejaVuSans-116\"/>\n       <use x=\"634.927734\" xlink:href=\"#DejaVuSans-104\"/>\n       <use x=\"698.306641\" xlink:href=\"#DejaVuSans-101\"/>\n       <use x=\"759.830078\" xlink:href=\"#DejaVuSans-32\"/>\n       <use x=\"791.617188\" xlink:href=\"#DejaVuSans-82\"/>\n       <use x=\"861.099609\" xlink:href=\"#DejaVuSans-105\"/>\n       <use x=\"888.882812\" xlink:href=\"#DejaVuSans-110\"/>\n       <use x=\"952.261719\" xlink:href=\"#DejaVuSans-103\"/>\n       <use x=\"1015.738281\" xlink:href=\"#DejaVuSans-115\"/>\n       <use x=\"1067.837891\" xlink:href=\"#DejaVuSans-58\"/>\n       <use x=\"1101.529297\" xlink:href=\"#DejaVuSans-32\"/>\n       <use x=\"1133.316406\" xlink:href=\"#DejaVuSans-84\"/>\n       <use x=\"1194.400391\" xlink:href=\"#DejaVuSans-104\"/>\n       <use x=\"1257.779297\" xlink:href=\"#DejaVuSans-101\"/>\n       <use x=\"1319.302734\" xlink:href=\"#DejaVuSans-32\"/>\n       <use x=\"1351.089844\" xlink:href=\"#DejaVuSans-70\"/>\n       <use x=\"1403.109375\" xlink:href=\"#DejaVuSans-101\"/>\n       <use x=\"1464.632812\" xlink:href=\"#DejaVuSans-108\"/>\n       <use x=\"1492.416016\" xlink:href=\"#DejaVuSans-108\"/>\n       <use x=\"1520.199219\" xlink:href=\"#DejaVuSans-111\"/>\n       <use x=\"1581.380859\" xlink:href=\"#DejaVuSans-119\"/>\n       <use x=\"1663.167969\" xlink:href=\"#DejaVuSans-115\"/>\n       <use x=\"1715.267578\" xlink:href=\"#DejaVuSans-104\"/>\n       <use x=\"1778.646484\" xlink:href=\"#DejaVuSans-105\"/>\n       <use x=\"1806.429688\" xlink:href=\"#DejaVuSans-112\"/>\n       <use x=\"1869.90625\" xlink:href=\"#DejaVuSans-32\"/>\n       <use x=\"1901.693359\" xlink:href=\"#DejaVuSans-111\"/>\n       <use x=\"1962.875\" xlink:href=\"#DejaVuSans-102\"/>\n       <use x=\"1998.080078\" xlink:href=\"#DejaVuSans-32\"/>\n       <use x=\"2029.867188\" xlink:href=\"#DejaVuSans-116\"/>\n       <use x=\"2069.076172\" xlink:href=\"#DejaVuSans-104\"/>\n       <use x=\"2132.455078\" xlink:href=\"#DejaVuSans-101\"/>\n       <use x=\"2193.978516\" xlink:href=\"#DejaVuSans-32\"/>\n       <use x=\"2225.765625\" xlink:href=\"#DejaVuSans-82\"/>\n       <use x=\"2295.248047\" xlink:href=\"#DejaVuSans-105\"/>\n       <use x=\"2323.03125\" xlink:href=\"#DejaVuSans-110\"/>\n       <use x=\"2386.410156\" xlink:href=\"#DejaVuSans-103\"/>\n      </g>\n     </g>\n    </g>\n    <g id=\"ytick_10\">\n     <g id=\"line2d_15\">\n      <g>\n       <use style=\"stroke:#000000;stroke-width:0.8;\" x=\"272.8625\" xlink:href=\"#m04f68330b0\" y=\"280.528125\"/>\n      </g>\n     </g>\n     <g id=\"text_16\">\n      <!-- The Good, the Bad and the Ugly -->\n      <defs>\n       <path d=\"M 11.71875 12.40625 \nL 22.015625 12.40625 \nL 22.015625 4 \nL 14.015625 -11.625 \nL 7.71875 -11.625 \nL 11.71875 4 \nz\n\" id=\"DejaVuSans-44\"/>\n       <path d=\"M 19.671875 34.8125 \nL 19.671875 8.109375 \nL 35.5 8.109375 \nQ 43.453125 8.109375 47.28125 11.40625 \nQ 51.125 14.703125 51.125 21.484375 \nQ 51.125 28.328125 47.28125 31.5625 \nQ 43.453125 34.8125 35.5 34.8125 \nz\nM 19.671875 64.796875 \nL 19.671875 42.828125 \nL 34.28125 42.828125 \nQ 41.5 42.828125 45.03125 45.53125 \nQ 48.578125 48.25 48.578125 53.8125 \nQ 48.578125 59.328125 45.03125 62.0625 \nQ 41.5 64.796875 34.28125 64.796875 \nz\nM 9.8125 72.90625 \nL 35.015625 72.90625 \nQ 46.296875 72.90625 52.390625 68.21875 \nQ 58.5 63.53125 58.5 54.890625 \nQ 58.5 48.1875 55.375 44.234375 \nQ 52.25 40.28125 46.1875 39.3125 \nQ 53.46875 37.75 57.5 32.78125 \nQ 61.53125 27.828125 61.53125 20.40625 \nQ 61.53125 10.640625 54.890625 5.3125 \nQ 48.25 0 35.984375 0 \nL 9.8125 0 \nz\n\" id=\"DejaVuSans-66\"/>\n       <path d=\"M 8.6875 72.90625 \nL 18.609375 72.90625 \nL 18.609375 28.609375 \nQ 18.609375 16.890625 22.84375 11.734375 \nQ 27.09375 6.59375 36.625 6.59375 \nQ 46.09375 6.59375 50.34375 11.734375 \nQ 54.59375 16.890625 54.59375 28.609375 \nL 54.59375 72.90625 \nL 64.5 72.90625 \nL 64.5 27.390625 \nQ 64.5 13.140625 57.4375 5.859375 \nQ 50.390625 -1.421875 36.625 -1.421875 \nQ 22.796875 -1.421875 15.734375 5.859375 \nQ 8.6875 13.140625 8.6875 27.390625 \nz\n\" id=\"DejaVuSans-85\"/>\n      </defs>\n      <g transform=\"translate(105.345312 284.327344)scale(0.1 -0.1)\">\n       <use xlink:href=\"#DejaVuSans-84\"/>\n       <use x=\"61.083984\" xlink:href=\"#DejaVuSans-104\"/>\n       <use x=\"124.462891\" xlink:href=\"#DejaVuSans-101\"/>\n       <use x=\"185.986328\" xlink:href=\"#DejaVuSans-32\"/>\n       <use x=\"217.773438\" xlink:href=\"#DejaVuSans-71\"/>\n       <use x=\"295.263672\" xlink:href=\"#DejaVuSans-111\"/>\n       <use x=\"356.445312\" xlink:href=\"#DejaVuSans-111\"/>\n       <use x=\"417.626953\" xlink:href=\"#DejaVuSans-100\"/>\n       <use x=\"481.103516\" xlink:href=\"#DejaVuSans-44\"/>\n       <use x=\"512.890625\" xlink:href=\"#DejaVuSans-32\"/>\n       <use x=\"544.677734\" xlink:href=\"#DejaVuSans-116\"/>\n       <use x=\"583.886719\" xlink:href=\"#DejaVuSans-104\"/>\n       <use x=\"647.265625\" xlink:href=\"#DejaVuSans-101\"/>\n       <use x=\"708.789062\" xlink:href=\"#DejaVuSans-32\"/>\n       <use x=\"740.576172\" xlink:href=\"#DejaVuSans-66\"/>\n       <use x=\"809.179688\" xlink:href=\"#DejaVuSans-97\"/>\n       <use x=\"870.458984\" xlink:href=\"#DejaVuSans-100\"/>\n       <use x=\"933.935547\" xlink:href=\"#DejaVuSans-32\"/>\n       <use x=\"965.722656\" xlink:href=\"#DejaVuSans-97\"/>\n       <use x=\"1027.001953\" xlink:href=\"#DejaVuSans-110\"/>\n       <use x=\"1090.380859\" xlink:href=\"#DejaVuSans-100\"/>\n       <use x=\"1153.857422\" xlink:href=\"#DejaVuSans-32\"/>\n       <use x=\"1185.644531\" xlink:href=\"#DejaVuSans-116\"/>\n       <use x=\"1224.853516\" xlink:href=\"#DejaVuSans-104\"/>\n       <use x=\"1288.232422\" xlink:href=\"#DejaVuSans-101\"/>\n       <use x=\"1349.755859\" xlink:href=\"#DejaVuSans-32\"/>\n       <use x=\"1381.542969\" xlink:href=\"#DejaVuSans-85\"/>\n       <use x=\"1454.736328\" xlink:href=\"#DejaVuSans-103\"/>\n       <use x=\"1518.212891\" xlink:href=\"#DejaVuSans-108\"/>\n       <use x=\"1545.996094\" xlink:href=\"#DejaVuSans-121\"/>\n      </g>\n     </g>\n    </g>\n    <g id=\"text_17\">\n     <!-- title -->\n     <g transform=\"translate(14.798437 167.993125)rotate(-90)scale(0.1 -0.1)\">\n      <use xlink:href=\"#DejaVuSans-116\"/>\n      <use x=\"39.208984\" xlink:href=\"#DejaVuSans-105\"/>\n      <use x=\"66.992188\" xlink:href=\"#DejaVuSans-116\"/>\n      <use x=\"106.201172\" xlink:href=\"#DejaVuSans-108\"/>\n      <use x=\"133.984375\" xlink:href=\"#DejaVuSans-101\"/>\n     </g>\n    </g>\n   </g>\n   <g id=\"line2d_16\">\n    <path clip-path=\"url(#pd56af77161)\" d=\"M 0 0 \n\" style=\"fill:none;stroke:#424242;stroke-linecap:square;stroke-width:2.7;\"/>\n   </g>\n   <g id=\"line2d_17\">\n    <path clip-path=\"url(#pd56af77161)\" d=\"M 0 0 \n\" style=\"fill:none;stroke:#424242;stroke-linecap:square;stroke-width:2.7;\"/>\n   </g>\n   <g id=\"line2d_18\">\n    <path clip-path=\"url(#pd56af77161)\" d=\"M 0 0 \n\" style=\"fill:none;stroke:#424242;stroke-linecap:square;stroke-width:2.7;\"/>\n   </g>\n   <g id=\"line2d_19\">\n    <path clip-path=\"url(#pd56af77161)\" d=\"M 0 0 \n\" style=\"fill:none;stroke:#424242;stroke-linecap:square;stroke-width:2.7;\"/>\n   </g>\n   <g id=\"line2d_20\">\n    <path clip-path=\"url(#pd56af77161)\" d=\"M 0 0 \n\" style=\"fill:none;stroke:#424242;stroke-linecap:square;stroke-width:2.7;\"/>\n   </g>\n   <g id=\"line2d_21\">\n    <path clip-path=\"url(#pd56af77161)\" d=\"M 0 0 \n\" style=\"fill:none;stroke:#424242;stroke-linecap:square;stroke-width:2.7;\"/>\n   </g>\n   <g id=\"line2d_22\">\n    <path clip-path=\"url(#pd56af77161)\" d=\"M 0 0 \n\" style=\"fill:none;stroke:#424242;stroke-linecap:square;stroke-width:2.7;\"/>\n   </g>\n   <g id=\"line2d_23\">\n    <path clip-path=\"url(#pd56af77161)\" d=\"M 0 0 \n\" style=\"fill:none;stroke:#424242;stroke-linecap:square;stroke-width:2.7;\"/>\n   </g>\n   <g id=\"line2d_24\">\n    <path clip-path=\"url(#pd56af77161)\" d=\"M 0 0 \n\" style=\"fill:none;stroke:#424242;stroke-linecap:square;stroke-width:2.7;\"/>\n   </g>\n   <g id=\"line2d_25\">\n    <path clip-path=\"url(#pd56af77161)\" d=\"M 0 0 \n\" style=\"fill:none;stroke:#424242;stroke-linecap:square;stroke-width:2.7;\"/>\n   </g>\n   <g id=\"patch_13\">\n    <path d=\"M 272.8625 294.118125 \nL 272.8625 22.318125 \n\" style=\"fill:none;stroke:#000000;stroke-linecap:square;stroke-linejoin:miter;stroke-width:0.8;\"/>\n   </g>\n   <g id=\"patch_14\">\n    <path d=\"M 719.2625 294.118125 \nL 719.2625 22.318125 \n\" style=\"fill:none;stroke:#000000;stroke-linecap:square;stroke-linejoin:miter;stroke-width:0.8;\"/>\n   </g>\n   <g id=\"patch_15\">\n    <path d=\"M 272.8625 294.118125 \nL 719.2625 294.118125 \n\" style=\"fill:none;stroke:#000000;stroke-linecap:square;stroke-linejoin:miter;stroke-width:0.8;\"/>\n   </g>\n   <g id=\"patch_16\">\n    <path d=\"M 272.8625 22.318125 \nL 719.2625 22.318125 \n\" style=\"fill:none;stroke:#000000;stroke-linecap:square;stroke-linejoin:miter;stroke-width:0.8;\"/>\n   </g>\n   <g id=\"text_18\">\n    <!-- Топ фильмов по их рейтингу(округлен до сотых) -->\n    <defs>\n     <path d=\"M -0.296875 72.90625 \nL 61.375 72.90625 \nL 61.375 64.59375 \nL 35.5 64.59375 \nL 35.5 0 \nL 25.59375 0 \nL 25.59375 64.59375 \nL -0.296875 64.59375 \nz\n\" id=\"DejaVuSans-1058\"/>\n     <path d=\"M 30.609375 48.390625 \nQ 23.390625 48.390625 19.1875 42.75 \nQ 14.984375 37.109375 14.984375 27.296875 \nQ 14.984375 17.484375 19.15625 11.84375 \nQ 23.34375 6.203125 30.609375 6.203125 \nQ 37.796875 6.203125 41.984375 11.859375 \nQ 46.1875 17.53125 46.1875 27.296875 \nQ 46.1875 37.015625 41.984375 42.703125 \nQ 37.796875 48.390625 30.609375 48.390625 \nz\nM 30.609375 56 \nQ 42.328125 56 49.015625 48.375 \nQ 55.71875 40.765625 55.71875 27.296875 \nQ 55.71875 13.875 49.015625 6.21875 \nQ 42.328125 -1.421875 30.609375 -1.421875 \nQ 18.84375 -1.421875 12.171875 6.21875 \nQ 5.515625 13.875 5.515625 27.296875 \nQ 5.515625 40.765625 12.171875 48.375 \nQ 18.84375 56 30.609375 56 \nz\n\" id=\"DejaVuSans-1086\"/>\n     <path d=\"M 56.296875 54.6875 \nL 56.296875 0 \nL 47.265625 0 \nL 47.265625 47.515625 \nL 18.109375 47.515625 \nL 18.109375 0 \nL 9.078125 0 \nL 9.078125 54.6875 \nz\n\" id=\"DejaVuSans-1087\"/>\n     <path d=\"M 14.796875 27.296875 \nQ 14.796875 15.828125 18.328125 10.96875 \nQ 21.875 6.109375 27.875 6.109375 \nQ 32.671875 6.109375 38.234375 14.3125 \nL 38.234375 40.28125 \nQ 32.671875 48.484375 27.875 48.484375 \nQ 21.875 48.484375 18.328125 43.625 \nQ 14.796875 38.765625 14.796875 27.296875 \nz\nM 38.234375 -20.796875 \nL 38.234375 6.984375 \nQ 35.453125 2.390625 32.25 0.484375 \nQ 29.046875 -1.421875 25 -1.421875 \nQ 16.84375 -1.421875 11.15625 6.125 \nQ 5.46875 13.671875 5.46875 27.09375 \nQ 5.46875 40.53125 11.15625 48.265625 \nQ 16.84375 56 25 56 \nQ 29.046875 56 32.25 54.140625 \nQ 35.453125 52.296875 38.234375 47.703125 \nL 38.234375 72.90625 \nL 47.265625 72.90625 \nL 47.265625 47.703125 \nQ 50.046875 52.296875 53.25 54.140625 \nQ 56.453125 56 60.5 56 \nQ 68.65625 56 74.34375 48.265625 \nQ 80.03125 40.53125 80.03125 27.09375 \nQ 80.03125 13.671875 74.34375 6.125 \nQ 68.65625 -1.421875 60.5 -1.421875 \nQ 56.453125 -1.421875 53.25 0.484375 \nQ 50.046875 2.390625 47.265625 6.984375 \nL 47.265625 -20.796875 \nz\nM 70.703125 27.296875 \nQ 70.703125 38.765625 67.15625 43.625 \nQ 63.625 48.484375 57.625 48.484375 \nQ 52.828125 48.484375 47.265625 40.28125 \nL 47.265625 14.3125 \nQ 52.828125 6.109375 57.625 6.109375 \nQ 63.625 6.109375 67.15625 10.96875 \nQ 70.703125 15.828125 70.703125 27.296875 \nz\n\" id=\"DejaVuSans-1092\"/>\n     <path d=\"M 55.90625 54.6875 \nL 55.90625 0 \nL 46.96875 0 \nL 46.96875 43.890625 \nL 20.609375 0 \nL 9.078125 0 \nL 9.078125 54.6875 \nL 18.015625 54.6875 \nL 18.015625 10.890625 \nL 44.34375 54.6875 \nz\n\" id=\"DejaVuSans-1080\"/>\n     <path d=\"M 3.71875 0 \nL 3.71875 7.46875 \nQ 12.59375 8.84375 15.328125 14.984375 \nQ 18.65625 23.640625 18.65625 45.75 \nL 18.65625 54.6875 \nL 55.609375 54.6875 \nL 55.609375 0 \nL 46.625 0 \nL 46.625 47.515625 \nL 27.640625 47.515625 \nL 27.640625 42.09375 \nQ 27.640625 21 23.34375 11.53125 \nQ 18.75 1.421875 3.71875 0 \nz\n\" id=\"DejaVuSans-1083\"/>\n     <path d=\"M 43.453125 16.21875 \nQ 43.453125 20.609375 40.25 22.90625 \nQ 37.0625 25.203125 30.90625 25.203125 \nL 18.109375 25.203125 \nL 18.109375 7.171875 \nL 30.90625 7.171875 \nQ 37.0625 7.171875 40.25 9.484375 \nQ 43.453125 11.8125 43.453125 16.21875 \nz\nM 9.078125 54.6875 \nL 18.109375 54.6875 \nL 18.109375 32.375 \nL 31.296875 32.375 \nQ 41.75 32.375 47.390625 28.390625 \nQ 53.03125 24.421875 53.03125 16.21875 \nQ 53.03125 8.015625 47.390625 4 \nQ 41.75 0 31.296875 0 \nL 9.078125 0 \nz\n\" id=\"DejaVuSans-1100\"/>\n     <path d=\"M 9.078125 54.6875 \nL 22.21875 54.6875 \nL 37.75 18.0625 \nL 53.328125 54.6875 \nL 66.359375 54.6875 \nL 66.359375 0 \nL 57.328125 0 \nL 57.328125 46.09375 \nL 42.234375 10.5 \nL 33.25 10.5 \nL 18.109375 46.09375 \nL 18.109375 0 \nL 9.078125 0 \nz\n\" id=\"DejaVuSans-1084\"/>\n     <path d=\"M 18.0625 25.203125 \nL 18.0625 7.171875 \nL 30.859375 7.171875 \nQ 37.015625 7.171875 40.234375 9.484375 \nQ 43.453125 11.8125 43.453125 16.21875 \nQ 43.453125 20.609375 40.234375 22.90625 \nQ 37.015625 25.203125 30.859375 25.203125 \nz\nM 18.0625 47.515625 \nL 18.0625 32.375 \nL 29.890625 32.375 \nQ 34.96875 32.375 38.1875 34.390625 \nQ 41.40625 36.421875 41.40625 40.046875 \nQ 41.40625 43.65625 38.1875 45.578125 \nQ 34.96875 47.515625 29.890625 47.515625 \nz\nM 9.078125 54.6875 \nL 30.46875 54.6875 \nQ 40.09375 54.6875 45.265625 51.171875 \nQ 50.4375 47.65625 50.4375 41.15625 \nQ 50.4375 36.140625 47.796875 33.171875 \nQ 45.171875 30.21875 39.984375 29.5 \nQ 46.1875 28.328125 49.609375 24.609375 \nQ 53.03125 20.90625 53.03125 15.328125 \nQ 53.03125 8.015625 47.390625 4 \nQ 41.75 0 31.296875 0 \nL 9.078125 0 \nz\n\" id=\"DejaVuSans-1074\"/>\n     <path d=\"M 54.890625 54.6875 \nL 35.109375 28.078125 \nL 55.90625 0 \nL 45.3125 0 \nL 29.390625 21.484375 \nL 13.484375 0 \nL 2.875 0 \nL 24.125 28.609375 \nL 4.6875 54.6875 \nL 15.28125 54.6875 \nL 29.78125 35.203125 \nL 44.28125 54.6875 \nz\n\" id=\"DejaVuSans-1093\"/>\n     <path d=\"M 18.109375 8.203125 \nL 18.109375 -20.796875 \nL 9.078125 -20.796875 \nL 9.078125 54.6875 \nL 18.109375 54.6875 \nL 18.109375 46.390625 \nQ 20.953125 51.265625 25.265625 53.625 \nQ 29.59375 56 35.59375 56 \nQ 45.5625 56 51.78125 48.09375 \nQ 58.015625 40.1875 58.015625 27.296875 \nQ 58.015625 14.40625 51.78125 6.484375 \nQ 45.5625 -1.421875 35.59375 -1.421875 \nQ 29.59375 -1.421875 25.265625 0.953125 \nQ 20.953125 3.328125 18.109375 8.203125 \nz\nM 48.6875 27.296875 \nQ 48.6875 37.203125 44.609375 42.84375 \nQ 40.53125 48.484375 33.40625 48.484375 \nQ 26.265625 48.484375 22.1875 42.84375 \nQ 18.109375 37.203125 18.109375 27.296875 \nQ 18.109375 17.390625 22.1875 11.75 \nQ 26.265625 6.109375 33.40625 6.109375 \nQ 40.53125 6.109375 44.609375 11.75 \nQ 48.6875 17.390625 48.6875 27.296875 \nz\n\" id=\"DejaVuSans-1088\"/>\n     <path d=\"M 56.203125 29.59375 \nL 56.203125 25.203125 \nL 14.890625 25.203125 \nQ 15.484375 15.921875 20.484375 11.0625 \nQ 25.484375 6.203125 34.421875 6.203125 \nQ 39.59375 6.203125 44.453125 7.46875 \nQ 49.3125 8.734375 54.109375 11.28125 \nL 54.109375 2.78125 \nQ 49.265625 0.734375 44.1875 -0.34375 \nQ 39.109375 -1.421875 33.890625 -1.421875 \nQ 20.796875 -1.421875 13.15625 6.1875 \nQ 5.515625 13.8125 5.515625 26.8125 \nQ 5.515625 40.234375 12.765625 48.109375 \nQ 20.015625 56 32.328125 56 \nQ 43.359375 56 49.78125 48.890625 \nQ 56.203125 41.796875 56.203125 29.59375 \nz\nM 47.21875 32.234375 \nQ 47.125 39.59375 43.09375 43.984375 \nQ 39.0625 48.390625 32.421875 48.390625 \nQ 24.90625 48.390625 20.390625 44.140625 \nQ 15.875 39.890625 15.1875 32.171875 \nz\n\" id=\"DejaVuSans-1077\"/>\n     <path d=\"M 55.90625 54.6875 \nL 55.90625 0 \nL 46.96875 0 \nL 46.96875 43.890625 \nL 20.609375 0 \nL 9.078125 0 \nL 9.078125 54.6875 \nL 18.015625 54.6875 \nL 18.015625 10.890625 \nL 44.34375 54.6875 \nz\nM 17.21875 75.515625 \nL 22.984375 75.515625 \nQ 23.515625 71.859375 25.875 70.015625 \nQ 28.25 68.1875 32.5 68.1875 \nQ 36.703125 68.1875 39.046875 70 \nQ 41.390625 71.8125 42.015625 75.515625 \nL 47.78125 75.515625 \nQ 47.296875 68.53125 43.4375 65.015625 \nQ 39.578125 61.5 32.5 61.5 \nQ 25.421875 61.5 21.5625 65.015625 \nQ 17.703125 68.53125 17.21875 75.515625 \nz\n\" id=\"DejaVuSans-1081\"/>\n     <path d=\"M 2.9375 54.6875 \nL 55.328125 54.6875 \nL 55.328125 47.515625 \nL 33.546875 47.515625 \nL 33.546875 0 \nL 24.703125 0 \nL 24.703125 47.515625 \nL 2.9375 47.515625 \nz\n\" id=\"DejaVuSans-1090\"/>\n     <path d=\"M 9.078125 54.6875 \nL 18.109375 54.6875 \nL 18.109375 32.375 \nL 47.265625 32.375 \nL 47.265625 54.6875 \nL 56.296875 54.6875 \nL 56.296875 0 \nL 47.265625 0 \nL 47.265625 25.203125 \nL 18.109375 25.203125 \nL 18.109375 0 \nL 9.078125 0 \nz\n\" id=\"DejaVuSans-1085\"/>\n     <path d=\"M 9.078125 0 \nL 9.078125 54.6875 \nL 47.65625 54.6875 \nL 47.65625 47.515625 \nL 18.109375 47.515625 \nL 18.109375 0 \nz\n\" id=\"DejaVuSans-1075\"/>\n     <path d=\"M 32.171875 -5.078125 \nQ 28.375 -14.84375 24.75 -17.8125 \nQ 21.140625 -20.796875 15.09375 -20.796875 \nL 7.90625 -20.796875 \nL 7.90625 -13.28125 \nL 13.1875 -13.28125 \nQ 16.890625 -13.28125 18.9375 -11.515625 \nQ 21 -9.765625 23.484375 -3.21875 \nL 25.09375 0.875 \nL 2.984375 54.6875 \nL 12.5 54.6875 \nL 29.59375 11.921875 \nL 46.6875 54.6875 \nL 56.203125 54.6875 \nz\n\" id=\"DejaVuSans-1091\"/>\n     <path d=\"M 31 75.875 \nQ 24.46875 64.65625 21.28125 53.65625 \nQ 18.109375 42.671875 18.109375 31.390625 \nQ 18.109375 20.125 21.3125 9.0625 \nQ 24.515625 -2 31 -13.1875 \nL 23.1875 -13.1875 \nQ 15.875 -1.703125 12.234375 9.375 \nQ 8.59375 20.453125 8.59375 31.390625 \nQ 8.59375 42.28125 12.203125 53.3125 \nQ 15.828125 64.359375 23.1875 75.875 \nz\n\" id=\"DejaVuSans-40\"/>\n     <path d=\"M 9.078125 54.6875 \nL 18.015625 54.6875 \nL 18.015625 29 \nL 43.359375 54.6875 \nL 54.390625 54.6875 \nL 33.5 33.546875 \nL 57.078125 0 \nL 47.015625 0 \nL 27.640625 27.59375 \nL 18.015625 17.828125 \nL 18.015625 0 \nL 9.078125 0 \nz\n\" id=\"DejaVuSans-1082\"/>\n     <path d=\"M 21.625 7.171875 \nL 47.703125 7.171875 \nL 47.703125 47.515625 \nL 28.8125 47.515625 \nL 28.8125 40.671875 \nQ 28.8125 20.5625 23.046875 9.8125 \nz\nM 8.59375 7.171875 \nQ 13.03125 9.125 14.984375 13.28125 \nQ 19.78125 23.578125 19.78125 44.34375 \nL 19.78125 54.6875 \nL 56.734375 54.6875 \nL 56.734375 7.171875 \nL 63.921875 7.171875 \nL 63.921875 -13.8125 \nL 56.734375 -13.8125 \nL 56.734375 0 \nL 12.40625 0 \nL 12.40625 -13.8125 \nL 5.21875 -13.8125 \nL 5.21875 7.171875 \nz\n\" id=\"DejaVuSans-1076\"/>\n     <path d=\"M 48.78125 52.59375 \nL 48.78125 44.1875 \nQ 44.96875 46.296875 41.140625 47.34375 \nQ 37.3125 48.390625 33.40625 48.390625 \nQ 24.65625 48.390625 19.8125 42.84375 \nQ 14.984375 37.3125 14.984375 27.296875 \nQ 14.984375 17.28125 19.8125 11.734375 \nQ 24.65625 6.203125 33.40625 6.203125 \nQ 37.3125 6.203125 41.140625 7.25 \nQ 44.96875 8.296875 48.78125 10.40625 \nL 48.78125 2.09375 \nQ 45.015625 0.34375 40.984375 -0.53125 \nQ 36.96875 -1.421875 32.421875 -1.421875 \nQ 20.0625 -1.421875 12.78125 6.34375 \nQ 5.515625 14.109375 5.515625 27.296875 \nQ 5.515625 40.671875 12.859375 48.328125 \nQ 20.21875 56 33.015625 56 \nQ 37.15625 56 41.109375 55.140625 \nQ 45.0625 54.296875 48.78125 52.59375 \nz\n\" id=\"DejaVuSans-1089\"/>\n     <path d=\"M 61.046875 54.6875 \nL 70.03125 54.6875 \nL 70.03125 0 \nL 61.046875 0 \nz\nM 65.546875 56 \nz\nM 43.453125 16.21875 \nQ 43.453125 20.609375 40.25 22.90625 \nQ 37.0625 25.203125 30.90625 25.203125 \nL 18.109375 25.203125 \nL 18.109375 7.171875 \nL 30.90625 7.171875 \nQ 37.0625 7.171875 40.25 9.484375 \nQ 43.453125 11.8125 43.453125 16.21875 \nz\nM 9.078125 54.6875 \nL 18.109375 54.6875 \nL 18.109375 32.375 \nL 31.296875 32.375 \nQ 41.75 32.375 47.390625 28.390625 \nQ 53.03125 24.421875 53.03125 16.21875 \nQ 53.03125 8.015625 47.390625 4 \nQ 41.75 0 31.296875 0 \nL 9.078125 0 \nz\n\" id=\"DejaVuSans-1099\"/>\n     <path d=\"M 8.015625 75.875 \nL 15.828125 75.875 \nQ 23.140625 64.359375 26.78125 53.3125 \nQ 30.421875 42.28125 30.421875 31.390625 \nQ 30.421875 20.453125 26.78125 9.375 \nQ 23.140625 -1.703125 15.828125 -13.1875 \nL 8.015625 -13.1875 \nQ 14.5 -2 17.703125 9.0625 \nQ 20.90625 20.125 20.90625 31.390625 \nQ 20.90625 42.671875 17.703125 53.65625 \nQ 14.5 64.65625 8.015625 75.875 \nz\n\" id=\"DejaVuSans-41\"/>\n    </defs>\n    <g transform=\"translate(340.25 16.318125)scale(0.12 -0.12)\">\n     <use xlink:href=\"#DejaVuSans-1058\"/>\n     <use x=\"61.083984\" xlink:href=\"#DejaVuSans-1086\"/>\n     <use x=\"122.265625\" xlink:href=\"#DejaVuSans-1087\"/>\n     <use x=\"187.646484\" xlink:href=\"#DejaVuSans-32\"/>\n     <use x=\"219.433594\" xlink:href=\"#DejaVuSans-1092\"/>\n     <use x=\"304.931641\" xlink:href=\"#DejaVuSans-1080\"/>\n     <use x=\"369.921875\" xlink:href=\"#DejaVuSans-1083\"/>\n     <use x=\"433.837891\" xlink:href=\"#DejaVuSans-1100\"/>\n     <use x=\"492.773438\" xlink:href=\"#DejaVuSans-1084\"/>\n     <use x=\"568.212891\" xlink:href=\"#DejaVuSans-1086\"/>\n     <use x=\"629.394531\" xlink:href=\"#DejaVuSans-1074\"/>\n     <use x=\"688.330078\" xlink:href=\"#DejaVuSans-32\"/>\n     <use x=\"720.117188\" xlink:href=\"#DejaVuSans-1087\"/>\n     <use x=\"785.498047\" xlink:href=\"#DejaVuSans-1086\"/>\n     <use x=\"846.679688\" xlink:href=\"#DejaVuSans-32\"/>\n     <use x=\"878.466797\" xlink:href=\"#DejaVuSans-1080\"/>\n     <use x=\"943.457031\" xlink:href=\"#DejaVuSans-1093\"/>\n     <use x=\"1002.636719\" xlink:href=\"#DejaVuSans-32\"/>\n     <use x=\"1034.423828\" xlink:href=\"#DejaVuSans-1088\"/>\n     <use x=\"1097.900391\" xlink:href=\"#DejaVuSans-1077\"/>\n     <use x=\"1159.423828\" xlink:href=\"#DejaVuSans-1081\"/>\n     <use x=\"1224.414062\" xlink:href=\"#DejaVuSans-1090\"/>\n     <use x=\"1282.666016\" xlink:href=\"#DejaVuSans-1080\"/>\n     <use x=\"1347.65625\" xlink:href=\"#DejaVuSans-1085\"/>\n     <use x=\"1413.037109\" xlink:href=\"#DejaVuSans-1075\"/>\n     <use x=\"1465.576172\" xlink:href=\"#DejaVuSans-1091\"/>\n     <use x=\"1524.755859\" xlink:href=\"#DejaVuSans-40\"/>\n     <use x=\"1563.769531\" xlink:href=\"#DejaVuSans-1086\"/>\n     <use x=\"1624.951172\" xlink:href=\"#DejaVuSans-1082\"/>\n     <use x=\"1685.351562\" xlink:href=\"#DejaVuSans-1088\"/>\n     <use x=\"1748.828125\" xlink:href=\"#DejaVuSans-1091\"/>\n     <use x=\"1808.007812\" xlink:href=\"#DejaVuSans-1075\"/>\n     <use x=\"1860.546875\" xlink:href=\"#DejaVuSans-1083\"/>\n     <use x=\"1924.462891\" xlink:href=\"#DejaVuSans-1077\"/>\n     <use x=\"1985.986328\" xlink:href=\"#DejaVuSans-1085\"/>\n     <use x=\"2051.367188\" xlink:href=\"#DejaVuSans-32\"/>\n     <use x=\"2083.154297\" xlink:href=\"#DejaVuSans-1076\"/>\n     <use x=\"2152.294922\" xlink:href=\"#DejaVuSans-1086\"/>\n     <use x=\"2213.476562\" xlink:href=\"#DejaVuSans-32\"/>\n     <use x=\"2245.263672\" xlink:href=\"#DejaVuSans-1089\"/>\n     <use x=\"2300.244141\" xlink:href=\"#DejaVuSans-1086\"/>\n     <use x=\"2361.425781\" xlink:href=\"#DejaVuSans-1090\"/>\n     <use x=\"2419.677734\" xlink:href=\"#DejaVuSans-1099\"/>\n     <use x=\"2498.632812\" xlink:href=\"#DejaVuSans-1093\"/>\n     <use x=\"2557.8125\" xlink:href=\"#DejaVuSans-41\"/>\n    </g>\n   </g>\n  </g>\n </g>\n <defs>\n  <clipPath id=\"pd56af77161\">\n   <rect height=\"271.8\" width=\"446.4\" x=\"272.8625\" y=\"22.318125\"/>\n  </clipPath>\n </defs>\n</svg>\n"
          },
          "metadata": {
            "needs_background": "light"
          }
        }
      ],
      "source": [
        "#Визуализируем с округлением до сотых\n",
        "sns.barplot(x=\"ratings\", y =\"title\", data=film_rating).set(title='Топ фильмов по их рейтингу(округлен до сотых)')"
      ]
    },
    {
      "cell_type": "code",
      "execution_count": null,
      "metadata": {
        "scrolled": true,
        "colab": {
          "base_uri": "https://localhost:8080/",
          "height": 206
        },
        "id": "jUsZSRLvXtnQ",
        "outputId": "e2c92edb-34c5-49df-8a34-87fe1f6ffbf9"
      },
      "outputs": [
        {
          "output_type": "execute_result",
          "data": {
            "text/plain": [
              "   ratings                     title\n",
              "0      9.2  The Shawshank Redemption\n",
              "1      9.2             The Godfather\n",
              "2      9.0           The Dark Knight\n",
              "3      9.0     The Godfather Part II\n",
              "4      9.0              12 Angry Men"
            ],
            "text/html": [
              "\n",
              "  <div id=\"df-e1463141-7bf8-4d3b-bfe8-c6184df8b918\">\n",
              "    <div class=\"colab-df-container\">\n",
              "      <div>\n",
              "<style scoped>\n",
              "    .dataframe tbody tr th:only-of-type {\n",
              "        vertical-align: middle;\n",
              "    }\n",
              "\n",
              "    .dataframe tbody tr th {\n",
              "        vertical-align: top;\n",
              "    }\n",
              "\n",
              "    .dataframe thead th {\n",
              "        text-align: right;\n",
              "    }\n",
              "</style>\n",
              "<table border=\"1\" class=\"dataframe\">\n",
              "  <thead>\n",
              "    <tr style=\"text-align: right;\">\n",
              "      <th></th>\n",
              "      <th>ratings</th>\n",
              "      <th>title</th>\n",
              "    </tr>\n",
              "  </thead>\n",
              "  <tbody>\n",
              "    <tr>\n",
              "      <th>0</th>\n",
              "      <td>9.2</td>\n",
              "      <td>The Shawshank Redemption</td>\n",
              "    </tr>\n",
              "    <tr>\n",
              "      <th>1</th>\n",
              "      <td>9.2</td>\n",
              "      <td>The Godfather</td>\n",
              "    </tr>\n",
              "    <tr>\n",
              "      <th>2</th>\n",
              "      <td>9.0</td>\n",
              "      <td>The Dark Knight</td>\n",
              "    </tr>\n",
              "    <tr>\n",
              "      <th>3</th>\n",
              "      <td>9.0</td>\n",
              "      <td>The Godfather Part II</td>\n",
              "    </tr>\n",
              "    <tr>\n",
              "      <th>4</th>\n",
              "      <td>9.0</td>\n",
              "      <td>12 Angry Men</td>\n",
              "    </tr>\n",
              "  </tbody>\n",
              "</table>\n",
              "</div>\n",
              "      <button class=\"colab-df-convert\" onclick=\"convertToInteractive('df-e1463141-7bf8-4d3b-bfe8-c6184df8b918')\"\n",
              "              title=\"Convert this dataframe to an interactive table.\"\n",
              "              style=\"display:none;\">\n",
              "        \n",
              "  <svg xmlns=\"http://www.w3.org/2000/svg\" height=\"24px\"viewBox=\"0 0 24 24\"\n",
              "       width=\"24px\">\n",
              "    <path d=\"M0 0h24v24H0V0z\" fill=\"none\"/>\n",
              "    <path d=\"M18.56 5.44l.94 2.06.94-2.06 2.06-.94-2.06-.94-.94-2.06-.94 2.06-2.06.94zm-11 1L8.5 8.5l.94-2.06 2.06-.94-2.06-.94L8.5 2.5l-.94 2.06-2.06.94zm10 10l.94 2.06.94-2.06 2.06-.94-2.06-.94-.94-2.06-.94 2.06-2.06.94z\"/><path d=\"M17.41 7.96l-1.37-1.37c-.4-.4-.92-.59-1.43-.59-.52 0-1.04.2-1.43.59L10.3 9.45l-7.72 7.72c-.78.78-.78 2.05 0 2.83L4 21.41c.39.39.9.59 1.41.59.51 0 1.02-.2 1.41-.59l7.78-7.78 2.81-2.81c.8-.78.8-2.07 0-2.86zM5.41 20L4 18.59l7.72-7.72 1.47 1.35L5.41 20z\"/>\n",
              "  </svg>\n",
              "      </button>\n",
              "      \n",
              "  <style>\n",
              "    .colab-df-container {\n",
              "      display:flex;\n",
              "      flex-wrap:wrap;\n",
              "      gap: 12px;\n",
              "    }\n",
              "\n",
              "    .colab-df-convert {\n",
              "      background-color: #E8F0FE;\n",
              "      border: none;\n",
              "      border-radius: 50%;\n",
              "      cursor: pointer;\n",
              "      display: none;\n",
              "      fill: #1967D2;\n",
              "      height: 32px;\n",
              "      padding: 0 0 0 0;\n",
              "      width: 32px;\n",
              "    }\n",
              "\n",
              "    .colab-df-convert:hover {\n",
              "      background-color: #E2EBFA;\n",
              "      box-shadow: 0px 1px 2px rgba(60, 64, 67, 0.3), 0px 1px 3px 1px rgba(60, 64, 67, 0.15);\n",
              "      fill: #174EA6;\n",
              "    }\n",
              "\n",
              "    [theme=dark] .colab-df-convert {\n",
              "      background-color: #3B4455;\n",
              "      fill: #D2E3FC;\n",
              "    }\n",
              "\n",
              "    [theme=dark] .colab-df-convert:hover {\n",
              "      background-color: #434B5C;\n",
              "      box-shadow: 0px 1px 3px 1px rgba(0, 0, 0, 0.15);\n",
              "      filter: drop-shadow(0px 1px 2px rgba(0, 0, 0, 0.3));\n",
              "      fill: #FFFFFF;\n",
              "    }\n",
              "  </style>\n",
              "\n",
              "      <script>\n",
              "        const buttonEl =\n",
              "          document.querySelector('#df-e1463141-7bf8-4d3b-bfe8-c6184df8b918 button.colab-df-convert');\n",
              "        buttonEl.style.display =\n",
              "          google.colab.kernel.accessAllowed ? 'block' : 'none';\n",
              "\n",
              "        async function convertToInteractive(key) {\n",
              "          const element = document.querySelector('#df-e1463141-7bf8-4d3b-bfe8-c6184df8b918');\n",
              "          const dataTable =\n",
              "            await google.colab.kernel.invokeFunction('convertToInteractive',\n",
              "                                                     [key], {});\n",
              "          if (!dataTable) return;\n",
              "\n",
              "          const docLinkHtml = 'Like what you see? Visit the ' +\n",
              "            '<a target=\"_blank\" href=https://colab.research.google.com/notebooks/data_table.ipynb>data table notebook</a>'\n",
              "            + ' to learn more about interactive tables.';\n",
              "          element.innerHTML = '';\n",
              "          dataTable['output_type'] = 'display_data';\n",
              "          await google.colab.output.renderOutput(dataTable, element);\n",
              "          const docLink = document.createElement('div');\n",
              "          docLink.innerHTML = docLinkHtml;\n",
              "          element.appendChild(docLink);\n",
              "        }\n",
              "      </script>\n",
              "    </div>\n",
              "  </div>\n",
              "  "
            ]
          },
          "metadata": {},
          "execution_count": 23
        }
      ],
      "source": [
        "#Округляем данные до десятых\n",
        "film_rating[\"ratings\"] = film_rating.ratings.round(1)\n",
        "film_rating.head()"
      ]
    },
    {
      "cell_type": "code",
      "execution_count": null,
      "metadata": {
        "colab": {
          "base_uri": "https://localhost:8080/",
          "height": 481
        },
        "id": "oQ40wDV9XtnR",
        "outputId": "7ff5f59c-41ab-4b70-8697-fc8ad398eccb"
      },
      "outputs": [
        {
          "output_type": "execute_result",
          "data": {
            "text/plain": [
              "[Text(0.5, 1.0, 'Топ фильмов по их рейтингу(округлен до десятых)')]"
            ]
          },
          "metadata": {},
          "execution_count": 24
        },
        {
          "output_type": "display_data",
          "data": {
            "text/plain": [
              "<Figure size 576x360 with 1 Axes>"
            ],
            "image/svg+xml": "<?xml version=\"1.0\" encoding=\"utf-8\" standalone=\"no\"?>\n<!DOCTYPE svg PUBLIC \"-//W3C//DTD SVG 1.1//EN\"\n  \"http://www.w3.org/Graphics/SVG/1.1/DTD/svg11.dtd\">\n<!-- Created with matplotlib (https://matplotlib.org/) -->\n<svg height=\"331.674375pt\" version=\"1.1\" viewBox=\"0 0 726.4625 331.674375\" width=\"726.4625pt\" xmlns=\"http://www.w3.org/2000/svg\" xmlns:xlink=\"http://www.w3.org/1999/xlink\">\n <defs>\n  <style type=\"text/css\">\n*{stroke-linecap:butt;stroke-linejoin:round;}\n  </style>\n </defs>\n <g id=\"figure_1\">\n  <g id=\"patch_1\">\n   <path d=\"M 0 331.674375 \nL 726.4625 331.674375 \nL 726.4625 0 \nL 0 0 \nz\n\" style=\"fill:none;\"/>\n  </g>\n  <g id=\"axes_1\">\n   <g id=\"patch_2\">\n    <path d=\"M 272.8625 294.118125 \nL 719.2625 294.118125 \nL 719.2625 22.318125 \nL 272.8625 22.318125 \nz\n\" style=\"fill:#ffffff;\"/>\n   </g>\n   <g id=\"patch_3\">\n    <path clip-path=\"url(#p308b38d4a3)\" d=\"M 272.8625 25.036125 \nL 698.005357 25.036125 \nL 698.005357 46.780125 \nL 272.8625 46.780125 \nz\n\" style=\"fill:#3274a1;\"/>\n   </g>\n   <g id=\"patch_4\">\n    <path clip-path=\"url(#p308b38d4a3)\" d=\"M 272.8625 52.216125 \nL 698.005357 52.216125 \nL 698.005357 73.960125 \nL 272.8625 73.960125 \nz\n\" style=\"fill:#e1812c;\"/>\n   </g>\n   <g id=\"patch_5\">\n    <path clip-path=\"url(#p308b38d4a3)\" d=\"M 272.8625 79.396125 \nL 688.763121 79.396125 \nL 688.763121 101.140125 \nL 272.8625 101.140125 \nz\n\" style=\"fill:#3a923a;\"/>\n   </g>\n   <g id=\"patch_6\">\n    <path clip-path=\"url(#p308b38d4a3)\" d=\"M 272.8625 106.576125 \nL 688.763121 106.576125 \nL 688.763121 128.320125 \nL 272.8625 128.320125 \nz\n\" style=\"fill:#c03d3e;\"/>\n   </g>\n   <g id=\"patch_7\">\n    <path clip-path=\"url(#p308b38d4a3)\" d=\"M 272.8625 133.756125 \nL 688.763121 133.756125 \nL 688.763121 155.500125 \nL 272.8625 155.500125 \nz\n\" style=\"fill:#9372b2;\"/>\n   </g>\n   <g id=\"patch_8\">\n    <path clip-path=\"url(#p308b38d4a3)\" d=\"M 272.8625 160.936125 \nL 684.142003 160.936125 \nL 684.142003 182.680125 \nL 272.8625 182.680125 \nz\n\" style=\"fill:#845b53;\"/>\n   </g>\n   <g id=\"patch_9\">\n    <path clip-path=\"url(#p308b38d4a3)\" d=\"M 272.8625 188.116125 \nL 684.142003 188.116125 \nL 684.142003 209.860125 \nL 272.8625 209.860125 \nz\n\" style=\"fill:#d684bd;\"/>\n   </g>\n   <g id=\"patch_10\">\n    <path clip-path=\"url(#p308b38d4a3)\" d=\"M 272.8625 215.296125 \nL 679.520885 215.296125 \nL 679.520885 237.040125 \nL 272.8625 237.040125 \nz\n\" style=\"fill:#7f7f7f;\"/>\n   </g>\n   <g id=\"patch_11\">\n    <path clip-path=\"url(#p308b38d4a3)\" d=\"M 272.8625 242.476125 \nL 679.520885 242.476125 \nL 679.520885 264.220125 \nL 272.8625 264.220125 \nz\n\" style=\"fill:#a9aa35;\"/>\n   </g>\n   <g id=\"patch_12\">\n    <path clip-path=\"url(#p308b38d4a3)\" d=\"M 272.8625 269.656125 \nL 679.520885 269.656125 \nL 679.520885 291.400125 \nL 272.8625 291.400125 \nz\n\" style=\"fill:#2eabb8;\"/>\n   </g>\n   <g id=\"matplotlib.axis_1\">\n    <g id=\"xtick_1\">\n     <g id=\"line2d_1\">\n      <defs>\n       <path d=\"M 0 0 \nL 0 3.5 \n\" id=\"m968ab9b220\" style=\"stroke:#000000;stroke-width:0.8;\"/>\n      </defs>\n      <g>\n       <use style=\"stroke:#000000;stroke-width:0.8;\" x=\"272.8625\" xlink:href=\"#m968ab9b220\" y=\"294.118125\"/>\n      </g>\n     </g>\n     <g id=\"text_1\">\n      <!-- 0 -->\n      <defs>\n       <path d=\"M 31.78125 66.40625 \nQ 24.171875 66.40625 20.328125 58.90625 \nQ 16.5 51.421875 16.5 36.375 \nQ 16.5 21.390625 20.328125 13.890625 \nQ 24.171875 6.390625 31.78125 6.390625 \nQ 39.453125 6.390625 43.28125 13.890625 \nQ 47.125 21.390625 47.125 36.375 \nQ 47.125 51.421875 43.28125 58.90625 \nQ 39.453125 66.40625 31.78125 66.40625 \nz\nM 31.78125 74.21875 \nQ 44.046875 74.21875 50.515625 64.515625 \nQ 56.984375 54.828125 56.984375 36.375 \nQ 56.984375 17.96875 50.515625 8.265625 \nQ 44.046875 -1.421875 31.78125 -1.421875 \nQ 19.53125 -1.421875 13.0625 8.265625 \nQ 6.59375 17.96875 6.59375 36.375 \nQ 6.59375 54.828125 13.0625 64.515625 \nQ 19.53125 74.21875 31.78125 74.21875 \nz\n\" id=\"DejaVuSans-48\"/>\n      </defs>\n      <g transform=\"translate(269.68125 308.716563)scale(0.1 -0.1)\">\n       <use xlink:href=\"#DejaVuSans-48\"/>\n      </g>\n     </g>\n    </g>\n    <g id=\"xtick_2\">\n     <g id=\"line2d_2\">\n      <g>\n       <use style=\"stroke:#000000;stroke-width:0.8;\" x=\"365.28486\" xlink:href=\"#m968ab9b220\" y=\"294.118125\"/>\n      </g>\n     </g>\n     <g id=\"text_2\">\n      <!-- 2 -->\n      <defs>\n       <path d=\"M 19.1875 8.296875 \nL 53.609375 8.296875 \nL 53.609375 0 \nL 7.328125 0 \nL 7.328125 8.296875 \nQ 12.9375 14.109375 22.625 23.890625 \nQ 32.328125 33.6875 34.8125 36.53125 \nQ 39.546875 41.84375 41.421875 45.53125 \nQ 43.3125 49.21875 43.3125 52.78125 \nQ 43.3125 58.59375 39.234375 62.25 \nQ 35.15625 65.921875 28.609375 65.921875 \nQ 23.96875 65.921875 18.8125 64.3125 \nQ 13.671875 62.703125 7.8125 59.421875 \nL 7.8125 69.390625 \nQ 13.765625 71.78125 18.9375 73 \nQ 24.125 74.21875 28.421875 74.21875 \nQ 39.75 74.21875 46.484375 68.546875 \nQ 53.21875 62.890625 53.21875 53.421875 \nQ 53.21875 48.921875 51.53125 44.890625 \nQ 49.859375 40.875 45.40625 35.40625 \nQ 44.1875 33.984375 37.640625 27.21875 \nQ 31.109375 20.453125 19.1875 8.296875 \nz\n\" id=\"DejaVuSans-50\"/>\n      </defs>\n      <g transform=\"translate(362.10361 308.716563)scale(0.1 -0.1)\">\n       <use xlink:href=\"#DejaVuSans-50\"/>\n      </g>\n     </g>\n    </g>\n    <g id=\"xtick_3\">\n     <g id=\"line2d_3\">\n      <g>\n       <use style=\"stroke:#000000;stroke-width:0.8;\" x=\"457.70722\" xlink:href=\"#m968ab9b220\" y=\"294.118125\"/>\n      </g>\n     </g>\n     <g id=\"text_3\">\n      <!-- 4 -->\n      <defs>\n       <path d=\"M 37.796875 64.3125 \nL 12.890625 25.390625 \nL 37.796875 25.390625 \nz\nM 35.203125 72.90625 \nL 47.609375 72.90625 \nL 47.609375 25.390625 \nL 58.015625 25.390625 \nL 58.015625 17.1875 \nL 47.609375 17.1875 \nL 47.609375 0 \nL 37.796875 0 \nL 37.796875 17.1875 \nL 4.890625 17.1875 \nL 4.890625 26.703125 \nz\n\" id=\"DejaVuSans-52\"/>\n      </defs>\n      <g transform=\"translate(454.52597 308.716563)scale(0.1 -0.1)\">\n       <use xlink:href=\"#DejaVuSans-52\"/>\n      </g>\n     </g>\n    </g>\n    <g id=\"xtick_4\">\n     <g id=\"line2d_4\">\n      <g>\n       <use style=\"stroke:#000000;stroke-width:0.8;\" x=\"550.129581\" xlink:href=\"#m968ab9b220\" y=\"294.118125\"/>\n      </g>\n     </g>\n     <g id=\"text_4\">\n      <!-- 6 -->\n      <defs>\n       <path d=\"M 33.015625 40.375 \nQ 26.375 40.375 22.484375 35.828125 \nQ 18.609375 31.296875 18.609375 23.390625 \nQ 18.609375 15.53125 22.484375 10.953125 \nQ 26.375 6.390625 33.015625 6.390625 \nQ 39.65625 6.390625 43.53125 10.953125 \nQ 47.40625 15.53125 47.40625 23.390625 \nQ 47.40625 31.296875 43.53125 35.828125 \nQ 39.65625 40.375 33.015625 40.375 \nz\nM 52.59375 71.296875 \nL 52.59375 62.3125 \nQ 48.875 64.0625 45.09375 64.984375 \nQ 41.3125 65.921875 37.59375 65.921875 \nQ 27.828125 65.921875 22.671875 59.328125 \nQ 17.53125 52.734375 16.796875 39.40625 \nQ 19.671875 43.65625 24.015625 45.921875 \nQ 28.375 48.1875 33.59375 48.1875 \nQ 44.578125 48.1875 50.953125 41.515625 \nQ 57.328125 34.859375 57.328125 23.390625 \nQ 57.328125 12.15625 50.6875 5.359375 \nQ 44.046875 -1.421875 33.015625 -1.421875 \nQ 20.359375 -1.421875 13.671875 8.265625 \nQ 6.984375 17.96875 6.984375 36.375 \nQ 6.984375 53.65625 15.1875 63.9375 \nQ 23.390625 74.21875 37.203125 74.21875 \nQ 40.921875 74.21875 44.703125 73.484375 \nQ 48.484375 72.75 52.59375 71.296875 \nz\n\" id=\"DejaVuSans-54\"/>\n      </defs>\n      <g transform=\"translate(546.948331 308.716563)scale(0.1 -0.1)\">\n       <use xlink:href=\"#DejaVuSans-54\"/>\n      </g>\n     </g>\n    </g>\n    <g id=\"xtick_5\">\n     <g id=\"line2d_5\">\n      <g>\n       <use style=\"stroke:#000000;stroke-width:0.8;\" x=\"642.551941\" xlink:href=\"#m968ab9b220\" y=\"294.118125\"/>\n      </g>\n     </g>\n     <g id=\"text_5\">\n      <!-- 8 -->\n      <defs>\n       <path d=\"M 31.78125 34.625 \nQ 24.75 34.625 20.71875 30.859375 \nQ 16.703125 27.09375 16.703125 20.515625 \nQ 16.703125 13.921875 20.71875 10.15625 \nQ 24.75 6.390625 31.78125 6.390625 \nQ 38.8125 6.390625 42.859375 10.171875 \nQ 46.921875 13.96875 46.921875 20.515625 \nQ 46.921875 27.09375 42.890625 30.859375 \nQ 38.875 34.625 31.78125 34.625 \nz\nM 21.921875 38.8125 \nQ 15.578125 40.375 12.03125 44.71875 \nQ 8.5 49.078125 8.5 55.328125 \nQ 8.5 64.0625 14.71875 69.140625 \nQ 20.953125 74.21875 31.78125 74.21875 \nQ 42.671875 74.21875 48.875 69.140625 \nQ 55.078125 64.0625 55.078125 55.328125 \nQ 55.078125 49.078125 51.53125 44.71875 \nQ 48 40.375 41.703125 38.8125 \nQ 48.828125 37.15625 52.796875 32.3125 \nQ 56.78125 27.484375 56.78125 20.515625 \nQ 56.78125 9.90625 50.3125 4.234375 \nQ 43.84375 -1.421875 31.78125 -1.421875 \nQ 19.734375 -1.421875 13.25 4.234375 \nQ 6.78125 9.90625 6.78125 20.515625 \nQ 6.78125 27.484375 10.78125 32.3125 \nQ 14.796875 37.15625 21.921875 38.8125 \nz\nM 18.3125 54.390625 \nQ 18.3125 48.734375 21.84375 45.5625 \nQ 25.390625 42.390625 31.78125 42.390625 \nQ 38.140625 42.390625 41.71875 45.5625 \nQ 45.3125 48.734375 45.3125 54.390625 \nQ 45.3125 60.0625 41.71875 63.234375 \nQ 38.140625 66.40625 31.78125 66.40625 \nQ 25.390625 66.40625 21.84375 63.234375 \nQ 18.3125 60.0625 18.3125 54.390625 \nz\n\" id=\"DejaVuSans-56\"/>\n      </defs>\n      <g transform=\"translate(639.370691 308.716563)scale(0.1 -0.1)\">\n       <use xlink:href=\"#DejaVuSans-56\"/>\n      </g>\n     </g>\n    </g>\n    <g id=\"text_6\">\n     <!-- ratings -->\n     <defs>\n      <path d=\"M 41.109375 46.296875 \nQ 39.59375 47.171875 37.8125 47.578125 \nQ 36.03125 48 33.890625 48 \nQ 26.265625 48 22.1875 43.046875 \nQ 18.109375 38.09375 18.109375 28.8125 \nL 18.109375 0 \nL 9.078125 0 \nL 9.078125 54.6875 \nL 18.109375 54.6875 \nL 18.109375 46.1875 \nQ 20.953125 51.171875 25.484375 53.578125 \nQ 30.03125 56 36.53125 56 \nQ 37.453125 56 38.578125 55.875 \nQ 39.703125 55.765625 41.0625 55.515625 \nz\n\" id=\"DejaVuSans-114\"/>\n      <path d=\"M 34.28125 27.484375 \nQ 23.390625 27.484375 19.1875 25 \nQ 14.984375 22.515625 14.984375 16.5 \nQ 14.984375 11.71875 18.140625 8.90625 \nQ 21.296875 6.109375 26.703125 6.109375 \nQ 34.1875 6.109375 38.703125 11.40625 \nQ 43.21875 16.703125 43.21875 25.484375 \nL 43.21875 27.484375 \nz\nM 52.203125 31.203125 \nL 52.203125 0 \nL 43.21875 0 \nL 43.21875 8.296875 \nQ 40.140625 3.328125 35.546875 0.953125 \nQ 30.953125 -1.421875 24.3125 -1.421875 \nQ 15.921875 -1.421875 10.953125 3.296875 \nQ 6 8.015625 6 15.921875 \nQ 6 25.140625 12.171875 29.828125 \nQ 18.359375 34.515625 30.609375 34.515625 \nL 43.21875 34.515625 \nL 43.21875 35.40625 \nQ 43.21875 41.609375 39.140625 45 \nQ 35.0625 48.390625 27.6875 48.390625 \nQ 23 48.390625 18.546875 47.265625 \nQ 14.109375 46.140625 10.015625 43.890625 \nL 10.015625 52.203125 \nQ 14.9375 54.109375 19.578125 55.046875 \nQ 24.21875 56 28.609375 56 \nQ 40.484375 56 46.34375 49.84375 \nQ 52.203125 43.703125 52.203125 31.203125 \nz\n\" id=\"DejaVuSans-97\"/>\n      <path d=\"M 18.3125 70.21875 \nL 18.3125 54.6875 \nL 36.8125 54.6875 \nL 36.8125 47.703125 \nL 18.3125 47.703125 \nL 18.3125 18.015625 \nQ 18.3125 11.328125 20.140625 9.421875 \nQ 21.96875 7.515625 27.59375 7.515625 \nL 36.8125 7.515625 \nL 36.8125 0 \nL 27.59375 0 \nQ 17.1875 0 13.234375 3.875 \nQ 9.28125 7.765625 9.28125 18.015625 \nL 9.28125 47.703125 \nL 2.6875 47.703125 \nL 2.6875 54.6875 \nL 9.28125 54.6875 \nL 9.28125 70.21875 \nz\n\" id=\"DejaVuSans-116\"/>\n      <path d=\"M 9.421875 54.6875 \nL 18.40625 54.6875 \nL 18.40625 0 \nL 9.421875 0 \nz\nM 9.421875 75.984375 \nL 18.40625 75.984375 \nL 18.40625 64.59375 \nL 9.421875 64.59375 \nz\n\" id=\"DejaVuSans-105\"/>\n      <path d=\"M 54.890625 33.015625 \nL 54.890625 0 \nL 45.90625 0 \nL 45.90625 32.71875 \nQ 45.90625 40.484375 42.875 44.328125 \nQ 39.84375 48.1875 33.796875 48.1875 \nQ 26.515625 48.1875 22.3125 43.546875 \nQ 18.109375 38.921875 18.109375 30.90625 \nL 18.109375 0 \nL 9.078125 0 \nL 9.078125 54.6875 \nL 18.109375 54.6875 \nL 18.109375 46.1875 \nQ 21.34375 51.125 25.703125 53.5625 \nQ 30.078125 56 35.796875 56 \nQ 45.21875 56 50.046875 50.171875 \nQ 54.890625 44.34375 54.890625 33.015625 \nz\n\" id=\"DejaVuSans-110\"/>\n      <path d=\"M 45.40625 27.984375 \nQ 45.40625 37.75 41.375 43.109375 \nQ 37.359375 48.484375 30.078125 48.484375 \nQ 22.859375 48.484375 18.828125 43.109375 \nQ 14.796875 37.75 14.796875 27.984375 \nQ 14.796875 18.265625 18.828125 12.890625 \nQ 22.859375 7.515625 30.078125 7.515625 \nQ 37.359375 7.515625 41.375 12.890625 \nQ 45.40625 18.265625 45.40625 27.984375 \nz\nM 54.390625 6.78125 \nQ 54.390625 -7.171875 48.1875 -13.984375 \nQ 42 -20.796875 29.203125 -20.796875 \nQ 24.46875 -20.796875 20.265625 -20.09375 \nQ 16.0625 -19.390625 12.109375 -17.921875 \nL 12.109375 -9.1875 \nQ 16.0625 -11.328125 19.921875 -12.34375 \nQ 23.78125 -13.375 27.78125 -13.375 \nQ 36.625 -13.375 41.015625 -8.765625 \nQ 45.40625 -4.15625 45.40625 5.171875 \nL 45.40625 9.625 \nQ 42.625 4.78125 38.28125 2.390625 \nQ 33.9375 0 27.875 0 \nQ 17.828125 0 11.671875 7.65625 \nQ 5.515625 15.328125 5.515625 27.984375 \nQ 5.515625 40.671875 11.671875 48.328125 \nQ 17.828125 56 27.875 56 \nQ 33.9375 56 38.28125 53.609375 \nQ 42.625 51.21875 45.40625 46.390625 \nL 45.40625 54.6875 \nL 54.390625 54.6875 \nz\n\" id=\"DejaVuSans-103\"/>\n      <path d=\"M 44.28125 53.078125 \nL 44.28125 44.578125 \nQ 40.484375 46.53125 36.375 47.5 \nQ 32.28125 48.484375 27.875 48.484375 \nQ 21.1875 48.484375 17.84375 46.4375 \nQ 14.5 44.390625 14.5 40.28125 \nQ 14.5 37.15625 16.890625 35.375 \nQ 19.28125 33.59375 26.515625 31.984375 \nL 29.59375 31.296875 \nQ 39.15625 29.25 43.1875 25.515625 \nQ 47.21875 21.78125 47.21875 15.09375 \nQ 47.21875 7.46875 41.1875 3.015625 \nQ 35.15625 -1.421875 24.609375 -1.421875 \nQ 20.21875 -1.421875 15.453125 -0.5625 \nQ 10.6875 0.296875 5.421875 2 \nL 5.421875 11.28125 \nQ 10.40625 8.6875 15.234375 7.390625 \nQ 20.0625 6.109375 24.8125 6.109375 \nQ 31.15625 6.109375 34.5625 8.28125 \nQ 37.984375 10.453125 37.984375 14.40625 \nQ 37.984375 18.0625 35.515625 20.015625 \nQ 33.0625 21.96875 24.703125 23.78125 \nL 21.578125 24.515625 \nQ 13.234375 26.265625 9.515625 29.90625 \nQ 5.8125 33.546875 5.8125 39.890625 \nQ 5.8125 47.609375 11.28125 51.796875 \nQ 16.75 56 26.8125 56 \nQ 31.78125 56 36.171875 55.265625 \nQ 40.578125 54.546875 44.28125 53.078125 \nz\n\" id=\"DejaVuSans-115\"/>\n     </defs>\n     <g transform=\"translate(478.646094 322.394687)scale(0.1 -0.1)\">\n      <use xlink:href=\"#DejaVuSans-114\"/>\n      <use x=\"41.113281\" xlink:href=\"#DejaVuSans-97\"/>\n      <use x=\"102.392578\" xlink:href=\"#DejaVuSans-116\"/>\n      <use x=\"141.601562\" xlink:href=\"#DejaVuSans-105\"/>\n      <use x=\"169.384766\" xlink:href=\"#DejaVuSans-110\"/>\n      <use x=\"232.763672\" xlink:href=\"#DejaVuSans-103\"/>\n      <use x=\"296.240234\" xlink:href=\"#DejaVuSans-115\"/>\n     </g>\n    </g>\n   </g>\n   <g id=\"matplotlib.axis_2\">\n    <g id=\"ytick_1\">\n     <g id=\"line2d_6\">\n      <defs>\n       <path d=\"M 0 0 \nL -3.5 0 \n\" id=\"m2f0e314a0c\" style=\"stroke:#000000;stroke-width:0.8;\"/>\n      </defs>\n      <g>\n       <use style=\"stroke:#000000;stroke-width:0.8;\" x=\"272.8625\" xlink:href=\"#m2f0e314a0c\" y=\"35.908125\"/>\n      </g>\n     </g>\n     <g id=\"text_7\">\n      <!-- The Shawshank Redemption -->\n      <defs>\n       <path d=\"M -0.296875 72.90625 \nL 61.375 72.90625 \nL 61.375 64.59375 \nL 35.5 64.59375 \nL 35.5 0 \nL 25.59375 0 \nL 25.59375 64.59375 \nL -0.296875 64.59375 \nz\n\" id=\"DejaVuSans-84\"/>\n       <path d=\"M 54.890625 33.015625 \nL 54.890625 0 \nL 45.90625 0 \nL 45.90625 32.71875 \nQ 45.90625 40.484375 42.875 44.328125 \nQ 39.84375 48.1875 33.796875 48.1875 \nQ 26.515625 48.1875 22.3125 43.546875 \nQ 18.109375 38.921875 18.109375 30.90625 \nL 18.109375 0 \nL 9.078125 0 \nL 9.078125 75.984375 \nL 18.109375 75.984375 \nL 18.109375 46.1875 \nQ 21.34375 51.125 25.703125 53.5625 \nQ 30.078125 56 35.796875 56 \nQ 45.21875 56 50.046875 50.171875 \nQ 54.890625 44.34375 54.890625 33.015625 \nz\n\" id=\"DejaVuSans-104\"/>\n       <path d=\"M 56.203125 29.59375 \nL 56.203125 25.203125 \nL 14.890625 25.203125 \nQ 15.484375 15.921875 20.484375 11.0625 \nQ 25.484375 6.203125 34.421875 6.203125 \nQ 39.59375 6.203125 44.453125 7.46875 \nQ 49.3125 8.734375 54.109375 11.28125 \nL 54.109375 2.78125 \nQ 49.265625 0.734375 44.1875 -0.34375 \nQ 39.109375 -1.421875 33.890625 -1.421875 \nQ 20.796875 -1.421875 13.15625 6.1875 \nQ 5.515625 13.8125 5.515625 26.8125 \nQ 5.515625 40.234375 12.765625 48.109375 \nQ 20.015625 56 32.328125 56 \nQ 43.359375 56 49.78125 48.890625 \nQ 56.203125 41.796875 56.203125 29.59375 \nz\nM 47.21875 32.234375 \nQ 47.125 39.59375 43.09375 43.984375 \nQ 39.0625 48.390625 32.421875 48.390625 \nQ 24.90625 48.390625 20.390625 44.140625 \nQ 15.875 39.890625 15.1875 32.171875 \nz\n\" id=\"DejaVuSans-101\"/>\n       <path id=\"DejaVuSans-32\"/>\n       <path d=\"M 53.515625 70.515625 \nL 53.515625 60.890625 \nQ 47.90625 63.578125 42.921875 64.890625 \nQ 37.9375 66.21875 33.296875 66.21875 \nQ 25.25 66.21875 20.875 63.09375 \nQ 16.5 59.96875 16.5 54.203125 \nQ 16.5 49.359375 19.40625 46.890625 \nQ 22.3125 44.4375 30.421875 42.921875 \nL 36.375 41.703125 \nQ 47.40625 39.59375 52.65625 34.296875 \nQ 57.90625 29 57.90625 20.125 \nQ 57.90625 9.515625 50.796875 4.046875 \nQ 43.703125 -1.421875 29.984375 -1.421875 \nQ 24.8125 -1.421875 18.96875 -0.25 \nQ 13.140625 0.921875 6.890625 3.21875 \nL 6.890625 13.375 \nQ 12.890625 10.015625 18.65625 8.296875 \nQ 24.421875 6.59375 29.984375 6.59375 \nQ 38.421875 6.59375 43.015625 9.90625 \nQ 47.609375 13.234375 47.609375 19.390625 \nQ 47.609375 24.75 44.3125 27.78125 \nQ 41.015625 30.8125 33.5 32.328125 \nL 27.484375 33.5 \nQ 16.453125 35.6875 11.515625 40.375 \nQ 6.59375 45.0625 6.59375 53.421875 \nQ 6.59375 63.09375 13.40625 68.65625 \nQ 20.21875 74.21875 32.171875 74.21875 \nQ 37.3125 74.21875 42.625 73.28125 \nQ 47.953125 72.359375 53.515625 70.515625 \nz\n\" id=\"DejaVuSans-83\"/>\n       <path d=\"M 4.203125 54.6875 \nL 13.1875 54.6875 \nL 24.421875 12.015625 \nL 35.59375 54.6875 \nL 46.1875 54.6875 \nL 57.421875 12.015625 \nL 68.609375 54.6875 \nL 77.59375 54.6875 \nL 63.28125 0 \nL 52.6875 0 \nL 40.921875 44.828125 \nL 29.109375 0 \nL 18.5 0 \nz\n\" id=\"DejaVuSans-119\"/>\n       <path d=\"M 9.078125 75.984375 \nL 18.109375 75.984375 \nL 18.109375 31.109375 \nL 44.921875 54.6875 \nL 56.390625 54.6875 \nL 27.390625 29.109375 \nL 57.625 0 \nL 45.90625 0 \nL 18.109375 26.703125 \nL 18.109375 0 \nL 9.078125 0 \nz\n\" id=\"DejaVuSans-107\"/>\n       <path d=\"M 44.390625 34.1875 \nQ 47.5625 33.109375 50.5625 29.59375 \nQ 53.5625 26.078125 56.59375 19.921875 \nL 66.609375 0 \nL 56 0 \nL 46.6875 18.703125 \nQ 43.0625 26.03125 39.671875 28.421875 \nQ 36.28125 30.8125 30.421875 30.8125 \nL 19.671875 30.8125 \nL 19.671875 0 \nL 9.8125 0 \nL 9.8125 72.90625 \nL 32.078125 72.90625 \nQ 44.578125 72.90625 50.734375 67.671875 \nQ 56.890625 62.453125 56.890625 51.90625 \nQ 56.890625 45.015625 53.6875 40.46875 \nQ 50.484375 35.9375 44.390625 34.1875 \nz\nM 19.671875 64.796875 \nL 19.671875 38.921875 \nL 32.078125 38.921875 \nQ 39.203125 38.921875 42.84375 42.21875 \nQ 46.484375 45.515625 46.484375 51.90625 \nQ 46.484375 58.296875 42.84375 61.546875 \nQ 39.203125 64.796875 32.078125 64.796875 \nz\n\" id=\"DejaVuSans-82\"/>\n       <path d=\"M 45.40625 46.390625 \nL 45.40625 75.984375 \nL 54.390625 75.984375 \nL 54.390625 0 \nL 45.40625 0 \nL 45.40625 8.203125 \nQ 42.578125 3.328125 38.25 0.953125 \nQ 33.9375 -1.421875 27.875 -1.421875 \nQ 17.96875 -1.421875 11.734375 6.484375 \nQ 5.515625 14.40625 5.515625 27.296875 \nQ 5.515625 40.1875 11.734375 48.09375 \nQ 17.96875 56 27.875 56 \nQ 33.9375 56 38.25 53.625 \nQ 42.578125 51.265625 45.40625 46.390625 \nz\nM 14.796875 27.296875 \nQ 14.796875 17.390625 18.875 11.75 \nQ 22.953125 6.109375 30.078125 6.109375 \nQ 37.203125 6.109375 41.296875 11.75 \nQ 45.40625 17.390625 45.40625 27.296875 \nQ 45.40625 37.203125 41.296875 42.84375 \nQ 37.203125 48.484375 30.078125 48.484375 \nQ 22.953125 48.484375 18.875 42.84375 \nQ 14.796875 37.203125 14.796875 27.296875 \nz\n\" id=\"DejaVuSans-100\"/>\n       <path d=\"M 52 44.1875 \nQ 55.375 50.25 60.0625 53.125 \nQ 64.75 56 71.09375 56 \nQ 79.640625 56 84.28125 50.015625 \nQ 88.921875 44.046875 88.921875 33.015625 \nL 88.921875 0 \nL 79.890625 0 \nL 79.890625 32.71875 \nQ 79.890625 40.578125 77.09375 44.375 \nQ 74.3125 48.1875 68.609375 48.1875 \nQ 61.625 48.1875 57.5625 43.546875 \nQ 53.515625 38.921875 53.515625 30.90625 \nL 53.515625 0 \nL 44.484375 0 \nL 44.484375 32.71875 \nQ 44.484375 40.625 41.703125 44.40625 \nQ 38.921875 48.1875 33.109375 48.1875 \nQ 26.21875 48.1875 22.15625 43.53125 \nQ 18.109375 38.875 18.109375 30.90625 \nL 18.109375 0 \nL 9.078125 0 \nL 9.078125 54.6875 \nL 18.109375 54.6875 \nL 18.109375 46.1875 \nQ 21.1875 51.21875 25.484375 53.609375 \nQ 29.78125 56 35.6875 56 \nQ 41.65625 56 45.828125 52.96875 \nQ 50 49.953125 52 44.1875 \nz\n\" id=\"DejaVuSans-109\"/>\n       <path d=\"M 18.109375 8.203125 \nL 18.109375 -20.796875 \nL 9.078125 -20.796875 \nL 9.078125 54.6875 \nL 18.109375 54.6875 \nL 18.109375 46.390625 \nQ 20.953125 51.265625 25.265625 53.625 \nQ 29.59375 56 35.59375 56 \nQ 45.5625 56 51.78125 48.09375 \nQ 58.015625 40.1875 58.015625 27.296875 \nQ 58.015625 14.40625 51.78125 6.484375 \nQ 45.5625 -1.421875 35.59375 -1.421875 \nQ 29.59375 -1.421875 25.265625 0.953125 \nQ 20.953125 3.328125 18.109375 8.203125 \nz\nM 48.6875 27.296875 \nQ 48.6875 37.203125 44.609375 42.84375 \nQ 40.53125 48.484375 33.40625 48.484375 \nQ 26.265625 48.484375 22.1875 42.84375 \nQ 18.109375 37.203125 18.109375 27.296875 \nQ 18.109375 17.390625 22.1875 11.75 \nQ 26.265625 6.109375 33.40625 6.109375 \nQ 40.53125 6.109375 44.609375 11.75 \nQ 48.6875 17.390625 48.6875 27.296875 \nz\n\" id=\"DejaVuSans-112\"/>\n       <path d=\"M 30.609375 48.390625 \nQ 23.390625 48.390625 19.1875 42.75 \nQ 14.984375 37.109375 14.984375 27.296875 \nQ 14.984375 17.484375 19.15625 11.84375 \nQ 23.34375 6.203125 30.609375 6.203125 \nQ 37.796875 6.203125 41.984375 11.859375 \nQ 46.1875 17.53125 46.1875 27.296875 \nQ 46.1875 37.015625 41.984375 42.703125 \nQ 37.796875 48.390625 30.609375 48.390625 \nz\nM 30.609375 56 \nQ 42.328125 56 49.015625 48.375 \nQ 55.71875 40.765625 55.71875 27.296875 \nQ 55.71875 13.875 49.015625 6.21875 \nQ 42.328125 -1.421875 30.609375 -1.421875 \nQ 18.84375 -1.421875 12.171875 6.21875 \nQ 5.515625 13.875 5.515625 27.296875 \nQ 5.515625 40.765625 12.171875 48.375 \nQ 18.84375 56 30.609375 56 \nz\n\" id=\"DejaVuSans-111\"/>\n      </defs>\n      <g transform=\"translate(123.715625 39.707344)scale(0.1 -0.1)\">\n       <use xlink:href=\"#DejaVuSans-84\"/>\n       <use x=\"61.083984\" xlink:href=\"#DejaVuSans-104\"/>\n       <use x=\"124.462891\" xlink:href=\"#DejaVuSans-101\"/>\n       <use x=\"185.986328\" xlink:href=\"#DejaVuSans-32\"/>\n       <use x=\"217.773438\" xlink:href=\"#DejaVuSans-83\"/>\n       <use x=\"281.25\" xlink:href=\"#DejaVuSans-104\"/>\n       <use x=\"344.628906\" xlink:href=\"#DejaVuSans-97\"/>\n       <use x=\"405.908203\" xlink:href=\"#DejaVuSans-119\"/>\n       <use x=\"487.695312\" xlink:href=\"#DejaVuSans-115\"/>\n       <use x=\"539.794922\" xlink:href=\"#DejaVuSans-104\"/>\n       <use x=\"603.173828\" xlink:href=\"#DejaVuSans-97\"/>\n       <use x=\"664.453125\" xlink:href=\"#DejaVuSans-110\"/>\n       <use x=\"727.832031\" xlink:href=\"#DejaVuSans-107\"/>\n       <use x=\"785.742188\" xlink:href=\"#DejaVuSans-32\"/>\n       <use x=\"817.529297\" xlink:href=\"#DejaVuSans-82\"/>\n       <use x=\"882.511719\" xlink:href=\"#DejaVuSans-101\"/>\n       <use x=\"944.035156\" xlink:href=\"#DejaVuSans-100\"/>\n       <use x=\"1007.511719\" xlink:href=\"#DejaVuSans-101\"/>\n       <use x=\"1069.035156\" xlink:href=\"#DejaVuSans-109\"/>\n       <use x=\"1166.447266\" xlink:href=\"#DejaVuSans-112\"/>\n       <use x=\"1229.923828\" xlink:href=\"#DejaVuSans-116\"/>\n       <use x=\"1269.132812\" xlink:href=\"#DejaVuSans-105\"/>\n       <use x=\"1296.916016\" xlink:href=\"#DejaVuSans-111\"/>\n       <use x=\"1358.097656\" xlink:href=\"#DejaVuSans-110\"/>\n      </g>\n     </g>\n    </g>\n    <g id=\"ytick_2\">\n     <g id=\"line2d_7\">\n      <g>\n       <use style=\"stroke:#000000;stroke-width:0.8;\" x=\"272.8625\" xlink:href=\"#m2f0e314a0c\" y=\"63.088125\"/>\n      </g>\n     </g>\n     <g id=\"text_8\">\n      <!-- The Godfather -->\n      <defs>\n       <path d=\"M 59.515625 10.40625 \nL 59.515625 29.984375 \nL 43.40625 29.984375 \nL 43.40625 38.09375 \nL 69.28125 38.09375 \nL 69.28125 6.78125 \nQ 63.578125 2.734375 56.6875 0.65625 \nQ 49.8125 -1.421875 42 -1.421875 \nQ 24.90625 -1.421875 15.25 8.5625 \nQ 5.609375 18.5625 5.609375 36.375 \nQ 5.609375 54.25 15.25 64.234375 \nQ 24.90625 74.21875 42 74.21875 \nQ 49.125 74.21875 55.546875 72.453125 \nQ 61.96875 70.703125 67.390625 67.28125 \nL 67.390625 56.78125 \nQ 61.921875 61.421875 55.765625 63.765625 \nQ 49.609375 66.109375 42.828125 66.109375 \nQ 29.4375 66.109375 22.71875 58.640625 \nQ 16.015625 51.171875 16.015625 36.375 \nQ 16.015625 21.625 22.71875 14.15625 \nQ 29.4375 6.6875 42.828125 6.6875 \nQ 48.046875 6.6875 52.140625 7.59375 \nQ 56.25 8.5 59.515625 10.40625 \nz\n\" id=\"DejaVuSans-71\"/>\n       <path d=\"M 37.109375 75.984375 \nL 37.109375 68.5 \nL 28.515625 68.5 \nQ 23.6875 68.5 21.796875 66.546875 \nQ 19.921875 64.59375 19.921875 59.515625 \nL 19.921875 54.6875 \nL 34.71875 54.6875 \nL 34.71875 47.703125 \nL 19.921875 47.703125 \nL 19.921875 0 \nL 10.890625 0 \nL 10.890625 47.703125 \nL 2.296875 47.703125 \nL 2.296875 54.6875 \nL 10.890625 54.6875 \nL 10.890625 58.5 \nQ 10.890625 67.625 15.140625 71.796875 \nQ 19.390625 75.984375 28.609375 75.984375 \nz\n\" id=\"DejaVuSans-102\"/>\n      </defs>\n      <g transform=\"translate(193.7 66.887344)scale(0.1 -0.1)\">\n       <use xlink:href=\"#DejaVuSans-84\"/>\n       <use x=\"61.083984\" xlink:href=\"#DejaVuSans-104\"/>\n       <use x=\"124.462891\" xlink:href=\"#DejaVuSans-101\"/>\n       <use x=\"185.986328\" xlink:href=\"#DejaVuSans-32\"/>\n       <use x=\"217.773438\" xlink:href=\"#DejaVuSans-71\"/>\n       <use x=\"295.263672\" xlink:href=\"#DejaVuSans-111\"/>\n       <use x=\"356.445312\" xlink:href=\"#DejaVuSans-100\"/>\n       <use x=\"419.921875\" xlink:href=\"#DejaVuSans-102\"/>\n       <use x=\"455.126953\" xlink:href=\"#DejaVuSans-97\"/>\n       <use x=\"516.40625\" xlink:href=\"#DejaVuSans-116\"/>\n       <use x=\"555.615234\" xlink:href=\"#DejaVuSans-104\"/>\n       <use x=\"618.994141\" xlink:href=\"#DejaVuSans-101\"/>\n       <use x=\"680.517578\" xlink:href=\"#DejaVuSans-114\"/>\n      </g>\n     </g>\n    </g>\n    <g id=\"ytick_3\">\n     <g id=\"line2d_8\">\n      <g>\n       <use style=\"stroke:#000000;stroke-width:0.8;\" x=\"272.8625\" xlink:href=\"#m2f0e314a0c\" y=\"90.268125\"/>\n      </g>\n     </g>\n     <g id=\"text_9\">\n      <!-- The Dark Knight -->\n      <defs>\n       <path d=\"M 19.671875 64.796875 \nL 19.671875 8.109375 \nL 31.59375 8.109375 \nQ 46.6875 8.109375 53.6875 14.9375 \nQ 60.6875 21.78125 60.6875 36.53125 \nQ 60.6875 51.171875 53.6875 57.984375 \nQ 46.6875 64.796875 31.59375 64.796875 \nz\nM 9.8125 72.90625 \nL 30.078125 72.90625 \nQ 51.265625 72.90625 61.171875 64.09375 \nQ 71.09375 55.28125 71.09375 36.53125 \nQ 71.09375 17.671875 61.125 8.828125 \nQ 51.171875 0 30.078125 0 \nL 9.8125 0 \nz\n\" id=\"DejaVuSans-68\"/>\n       <path d=\"M 9.8125 72.90625 \nL 19.671875 72.90625 \nL 19.671875 42.09375 \nL 52.390625 72.90625 \nL 65.09375 72.90625 \nL 28.90625 38.921875 \nL 67.671875 0 \nL 54.6875 0 \nL 19.671875 35.109375 \nL 19.671875 0 \nL 9.8125 0 \nz\n\" id=\"DejaVuSans-75\"/>\n      </defs>\n      <g transform=\"translate(184.898437 94.067344)scale(0.1 -0.1)\">\n       <use xlink:href=\"#DejaVuSans-84\"/>\n       <use x=\"61.083984\" xlink:href=\"#DejaVuSans-104\"/>\n       <use x=\"124.462891\" xlink:href=\"#DejaVuSans-101\"/>\n       <use x=\"185.986328\" xlink:href=\"#DejaVuSans-32\"/>\n       <use x=\"217.773438\" xlink:href=\"#DejaVuSans-68\"/>\n       <use x=\"294.775391\" xlink:href=\"#DejaVuSans-97\"/>\n       <use x=\"356.054688\" xlink:href=\"#DejaVuSans-114\"/>\n       <use x=\"397.167969\" xlink:href=\"#DejaVuSans-107\"/>\n       <use x=\"455.078125\" xlink:href=\"#DejaVuSans-32\"/>\n       <use x=\"486.865234\" xlink:href=\"#DejaVuSans-75\"/>\n       <use x=\"552.441406\" xlink:href=\"#DejaVuSans-110\"/>\n       <use x=\"615.820312\" xlink:href=\"#DejaVuSans-105\"/>\n       <use x=\"643.603516\" xlink:href=\"#DejaVuSans-103\"/>\n       <use x=\"707.080078\" xlink:href=\"#DejaVuSans-104\"/>\n       <use x=\"770.458984\" xlink:href=\"#DejaVuSans-116\"/>\n      </g>\n     </g>\n    </g>\n    <g id=\"ytick_4\">\n     <g id=\"line2d_9\">\n      <g>\n       <use style=\"stroke:#000000;stroke-width:0.8;\" x=\"272.8625\" xlink:href=\"#m2f0e314a0c\" y=\"117.448125\"/>\n      </g>\n     </g>\n     <g id=\"text_10\">\n      <!-- The Godfather Part II -->\n      <defs>\n       <path d=\"M 19.671875 64.796875 \nL 19.671875 37.40625 \nL 32.078125 37.40625 \nQ 38.96875 37.40625 42.71875 40.96875 \nQ 46.484375 44.53125 46.484375 51.125 \nQ 46.484375 57.671875 42.71875 61.234375 \nQ 38.96875 64.796875 32.078125 64.796875 \nz\nM 9.8125 72.90625 \nL 32.078125 72.90625 \nQ 44.34375 72.90625 50.609375 67.359375 \nQ 56.890625 61.8125 56.890625 51.125 \nQ 56.890625 40.328125 50.609375 34.8125 \nQ 44.34375 29.296875 32.078125 29.296875 \nL 19.671875 29.296875 \nL 19.671875 0 \nL 9.8125 0 \nz\n\" id=\"DejaVuSans-80\"/>\n       <path d=\"M 9.8125 72.90625 \nL 19.671875 72.90625 \nL 19.671875 0 \nL 9.8125 0 \nz\n\" id=\"DejaVuSans-73\"/>\n      </defs>\n      <g transform=\"translate(161.704687 121.247344)scale(0.1 -0.1)\">\n       <use xlink:href=\"#DejaVuSans-84\"/>\n       <use x=\"61.083984\" xlink:href=\"#DejaVuSans-104\"/>\n       <use x=\"124.462891\" xlink:href=\"#DejaVuSans-101\"/>\n       <use x=\"185.986328\" xlink:href=\"#DejaVuSans-32\"/>\n       <use x=\"217.773438\" xlink:href=\"#DejaVuSans-71\"/>\n       <use x=\"295.263672\" xlink:href=\"#DejaVuSans-111\"/>\n       <use x=\"356.445312\" xlink:href=\"#DejaVuSans-100\"/>\n       <use x=\"419.921875\" xlink:href=\"#DejaVuSans-102\"/>\n       <use x=\"455.126953\" xlink:href=\"#DejaVuSans-97\"/>\n       <use x=\"516.40625\" xlink:href=\"#DejaVuSans-116\"/>\n       <use x=\"555.615234\" xlink:href=\"#DejaVuSans-104\"/>\n       <use x=\"618.994141\" xlink:href=\"#DejaVuSans-101\"/>\n       <use x=\"680.517578\" xlink:href=\"#DejaVuSans-114\"/>\n       <use x=\"721.630859\" xlink:href=\"#DejaVuSans-32\"/>\n       <use x=\"753.417969\" xlink:href=\"#DejaVuSans-80\"/>\n       <use x=\"809.220703\" xlink:href=\"#DejaVuSans-97\"/>\n       <use x=\"870.5\" xlink:href=\"#DejaVuSans-114\"/>\n       <use x=\"911.613281\" xlink:href=\"#DejaVuSans-116\"/>\n       <use x=\"950.822266\" xlink:href=\"#DejaVuSans-32\"/>\n       <use x=\"982.609375\" xlink:href=\"#DejaVuSans-73\"/>\n       <use x=\"1012.101562\" xlink:href=\"#DejaVuSans-73\"/>\n      </g>\n     </g>\n    </g>\n    <g id=\"ytick_5\">\n     <g id=\"line2d_10\">\n      <g>\n       <use style=\"stroke:#000000;stroke-width:0.8;\" x=\"272.8625\" xlink:href=\"#m2f0e314a0c\" y=\"144.628125\"/>\n      </g>\n     </g>\n     <g id=\"text_11\">\n      <!-- 12 Angry Men -->\n      <defs>\n       <path d=\"M 12.40625 8.296875 \nL 28.515625 8.296875 \nL 28.515625 63.921875 \nL 10.984375 60.40625 \nL 10.984375 69.390625 \nL 28.421875 72.90625 \nL 38.28125 72.90625 \nL 38.28125 8.296875 \nL 54.390625 8.296875 \nL 54.390625 0 \nL 12.40625 0 \nz\n\" id=\"DejaVuSans-49\"/>\n       <path d=\"M 34.1875 63.1875 \nL 20.796875 26.90625 \nL 47.609375 26.90625 \nz\nM 28.609375 72.90625 \nL 39.796875 72.90625 \nL 67.578125 0 \nL 57.328125 0 \nL 50.6875 18.703125 \nL 17.828125 18.703125 \nL 11.1875 0 \nL 0.78125 0 \nz\n\" id=\"DejaVuSans-65\"/>\n       <path d=\"M 32.171875 -5.078125 \nQ 28.375 -14.84375 24.75 -17.8125 \nQ 21.140625 -20.796875 15.09375 -20.796875 \nL 7.90625 -20.796875 \nL 7.90625 -13.28125 \nL 13.1875 -13.28125 \nQ 16.890625 -13.28125 18.9375 -11.515625 \nQ 21 -9.765625 23.484375 -3.21875 \nL 25.09375 0.875 \nL 2.984375 54.6875 \nL 12.5 54.6875 \nL 29.59375 11.921875 \nL 46.6875 54.6875 \nL 56.203125 54.6875 \nz\n\" id=\"DejaVuSans-121\"/>\n       <path d=\"M 9.8125 72.90625 \nL 24.515625 72.90625 \nL 43.109375 23.296875 \nL 61.8125 72.90625 \nL 76.515625 72.90625 \nL 76.515625 0 \nL 66.890625 0 \nL 66.890625 64.015625 \nL 48.09375 14.015625 \nL 38.1875 14.015625 \nL 19.390625 64.015625 \nL 19.390625 0 \nL 9.8125 0 \nz\n\" id=\"DejaVuSans-77\"/>\n      </defs>\n      <g transform=\"translate(196.10625 148.427344)scale(0.1 -0.1)\">\n       <use xlink:href=\"#DejaVuSans-49\"/>\n       <use x=\"63.623047\" xlink:href=\"#DejaVuSans-50\"/>\n       <use x=\"127.246094\" xlink:href=\"#DejaVuSans-32\"/>\n       <use x=\"159.033203\" xlink:href=\"#DejaVuSans-65\"/>\n       <use x=\"227.441406\" xlink:href=\"#DejaVuSans-110\"/>\n       <use x=\"290.820312\" xlink:href=\"#DejaVuSans-103\"/>\n       <use x=\"354.296875\" xlink:href=\"#DejaVuSans-114\"/>\n       <use x=\"395.410156\" xlink:href=\"#DejaVuSans-121\"/>\n       <use x=\"454.589844\" xlink:href=\"#DejaVuSans-32\"/>\n       <use x=\"486.376953\" xlink:href=\"#DejaVuSans-77\"/>\n       <use x=\"572.65625\" xlink:href=\"#DejaVuSans-101\"/>\n       <use x=\"634.179688\" xlink:href=\"#DejaVuSans-110\"/>\n      </g>\n     </g>\n    </g>\n    <g id=\"ytick_6\">\n     <g id=\"line2d_11\">\n      <g>\n       <use style=\"stroke:#000000;stroke-width:0.8;\" x=\"272.8625\" xlink:href=\"#m2f0e314a0c\" y=\"171.808125\"/>\n      </g>\n     </g>\n     <g id=\"text_12\">\n      <!-- Schindler's List -->\n      <defs>\n       <path d=\"M 48.78125 52.59375 \nL 48.78125 44.1875 \nQ 44.96875 46.296875 41.140625 47.34375 \nQ 37.3125 48.390625 33.40625 48.390625 \nQ 24.65625 48.390625 19.8125 42.84375 \nQ 14.984375 37.3125 14.984375 27.296875 \nQ 14.984375 17.28125 19.8125 11.734375 \nQ 24.65625 6.203125 33.40625 6.203125 \nQ 37.3125 6.203125 41.140625 7.25 \nQ 44.96875 8.296875 48.78125 10.40625 \nL 48.78125 2.09375 \nQ 45.015625 0.34375 40.984375 -0.53125 \nQ 36.96875 -1.421875 32.421875 -1.421875 \nQ 20.0625 -1.421875 12.78125 6.34375 \nQ 5.515625 14.109375 5.515625 27.296875 \nQ 5.515625 40.671875 12.859375 48.328125 \nQ 20.21875 56 33.015625 56 \nQ 37.15625 56 41.109375 55.140625 \nQ 45.0625 54.296875 48.78125 52.59375 \nz\n\" id=\"DejaVuSans-99\"/>\n       <path d=\"M 9.421875 75.984375 \nL 18.40625 75.984375 \nL 18.40625 0 \nL 9.421875 0 \nz\n\" id=\"DejaVuSans-108\"/>\n       <path d=\"M 17.921875 72.90625 \nL 17.921875 45.796875 \nL 9.625 45.796875 \nL 9.625 72.90625 \nz\n\" id=\"DejaVuSans-39\"/>\n       <path d=\"M 9.8125 72.90625 \nL 19.671875 72.90625 \nL 19.671875 8.296875 \nL 55.171875 8.296875 \nL 55.171875 0 \nL 9.8125 0 \nz\n\" id=\"DejaVuSans-76\"/>\n      </defs>\n      <g transform=\"translate(190.55625 175.607344)scale(0.1 -0.1)\">\n       <use xlink:href=\"#DejaVuSans-83\"/>\n       <use x=\"63.476562\" xlink:href=\"#DejaVuSans-99\"/>\n       <use x=\"118.457031\" xlink:href=\"#DejaVuSans-104\"/>\n       <use x=\"181.835938\" xlink:href=\"#DejaVuSans-105\"/>\n       <use x=\"209.619141\" xlink:href=\"#DejaVuSans-110\"/>\n       <use x=\"272.998047\" xlink:href=\"#DejaVuSans-100\"/>\n       <use x=\"336.474609\" xlink:href=\"#DejaVuSans-108\"/>\n       <use x=\"364.257812\" xlink:href=\"#DejaVuSans-101\"/>\n       <use x=\"425.78125\" xlink:href=\"#DejaVuSans-114\"/>\n       <use x=\"466.894531\" xlink:href=\"#DejaVuSans-39\"/>\n       <use x=\"494.384766\" xlink:href=\"#DejaVuSans-115\"/>\n       <use x=\"546.484375\" xlink:href=\"#DejaVuSans-32\"/>\n       <use x=\"578.271484\" xlink:href=\"#DejaVuSans-76\"/>\n       <use x=\"633.984375\" xlink:href=\"#DejaVuSans-105\"/>\n       <use x=\"661.767578\" xlink:href=\"#DejaVuSans-115\"/>\n       <use x=\"713.867188\" xlink:href=\"#DejaVuSans-116\"/>\n      </g>\n     </g>\n    </g>\n    <g id=\"ytick_7\">\n     <g id=\"line2d_12\">\n      <g>\n       <use style=\"stroke:#000000;stroke-width:0.8;\" x=\"272.8625\" xlink:href=\"#m2f0e314a0c\" y=\"198.988125\"/>\n      </g>\n     </g>\n     <g id=\"text_13\">\n      <!-- The Lord of the Rings: The Return of the King -->\n      <defs>\n       <path d=\"M 11.71875 12.40625 \nL 22.015625 12.40625 \nL 22.015625 0 \nL 11.71875 0 \nz\nM 11.71875 51.703125 \nL 22.015625 51.703125 \nL 22.015625 39.3125 \nL 11.71875 39.3125 \nz\n\" id=\"DejaVuSans-58\"/>\n       <path d=\"M 8.5 21.578125 \nL 8.5 54.6875 \nL 17.484375 54.6875 \nL 17.484375 21.921875 \nQ 17.484375 14.15625 20.5 10.265625 \nQ 23.53125 6.390625 29.59375 6.390625 \nQ 36.859375 6.390625 41.078125 11.03125 \nQ 45.3125 15.671875 45.3125 23.6875 \nL 45.3125 54.6875 \nL 54.296875 54.6875 \nL 54.296875 0 \nL 45.3125 0 \nL 45.3125 8.40625 \nQ 42.046875 3.421875 37.71875 1 \nQ 33.40625 -1.421875 27.6875 -1.421875 \nQ 18.265625 -1.421875 13.375 4.4375 \nQ 8.5 10.296875 8.5 21.578125 \nz\nM 31.109375 56 \nz\n\" id=\"DejaVuSans-117\"/>\n      </defs>\n      <g transform=\"translate(39.967187 202.787344)scale(0.1 -0.1)\">\n       <use xlink:href=\"#DejaVuSans-84\"/>\n       <use x=\"61.083984\" xlink:href=\"#DejaVuSans-104\"/>\n       <use x=\"124.462891\" xlink:href=\"#DejaVuSans-101\"/>\n       <use x=\"185.986328\" xlink:href=\"#DejaVuSans-32\"/>\n       <use x=\"217.773438\" xlink:href=\"#DejaVuSans-76\"/>\n       <use x=\"271.736328\" xlink:href=\"#DejaVuSans-111\"/>\n       <use x=\"332.917969\" xlink:href=\"#DejaVuSans-114\"/>\n       <use x=\"372.28125\" xlink:href=\"#DejaVuSans-100\"/>\n       <use x=\"435.757812\" xlink:href=\"#DejaVuSans-32\"/>\n       <use x=\"467.544922\" xlink:href=\"#DejaVuSans-111\"/>\n       <use x=\"528.726562\" xlink:href=\"#DejaVuSans-102\"/>\n       <use x=\"563.931641\" xlink:href=\"#DejaVuSans-32\"/>\n       <use x=\"595.71875\" xlink:href=\"#DejaVuSans-116\"/>\n       <use x=\"634.927734\" xlink:href=\"#DejaVuSans-104\"/>\n       <use x=\"698.306641\" xlink:href=\"#DejaVuSans-101\"/>\n       <use x=\"759.830078\" xlink:href=\"#DejaVuSans-32\"/>\n       <use x=\"791.617188\" xlink:href=\"#DejaVuSans-82\"/>\n       <use x=\"861.099609\" xlink:href=\"#DejaVuSans-105\"/>\n       <use x=\"888.882812\" xlink:href=\"#DejaVuSans-110\"/>\n       <use x=\"952.261719\" xlink:href=\"#DejaVuSans-103\"/>\n       <use x=\"1015.738281\" xlink:href=\"#DejaVuSans-115\"/>\n       <use x=\"1067.837891\" xlink:href=\"#DejaVuSans-58\"/>\n       <use x=\"1101.529297\" xlink:href=\"#DejaVuSans-32\"/>\n       <use x=\"1133.316406\" xlink:href=\"#DejaVuSans-84\"/>\n       <use x=\"1194.400391\" xlink:href=\"#DejaVuSans-104\"/>\n       <use x=\"1257.779297\" xlink:href=\"#DejaVuSans-101\"/>\n       <use x=\"1319.302734\" xlink:href=\"#DejaVuSans-32\"/>\n       <use x=\"1351.089844\" xlink:href=\"#DejaVuSans-82\"/>\n       <use x=\"1416.072266\" xlink:href=\"#DejaVuSans-101\"/>\n       <use x=\"1477.595703\" xlink:href=\"#DejaVuSans-116\"/>\n       <use x=\"1516.804688\" xlink:href=\"#DejaVuSans-117\"/>\n       <use x=\"1580.183594\" xlink:href=\"#DejaVuSans-114\"/>\n       <use x=\"1619.546875\" xlink:href=\"#DejaVuSans-110\"/>\n       <use x=\"1682.925781\" xlink:href=\"#DejaVuSans-32\"/>\n       <use x=\"1714.712891\" xlink:href=\"#DejaVuSans-111\"/>\n       <use x=\"1775.894531\" xlink:href=\"#DejaVuSans-102\"/>\n       <use x=\"1811.099609\" xlink:href=\"#DejaVuSans-32\"/>\n       <use x=\"1842.886719\" xlink:href=\"#DejaVuSans-116\"/>\n       <use x=\"1882.095703\" xlink:href=\"#DejaVuSans-104\"/>\n       <use x=\"1945.474609\" xlink:href=\"#DejaVuSans-101\"/>\n       <use x=\"2006.998047\" xlink:href=\"#DejaVuSans-32\"/>\n       <use x=\"2038.785156\" xlink:href=\"#DejaVuSans-75\"/>\n       <use x=\"2104.361328\" xlink:href=\"#DejaVuSans-105\"/>\n       <use x=\"2132.144531\" xlink:href=\"#DejaVuSans-110\"/>\n       <use x=\"2195.523438\" xlink:href=\"#DejaVuSans-103\"/>\n      </g>\n     </g>\n    </g>\n    <g id=\"ytick_8\">\n     <g id=\"line2d_13\">\n      <g>\n       <use style=\"stroke:#000000;stroke-width:0.8;\" x=\"272.8625\" xlink:href=\"#m2f0e314a0c\" y=\"226.168125\"/>\n      </g>\n     </g>\n     <g id=\"text_14\">\n      <!-- Pulp Fiction -->\n      <defs>\n       <path d=\"M 9.8125 72.90625 \nL 51.703125 72.90625 \nL 51.703125 64.59375 \nL 19.671875 64.59375 \nL 19.671875 43.109375 \nL 48.578125 43.109375 \nL 48.578125 34.8125 \nL 19.671875 34.8125 \nL 19.671875 0 \nL 9.8125 0 \nz\n\" id=\"DejaVuSans-70\"/>\n      </defs>\n      <g transform=\"translate(208.907812 229.967344)scale(0.1 -0.1)\">\n       <use xlink:href=\"#DejaVuSans-80\"/>\n       <use x=\"58.552734\" xlink:href=\"#DejaVuSans-117\"/>\n       <use x=\"121.931641\" xlink:href=\"#DejaVuSans-108\"/>\n       <use x=\"149.714844\" xlink:href=\"#DejaVuSans-112\"/>\n       <use x=\"213.191406\" xlink:href=\"#DejaVuSans-32\"/>\n       <use x=\"244.978516\" xlink:href=\"#DejaVuSans-70\"/>\n       <use x=\"295.248047\" xlink:href=\"#DejaVuSans-105\"/>\n       <use x=\"323.03125\" xlink:href=\"#DejaVuSans-99\"/>\n       <use x=\"378.011719\" xlink:href=\"#DejaVuSans-116\"/>\n       <use x=\"417.220703\" xlink:href=\"#DejaVuSans-105\"/>\n       <use x=\"445.003906\" xlink:href=\"#DejaVuSans-111\"/>\n       <use x=\"506.185547\" xlink:href=\"#DejaVuSans-110\"/>\n      </g>\n     </g>\n    </g>\n    <g id=\"ytick_9\">\n     <g id=\"line2d_14\">\n      <g>\n       <use style=\"stroke:#000000;stroke-width:0.8;\" x=\"272.8625\" xlink:href=\"#m2f0e314a0c\" y=\"253.348125\"/>\n      </g>\n     </g>\n     <g id=\"text_15\">\n      <!-- The Lord of the Rings: The Fellowship of the Ring -->\n      <g transform=\"translate(20.878125 257.147344)scale(0.1 -0.1)\">\n       <use xlink:href=\"#DejaVuSans-84\"/>\n       <use x=\"61.083984\" xlink:href=\"#DejaVuSans-104\"/>\n       <use x=\"124.462891\" xlink:href=\"#DejaVuSans-101\"/>\n       <use x=\"185.986328\" xlink:href=\"#DejaVuSans-32\"/>\n       <use x=\"217.773438\" xlink:href=\"#DejaVuSans-76\"/>\n       <use x=\"271.736328\" xlink:href=\"#DejaVuSans-111\"/>\n       <use x=\"332.917969\" xlink:href=\"#DejaVuSans-114\"/>\n       <use x=\"372.28125\" xlink:href=\"#DejaVuSans-100\"/>\n       <use x=\"435.757812\" xlink:href=\"#DejaVuSans-32\"/>\n       <use x=\"467.544922\" xlink:href=\"#DejaVuSans-111\"/>\n       <use x=\"528.726562\" xlink:href=\"#DejaVuSans-102\"/>\n       <use x=\"563.931641\" xlink:href=\"#DejaVuSans-32\"/>\n       <use x=\"595.71875\" xlink:href=\"#DejaVuSans-116\"/>\n       <use x=\"634.927734\" xlink:href=\"#DejaVuSans-104\"/>\n       <use x=\"698.306641\" xlink:href=\"#DejaVuSans-101\"/>\n       <use x=\"759.830078\" xlink:href=\"#DejaVuSans-32\"/>\n       <use x=\"791.617188\" xlink:href=\"#DejaVuSans-82\"/>\n       <use x=\"861.099609\" xlink:href=\"#DejaVuSans-105\"/>\n       <use x=\"888.882812\" xlink:href=\"#DejaVuSans-110\"/>\n       <use x=\"952.261719\" xlink:href=\"#DejaVuSans-103\"/>\n       <use x=\"1015.738281\" xlink:href=\"#DejaVuSans-115\"/>\n       <use x=\"1067.837891\" xlink:href=\"#DejaVuSans-58\"/>\n       <use x=\"1101.529297\" xlink:href=\"#DejaVuSans-32\"/>\n       <use x=\"1133.316406\" xlink:href=\"#DejaVuSans-84\"/>\n       <use x=\"1194.400391\" xlink:href=\"#DejaVuSans-104\"/>\n       <use x=\"1257.779297\" xlink:href=\"#DejaVuSans-101\"/>\n       <use x=\"1319.302734\" xlink:href=\"#DejaVuSans-32\"/>\n       <use x=\"1351.089844\" xlink:href=\"#DejaVuSans-70\"/>\n       <use x=\"1403.109375\" xlink:href=\"#DejaVuSans-101\"/>\n       <use x=\"1464.632812\" xlink:href=\"#DejaVuSans-108\"/>\n       <use x=\"1492.416016\" xlink:href=\"#DejaVuSans-108\"/>\n       <use x=\"1520.199219\" xlink:href=\"#DejaVuSans-111\"/>\n       <use x=\"1581.380859\" xlink:href=\"#DejaVuSans-119\"/>\n       <use x=\"1663.167969\" xlink:href=\"#DejaVuSans-115\"/>\n       <use x=\"1715.267578\" xlink:href=\"#DejaVuSans-104\"/>\n       <use x=\"1778.646484\" xlink:href=\"#DejaVuSans-105\"/>\n       <use x=\"1806.429688\" xlink:href=\"#DejaVuSans-112\"/>\n       <use x=\"1869.90625\" xlink:href=\"#DejaVuSans-32\"/>\n       <use x=\"1901.693359\" xlink:href=\"#DejaVuSans-111\"/>\n       <use x=\"1962.875\" xlink:href=\"#DejaVuSans-102\"/>\n       <use x=\"1998.080078\" xlink:href=\"#DejaVuSans-32\"/>\n       <use x=\"2029.867188\" xlink:href=\"#DejaVuSans-116\"/>\n       <use x=\"2069.076172\" xlink:href=\"#DejaVuSans-104\"/>\n       <use x=\"2132.455078\" xlink:href=\"#DejaVuSans-101\"/>\n       <use x=\"2193.978516\" xlink:href=\"#DejaVuSans-32\"/>\n       <use x=\"2225.765625\" xlink:href=\"#DejaVuSans-82\"/>\n       <use x=\"2295.248047\" xlink:href=\"#DejaVuSans-105\"/>\n       <use x=\"2323.03125\" xlink:href=\"#DejaVuSans-110\"/>\n       <use x=\"2386.410156\" xlink:href=\"#DejaVuSans-103\"/>\n      </g>\n     </g>\n    </g>\n    <g id=\"ytick_10\">\n     <g id=\"line2d_15\">\n      <g>\n       <use style=\"stroke:#000000;stroke-width:0.8;\" x=\"272.8625\" xlink:href=\"#m2f0e314a0c\" y=\"280.528125\"/>\n      </g>\n     </g>\n     <g id=\"text_16\">\n      <!-- The Good, the Bad and the Ugly -->\n      <defs>\n       <path d=\"M 11.71875 12.40625 \nL 22.015625 12.40625 \nL 22.015625 4 \nL 14.015625 -11.625 \nL 7.71875 -11.625 \nL 11.71875 4 \nz\n\" id=\"DejaVuSans-44\"/>\n       <path d=\"M 19.671875 34.8125 \nL 19.671875 8.109375 \nL 35.5 8.109375 \nQ 43.453125 8.109375 47.28125 11.40625 \nQ 51.125 14.703125 51.125 21.484375 \nQ 51.125 28.328125 47.28125 31.5625 \nQ 43.453125 34.8125 35.5 34.8125 \nz\nM 19.671875 64.796875 \nL 19.671875 42.828125 \nL 34.28125 42.828125 \nQ 41.5 42.828125 45.03125 45.53125 \nQ 48.578125 48.25 48.578125 53.8125 \nQ 48.578125 59.328125 45.03125 62.0625 \nQ 41.5 64.796875 34.28125 64.796875 \nz\nM 9.8125 72.90625 \nL 35.015625 72.90625 \nQ 46.296875 72.90625 52.390625 68.21875 \nQ 58.5 63.53125 58.5 54.890625 \nQ 58.5 48.1875 55.375 44.234375 \nQ 52.25 40.28125 46.1875 39.3125 \nQ 53.46875 37.75 57.5 32.78125 \nQ 61.53125 27.828125 61.53125 20.40625 \nQ 61.53125 10.640625 54.890625 5.3125 \nQ 48.25 0 35.984375 0 \nL 9.8125 0 \nz\n\" id=\"DejaVuSans-66\"/>\n       <path d=\"M 8.6875 72.90625 \nL 18.609375 72.90625 \nL 18.609375 28.609375 \nQ 18.609375 16.890625 22.84375 11.734375 \nQ 27.09375 6.59375 36.625 6.59375 \nQ 46.09375 6.59375 50.34375 11.734375 \nQ 54.59375 16.890625 54.59375 28.609375 \nL 54.59375 72.90625 \nL 64.5 72.90625 \nL 64.5 27.390625 \nQ 64.5 13.140625 57.4375 5.859375 \nQ 50.390625 -1.421875 36.625 -1.421875 \nQ 22.796875 -1.421875 15.734375 5.859375 \nQ 8.6875 13.140625 8.6875 27.390625 \nz\n\" id=\"DejaVuSans-85\"/>\n      </defs>\n      <g transform=\"translate(105.345312 284.327344)scale(0.1 -0.1)\">\n       <use xlink:href=\"#DejaVuSans-84\"/>\n       <use x=\"61.083984\" xlink:href=\"#DejaVuSans-104\"/>\n       <use x=\"124.462891\" xlink:href=\"#DejaVuSans-101\"/>\n       <use x=\"185.986328\" xlink:href=\"#DejaVuSans-32\"/>\n       <use x=\"217.773438\" xlink:href=\"#DejaVuSans-71\"/>\n       <use x=\"295.263672\" xlink:href=\"#DejaVuSans-111\"/>\n       <use x=\"356.445312\" xlink:href=\"#DejaVuSans-111\"/>\n       <use x=\"417.626953\" xlink:href=\"#DejaVuSans-100\"/>\n       <use x=\"481.103516\" xlink:href=\"#DejaVuSans-44\"/>\n       <use x=\"512.890625\" xlink:href=\"#DejaVuSans-32\"/>\n       <use x=\"544.677734\" xlink:href=\"#DejaVuSans-116\"/>\n       <use x=\"583.886719\" xlink:href=\"#DejaVuSans-104\"/>\n       <use x=\"647.265625\" xlink:href=\"#DejaVuSans-101\"/>\n       <use x=\"708.789062\" xlink:href=\"#DejaVuSans-32\"/>\n       <use x=\"740.576172\" xlink:href=\"#DejaVuSans-66\"/>\n       <use x=\"809.179688\" xlink:href=\"#DejaVuSans-97\"/>\n       <use x=\"870.458984\" xlink:href=\"#DejaVuSans-100\"/>\n       <use x=\"933.935547\" xlink:href=\"#DejaVuSans-32\"/>\n       <use x=\"965.722656\" xlink:href=\"#DejaVuSans-97\"/>\n       <use x=\"1027.001953\" xlink:href=\"#DejaVuSans-110\"/>\n       <use x=\"1090.380859\" xlink:href=\"#DejaVuSans-100\"/>\n       <use x=\"1153.857422\" xlink:href=\"#DejaVuSans-32\"/>\n       <use x=\"1185.644531\" xlink:href=\"#DejaVuSans-116\"/>\n       <use x=\"1224.853516\" xlink:href=\"#DejaVuSans-104\"/>\n       <use x=\"1288.232422\" xlink:href=\"#DejaVuSans-101\"/>\n       <use x=\"1349.755859\" xlink:href=\"#DejaVuSans-32\"/>\n       <use x=\"1381.542969\" xlink:href=\"#DejaVuSans-85\"/>\n       <use x=\"1454.736328\" xlink:href=\"#DejaVuSans-103\"/>\n       <use x=\"1518.212891\" xlink:href=\"#DejaVuSans-108\"/>\n       <use x=\"1545.996094\" xlink:href=\"#DejaVuSans-121\"/>\n      </g>\n     </g>\n    </g>\n    <g id=\"text_17\">\n     <!-- title -->\n     <g transform=\"translate(14.798437 167.993125)rotate(-90)scale(0.1 -0.1)\">\n      <use xlink:href=\"#DejaVuSans-116\"/>\n      <use x=\"39.208984\" xlink:href=\"#DejaVuSans-105\"/>\n      <use x=\"66.992188\" xlink:href=\"#DejaVuSans-116\"/>\n      <use x=\"106.201172\" xlink:href=\"#DejaVuSans-108\"/>\n      <use x=\"133.984375\" xlink:href=\"#DejaVuSans-101\"/>\n     </g>\n    </g>\n   </g>\n   <g id=\"line2d_16\">\n    <path clip-path=\"url(#p308b38d4a3)\" d=\"M 0 0 \n\" style=\"fill:none;stroke:#424242;stroke-linecap:square;stroke-width:2.7;\"/>\n   </g>\n   <g id=\"line2d_17\">\n    <path clip-path=\"url(#p308b38d4a3)\" d=\"M 0 0 \n\" style=\"fill:none;stroke:#424242;stroke-linecap:square;stroke-width:2.7;\"/>\n   </g>\n   <g id=\"line2d_18\">\n    <path clip-path=\"url(#p308b38d4a3)\" d=\"M 0 0 \n\" style=\"fill:none;stroke:#424242;stroke-linecap:square;stroke-width:2.7;\"/>\n   </g>\n   <g id=\"line2d_19\">\n    <path clip-path=\"url(#p308b38d4a3)\" d=\"M 0 0 \n\" style=\"fill:none;stroke:#424242;stroke-linecap:square;stroke-width:2.7;\"/>\n   </g>\n   <g id=\"line2d_20\">\n    <path clip-path=\"url(#p308b38d4a3)\" d=\"M 0 0 \n\" style=\"fill:none;stroke:#424242;stroke-linecap:square;stroke-width:2.7;\"/>\n   </g>\n   <g id=\"line2d_21\">\n    <path clip-path=\"url(#p308b38d4a3)\" d=\"M 0 0 \n\" style=\"fill:none;stroke:#424242;stroke-linecap:square;stroke-width:2.7;\"/>\n   </g>\n   <g id=\"line2d_22\">\n    <path clip-path=\"url(#p308b38d4a3)\" d=\"M 0 0 \n\" style=\"fill:none;stroke:#424242;stroke-linecap:square;stroke-width:2.7;\"/>\n   </g>\n   <g id=\"line2d_23\">\n    <path clip-path=\"url(#p308b38d4a3)\" d=\"M 0 0 \n\" style=\"fill:none;stroke:#424242;stroke-linecap:square;stroke-width:2.7;\"/>\n   </g>\n   <g id=\"line2d_24\">\n    <path clip-path=\"url(#p308b38d4a3)\" d=\"M 0 0 \n\" style=\"fill:none;stroke:#424242;stroke-linecap:square;stroke-width:2.7;\"/>\n   </g>\n   <g id=\"line2d_25\">\n    <path clip-path=\"url(#p308b38d4a3)\" d=\"M 0 0 \n\" style=\"fill:none;stroke:#424242;stroke-linecap:square;stroke-width:2.7;\"/>\n   </g>\n   <g id=\"patch_13\">\n    <path d=\"M 272.8625 294.118125 \nL 272.8625 22.318125 \n\" style=\"fill:none;stroke:#000000;stroke-linecap:square;stroke-linejoin:miter;stroke-width:0.8;\"/>\n   </g>\n   <g id=\"patch_14\">\n    <path d=\"M 719.2625 294.118125 \nL 719.2625 22.318125 \n\" style=\"fill:none;stroke:#000000;stroke-linecap:square;stroke-linejoin:miter;stroke-width:0.8;\"/>\n   </g>\n   <g id=\"patch_15\">\n    <path d=\"M 272.8625 294.118125 \nL 719.2625 294.118125 \n\" style=\"fill:none;stroke:#000000;stroke-linecap:square;stroke-linejoin:miter;stroke-width:0.8;\"/>\n   </g>\n   <g id=\"patch_16\">\n    <path d=\"M 272.8625 22.318125 \nL 719.2625 22.318125 \n\" style=\"fill:none;stroke:#000000;stroke-linecap:square;stroke-linejoin:miter;stroke-width:0.8;\"/>\n   </g>\n   <g id=\"text_18\">\n    <!-- Топ фильмов по их рейтингу(округлен до десятых) -->\n    <defs>\n     <path d=\"M -0.296875 72.90625 \nL 61.375 72.90625 \nL 61.375 64.59375 \nL 35.5 64.59375 \nL 35.5 0 \nL 25.59375 0 \nL 25.59375 64.59375 \nL -0.296875 64.59375 \nz\n\" id=\"DejaVuSans-1058\"/>\n     <path d=\"M 30.609375 48.390625 \nQ 23.390625 48.390625 19.1875 42.75 \nQ 14.984375 37.109375 14.984375 27.296875 \nQ 14.984375 17.484375 19.15625 11.84375 \nQ 23.34375 6.203125 30.609375 6.203125 \nQ 37.796875 6.203125 41.984375 11.859375 \nQ 46.1875 17.53125 46.1875 27.296875 \nQ 46.1875 37.015625 41.984375 42.703125 \nQ 37.796875 48.390625 30.609375 48.390625 \nz\nM 30.609375 56 \nQ 42.328125 56 49.015625 48.375 \nQ 55.71875 40.765625 55.71875 27.296875 \nQ 55.71875 13.875 49.015625 6.21875 \nQ 42.328125 -1.421875 30.609375 -1.421875 \nQ 18.84375 -1.421875 12.171875 6.21875 \nQ 5.515625 13.875 5.515625 27.296875 \nQ 5.515625 40.765625 12.171875 48.375 \nQ 18.84375 56 30.609375 56 \nz\n\" id=\"DejaVuSans-1086\"/>\n     <path d=\"M 56.296875 54.6875 \nL 56.296875 0 \nL 47.265625 0 \nL 47.265625 47.515625 \nL 18.109375 47.515625 \nL 18.109375 0 \nL 9.078125 0 \nL 9.078125 54.6875 \nz\n\" id=\"DejaVuSans-1087\"/>\n     <path d=\"M 14.796875 27.296875 \nQ 14.796875 15.828125 18.328125 10.96875 \nQ 21.875 6.109375 27.875 6.109375 \nQ 32.671875 6.109375 38.234375 14.3125 \nL 38.234375 40.28125 \nQ 32.671875 48.484375 27.875 48.484375 \nQ 21.875 48.484375 18.328125 43.625 \nQ 14.796875 38.765625 14.796875 27.296875 \nz\nM 38.234375 -20.796875 \nL 38.234375 6.984375 \nQ 35.453125 2.390625 32.25 0.484375 \nQ 29.046875 -1.421875 25 -1.421875 \nQ 16.84375 -1.421875 11.15625 6.125 \nQ 5.46875 13.671875 5.46875 27.09375 \nQ 5.46875 40.53125 11.15625 48.265625 \nQ 16.84375 56 25 56 \nQ 29.046875 56 32.25 54.140625 \nQ 35.453125 52.296875 38.234375 47.703125 \nL 38.234375 72.90625 \nL 47.265625 72.90625 \nL 47.265625 47.703125 \nQ 50.046875 52.296875 53.25 54.140625 \nQ 56.453125 56 60.5 56 \nQ 68.65625 56 74.34375 48.265625 \nQ 80.03125 40.53125 80.03125 27.09375 \nQ 80.03125 13.671875 74.34375 6.125 \nQ 68.65625 -1.421875 60.5 -1.421875 \nQ 56.453125 -1.421875 53.25 0.484375 \nQ 50.046875 2.390625 47.265625 6.984375 \nL 47.265625 -20.796875 \nz\nM 70.703125 27.296875 \nQ 70.703125 38.765625 67.15625 43.625 \nQ 63.625 48.484375 57.625 48.484375 \nQ 52.828125 48.484375 47.265625 40.28125 \nL 47.265625 14.3125 \nQ 52.828125 6.109375 57.625 6.109375 \nQ 63.625 6.109375 67.15625 10.96875 \nQ 70.703125 15.828125 70.703125 27.296875 \nz\n\" id=\"DejaVuSans-1092\"/>\n     <path d=\"M 55.90625 54.6875 \nL 55.90625 0 \nL 46.96875 0 \nL 46.96875 43.890625 \nL 20.609375 0 \nL 9.078125 0 \nL 9.078125 54.6875 \nL 18.015625 54.6875 \nL 18.015625 10.890625 \nL 44.34375 54.6875 \nz\n\" id=\"DejaVuSans-1080\"/>\n     <path d=\"M 3.71875 0 \nL 3.71875 7.46875 \nQ 12.59375 8.84375 15.328125 14.984375 \nQ 18.65625 23.640625 18.65625 45.75 \nL 18.65625 54.6875 \nL 55.609375 54.6875 \nL 55.609375 0 \nL 46.625 0 \nL 46.625 47.515625 \nL 27.640625 47.515625 \nL 27.640625 42.09375 \nQ 27.640625 21 23.34375 11.53125 \nQ 18.75 1.421875 3.71875 0 \nz\n\" id=\"DejaVuSans-1083\"/>\n     <path d=\"M 43.453125 16.21875 \nQ 43.453125 20.609375 40.25 22.90625 \nQ 37.0625 25.203125 30.90625 25.203125 \nL 18.109375 25.203125 \nL 18.109375 7.171875 \nL 30.90625 7.171875 \nQ 37.0625 7.171875 40.25 9.484375 \nQ 43.453125 11.8125 43.453125 16.21875 \nz\nM 9.078125 54.6875 \nL 18.109375 54.6875 \nL 18.109375 32.375 \nL 31.296875 32.375 \nQ 41.75 32.375 47.390625 28.390625 \nQ 53.03125 24.421875 53.03125 16.21875 \nQ 53.03125 8.015625 47.390625 4 \nQ 41.75 0 31.296875 0 \nL 9.078125 0 \nz\n\" id=\"DejaVuSans-1100\"/>\n     <path d=\"M 9.078125 54.6875 \nL 22.21875 54.6875 \nL 37.75 18.0625 \nL 53.328125 54.6875 \nL 66.359375 54.6875 \nL 66.359375 0 \nL 57.328125 0 \nL 57.328125 46.09375 \nL 42.234375 10.5 \nL 33.25 10.5 \nL 18.109375 46.09375 \nL 18.109375 0 \nL 9.078125 0 \nz\n\" id=\"DejaVuSans-1084\"/>\n     <path d=\"M 18.0625 25.203125 \nL 18.0625 7.171875 \nL 30.859375 7.171875 \nQ 37.015625 7.171875 40.234375 9.484375 \nQ 43.453125 11.8125 43.453125 16.21875 \nQ 43.453125 20.609375 40.234375 22.90625 \nQ 37.015625 25.203125 30.859375 25.203125 \nz\nM 18.0625 47.515625 \nL 18.0625 32.375 \nL 29.890625 32.375 \nQ 34.96875 32.375 38.1875 34.390625 \nQ 41.40625 36.421875 41.40625 40.046875 \nQ 41.40625 43.65625 38.1875 45.578125 \nQ 34.96875 47.515625 29.890625 47.515625 \nz\nM 9.078125 54.6875 \nL 30.46875 54.6875 \nQ 40.09375 54.6875 45.265625 51.171875 \nQ 50.4375 47.65625 50.4375 41.15625 \nQ 50.4375 36.140625 47.796875 33.171875 \nQ 45.171875 30.21875 39.984375 29.5 \nQ 46.1875 28.328125 49.609375 24.609375 \nQ 53.03125 20.90625 53.03125 15.328125 \nQ 53.03125 8.015625 47.390625 4 \nQ 41.75 0 31.296875 0 \nL 9.078125 0 \nz\n\" id=\"DejaVuSans-1074\"/>\n     <path d=\"M 54.890625 54.6875 \nL 35.109375 28.078125 \nL 55.90625 0 \nL 45.3125 0 \nL 29.390625 21.484375 \nL 13.484375 0 \nL 2.875 0 \nL 24.125 28.609375 \nL 4.6875 54.6875 \nL 15.28125 54.6875 \nL 29.78125 35.203125 \nL 44.28125 54.6875 \nz\n\" id=\"DejaVuSans-1093\"/>\n     <path d=\"M 18.109375 8.203125 \nL 18.109375 -20.796875 \nL 9.078125 -20.796875 \nL 9.078125 54.6875 \nL 18.109375 54.6875 \nL 18.109375 46.390625 \nQ 20.953125 51.265625 25.265625 53.625 \nQ 29.59375 56 35.59375 56 \nQ 45.5625 56 51.78125 48.09375 \nQ 58.015625 40.1875 58.015625 27.296875 \nQ 58.015625 14.40625 51.78125 6.484375 \nQ 45.5625 -1.421875 35.59375 -1.421875 \nQ 29.59375 -1.421875 25.265625 0.953125 \nQ 20.953125 3.328125 18.109375 8.203125 \nz\nM 48.6875 27.296875 \nQ 48.6875 37.203125 44.609375 42.84375 \nQ 40.53125 48.484375 33.40625 48.484375 \nQ 26.265625 48.484375 22.1875 42.84375 \nQ 18.109375 37.203125 18.109375 27.296875 \nQ 18.109375 17.390625 22.1875 11.75 \nQ 26.265625 6.109375 33.40625 6.109375 \nQ 40.53125 6.109375 44.609375 11.75 \nQ 48.6875 17.390625 48.6875 27.296875 \nz\n\" id=\"DejaVuSans-1088\"/>\n     <path d=\"M 56.203125 29.59375 \nL 56.203125 25.203125 \nL 14.890625 25.203125 \nQ 15.484375 15.921875 20.484375 11.0625 \nQ 25.484375 6.203125 34.421875 6.203125 \nQ 39.59375 6.203125 44.453125 7.46875 \nQ 49.3125 8.734375 54.109375 11.28125 \nL 54.109375 2.78125 \nQ 49.265625 0.734375 44.1875 -0.34375 \nQ 39.109375 -1.421875 33.890625 -1.421875 \nQ 20.796875 -1.421875 13.15625 6.1875 \nQ 5.515625 13.8125 5.515625 26.8125 \nQ 5.515625 40.234375 12.765625 48.109375 \nQ 20.015625 56 32.328125 56 \nQ 43.359375 56 49.78125 48.890625 \nQ 56.203125 41.796875 56.203125 29.59375 \nz\nM 47.21875 32.234375 \nQ 47.125 39.59375 43.09375 43.984375 \nQ 39.0625 48.390625 32.421875 48.390625 \nQ 24.90625 48.390625 20.390625 44.140625 \nQ 15.875 39.890625 15.1875 32.171875 \nz\n\" id=\"DejaVuSans-1077\"/>\n     <path d=\"M 55.90625 54.6875 \nL 55.90625 0 \nL 46.96875 0 \nL 46.96875 43.890625 \nL 20.609375 0 \nL 9.078125 0 \nL 9.078125 54.6875 \nL 18.015625 54.6875 \nL 18.015625 10.890625 \nL 44.34375 54.6875 \nz\nM 17.21875 75.515625 \nL 22.984375 75.515625 \nQ 23.515625 71.859375 25.875 70.015625 \nQ 28.25 68.1875 32.5 68.1875 \nQ 36.703125 68.1875 39.046875 70 \nQ 41.390625 71.8125 42.015625 75.515625 \nL 47.78125 75.515625 \nQ 47.296875 68.53125 43.4375 65.015625 \nQ 39.578125 61.5 32.5 61.5 \nQ 25.421875 61.5 21.5625 65.015625 \nQ 17.703125 68.53125 17.21875 75.515625 \nz\n\" id=\"DejaVuSans-1081\"/>\n     <path d=\"M 2.9375 54.6875 \nL 55.328125 54.6875 \nL 55.328125 47.515625 \nL 33.546875 47.515625 \nL 33.546875 0 \nL 24.703125 0 \nL 24.703125 47.515625 \nL 2.9375 47.515625 \nz\n\" id=\"DejaVuSans-1090\"/>\n     <path d=\"M 9.078125 54.6875 \nL 18.109375 54.6875 \nL 18.109375 32.375 \nL 47.265625 32.375 \nL 47.265625 54.6875 \nL 56.296875 54.6875 \nL 56.296875 0 \nL 47.265625 0 \nL 47.265625 25.203125 \nL 18.109375 25.203125 \nL 18.109375 0 \nL 9.078125 0 \nz\n\" id=\"DejaVuSans-1085\"/>\n     <path d=\"M 9.078125 0 \nL 9.078125 54.6875 \nL 47.65625 54.6875 \nL 47.65625 47.515625 \nL 18.109375 47.515625 \nL 18.109375 0 \nz\n\" id=\"DejaVuSans-1075\"/>\n     <path d=\"M 32.171875 -5.078125 \nQ 28.375 -14.84375 24.75 -17.8125 \nQ 21.140625 -20.796875 15.09375 -20.796875 \nL 7.90625 -20.796875 \nL 7.90625 -13.28125 \nL 13.1875 -13.28125 \nQ 16.890625 -13.28125 18.9375 -11.515625 \nQ 21 -9.765625 23.484375 -3.21875 \nL 25.09375 0.875 \nL 2.984375 54.6875 \nL 12.5 54.6875 \nL 29.59375 11.921875 \nL 46.6875 54.6875 \nL 56.203125 54.6875 \nz\n\" id=\"DejaVuSans-1091\"/>\n     <path d=\"M 31 75.875 \nQ 24.46875 64.65625 21.28125 53.65625 \nQ 18.109375 42.671875 18.109375 31.390625 \nQ 18.109375 20.125 21.3125 9.0625 \nQ 24.515625 -2 31 -13.1875 \nL 23.1875 -13.1875 \nQ 15.875 -1.703125 12.234375 9.375 \nQ 8.59375 20.453125 8.59375 31.390625 \nQ 8.59375 42.28125 12.203125 53.3125 \nQ 15.828125 64.359375 23.1875 75.875 \nz\n\" id=\"DejaVuSans-40\"/>\n     <path d=\"M 9.078125 54.6875 \nL 18.015625 54.6875 \nL 18.015625 29 \nL 43.359375 54.6875 \nL 54.390625 54.6875 \nL 33.5 33.546875 \nL 57.078125 0 \nL 47.015625 0 \nL 27.640625 27.59375 \nL 18.015625 17.828125 \nL 18.015625 0 \nL 9.078125 0 \nz\n\" id=\"DejaVuSans-1082\"/>\n     <path d=\"M 21.625 7.171875 \nL 47.703125 7.171875 \nL 47.703125 47.515625 \nL 28.8125 47.515625 \nL 28.8125 40.671875 \nQ 28.8125 20.5625 23.046875 9.8125 \nz\nM 8.59375 7.171875 \nQ 13.03125 9.125 14.984375 13.28125 \nQ 19.78125 23.578125 19.78125 44.34375 \nL 19.78125 54.6875 \nL 56.734375 54.6875 \nL 56.734375 7.171875 \nL 63.921875 7.171875 \nL 63.921875 -13.8125 \nL 56.734375 -13.8125 \nL 56.734375 0 \nL 12.40625 0 \nL 12.40625 -13.8125 \nL 5.21875 -13.8125 \nL 5.21875 7.171875 \nz\n\" id=\"DejaVuSans-1076\"/>\n     <path d=\"M 48.78125 52.59375 \nL 48.78125 44.1875 \nQ 44.96875 46.296875 41.140625 47.34375 \nQ 37.3125 48.390625 33.40625 48.390625 \nQ 24.65625 48.390625 19.8125 42.84375 \nQ 14.984375 37.3125 14.984375 27.296875 \nQ 14.984375 17.28125 19.8125 11.734375 \nQ 24.65625 6.203125 33.40625 6.203125 \nQ 37.3125 6.203125 41.140625 7.25 \nQ 44.96875 8.296875 48.78125 10.40625 \nL 48.78125 2.09375 \nQ 45.015625 0.34375 40.984375 -0.53125 \nQ 36.96875 -1.421875 32.421875 -1.421875 \nQ 20.0625 -1.421875 12.78125 6.34375 \nQ 5.515625 14.109375 5.515625 27.296875 \nQ 5.515625 40.671875 12.859375 48.328125 \nQ 20.21875 56 33.015625 56 \nQ 37.15625 56 41.109375 55.140625 \nQ 45.0625 54.296875 48.78125 52.59375 \nz\n\" id=\"DejaVuSans-1089\"/>\n     <path d=\"M 18.453125 38.921875 \nQ 18.453125 34.859375 21.578125 32.5625 \nQ 24.703125 30.28125 30.515625 30.28125 \nL 42.625 30.28125 \nL 42.625 47.515625 \nL 30.515625 47.515625 \nQ 24.703125 47.515625 21.578125 45.265625 \nQ 18.453125 43.015625 18.453125 38.921875 \nz\nM 5.671875 0 \nL 22.359375 23.96875 \nQ 16.703125 25.25 12.9375 28.59375 \nQ 9.1875 31.9375 9.1875 38.921875 \nQ 9.1875 46.828125 14.421875 50.75 \nQ 19.671875 54.6875 30.28125 54.6875 \nL 51.65625 54.6875 \nL 51.65625 0 \nL 42.625 0 \nL 42.625 23.09375 \nL 31.453125 23.09375 \nL 15.328125 0 \nz\n\" id=\"DejaVuSans-1103\"/>\n     <path d=\"M 61.046875 54.6875 \nL 70.03125 54.6875 \nL 70.03125 0 \nL 61.046875 0 \nz\nM 65.546875 56 \nz\nM 43.453125 16.21875 \nQ 43.453125 20.609375 40.25 22.90625 \nQ 37.0625 25.203125 30.90625 25.203125 \nL 18.109375 25.203125 \nL 18.109375 7.171875 \nL 30.90625 7.171875 \nQ 37.0625 7.171875 40.25 9.484375 \nQ 43.453125 11.8125 43.453125 16.21875 \nz\nM 9.078125 54.6875 \nL 18.109375 54.6875 \nL 18.109375 32.375 \nL 31.296875 32.375 \nQ 41.75 32.375 47.390625 28.390625 \nQ 53.03125 24.421875 53.03125 16.21875 \nQ 53.03125 8.015625 47.390625 4 \nQ 41.75 0 31.296875 0 \nL 9.078125 0 \nz\n\" id=\"DejaVuSans-1099\"/>\n     <path d=\"M 8.015625 75.875 \nL 15.828125 75.875 \nQ 23.140625 64.359375 26.78125 53.3125 \nQ 30.421875 42.28125 30.421875 31.390625 \nQ 30.421875 20.453125 26.78125 9.375 \nQ 23.140625 -1.703125 15.828125 -13.1875 \nL 8.015625 -13.1875 \nQ 14.5 -2 17.703125 9.0625 \nQ 20.90625 20.125 20.90625 31.390625 \nQ 20.90625 42.671875 17.703125 53.65625 \nQ 14.5 64.65625 8.015625 75.875 \nz\n\" id=\"DejaVuSans-41\"/>\n    </defs>\n    <g transform=\"translate(332.471562 16.318125)scale(0.12 -0.12)\">\n     <use xlink:href=\"#DejaVuSans-1058\"/>\n     <use x=\"61.083984\" xlink:href=\"#DejaVuSans-1086\"/>\n     <use x=\"122.265625\" xlink:href=\"#DejaVuSans-1087\"/>\n     <use x=\"187.646484\" xlink:href=\"#DejaVuSans-32\"/>\n     <use x=\"219.433594\" xlink:href=\"#DejaVuSans-1092\"/>\n     <use x=\"304.931641\" xlink:href=\"#DejaVuSans-1080\"/>\n     <use x=\"369.921875\" xlink:href=\"#DejaVuSans-1083\"/>\n     <use x=\"433.837891\" xlink:href=\"#DejaVuSans-1100\"/>\n     <use x=\"492.773438\" xlink:href=\"#DejaVuSans-1084\"/>\n     <use x=\"568.212891\" xlink:href=\"#DejaVuSans-1086\"/>\n     <use x=\"629.394531\" xlink:href=\"#DejaVuSans-1074\"/>\n     <use x=\"688.330078\" xlink:href=\"#DejaVuSans-32\"/>\n     <use x=\"720.117188\" xlink:href=\"#DejaVuSans-1087\"/>\n     <use x=\"785.498047\" xlink:href=\"#DejaVuSans-1086\"/>\n     <use x=\"846.679688\" xlink:href=\"#DejaVuSans-32\"/>\n     <use x=\"878.466797\" xlink:href=\"#DejaVuSans-1080\"/>\n     <use x=\"943.457031\" xlink:href=\"#DejaVuSans-1093\"/>\n     <use x=\"1002.636719\" xlink:href=\"#DejaVuSans-32\"/>\n     <use x=\"1034.423828\" xlink:href=\"#DejaVuSans-1088\"/>\n     <use x=\"1097.900391\" xlink:href=\"#DejaVuSans-1077\"/>\n     <use x=\"1159.423828\" xlink:href=\"#DejaVuSans-1081\"/>\n     <use x=\"1224.414062\" xlink:href=\"#DejaVuSans-1090\"/>\n     <use x=\"1282.666016\" xlink:href=\"#DejaVuSans-1080\"/>\n     <use x=\"1347.65625\" xlink:href=\"#DejaVuSans-1085\"/>\n     <use x=\"1413.037109\" xlink:href=\"#DejaVuSans-1075\"/>\n     <use x=\"1465.576172\" xlink:href=\"#DejaVuSans-1091\"/>\n     <use x=\"1524.755859\" xlink:href=\"#DejaVuSans-40\"/>\n     <use x=\"1563.769531\" xlink:href=\"#DejaVuSans-1086\"/>\n     <use x=\"1624.951172\" xlink:href=\"#DejaVuSans-1082\"/>\n     <use x=\"1685.351562\" xlink:href=\"#DejaVuSans-1088\"/>\n     <use x=\"1748.828125\" xlink:href=\"#DejaVuSans-1091\"/>\n     <use x=\"1808.007812\" xlink:href=\"#DejaVuSans-1075\"/>\n     <use x=\"1860.546875\" xlink:href=\"#DejaVuSans-1083\"/>\n     <use x=\"1924.462891\" xlink:href=\"#DejaVuSans-1077\"/>\n     <use x=\"1985.986328\" xlink:href=\"#DejaVuSans-1085\"/>\n     <use x=\"2051.367188\" xlink:href=\"#DejaVuSans-32\"/>\n     <use x=\"2083.154297\" xlink:href=\"#DejaVuSans-1076\"/>\n     <use x=\"2152.294922\" xlink:href=\"#DejaVuSans-1086\"/>\n     <use x=\"2213.476562\" xlink:href=\"#DejaVuSans-32\"/>\n     <use x=\"2245.263672\" xlink:href=\"#DejaVuSans-1076\"/>\n     <use x=\"2314.404297\" xlink:href=\"#DejaVuSans-1077\"/>\n     <use x=\"2375.927734\" xlink:href=\"#DejaVuSans-1089\"/>\n     <use x=\"2430.908203\" xlink:href=\"#DejaVuSans-1103\"/>\n     <use x=\"2491.064453\" xlink:href=\"#DejaVuSans-1090\"/>\n     <use x=\"2549.316406\" xlink:href=\"#DejaVuSans-1099\"/>\n     <use x=\"2628.271484\" xlink:href=\"#DejaVuSans-1093\"/>\n     <use x=\"2687.451172\" xlink:href=\"#DejaVuSans-41\"/>\n    </g>\n   </g>\n  </g>\n </g>\n <defs>\n  <clipPath id=\"p308b38d4a3\">\n   <rect height=\"271.8\" width=\"446.4\" x=\"272.8625\" y=\"22.318125\"/>\n  </clipPath>\n </defs>\n</svg>\n"
          },
          "metadata": {
            "needs_background": "light"
          }
        }
      ],
      "source": [
        "#Визуализируем с округлением до десятых\n",
        "sns.barplot(x=\"ratings\", y =\"title\", data=film_rating).set(title='Топ фильмов по их рейтингу(округлен до десятых)')"
      ]
    },
    {
      "cell_type": "code",
      "execution_count": null,
      "metadata": {
        "colab": {
          "base_uri": "https://localhost:8080/",
          "height": 206
        },
        "id": "XzDAw0hxXtnR",
        "outputId": "e9c41346-394d-4ef3-dac6-eafeee72c69a"
      },
      "outputs": [
        {
          "output_type": "execute_result",
          "data": {
            "text/plain": [
              "   ratings                     title\n",
              "0      9.0  The Shawshank Redemption\n",
              "1      9.0             The Godfather\n",
              "2      9.0           The Dark Knight\n",
              "3      9.0     The Godfather Part II\n",
              "4      9.0              12 Angry Men"
            ],
            "text/html": [
              "\n",
              "  <div id=\"df-e5434606-8d30-47ff-8d88-8783bdca3f05\">\n",
              "    <div class=\"colab-df-container\">\n",
              "      <div>\n",
              "<style scoped>\n",
              "    .dataframe tbody tr th:only-of-type {\n",
              "        vertical-align: middle;\n",
              "    }\n",
              "\n",
              "    .dataframe tbody tr th {\n",
              "        vertical-align: top;\n",
              "    }\n",
              "\n",
              "    .dataframe thead th {\n",
              "        text-align: right;\n",
              "    }\n",
              "</style>\n",
              "<table border=\"1\" class=\"dataframe\">\n",
              "  <thead>\n",
              "    <tr style=\"text-align: right;\">\n",
              "      <th></th>\n",
              "      <th>ratings</th>\n",
              "      <th>title</th>\n",
              "    </tr>\n",
              "  </thead>\n",
              "  <tbody>\n",
              "    <tr>\n",
              "      <th>0</th>\n",
              "      <td>9.0</td>\n",
              "      <td>The Shawshank Redemption</td>\n",
              "    </tr>\n",
              "    <tr>\n",
              "      <th>1</th>\n",
              "      <td>9.0</td>\n",
              "      <td>The Godfather</td>\n",
              "    </tr>\n",
              "    <tr>\n",
              "      <th>2</th>\n",
              "      <td>9.0</td>\n",
              "      <td>The Dark Knight</td>\n",
              "    </tr>\n",
              "    <tr>\n",
              "      <th>3</th>\n",
              "      <td>9.0</td>\n",
              "      <td>The Godfather Part II</td>\n",
              "    </tr>\n",
              "    <tr>\n",
              "      <th>4</th>\n",
              "      <td>9.0</td>\n",
              "      <td>12 Angry Men</td>\n",
              "    </tr>\n",
              "  </tbody>\n",
              "</table>\n",
              "</div>\n",
              "      <button class=\"colab-df-convert\" onclick=\"convertToInteractive('df-e5434606-8d30-47ff-8d88-8783bdca3f05')\"\n",
              "              title=\"Convert this dataframe to an interactive table.\"\n",
              "              style=\"display:none;\">\n",
              "        \n",
              "  <svg xmlns=\"http://www.w3.org/2000/svg\" height=\"24px\"viewBox=\"0 0 24 24\"\n",
              "       width=\"24px\">\n",
              "    <path d=\"M0 0h24v24H0V0z\" fill=\"none\"/>\n",
              "    <path d=\"M18.56 5.44l.94 2.06.94-2.06 2.06-.94-2.06-.94-.94-2.06-.94 2.06-2.06.94zm-11 1L8.5 8.5l.94-2.06 2.06-.94-2.06-.94L8.5 2.5l-.94 2.06-2.06.94zm10 10l.94 2.06.94-2.06 2.06-.94-2.06-.94-.94-2.06-.94 2.06-2.06.94z\"/><path d=\"M17.41 7.96l-1.37-1.37c-.4-.4-.92-.59-1.43-.59-.52 0-1.04.2-1.43.59L10.3 9.45l-7.72 7.72c-.78.78-.78 2.05 0 2.83L4 21.41c.39.39.9.59 1.41.59.51 0 1.02-.2 1.41-.59l7.78-7.78 2.81-2.81c.8-.78.8-2.07 0-2.86zM5.41 20L4 18.59l7.72-7.72 1.47 1.35L5.41 20z\"/>\n",
              "  </svg>\n",
              "      </button>\n",
              "      \n",
              "  <style>\n",
              "    .colab-df-container {\n",
              "      display:flex;\n",
              "      flex-wrap:wrap;\n",
              "      gap: 12px;\n",
              "    }\n",
              "\n",
              "    .colab-df-convert {\n",
              "      background-color: #E8F0FE;\n",
              "      border: none;\n",
              "      border-radius: 50%;\n",
              "      cursor: pointer;\n",
              "      display: none;\n",
              "      fill: #1967D2;\n",
              "      height: 32px;\n",
              "      padding: 0 0 0 0;\n",
              "      width: 32px;\n",
              "    }\n",
              "\n",
              "    .colab-df-convert:hover {\n",
              "      background-color: #E2EBFA;\n",
              "      box-shadow: 0px 1px 2px rgba(60, 64, 67, 0.3), 0px 1px 3px 1px rgba(60, 64, 67, 0.15);\n",
              "      fill: #174EA6;\n",
              "    }\n",
              "\n",
              "    [theme=dark] .colab-df-convert {\n",
              "      background-color: #3B4455;\n",
              "      fill: #D2E3FC;\n",
              "    }\n",
              "\n",
              "    [theme=dark] .colab-df-convert:hover {\n",
              "      background-color: #434B5C;\n",
              "      box-shadow: 0px 1px 3px 1px rgba(0, 0, 0, 0.15);\n",
              "      filter: drop-shadow(0px 1px 2px rgba(0, 0, 0, 0.3));\n",
              "      fill: #FFFFFF;\n",
              "    }\n",
              "  </style>\n",
              "\n",
              "      <script>\n",
              "        const buttonEl =\n",
              "          document.querySelector('#df-e5434606-8d30-47ff-8d88-8783bdca3f05 button.colab-df-convert');\n",
              "        buttonEl.style.display =\n",
              "          google.colab.kernel.accessAllowed ? 'block' : 'none';\n",
              "\n",
              "        async function convertToInteractive(key) {\n",
              "          const element = document.querySelector('#df-e5434606-8d30-47ff-8d88-8783bdca3f05');\n",
              "          const dataTable =\n",
              "            await google.colab.kernel.invokeFunction('convertToInteractive',\n",
              "                                                     [key], {});\n",
              "          if (!dataTable) return;\n",
              "\n",
              "          const docLinkHtml = 'Like what you see? Visit the ' +\n",
              "            '<a target=\"_blank\" href=https://colab.research.google.com/notebooks/data_table.ipynb>data table notebook</a>'\n",
              "            + ' to learn more about interactive tables.';\n",
              "          element.innerHTML = '';\n",
              "          dataTable['output_type'] = 'display_data';\n",
              "          await google.colab.output.renderOutput(dataTable, element);\n",
              "          const docLink = document.createElement('div');\n",
              "          docLink.innerHTML = docLinkHtml;\n",
              "          element.appendChild(docLink);\n",
              "        }\n",
              "      </script>\n",
              "    </div>\n",
              "  </div>\n",
              "  "
            ]
          },
          "metadata": {},
          "execution_count": 25
        }
      ],
      "source": [
        "#Округляем данные до целых\n",
        "film_rating[\"ratings\"] = film_rating.ratings.round()\n",
        "film_rating.head()"
      ]
    },
    {
      "cell_type": "code",
      "execution_count": null,
      "metadata": {
        "colab": {
          "base_uri": "https://localhost:8080/",
          "height": 481
        },
        "id": "UcLiExXQXtnS",
        "outputId": "ccfb788c-27fa-49bc-a528-8d175256a229"
      },
      "outputs": [
        {
          "output_type": "execute_result",
          "data": {
            "text/plain": [
              "[Text(0.5, 1.0, 'Топ фильмов по их рейтингу(округлен до целых чисел)')]"
            ]
          },
          "metadata": {},
          "execution_count": 26
        },
        {
          "output_type": "display_data",
          "data": {
            "text/plain": [
              "<Figure size 576x360 with 1 Axes>"
            ],
            "image/svg+xml": "<?xml version=\"1.0\" encoding=\"utf-8\" standalone=\"no\"?>\n<!DOCTYPE svg PUBLIC \"-//W3C//DTD SVG 1.1//EN\"\n  \"http://www.w3.org/Graphics/SVG/1.1/DTD/svg11.dtd\">\n<!-- Created with matplotlib (https://matplotlib.org/) -->\n<svg height=\"331.674375pt\" version=\"1.1\" viewBox=\"0 0 726.4625 331.674375\" width=\"726.4625pt\" xmlns=\"http://www.w3.org/2000/svg\" xmlns:xlink=\"http://www.w3.org/1999/xlink\">\n <defs>\n  <style type=\"text/css\">\n*{stroke-linecap:butt;stroke-linejoin:round;}\n  </style>\n </defs>\n <g id=\"figure_1\">\n  <g id=\"patch_1\">\n   <path d=\"M 0 331.674375 \nL 726.4625 331.674375 \nL 726.4625 0 \nL 0 0 \nz\n\" style=\"fill:none;\"/>\n  </g>\n  <g id=\"axes_1\">\n   <g id=\"patch_2\">\n    <path d=\"M 272.8625 294.118125 \nL 719.2625 294.118125 \nL 719.2625 22.318125 \nL 272.8625 22.318125 \nz\n\" style=\"fill:#ffffff;\"/>\n   </g>\n   <g id=\"patch_3\">\n    <path clip-path=\"url(#p9a40361d46)\" d=\"M 272.8625 25.036125 \nL 698.005357 25.036125 \nL 698.005357 46.780125 \nL 272.8625 46.780125 \nz\n\" style=\"fill:#3274a1;\"/>\n   </g>\n   <g id=\"patch_4\">\n    <path clip-path=\"url(#p9a40361d46)\" d=\"M 272.8625 52.216125 \nL 698.005357 52.216125 \nL 698.005357 73.960125 \nL 272.8625 73.960125 \nz\n\" style=\"fill:#e1812c;\"/>\n   </g>\n   <g id=\"patch_5\">\n    <path clip-path=\"url(#p9a40361d46)\" d=\"M 272.8625 79.396125 \nL 698.005357 79.396125 \nL 698.005357 101.140125 \nL 272.8625 101.140125 \nz\n\" style=\"fill:#3a923a;\"/>\n   </g>\n   <g id=\"patch_6\">\n    <path clip-path=\"url(#p9a40361d46)\" d=\"M 272.8625 106.576125 \nL 698.005357 106.576125 \nL 698.005357 128.320125 \nL 272.8625 128.320125 \nz\n\" style=\"fill:#c03d3e;\"/>\n   </g>\n   <g id=\"patch_7\">\n    <path clip-path=\"url(#p9a40361d46)\" d=\"M 272.8625 133.756125 \nL 698.005357 133.756125 \nL 698.005357 155.500125 \nL 272.8625 155.500125 \nz\n\" style=\"fill:#9372b2;\"/>\n   </g>\n   <g id=\"patch_8\">\n    <path clip-path=\"url(#p9a40361d46)\" d=\"M 272.8625 160.936125 \nL 698.005357 160.936125 \nL 698.005357 182.680125 \nL 272.8625 182.680125 \nz\n\" style=\"fill:#845b53;\"/>\n   </g>\n   <g id=\"patch_9\">\n    <path clip-path=\"url(#p9a40361d46)\" d=\"M 272.8625 188.116125 \nL 698.005357 188.116125 \nL 698.005357 209.860125 \nL 272.8625 209.860125 \nz\n\" style=\"fill:#d684bd;\"/>\n   </g>\n   <g id=\"patch_10\">\n    <path clip-path=\"url(#p9a40361d46)\" d=\"M 272.8625 215.296125 \nL 698.005357 215.296125 \nL 698.005357 237.040125 \nL 272.8625 237.040125 \nz\n\" style=\"fill:#7f7f7f;\"/>\n   </g>\n   <g id=\"patch_11\">\n    <path clip-path=\"url(#p9a40361d46)\" d=\"M 272.8625 242.476125 \nL 698.005357 242.476125 \nL 698.005357 264.220125 \nL 272.8625 264.220125 \nz\n\" style=\"fill:#a9aa35;\"/>\n   </g>\n   <g id=\"patch_12\">\n    <path clip-path=\"url(#p9a40361d46)\" d=\"M 272.8625 269.656125 \nL 698.005357 269.656125 \nL 698.005357 291.400125 \nL 272.8625 291.400125 \nz\n\" style=\"fill:#2eabb8;\"/>\n   </g>\n   <g id=\"matplotlib.axis_1\">\n    <g id=\"xtick_1\">\n     <g id=\"line2d_1\">\n      <defs>\n       <path d=\"M 0 0 \nL 0 3.5 \n\" id=\"mcbebae196e\" style=\"stroke:#000000;stroke-width:0.8;\"/>\n      </defs>\n      <g>\n       <use style=\"stroke:#000000;stroke-width:0.8;\" x=\"272.8625\" xlink:href=\"#mcbebae196e\" y=\"294.118125\"/>\n      </g>\n     </g>\n     <g id=\"text_1\">\n      <!-- 0 -->\n      <defs>\n       <path d=\"M 31.78125 66.40625 \nQ 24.171875 66.40625 20.328125 58.90625 \nQ 16.5 51.421875 16.5 36.375 \nQ 16.5 21.390625 20.328125 13.890625 \nQ 24.171875 6.390625 31.78125 6.390625 \nQ 39.453125 6.390625 43.28125 13.890625 \nQ 47.125 21.390625 47.125 36.375 \nQ 47.125 51.421875 43.28125 58.90625 \nQ 39.453125 66.40625 31.78125 66.40625 \nz\nM 31.78125 74.21875 \nQ 44.046875 74.21875 50.515625 64.515625 \nQ 56.984375 54.828125 56.984375 36.375 \nQ 56.984375 17.96875 50.515625 8.265625 \nQ 44.046875 -1.421875 31.78125 -1.421875 \nQ 19.53125 -1.421875 13.0625 8.265625 \nQ 6.59375 17.96875 6.59375 36.375 \nQ 6.59375 54.828125 13.0625 64.515625 \nQ 19.53125 74.21875 31.78125 74.21875 \nz\n\" id=\"DejaVuSans-48\"/>\n      </defs>\n      <g transform=\"translate(269.68125 308.716563)scale(0.1 -0.1)\">\n       <use xlink:href=\"#DejaVuSans-48\"/>\n      </g>\n     </g>\n    </g>\n    <g id=\"xtick_2\">\n     <g id=\"line2d_2\">\n      <g>\n       <use style=\"stroke:#000000;stroke-width:0.8;\" x=\"367.33869\" xlink:href=\"#mcbebae196e\" y=\"294.118125\"/>\n      </g>\n     </g>\n     <g id=\"text_2\">\n      <!-- 2 -->\n      <defs>\n       <path d=\"M 19.1875 8.296875 \nL 53.609375 8.296875 \nL 53.609375 0 \nL 7.328125 0 \nL 7.328125 8.296875 \nQ 12.9375 14.109375 22.625 23.890625 \nQ 32.328125 33.6875 34.8125 36.53125 \nQ 39.546875 41.84375 41.421875 45.53125 \nQ 43.3125 49.21875 43.3125 52.78125 \nQ 43.3125 58.59375 39.234375 62.25 \nQ 35.15625 65.921875 28.609375 65.921875 \nQ 23.96875 65.921875 18.8125 64.3125 \nQ 13.671875 62.703125 7.8125 59.421875 \nL 7.8125 69.390625 \nQ 13.765625 71.78125 18.9375 73 \nQ 24.125 74.21875 28.421875 74.21875 \nQ 39.75 74.21875 46.484375 68.546875 \nQ 53.21875 62.890625 53.21875 53.421875 \nQ 53.21875 48.921875 51.53125 44.890625 \nQ 49.859375 40.875 45.40625 35.40625 \nQ 44.1875 33.984375 37.640625 27.21875 \nQ 31.109375 20.453125 19.1875 8.296875 \nz\n\" id=\"DejaVuSans-50\"/>\n      </defs>\n      <g transform=\"translate(364.15744 308.716563)scale(0.1 -0.1)\">\n       <use xlink:href=\"#DejaVuSans-50\"/>\n      </g>\n     </g>\n    </g>\n    <g id=\"xtick_3\">\n     <g id=\"line2d_3\">\n      <g>\n       <use style=\"stroke:#000000;stroke-width:0.8;\" x=\"461.814881\" xlink:href=\"#mcbebae196e\" y=\"294.118125\"/>\n      </g>\n     </g>\n     <g id=\"text_3\">\n      <!-- 4 -->\n      <defs>\n       <path d=\"M 37.796875 64.3125 \nL 12.890625 25.390625 \nL 37.796875 25.390625 \nz\nM 35.203125 72.90625 \nL 47.609375 72.90625 \nL 47.609375 25.390625 \nL 58.015625 25.390625 \nL 58.015625 17.1875 \nL 47.609375 17.1875 \nL 47.609375 0 \nL 37.796875 0 \nL 37.796875 17.1875 \nL 4.890625 17.1875 \nL 4.890625 26.703125 \nz\n\" id=\"DejaVuSans-52\"/>\n      </defs>\n      <g transform=\"translate(458.633631 308.716563)scale(0.1 -0.1)\">\n       <use xlink:href=\"#DejaVuSans-52\"/>\n      </g>\n     </g>\n    </g>\n    <g id=\"xtick_4\">\n     <g id=\"line2d_4\">\n      <g>\n       <use style=\"stroke:#000000;stroke-width:0.8;\" x=\"556.291071\" xlink:href=\"#mcbebae196e\" y=\"294.118125\"/>\n      </g>\n     </g>\n     <g id=\"text_4\">\n      <!-- 6 -->\n      <defs>\n       <path d=\"M 33.015625 40.375 \nQ 26.375 40.375 22.484375 35.828125 \nQ 18.609375 31.296875 18.609375 23.390625 \nQ 18.609375 15.53125 22.484375 10.953125 \nQ 26.375 6.390625 33.015625 6.390625 \nQ 39.65625 6.390625 43.53125 10.953125 \nQ 47.40625 15.53125 47.40625 23.390625 \nQ 47.40625 31.296875 43.53125 35.828125 \nQ 39.65625 40.375 33.015625 40.375 \nz\nM 52.59375 71.296875 \nL 52.59375 62.3125 \nQ 48.875 64.0625 45.09375 64.984375 \nQ 41.3125 65.921875 37.59375 65.921875 \nQ 27.828125 65.921875 22.671875 59.328125 \nQ 17.53125 52.734375 16.796875 39.40625 \nQ 19.671875 43.65625 24.015625 45.921875 \nQ 28.375 48.1875 33.59375 48.1875 \nQ 44.578125 48.1875 50.953125 41.515625 \nQ 57.328125 34.859375 57.328125 23.390625 \nQ 57.328125 12.15625 50.6875 5.359375 \nQ 44.046875 -1.421875 33.015625 -1.421875 \nQ 20.359375 -1.421875 13.671875 8.265625 \nQ 6.984375 17.96875 6.984375 36.375 \nQ 6.984375 53.65625 15.1875 63.9375 \nQ 23.390625 74.21875 37.203125 74.21875 \nQ 40.921875 74.21875 44.703125 73.484375 \nQ 48.484375 72.75 52.59375 71.296875 \nz\n\" id=\"DejaVuSans-54\"/>\n      </defs>\n      <g transform=\"translate(553.109821 308.716563)scale(0.1 -0.1)\">\n       <use xlink:href=\"#DejaVuSans-54\"/>\n      </g>\n     </g>\n    </g>\n    <g id=\"xtick_5\">\n     <g id=\"line2d_5\">\n      <g>\n       <use style=\"stroke:#000000;stroke-width:0.8;\" x=\"650.767262\" xlink:href=\"#mcbebae196e\" y=\"294.118125\"/>\n      </g>\n     </g>\n     <g id=\"text_5\">\n      <!-- 8 -->\n      <defs>\n       <path d=\"M 31.78125 34.625 \nQ 24.75 34.625 20.71875 30.859375 \nQ 16.703125 27.09375 16.703125 20.515625 \nQ 16.703125 13.921875 20.71875 10.15625 \nQ 24.75 6.390625 31.78125 6.390625 \nQ 38.8125 6.390625 42.859375 10.171875 \nQ 46.921875 13.96875 46.921875 20.515625 \nQ 46.921875 27.09375 42.890625 30.859375 \nQ 38.875 34.625 31.78125 34.625 \nz\nM 21.921875 38.8125 \nQ 15.578125 40.375 12.03125 44.71875 \nQ 8.5 49.078125 8.5 55.328125 \nQ 8.5 64.0625 14.71875 69.140625 \nQ 20.953125 74.21875 31.78125 74.21875 \nQ 42.671875 74.21875 48.875 69.140625 \nQ 55.078125 64.0625 55.078125 55.328125 \nQ 55.078125 49.078125 51.53125 44.71875 \nQ 48 40.375 41.703125 38.8125 \nQ 48.828125 37.15625 52.796875 32.3125 \nQ 56.78125 27.484375 56.78125 20.515625 \nQ 56.78125 9.90625 50.3125 4.234375 \nQ 43.84375 -1.421875 31.78125 -1.421875 \nQ 19.734375 -1.421875 13.25 4.234375 \nQ 6.78125 9.90625 6.78125 20.515625 \nQ 6.78125 27.484375 10.78125 32.3125 \nQ 14.796875 37.15625 21.921875 38.8125 \nz\nM 18.3125 54.390625 \nQ 18.3125 48.734375 21.84375 45.5625 \nQ 25.390625 42.390625 31.78125 42.390625 \nQ 38.140625 42.390625 41.71875 45.5625 \nQ 45.3125 48.734375 45.3125 54.390625 \nQ 45.3125 60.0625 41.71875 63.234375 \nQ 38.140625 66.40625 31.78125 66.40625 \nQ 25.390625 66.40625 21.84375 63.234375 \nQ 18.3125 60.0625 18.3125 54.390625 \nz\n\" id=\"DejaVuSans-56\"/>\n      </defs>\n      <g transform=\"translate(647.586012 308.716563)scale(0.1 -0.1)\">\n       <use xlink:href=\"#DejaVuSans-56\"/>\n      </g>\n     </g>\n    </g>\n    <g id=\"text_6\">\n     <!-- ratings -->\n     <defs>\n      <path d=\"M 41.109375 46.296875 \nQ 39.59375 47.171875 37.8125 47.578125 \nQ 36.03125 48 33.890625 48 \nQ 26.265625 48 22.1875 43.046875 \nQ 18.109375 38.09375 18.109375 28.8125 \nL 18.109375 0 \nL 9.078125 0 \nL 9.078125 54.6875 \nL 18.109375 54.6875 \nL 18.109375 46.1875 \nQ 20.953125 51.171875 25.484375 53.578125 \nQ 30.03125 56 36.53125 56 \nQ 37.453125 56 38.578125 55.875 \nQ 39.703125 55.765625 41.0625 55.515625 \nz\n\" id=\"DejaVuSans-114\"/>\n      <path d=\"M 34.28125 27.484375 \nQ 23.390625 27.484375 19.1875 25 \nQ 14.984375 22.515625 14.984375 16.5 \nQ 14.984375 11.71875 18.140625 8.90625 \nQ 21.296875 6.109375 26.703125 6.109375 \nQ 34.1875 6.109375 38.703125 11.40625 \nQ 43.21875 16.703125 43.21875 25.484375 \nL 43.21875 27.484375 \nz\nM 52.203125 31.203125 \nL 52.203125 0 \nL 43.21875 0 \nL 43.21875 8.296875 \nQ 40.140625 3.328125 35.546875 0.953125 \nQ 30.953125 -1.421875 24.3125 -1.421875 \nQ 15.921875 -1.421875 10.953125 3.296875 \nQ 6 8.015625 6 15.921875 \nQ 6 25.140625 12.171875 29.828125 \nQ 18.359375 34.515625 30.609375 34.515625 \nL 43.21875 34.515625 \nL 43.21875 35.40625 \nQ 43.21875 41.609375 39.140625 45 \nQ 35.0625 48.390625 27.6875 48.390625 \nQ 23 48.390625 18.546875 47.265625 \nQ 14.109375 46.140625 10.015625 43.890625 \nL 10.015625 52.203125 \nQ 14.9375 54.109375 19.578125 55.046875 \nQ 24.21875 56 28.609375 56 \nQ 40.484375 56 46.34375 49.84375 \nQ 52.203125 43.703125 52.203125 31.203125 \nz\n\" id=\"DejaVuSans-97\"/>\n      <path d=\"M 18.3125 70.21875 \nL 18.3125 54.6875 \nL 36.8125 54.6875 \nL 36.8125 47.703125 \nL 18.3125 47.703125 \nL 18.3125 18.015625 \nQ 18.3125 11.328125 20.140625 9.421875 \nQ 21.96875 7.515625 27.59375 7.515625 \nL 36.8125 7.515625 \nL 36.8125 0 \nL 27.59375 0 \nQ 17.1875 0 13.234375 3.875 \nQ 9.28125 7.765625 9.28125 18.015625 \nL 9.28125 47.703125 \nL 2.6875 47.703125 \nL 2.6875 54.6875 \nL 9.28125 54.6875 \nL 9.28125 70.21875 \nz\n\" id=\"DejaVuSans-116\"/>\n      <path d=\"M 9.421875 54.6875 \nL 18.40625 54.6875 \nL 18.40625 0 \nL 9.421875 0 \nz\nM 9.421875 75.984375 \nL 18.40625 75.984375 \nL 18.40625 64.59375 \nL 9.421875 64.59375 \nz\n\" id=\"DejaVuSans-105\"/>\n      <path d=\"M 54.890625 33.015625 \nL 54.890625 0 \nL 45.90625 0 \nL 45.90625 32.71875 \nQ 45.90625 40.484375 42.875 44.328125 \nQ 39.84375 48.1875 33.796875 48.1875 \nQ 26.515625 48.1875 22.3125 43.546875 \nQ 18.109375 38.921875 18.109375 30.90625 \nL 18.109375 0 \nL 9.078125 0 \nL 9.078125 54.6875 \nL 18.109375 54.6875 \nL 18.109375 46.1875 \nQ 21.34375 51.125 25.703125 53.5625 \nQ 30.078125 56 35.796875 56 \nQ 45.21875 56 50.046875 50.171875 \nQ 54.890625 44.34375 54.890625 33.015625 \nz\n\" id=\"DejaVuSans-110\"/>\n      <path d=\"M 45.40625 27.984375 \nQ 45.40625 37.75 41.375 43.109375 \nQ 37.359375 48.484375 30.078125 48.484375 \nQ 22.859375 48.484375 18.828125 43.109375 \nQ 14.796875 37.75 14.796875 27.984375 \nQ 14.796875 18.265625 18.828125 12.890625 \nQ 22.859375 7.515625 30.078125 7.515625 \nQ 37.359375 7.515625 41.375 12.890625 \nQ 45.40625 18.265625 45.40625 27.984375 \nz\nM 54.390625 6.78125 \nQ 54.390625 -7.171875 48.1875 -13.984375 \nQ 42 -20.796875 29.203125 -20.796875 \nQ 24.46875 -20.796875 20.265625 -20.09375 \nQ 16.0625 -19.390625 12.109375 -17.921875 \nL 12.109375 -9.1875 \nQ 16.0625 -11.328125 19.921875 -12.34375 \nQ 23.78125 -13.375 27.78125 -13.375 \nQ 36.625 -13.375 41.015625 -8.765625 \nQ 45.40625 -4.15625 45.40625 5.171875 \nL 45.40625 9.625 \nQ 42.625 4.78125 38.28125 2.390625 \nQ 33.9375 0 27.875 0 \nQ 17.828125 0 11.671875 7.65625 \nQ 5.515625 15.328125 5.515625 27.984375 \nQ 5.515625 40.671875 11.671875 48.328125 \nQ 17.828125 56 27.875 56 \nQ 33.9375 56 38.28125 53.609375 \nQ 42.625 51.21875 45.40625 46.390625 \nL 45.40625 54.6875 \nL 54.390625 54.6875 \nz\n\" id=\"DejaVuSans-103\"/>\n      <path d=\"M 44.28125 53.078125 \nL 44.28125 44.578125 \nQ 40.484375 46.53125 36.375 47.5 \nQ 32.28125 48.484375 27.875 48.484375 \nQ 21.1875 48.484375 17.84375 46.4375 \nQ 14.5 44.390625 14.5 40.28125 \nQ 14.5 37.15625 16.890625 35.375 \nQ 19.28125 33.59375 26.515625 31.984375 \nL 29.59375 31.296875 \nQ 39.15625 29.25 43.1875 25.515625 \nQ 47.21875 21.78125 47.21875 15.09375 \nQ 47.21875 7.46875 41.1875 3.015625 \nQ 35.15625 -1.421875 24.609375 -1.421875 \nQ 20.21875 -1.421875 15.453125 -0.5625 \nQ 10.6875 0.296875 5.421875 2 \nL 5.421875 11.28125 \nQ 10.40625 8.6875 15.234375 7.390625 \nQ 20.0625 6.109375 24.8125 6.109375 \nQ 31.15625 6.109375 34.5625 8.28125 \nQ 37.984375 10.453125 37.984375 14.40625 \nQ 37.984375 18.0625 35.515625 20.015625 \nQ 33.0625 21.96875 24.703125 23.78125 \nL 21.578125 24.515625 \nQ 13.234375 26.265625 9.515625 29.90625 \nQ 5.8125 33.546875 5.8125 39.890625 \nQ 5.8125 47.609375 11.28125 51.796875 \nQ 16.75 56 26.8125 56 \nQ 31.78125 56 36.171875 55.265625 \nQ 40.578125 54.546875 44.28125 53.078125 \nz\n\" id=\"DejaVuSans-115\"/>\n     </defs>\n     <g transform=\"translate(478.646094 322.394687)scale(0.1 -0.1)\">\n      <use xlink:href=\"#DejaVuSans-114\"/>\n      <use x=\"41.113281\" xlink:href=\"#DejaVuSans-97\"/>\n      <use x=\"102.392578\" xlink:href=\"#DejaVuSans-116\"/>\n      <use x=\"141.601562\" xlink:href=\"#DejaVuSans-105\"/>\n      <use x=\"169.384766\" xlink:href=\"#DejaVuSans-110\"/>\n      <use x=\"232.763672\" xlink:href=\"#DejaVuSans-103\"/>\n      <use x=\"296.240234\" xlink:href=\"#DejaVuSans-115\"/>\n     </g>\n    </g>\n   </g>\n   <g id=\"matplotlib.axis_2\">\n    <g id=\"ytick_1\">\n     <g id=\"line2d_6\">\n      <defs>\n       <path d=\"M 0 0 \nL -3.5 0 \n\" id=\"mb05c99c460\" style=\"stroke:#000000;stroke-width:0.8;\"/>\n      </defs>\n      <g>\n       <use style=\"stroke:#000000;stroke-width:0.8;\" x=\"272.8625\" xlink:href=\"#mb05c99c460\" y=\"35.908125\"/>\n      </g>\n     </g>\n     <g id=\"text_7\">\n      <!-- The Shawshank Redemption -->\n      <defs>\n       <path d=\"M -0.296875 72.90625 \nL 61.375 72.90625 \nL 61.375 64.59375 \nL 35.5 64.59375 \nL 35.5 0 \nL 25.59375 0 \nL 25.59375 64.59375 \nL -0.296875 64.59375 \nz\n\" id=\"DejaVuSans-84\"/>\n       <path d=\"M 54.890625 33.015625 \nL 54.890625 0 \nL 45.90625 0 \nL 45.90625 32.71875 \nQ 45.90625 40.484375 42.875 44.328125 \nQ 39.84375 48.1875 33.796875 48.1875 \nQ 26.515625 48.1875 22.3125 43.546875 \nQ 18.109375 38.921875 18.109375 30.90625 \nL 18.109375 0 \nL 9.078125 0 \nL 9.078125 75.984375 \nL 18.109375 75.984375 \nL 18.109375 46.1875 \nQ 21.34375 51.125 25.703125 53.5625 \nQ 30.078125 56 35.796875 56 \nQ 45.21875 56 50.046875 50.171875 \nQ 54.890625 44.34375 54.890625 33.015625 \nz\n\" id=\"DejaVuSans-104\"/>\n       <path d=\"M 56.203125 29.59375 \nL 56.203125 25.203125 \nL 14.890625 25.203125 \nQ 15.484375 15.921875 20.484375 11.0625 \nQ 25.484375 6.203125 34.421875 6.203125 \nQ 39.59375 6.203125 44.453125 7.46875 \nQ 49.3125 8.734375 54.109375 11.28125 \nL 54.109375 2.78125 \nQ 49.265625 0.734375 44.1875 -0.34375 \nQ 39.109375 -1.421875 33.890625 -1.421875 \nQ 20.796875 -1.421875 13.15625 6.1875 \nQ 5.515625 13.8125 5.515625 26.8125 \nQ 5.515625 40.234375 12.765625 48.109375 \nQ 20.015625 56 32.328125 56 \nQ 43.359375 56 49.78125 48.890625 \nQ 56.203125 41.796875 56.203125 29.59375 \nz\nM 47.21875 32.234375 \nQ 47.125 39.59375 43.09375 43.984375 \nQ 39.0625 48.390625 32.421875 48.390625 \nQ 24.90625 48.390625 20.390625 44.140625 \nQ 15.875 39.890625 15.1875 32.171875 \nz\n\" id=\"DejaVuSans-101\"/>\n       <path id=\"DejaVuSans-32\"/>\n       <path d=\"M 53.515625 70.515625 \nL 53.515625 60.890625 \nQ 47.90625 63.578125 42.921875 64.890625 \nQ 37.9375 66.21875 33.296875 66.21875 \nQ 25.25 66.21875 20.875 63.09375 \nQ 16.5 59.96875 16.5 54.203125 \nQ 16.5 49.359375 19.40625 46.890625 \nQ 22.3125 44.4375 30.421875 42.921875 \nL 36.375 41.703125 \nQ 47.40625 39.59375 52.65625 34.296875 \nQ 57.90625 29 57.90625 20.125 \nQ 57.90625 9.515625 50.796875 4.046875 \nQ 43.703125 -1.421875 29.984375 -1.421875 \nQ 24.8125 -1.421875 18.96875 -0.25 \nQ 13.140625 0.921875 6.890625 3.21875 \nL 6.890625 13.375 \nQ 12.890625 10.015625 18.65625 8.296875 \nQ 24.421875 6.59375 29.984375 6.59375 \nQ 38.421875 6.59375 43.015625 9.90625 \nQ 47.609375 13.234375 47.609375 19.390625 \nQ 47.609375 24.75 44.3125 27.78125 \nQ 41.015625 30.8125 33.5 32.328125 \nL 27.484375 33.5 \nQ 16.453125 35.6875 11.515625 40.375 \nQ 6.59375 45.0625 6.59375 53.421875 \nQ 6.59375 63.09375 13.40625 68.65625 \nQ 20.21875 74.21875 32.171875 74.21875 \nQ 37.3125 74.21875 42.625 73.28125 \nQ 47.953125 72.359375 53.515625 70.515625 \nz\n\" id=\"DejaVuSans-83\"/>\n       <path d=\"M 4.203125 54.6875 \nL 13.1875 54.6875 \nL 24.421875 12.015625 \nL 35.59375 54.6875 \nL 46.1875 54.6875 \nL 57.421875 12.015625 \nL 68.609375 54.6875 \nL 77.59375 54.6875 \nL 63.28125 0 \nL 52.6875 0 \nL 40.921875 44.828125 \nL 29.109375 0 \nL 18.5 0 \nz\n\" id=\"DejaVuSans-119\"/>\n       <path d=\"M 9.078125 75.984375 \nL 18.109375 75.984375 \nL 18.109375 31.109375 \nL 44.921875 54.6875 \nL 56.390625 54.6875 \nL 27.390625 29.109375 \nL 57.625 0 \nL 45.90625 0 \nL 18.109375 26.703125 \nL 18.109375 0 \nL 9.078125 0 \nz\n\" id=\"DejaVuSans-107\"/>\n       <path d=\"M 44.390625 34.1875 \nQ 47.5625 33.109375 50.5625 29.59375 \nQ 53.5625 26.078125 56.59375 19.921875 \nL 66.609375 0 \nL 56 0 \nL 46.6875 18.703125 \nQ 43.0625 26.03125 39.671875 28.421875 \nQ 36.28125 30.8125 30.421875 30.8125 \nL 19.671875 30.8125 \nL 19.671875 0 \nL 9.8125 0 \nL 9.8125 72.90625 \nL 32.078125 72.90625 \nQ 44.578125 72.90625 50.734375 67.671875 \nQ 56.890625 62.453125 56.890625 51.90625 \nQ 56.890625 45.015625 53.6875 40.46875 \nQ 50.484375 35.9375 44.390625 34.1875 \nz\nM 19.671875 64.796875 \nL 19.671875 38.921875 \nL 32.078125 38.921875 \nQ 39.203125 38.921875 42.84375 42.21875 \nQ 46.484375 45.515625 46.484375 51.90625 \nQ 46.484375 58.296875 42.84375 61.546875 \nQ 39.203125 64.796875 32.078125 64.796875 \nz\n\" id=\"DejaVuSans-82\"/>\n       <path d=\"M 45.40625 46.390625 \nL 45.40625 75.984375 \nL 54.390625 75.984375 \nL 54.390625 0 \nL 45.40625 0 \nL 45.40625 8.203125 \nQ 42.578125 3.328125 38.25 0.953125 \nQ 33.9375 -1.421875 27.875 -1.421875 \nQ 17.96875 -1.421875 11.734375 6.484375 \nQ 5.515625 14.40625 5.515625 27.296875 \nQ 5.515625 40.1875 11.734375 48.09375 \nQ 17.96875 56 27.875 56 \nQ 33.9375 56 38.25 53.625 \nQ 42.578125 51.265625 45.40625 46.390625 \nz\nM 14.796875 27.296875 \nQ 14.796875 17.390625 18.875 11.75 \nQ 22.953125 6.109375 30.078125 6.109375 \nQ 37.203125 6.109375 41.296875 11.75 \nQ 45.40625 17.390625 45.40625 27.296875 \nQ 45.40625 37.203125 41.296875 42.84375 \nQ 37.203125 48.484375 30.078125 48.484375 \nQ 22.953125 48.484375 18.875 42.84375 \nQ 14.796875 37.203125 14.796875 27.296875 \nz\n\" id=\"DejaVuSans-100\"/>\n       <path d=\"M 52 44.1875 \nQ 55.375 50.25 60.0625 53.125 \nQ 64.75 56 71.09375 56 \nQ 79.640625 56 84.28125 50.015625 \nQ 88.921875 44.046875 88.921875 33.015625 \nL 88.921875 0 \nL 79.890625 0 \nL 79.890625 32.71875 \nQ 79.890625 40.578125 77.09375 44.375 \nQ 74.3125 48.1875 68.609375 48.1875 \nQ 61.625 48.1875 57.5625 43.546875 \nQ 53.515625 38.921875 53.515625 30.90625 \nL 53.515625 0 \nL 44.484375 0 \nL 44.484375 32.71875 \nQ 44.484375 40.625 41.703125 44.40625 \nQ 38.921875 48.1875 33.109375 48.1875 \nQ 26.21875 48.1875 22.15625 43.53125 \nQ 18.109375 38.875 18.109375 30.90625 \nL 18.109375 0 \nL 9.078125 0 \nL 9.078125 54.6875 \nL 18.109375 54.6875 \nL 18.109375 46.1875 \nQ 21.1875 51.21875 25.484375 53.609375 \nQ 29.78125 56 35.6875 56 \nQ 41.65625 56 45.828125 52.96875 \nQ 50 49.953125 52 44.1875 \nz\n\" id=\"DejaVuSans-109\"/>\n       <path d=\"M 18.109375 8.203125 \nL 18.109375 -20.796875 \nL 9.078125 -20.796875 \nL 9.078125 54.6875 \nL 18.109375 54.6875 \nL 18.109375 46.390625 \nQ 20.953125 51.265625 25.265625 53.625 \nQ 29.59375 56 35.59375 56 \nQ 45.5625 56 51.78125 48.09375 \nQ 58.015625 40.1875 58.015625 27.296875 \nQ 58.015625 14.40625 51.78125 6.484375 \nQ 45.5625 -1.421875 35.59375 -1.421875 \nQ 29.59375 -1.421875 25.265625 0.953125 \nQ 20.953125 3.328125 18.109375 8.203125 \nz\nM 48.6875 27.296875 \nQ 48.6875 37.203125 44.609375 42.84375 \nQ 40.53125 48.484375 33.40625 48.484375 \nQ 26.265625 48.484375 22.1875 42.84375 \nQ 18.109375 37.203125 18.109375 27.296875 \nQ 18.109375 17.390625 22.1875 11.75 \nQ 26.265625 6.109375 33.40625 6.109375 \nQ 40.53125 6.109375 44.609375 11.75 \nQ 48.6875 17.390625 48.6875 27.296875 \nz\n\" id=\"DejaVuSans-112\"/>\n       <path d=\"M 30.609375 48.390625 \nQ 23.390625 48.390625 19.1875 42.75 \nQ 14.984375 37.109375 14.984375 27.296875 \nQ 14.984375 17.484375 19.15625 11.84375 \nQ 23.34375 6.203125 30.609375 6.203125 \nQ 37.796875 6.203125 41.984375 11.859375 \nQ 46.1875 17.53125 46.1875 27.296875 \nQ 46.1875 37.015625 41.984375 42.703125 \nQ 37.796875 48.390625 30.609375 48.390625 \nz\nM 30.609375 56 \nQ 42.328125 56 49.015625 48.375 \nQ 55.71875 40.765625 55.71875 27.296875 \nQ 55.71875 13.875 49.015625 6.21875 \nQ 42.328125 -1.421875 30.609375 -1.421875 \nQ 18.84375 -1.421875 12.171875 6.21875 \nQ 5.515625 13.875 5.515625 27.296875 \nQ 5.515625 40.765625 12.171875 48.375 \nQ 18.84375 56 30.609375 56 \nz\n\" id=\"DejaVuSans-111\"/>\n      </defs>\n      <g transform=\"translate(123.715625 39.707344)scale(0.1 -0.1)\">\n       <use xlink:href=\"#DejaVuSans-84\"/>\n       <use x=\"61.083984\" xlink:href=\"#DejaVuSans-104\"/>\n       <use x=\"124.462891\" xlink:href=\"#DejaVuSans-101\"/>\n       <use x=\"185.986328\" xlink:href=\"#DejaVuSans-32\"/>\n       <use x=\"217.773438\" xlink:href=\"#DejaVuSans-83\"/>\n       <use x=\"281.25\" xlink:href=\"#DejaVuSans-104\"/>\n       <use x=\"344.628906\" xlink:href=\"#DejaVuSans-97\"/>\n       <use x=\"405.908203\" xlink:href=\"#DejaVuSans-119\"/>\n       <use x=\"487.695312\" xlink:href=\"#DejaVuSans-115\"/>\n       <use x=\"539.794922\" xlink:href=\"#DejaVuSans-104\"/>\n       <use x=\"603.173828\" xlink:href=\"#DejaVuSans-97\"/>\n       <use x=\"664.453125\" xlink:href=\"#DejaVuSans-110\"/>\n       <use x=\"727.832031\" xlink:href=\"#DejaVuSans-107\"/>\n       <use x=\"785.742188\" xlink:href=\"#DejaVuSans-32\"/>\n       <use x=\"817.529297\" xlink:href=\"#DejaVuSans-82\"/>\n       <use x=\"882.511719\" xlink:href=\"#DejaVuSans-101\"/>\n       <use x=\"944.035156\" xlink:href=\"#DejaVuSans-100\"/>\n       <use x=\"1007.511719\" xlink:href=\"#DejaVuSans-101\"/>\n       <use x=\"1069.035156\" xlink:href=\"#DejaVuSans-109\"/>\n       <use x=\"1166.447266\" xlink:href=\"#DejaVuSans-112\"/>\n       <use x=\"1229.923828\" xlink:href=\"#DejaVuSans-116\"/>\n       <use x=\"1269.132812\" xlink:href=\"#DejaVuSans-105\"/>\n       <use x=\"1296.916016\" xlink:href=\"#DejaVuSans-111\"/>\n       <use x=\"1358.097656\" xlink:href=\"#DejaVuSans-110\"/>\n      </g>\n     </g>\n    </g>\n    <g id=\"ytick_2\">\n     <g id=\"line2d_7\">\n      <g>\n       <use style=\"stroke:#000000;stroke-width:0.8;\" x=\"272.8625\" xlink:href=\"#mb05c99c460\" y=\"63.088125\"/>\n      </g>\n     </g>\n     <g id=\"text_8\">\n      <!-- The Godfather -->\n      <defs>\n       <path d=\"M 59.515625 10.40625 \nL 59.515625 29.984375 \nL 43.40625 29.984375 \nL 43.40625 38.09375 \nL 69.28125 38.09375 \nL 69.28125 6.78125 \nQ 63.578125 2.734375 56.6875 0.65625 \nQ 49.8125 -1.421875 42 -1.421875 \nQ 24.90625 -1.421875 15.25 8.5625 \nQ 5.609375 18.5625 5.609375 36.375 \nQ 5.609375 54.25 15.25 64.234375 \nQ 24.90625 74.21875 42 74.21875 \nQ 49.125 74.21875 55.546875 72.453125 \nQ 61.96875 70.703125 67.390625 67.28125 \nL 67.390625 56.78125 \nQ 61.921875 61.421875 55.765625 63.765625 \nQ 49.609375 66.109375 42.828125 66.109375 \nQ 29.4375 66.109375 22.71875 58.640625 \nQ 16.015625 51.171875 16.015625 36.375 \nQ 16.015625 21.625 22.71875 14.15625 \nQ 29.4375 6.6875 42.828125 6.6875 \nQ 48.046875 6.6875 52.140625 7.59375 \nQ 56.25 8.5 59.515625 10.40625 \nz\n\" id=\"DejaVuSans-71\"/>\n       <path d=\"M 37.109375 75.984375 \nL 37.109375 68.5 \nL 28.515625 68.5 \nQ 23.6875 68.5 21.796875 66.546875 \nQ 19.921875 64.59375 19.921875 59.515625 \nL 19.921875 54.6875 \nL 34.71875 54.6875 \nL 34.71875 47.703125 \nL 19.921875 47.703125 \nL 19.921875 0 \nL 10.890625 0 \nL 10.890625 47.703125 \nL 2.296875 47.703125 \nL 2.296875 54.6875 \nL 10.890625 54.6875 \nL 10.890625 58.5 \nQ 10.890625 67.625 15.140625 71.796875 \nQ 19.390625 75.984375 28.609375 75.984375 \nz\n\" id=\"DejaVuSans-102\"/>\n      </defs>\n      <g transform=\"translate(193.7 66.887344)scale(0.1 -0.1)\">\n       <use xlink:href=\"#DejaVuSans-84\"/>\n       <use x=\"61.083984\" xlink:href=\"#DejaVuSans-104\"/>\n       <use x=\"124.462891\" xlink:href=\"#DejaVuSans-101\"/>\n       <use x=\"185.986328\" xlink:href=\"#DejaVuSans-32\"/>\n       <use x=\"217.773438\" xlink:href=\"#DejaVuSans-71\"/>\n       <use x=\"295.263672\" xlink:href=\"#DejaVuSans-111\"/>\n       <use x=\"356.445312\" xlink:href=\"#DejaVuSans-100\"/>\n       <use x=\"419.921875\" xlink:href=\"#DejaVuSans-102\"/>\n       <use x=\"455.126953\" xlink:href=\"#DejaVuSans-97\"/>\n       <use x=\"516.40625\" xlink:href=\"#DejaVuSans-116\"/>\n       <use x=\"555.615234\" xlink:href=\"#DejaVuSans-104\"/>\n       <use x=\"618.994141\" xlink:href=\"#DejaVuSans-101\"/>\n       <use x=\"680.517578\" xlink:href=\"#DejaVuSans-114\"/>\n      </g>\n     </g>\n    </g>\n    <g id=\"ytick_3\">\n     <g id=\"line2d_8\">\n      <g>\n       <use style=\"stroke:#000000;stroke-width:0.8;\" x=\"272.8625\" xlink:href=\"#mb05c99c460\" y=\"90.268125\"/>\n      </g>\n     </g>\n     <g id=\"text_9\">\n      <!-- The Dark Knight -->\n      <defs>\n       <path d=\"M 19.671875 64.796875 \nL 19.671875 8.109375 \nL 31.59375 8.109375 \nQ 46.6875 8.109375 53.6875 14.9375 \nQ 60.6875 21.78125 60.6875 36.53125 \nQ 60.6875 51.171875 53.6875 57.984375 \nQ 46.6875 64.796875 31.59375 64.796875 \nz\nM 9.8125 72.90625 \nL 30.078125 72.90625 \nQ 51.265625 72.90625 61.171875 64.09375 \nQ 71.09375 55.28125 71.09375 36.53125 \nQ 71.09375 17.671875 61.125 8.828125 \nQ 51.171875 0 30.078125 0 \nL 9.8125 0 \nz\n\" id=\"DejaVuSans-68\"/>\n       <path d=\"M 9.8125 72.90625 \nL 19.671875 72.90625 \nL 19.671875 42.09375 \nL 52.390625 72.90625 \nL 65.09375 72.90625 \nL 28.90625 38.921875 \nL 67.671875 0 \nL 54.6875 0 \nL 19.671875 35.109375 \nL 19.671875 0 \nL 9.8125 0 \nz\n\" id=\"DejaVuSans-75\"/>\n      </defs>\n      <g transform=\"translate(184.898437 94.067344)scale(0.1 -0.1)\">\n       <use xlink:href=\"#DejaVuSans-84\"/>\n       <use x=\"61.083984\" xlink:href=\"#DejaVuSans-104\"/>\n       <use x=\"124.462891\" xlink:href=\"#DejaVuSans-101\"/>\n       <use x=\"185.986328\" xlink:href=\"#DejaVuSans-32\"/>\n       <use x=\"217.773438\" xlink:href=\"#DejaVuSans-68\"/>\n       <use x=\"294.775391\" xlink:href=\"#DejaVuSans-97\"/>\n       <use x=\"356.054688\" xlink:href=\"#DejaVuSans-114\"/>\n       <use x=\"397.167969\" xlink:href=\"#DejaVuSans-107\"/>\n       <use x=\"455.078125\" xlink:href=\"#DejaVuSans-32\"/>\n       <use x=\"486.865234\" xlink:href=\"#DejaVuSans-75\"/>\n       <use x=\"552.441406\" xlink:href=\"#DejaVuSans-110\"/>\n       <use x=\"615.820312\" xlink:href=\"#DejaVuSans-105\"/>\n       <use x=\"643.603516\" xlink:href=\"#DejaVuSans-103\"/>\n       <use x=\"707.080078\" xlink:href=\"#DejaVuSans-104\"/>\n       <use x=\"770.458984\" xlink:href=\"#DejaVuSans-116\"/>\n      </g>\n     </g>\n    </g>\n    <g id=\"ytick_4\">\n     <g id=\"line2d_9\">\n      <g>\n       <use style=\"stroke:#000000;stroke-width:0.8;\" x=\"272.8625\" xlink:href=\"#mb05c99c460\" y=\"117.448125\"/>\n      </g>\n     </g>\n     <g id=\"text_10\">\n      <!-- The Godfather Part II -->\n      <defs>\n       <path d=\"M 19.671875 64.796875 \nL 19.671875 37.40625 \nL 32.078125 37.40625 \nQ 38.96875 37.40625 42.71875 40.96875 \nQ 46.484375 44.53125 46.484375 51.125 \nQ 46.484375 57.671875 42.71875 61.234375 \nQ 38.96875 64.796875 32.078125 64.796875 \nz\nM 9.8125 72.90625 \nL 32.078125 72.90625 \nQ 44.34375 72.90625 50.609375 67.359375 \nQ 56.890625 61.8125 56.890625 51.125 \nQ 56.890625 40.328125 50.609375 34.8125 \nQ 44.34375 29.296875 32.078125 29.296875 \nL 19.671875 29.296875 \nL 19.671875 0 \nL 9.8125 0 \nz\n\" id=\"DejaVuSans-80\"/>\n       <path d=\"M 9.8125 72.90625 \nL 19.671875 72.90625 \nL 19.671875 0 \nL 9.8125 0 \nz\n\" id=\"DejaVuSans-73\"/>\n      </defs>\n      <g transform=\"translate(161.704687 121.247344)scale(0.1 -0.1)\">\n       <use xlink:href=\"#DejaVuSans-84\"/>\n       <use x=\"61.083984\" xlink:href=\"#DejaVuSans-104\"/>\n       <use x=\"124.462891\" xlink:href=\"#DejaVuSans-101\"/>\n       <use x=\"185.986328\" xlink:href=\"#DejaVuSans-32\"/>\n       <use x=\"217.773438\" xlink:href=\"#DejaVuSans-71\"/>\n       <use x=\"295.263672\" xlink:href=\"#DejaVuSans-111\"/>\n       <use x=\"356.445312\" xlink:href=\"#DejaVuSans-100\"/>\n       <use x=\"419.921875\" xlink:href=\"#DejaVuSans-102\"/>\n       <use x=\"455.126953\" xlink:href=\"#DejaVuSans-97\"/>\n       <use x=\"516.40625\" xlink:href=\"#DejaVuSans-116\"/>\n       <use x=\"555.615234\" xlink:href=\"#DejaVuSans-104\"/>\n       <use x=\"618.994141\" xlink:href=\"#DejaVuSans-101\"/>\n       <use x=\"680.517578\" xlink:href=\"#DejaVuSans-114\"/>\n       <use x=\"721.630859\" xlink:href=\"#DejaVuSans-32\"/>\n       <use x=\"753.417969\" xlink:href=\"#DejaVuSans-80\"/>\n       <use x=\"809.220703\" xlink:href=\"#DejaVuSans-97\"/>\n       <use x=\"870.5\" xlink:href=\"#DejaVuSans-114\"/>\n       <use x=\"911.613281\" xlink:href=\"#DejaVuSans-116\"/>\n       <use x=\"950.822266\" xlink:href=\"#DejaVuSans-32\"/>\n       <use x=\"982.609375\" xlink:href=\"#DejaVuSans-73\"/>\n       <use x=\"1012.101562\" xlink:href=\"#DejaVuSans-73\"/>\n      </g>\n     </g>\n    </g>\n    <g id=\"ytick_5\">\n     <g id=\"line2d_10\">\n      <g>\n       <use style=\"stroke:#000000;stroke-width:0.8;\" x=\"272.8625\" xlink:href=\"#mb05c99c460\" y=\"144.628125\"/>\n      </g>\n     </g>\n     <g id=\"text_11\">\n      <!-- 12 Angry Men -->\n      <defs>\n       <path d=\"M 12.40625 8.296875 \nL 28.515625 8.296875 \nL 28.515625 63.921875 \nL 10.984375 60.40625 \nL 10.984375 69.390625 \nL 28.421875 72.90625 \nL 38.28125 72.90625 \nL 38.28125 8.296875 \nL 54.390625 8.296875 \nL 54.390625 0 \nL 12.40625 0 \nz\n\" id=\"DejaVuSans-49\"/>\n       <path d=\"M 34.1875 63.1875 \nL 20.796875 26.90625 \nL 47.609375 26.90625 \nz\nM 28.609375 72.90625 \nL 39.796875 72.90625 \nL 67.578125 0 \nL 57.328125 0 \nL 50.6875 18.703125 \nL 17.828125 18.703125 \nL 11.1875 0 \nL 0.78125 0 \nz\n\" id=\"DejaVuSans-65\"/>\n       <path d=\"M 32.171875 -5.078125 \nQ 28.375 -14.84375 24.75 -17.8125 \nQ 21.140625 -20.796875 15.09375 -20.796875 \nL 7.90625 -20.796875 \nL 7.90625 -13.28125 \nL 13.1875 -13.28125 \nQ 16.890625 -13.28125 18.9375 -11.515625 \nQ 21 -9.765625 23.484375 -3.21875 \nL 25.09375 0.875 \nL 2.984375 54.6875 \nL 12.5 54.6875 \nL 29.59375 11.921875 \nL 46.6875 54.6875 \nL 56.203125 54.6875 \nz\n\" id=\"DejaVuSans-121\"/>\n       <path d=\"M 9.8125 72.90625 \nL 24.515625 72.90625 \nL 43.109375 23.296875 \nL 61.8125 72.90625 \nL 76.515625 72.90625 \nL 76.515625 0 \nL 66.890625 0 \nL 66.890625 64.015625 \nL 48.09375 14.015625 \nL 38.1875 14.015625 \nL 19.390625 64.015625 \nL 19.390625 0 \nL 9.8125 0 \nz\n\" id=\"DejaVuSans-77\"/>\n      </defs>\n      <g transform=\"translate(196.10625 148.427344)scale(0.1 -0.1)\">\n       <use xlink:href=\"#DejaVuSans-49\"/>\n       <use x=\"63.623047\" xlink:href=\"#DejaVuSans-50\"/>\n       <use x=\"127.246094\" xlink:href=\"#DejaVuSans-32\"/>\n       <use x=\"159.033203\" xlink:href=\"#DejaVuSans-65\"/>\n       <use x=\"227.441406\" xlink:href=\"#DejaVuSans-110\"/>\n       <use x=\"290.820312\" xlink:href=\"#DejaVuSans-103\"/>\n       <use x=\"354.296875\" xlink:href=\"#DejaVuSans-114\"/>\n       <use x=\"395.410156\" xlink:href=\"#DejaVuSans-121\"/>\n       <use x=\"454.589844\" xlink:href=\"#DejaVuSans-32\"/>\n       <use x=\"486.376953\" xlink:href=\"#DejaVuSans-77\"/>\n       <use x=\"572.65625\" xlink:href=\"#DejaVuSans-101\"/>\n       <use x=\"634.179688\" xlink:href=\"#DejaVuSans-110\"/>\n      </g>\n     </g>\n    </g>\n    <g id=\"ytick_6\">\n     <g id=\"line2d_11\">\n      <g>\n       <use style=\"stroke:#000000;stroke-width:0.8;\" x=\"272.8625\" xlink:href=\"#mb05c99c460\" y=\"171.808125\"/>\n      </g>\n     </g>\n     <g id=\"text_12\">\n      <!-- Schindler's List -->\n      <defs>\n       <path d=\"M 48.78125 52.59375 \nL 48.78125 44.1875 \nQ 44.96875 46.296875 41.140625 47.34375 \nQ 37.3125 48.390625 33.40625 48.390625 \nQ 24.65625 48.390625 19.8125 42.84375 \nQ 14.984375 37.3125 14.984375 27.296875 \nQ 14.984375 17.28125 19.8125 11.734375 \nQ 24.65625 6.203125 33.40625 6.203125 \nQ 37.3125 6.203125 41.140625 7.25 \nQ 44.96875 8.296875 48.78125 10.40625 \nL 48.78125 2.09375 \nQ 45.015625 0.34375 40.984375 -0.53125 \nQ 36.96875 -1.421875 32.421875 -1.421875 \nQ 20.0625 -1.421875 12.78125 6.34375 \nQ 5.515625 14.109375 5.515625 27.296875 \nQ 5.515625 40.671875 12.859375 48.328125 \nQ 20.21875 56 33.015625 56 \nQ 37.15625 56 41.109375 55.140625 \nQ 45.0625 54.296875 48.78125 52.59375 \nz\n\" id=\"DejaVuSans-99\"/>\n       <path d=\"M 9.421875 75.984375 \nL 18.40625 75.984375 \nL 18.40625 0 \nL 9.421875 0 \nz\n\" id=\"DejaVuSans-108\"/>\n       <path d=\"M 17.921875 72.90625 \nL 17.921875 45.796875 \nL 9.625 45.796875 \nL 9.625 72.90625 \nz\n\" id=\"DejaVuSans-39\"/>\n       <path d=\"M 9.8125 72.90625 \nL 19.671875 72.90625 \nL 19.671875 8.296875 \nL 55.171875 8.296875 \nL 55.171875 0 \nL 9.8125 0 \nz\n\" id=\"DejaVuSans-76\"/>\n      </defs>\n      <g transform=\"translate(190.55625 175.607344)scale(0.1 -0.1)\">\n       <use xlink:href=\"#DejaVuSans-83\"/>\n       <use x=\"63.476562\" xlink:href=\"#DejaVuSans-99\"/>\n       <use x=\"118.457031\" xlink:href=\"#DejaVuSans-104\"/>\n       <use x=\"181.835938\" xlink:href=\"#DejaVuSans-105\"/>\n       <use x=\"209.619141\" xlink:href=\"#DejaVuSans-110\"/>\n       <use x=\"272.998047\" xlink:href=\"#DejaVuSans-100\"/>\n       <use x=\"336.474609\" xlink:href=\"#DejaVuSans-108\"/>\n       <use x=\"364.257812\" xlink:href=\"#DejaVuSans-101\"/>\n       <use x=\"425.78125\" xlink:href=\"#DejaVuSans-114\"/>\n       <use x=\"466.894531\" xlink:href=\"#DejaVuSans-39\"/>\n       <use x=\"494.384766\" xlink:href=\"#DejaVuSans-115\"/>\n       <use x=\"546.484375\" xlink:href=\"#DejaVuSans-32\"/>\n       <use x=\"578.271484\" xlink:href=\"#DejaVuSans-76\"/>\n       <use x=\"633.984375\" xlink:href=\"#DejaVuSans-105\"/>\n       <use x=\"661.767578\" xlink:href=\"#DejaVuSans-115\"/>\n       <use x=\"713.867188\" xlink:href=\"#DejaVuSans-116\"/>\n      </g>\n     </g>\n    </g>\n    <g id=\"ytick_7\">\n     <g id=\"line2d_12\">\n      <g>\n       <use style=\"stroke:#000000;stroke-width:0.8;\" x=\"272.8625\" xlink:href=\"#mb05c99c460\" y=\"198.988125\"/>\n      </g>\n     </g>\n     <g id=\"text_13\">\n      <!-- The Lord of the Rings: The Return of the King -->\n      <defs>\n       <path d=\"M 11.71875 12.40625 \nL 22.015625 12.40625 \nL 22.015625 0 \nL 11.71875 0 \nz\nM 11.71875 51.703125 \nL 22.015625 51.703125 \nL 22.015625 39.3125 \nL 11.71875 39.3125 \nz\n\" id=\"DejaVuSans-58\"/>\n       <path d=\"M 8.5 21.578125 \nL 8.5 54.6875 \nL 17.484375 54.6875 \nL 17.484375 21.921875 \nQ 17.484375 14.15625 20.5 10.265625 \nQ 23.53125 6.390625 29.59375 6.390625 \nQ 36.859375 6.390625 41.078125 11.03125 \nQ 45.3125 15.671875 45.3125 23.6875 \nL 45.3125 54.6875 \nL 54.296875 54.6875 \nL 54.296875 0 \nL 45.3125 0 \nL 45.3125 8.40625 \nQ 42.046875 3.421875 37.71875 1 \nQ 33.40625 -1.421875 27.6875 -1.421875 \nQ 18.265625 -1.421875 13.375 4.4375 \nQ 8.5 10.296875 8.5 21.578125 \nz\nM 31.109375 56 \nz\n\" id=\"DejaVuSans-117\"/>\n      </defs>\n      <g transform=\"translate(39.967187 202.787344)scale(0.1 -0.1)\">\n       <use xlink:href=\"#DejaVuSans-84\"/>\n       <use x=\"61.083984\" xlink:href=\"#DejaVuSans-104\"/>\n       <use x=\"124.462891\" xlink:href=\"#DejaVuSans-101\"/>\n       <use x=\"185.986328\" xlink:href=\"#DejaVuSans-32\"/>\n       <use x=\"217.773438\" xlink:href=\"#DejaVuSans-76\"/>\n       <use x=\"271.736328\" xlink:href=\"#DejaVuSans-111\"/>\n       <use x=\"332.917969\" xlink:href=\"#DejaVuSans-114\"/>\n       <use x=\"372.28125\" xlink:href=\"#DejaVuSans-100\"/>\n       <use x=\"435.757812\" xlink:href=\"#DejaVuSans-32\"/>\n       <use x=\"467.544922\" xlink:href=\"#DejaVuSans-111\"/>\n       <use x=\"528.726562\" xlink:href=\"#DejaVuSans-102\"/>\n       <use x=\"563.931641\" xlink:href=\"#DejaVuSans-32\"/>\n       <use x=\"595.71875\" xlink:href=\"#DejaVuSans-116\"/>\n       <use x=\"634.927734\" xlink:href=\"#DejaVuSans-104\"/>\n       <use x=\"698.306641\" xlink:href=\"#DejaVuSans-101\"/>\n       <use x=\"759.830078\" xlink:href=\"#DejaVuSans-32\"/>\n       <use x=\"791.617188\" xlink:href=\"#DejaVuSans-82\"/>\n       <use x=\"861.099609\" xlink:href=\"#DejaVuSans-105\"/>\n       <use x=\"888.882812\" xlink:href=\"#DejaVuSans-110\"/>\n       <use x=\"952.261719\" xlink:href=\"#DejaVuSans-103\"/>\n       <use x=\"1015.738281\" xlink:href=\"#DejaVuSans-115\"/>\n       <use x=\"1067.837891\" xlink:href=\"#DejaVuSans-58\"/>\n       <use x=\"1101.529297\" xlink:href=\"#DejaVuSans-32\"/>\n       <use x=\"1133.316406\" xlink:href=\"#DejaVuSans-84\"/>\n       <use x=\"1194.400391\" xlink:href=\"#DejaVuSans-104\"/>\n       <use x=\"1257.779297\" xlink:href=\"#DejaVuSans-101\"/>\n       <use x=\"1319.302734\" xlink:href=\"#DejaVuSans-32\"/>\n       <use x=\"1351.089844\" xlink:href=\"#DejaVuSans-82\"/>\n       <use x=\"1416.072266\" xlink:href=\"#DejaVuSans-101\"/>\n       <use x=\"1477.595703\" xlink:href=\"#DejaVuSans-116\"/>\n       <use x=\"1516.804688\" xlink:href=\"#DejaVuSans-117\"/>\n       <use x=\"1580.183594\" xlink:href=\"#DejaVuSans-114\"/>\n       <use x=\"1619.546875\" xlink:href=\"#DejaVuSans-110\"/>\n       <use x=\"1682.925781\" xlink:href=\"#DejaVuSans-32\"/>\n       <use x=\"1714.712891\" xlink:href=\"#DejaVuSans-111\"/>\n       <use x=\"1775.894531\" xlink:href=\"#DejaVuSans-102\"/>\n       <use x=\"1811.099609\" xlink:href=\"#DejaVuSans-32\"/>\n       <use x=\"1842.886719\" xlink:href=\"#DejaVuSans-116\"/>\n       <use x=\"1882.095703\" xlink:href=\"#DejaVuSans-104\"/>\n       <use x=\"1945.474609\" xlink:href=\"#DejaVuSans-101\"/>\n       <use x=\"2006.998047\" xlink:href=\"#DejaVuSans-32\"/>\n       <use x=\"2038.785156\" xlink:href=\"#DejaVuSans-75\"/>\n       <use x=\"2104.361328\" xlink:href=\"#DejaVuSans-105\"/>\n       <use x=\"2132.144531\" xlink:href=\"#DejaVuSans-110\"/>\n       <use x=\"2195.523438\" xlink:href=\"#DejaVuSans-103\"/>\n      </g>\n     </g>\n    </g>\n    <g id=\"ytick_8\">\n     <g id=\"line2d_13\">\n      <g>\n       <use style=\"stroke:#000000;stroke-width:0.8;\" x=\"272.8625\" xlink:href=\"#mb05c99c460\" y=\"226.168125\"/>\n      </g>\n     </g>\n     <g id=\"text_14\">\n      <!-- Pulp Fiction -->\n      <defs>\n       <path d=\"M 9.8125 72.90625 \nL 51.703125 72.90625 \nL 51.703125 64.59375 \nL 19.671875 64.59375 \nL 19.671875 43.109375 \nL 48.578125 43.109375 \nL 48.578125 34.8125 \nL 19.671875 34.8125 \nL 19.671875 0 \nL 9.8125 0 \nz\n\" id=\"DejaVuSans-70\"/>\n      </defs>\n      <g transform=\"translate(208.907812 229.967344)scale(0.1 -0.1)\">\n       <use xlink:href=\"#DejaVuSans-80\"/>\n       <use x=\"58.552734\" xlink:href=\"#DejaVuSans-117\"/>\n       <use x=\"121.931641\" xlink:href=\"#DejaVuSans-108\"/>\n       <use x=\"149.714844\" xlink:href=\"#DejaVuSans-112\"/>\n       <use x=\"213.191406\" xlink:href=\"#DejaVuSans-32\"/>\n       <use x=\"244.978516\" xlink:href=\"#DejaVuSans-70\"/>\n       <use x=\"295.248047\" xlink:href=\"#DejaVuSans-105\"/>\n       <use x=\"323.03125\" xlink:href=\"#DejaVuSans-99\"/>\n       <use x=\"378.011719\" xlink:href=\"#DejaVuSans-116\"/>\n       <use x=\"417.220703\" xlink:href=\"#DejaVuSans-105\"/>\n       <use x=\"445.003906\" xlink:href=\"#DejaVuSans-111\"/>\n       <use x=\"506.185547\" xlink:href=\"#DejaVuSans-110\"/>\n      </g>\n     </g>\n    </g>\n    <g id=\"ytick_9\">\n     <g id=\"line2d_14\">\n      <g>\n       <use style=\"stroke:#000000;stroke-width:0.8;\" x=\"272.8625\" xlink:href=\"#mb05c99c460\" y=\"253.348125\"/>\n      </g>\n     </g>\n     <g id=\"text_15\">\n      <!-- The Lord of the Rings: The Fellowship of the Ring -->\n      <g transform=\"translate(20.878125 257.147344)scale(0.1 -0.1)\">\n       <use xlink:href=\"#DejaVuSans-84\"/>\n       <use x=\"61.083984\" xlink:href=\"#DejaVuSans-104\"/>\n       <use x=\"124.462891\" xlink:href=\"#DejaVuSans-101\"/>\n       <use x=\"185.986328\" xlink:href=\"#DejaVuSans-32\"/>\n       <use x=\"217.773438\" xlink:href=\"#DejaVuSans-76\"/>\n       <use x=\"271.736328\" xlink:href=\"#DejaVuSans-111\"/>\n       <use x=\"332.917969\" xlink:href=\"#DejaVuSans-114\"/>\n       <use x=\"372.28125\" xlink:href=\"#DejaVuSans-100\"/>\n       <use x=\"435.757812\" xlink:href=\"#DejaVuSans-32\"/>\n       <use x=\"467.544922\" xlink:href=\"#DejaVuSans-111\"/>\n       <use x=\"528.726562\" xlink:href=\"#DejaVuSans-102\"/>\n       <use x=\"563.931641\" xlink:href=\"#DejaVuSans-32\"/>\n       <use x=\"595.71875\" xlink:href=\"#DejaVuSans-116\"/>\n       <use x=\"634.927734\" xlink:href=\"#DejaVuSans-104\"/>\n       <use x=\"698.306641\" xlink:href=\"#DejaVuSans-101\"/>\n       <use x=\"759.830078\" xlink:href=\"#DejaVuSans-32\"/>\n       <use x=\"791.617188\" xlink:href=\"#DejaVuSans-82\"/>\n       <use x=\"861.099609\" xlink:href=\"#DejaVuSans-105\"/>\n       <use x=\"888.882812\" xlink:href=\"#DejaVuSans-110\"/>\n       <use x=\"952.261719\" xlink:href=\"#DejaVuSans-103\"/>\n       <use x=\"1015.738281\" xlink:href=\"#DejaVuSans-115\"/>\n       <use x=\"1067.837891\" xlink:href=\"#DejaVuSans-58\"/>\n       <use x=\"1101.529297\" xlink:href=\"#DejaVuSans-32\"/>\n       <use x=\"1133.316406\" xlink:href=\"#DejaVuSans-84\"/>\n       <use x=\"1194.400391\" xlink:href=\"#DejaVuSans-104\"/>\n       <use x=\"1257.779297\" xlink:href=\"#DejaVuSans-101\"/>\n       <use x=\"1319.302734\" xlink:href=\"#DejaVuSans-32\"/>\n       <use x=\"1351.089844\" xlink:href=\"#DejaVuSans-70\"/>\n       <use x=\"1403.109375\" xlink:href=\"#DejaVuSans-101\"/>\n       <use x=\"1464.632812\" xlink:href=\"#DejaVuSans-108\"/>\n       <use x=\"1492.416016\" xlink:href=\"#DejaVuSans-108\"/>\n       <use x=\"1520.199219\" xlink:href=\"#DejaVuSans-111\"/>\n       <use x=\"1581.380859\" xlink:href=\"#DejaVuSans-119\"/>\n       <use x=\"1663.167969\" xlink:href=\"#DejaVuSans-115\"/>\n       <use x=\"1715.267578\" xlink:href=\"#DejaVuSans-104\"/>\n       <use x=\"1778.646484\" xlink:href=\"#DejaVuSans-105\"/>\n       <use x=\"1806.429688\" xlink:href=\"#DejaVuSans-112\"/>\n       <use x=\"1869.90625\" xlink:href=\"#DejaVuSans-32\"/>\n       <use x=\"1901.693359\" xlink:href=\"#DejaVuSans-111\"/>\n       <use x=\"1962.875\" xlink:href=\"#DejaVuSans-102\"/>\n       <use x=\"1998.080078\" xlink:href=\"#DejaVuSans-32\"/>\n       <use x=\"2029.867188\" xlink:href=\"#DejaVuSans-116\"/>\n       <use x=\"2069.076172\" xlink:href=\"#DejaVuSans-104\"/>\n       <use x=\"2132.455078\" xlink:href=\"#DejaVuSans-101\"/>\n       <use x=\"2193.978516\" xlink:href=\"#DejaVuSans-32\"/>\n       <use x=\"2225.765625\" xlink:href=\"#DejaVuSans-82\"/>\n       <use x=\"2295.248047\" xlink:href=\"#DejaVuSans-105\"/>\n       <use x=\"2323.03125\" xlink:href=\"#DejaVuSans-110\"/>\n       <use x=\"2386.410156\" xlink:href=\"#DejaVuSans-103\"/>\n      </g>\n     </g>\n    </g>\n    <g id=\"ytick_10\">\n     <g id=\"line2d_15\">\n      <g>\n       <use style=\"stroke:#000000;stroke-width:0.8;\" x=\"272.8625\" xlink:href=\"#mb05c99c460\" y=\"280.528125\"/>\n      </g>\n     </g>\n     <g id=\"text_16\">\n      <!-- The Good, the Bad and the Ugly -->\n      <defs>\n       <path d=\"M 11.71875 12.40625 \nL 22.015625 12.40625 \nL 22.015625 4 \nL 14.015625 -11.625 \nL 7.71875 -11.625 \nL 11.71875 4 \nz\n\" id=\"DejaVuSans-44\"/>\n       <path d=\"M 19.671875 34.8125 \nL 19.671875 8.109375 \nL 35.5 8.109375 \nQ 43.453125 8.109375 47.28125 11.40625 \nQ 51.125 14.703125 51.125 21.484375 \nQ 51.125 28.328125 47.28125 31.5625 \nQ 43.453125 34.8125 35.5 34.8125 \nz\nM 19.671875 64.796875 \nL 19.671875 42.828125 \nL 34.28125 42.828125 \nQ 41.5 42.828125 45.03125 45.53125 \nQ 48.578125 48.25 48.578125 53.8125 \nQ 48.578125 59.328125 45.03125 62.0625 \nQ 41.5 64.796875 34.28125 64.796875 \nz\nM 9.8125 72.90625 \nL 35.015625 72.90625 \nQ 46.296875 72.90625 52.390625 68.21875 \nQ 58.5 63.53125 58.5 54.890625 \nQ 58.5 48.1875 55.375 44.234375 \nQ 52.25 40.28125 46.1875 39.3125 \nQ 53.46875 37.75 57.5 32.78125 \nQ 61.53125 27.828125 61.53125 20.40625 \nQ 61.53125 10.640625 54.890625 5.3125 \nQ 48.25 0 35.984375 0 \nL 9.8125 0 \nz\n\" id=\"DejaVuSans-66\"/>\n       <path d=\"M 8.6875 72.90625 \nL 18.609375 72.90625 \nL 18.609375 28.609375 \nQ 18.609375 16.890625 22.84375 11.734375 \nQ 27.09375 6.59375 36.625 6.59375 \nQ 46.09375 6.59375 50.34375 11.734375 \nQ 54.59375 16.890625 54.59375 28.609375 \nL 54.59375 72.90625 \nL 64.5 72.90625 \nL 64.5 27.390625 \nQ 64.5 13.140625 57.4375 5.859375 \nQ 50.390625 -1.421875 36.625 -1.421875 \nQ 22.796875 -1.421875 15.734375 5.859375 \nQ 8.6875 13.140625 8.6875 27.390625 \nz\n\" id=\"DejaVuSans-85\"/>\n      </defs>\n      <g transform=\"translate(105.345312 284.327344)scale(0.1 -0.1)\">\n       <use xlink:href=\"#DejaVuSans-84\"/>\n       <use x=\"61.083984\" xlink:href=\"#DejaVuSans-104\"/>\n       <use x=\"124.462891\" xlink:href=\"#DejaVuSans-101\"/>\n       <use x=\"185.986328\" xlink:href=\"#DejaVuSans-32\"/>\n       <use x=\"217.773438\" xlink:href=\"#DejaVuSans-71\"/>\n       <use x=\"295.263672\" xlink:href=\"#DejaVuSans-111\"/>\n       <use x=\"356.445312\" xlink:href=\"#DejaVuSans-111\"/>\n       <use x=\"417.626953\" xlink:href=\"#DejaVuSans-100\"/>\n       <use x=\"481.103516\" xlink:href=\"#DejaVuSans-44\"/>\n       <use x=\"512.890625\" xlink:href=\"#DejaVuSans-32\"/>\n       <use x=\"544.677734\" xlink:href=\"#DejaVuSans-116\"/>\n       <use x=\"583.886719\" xlink:href=\"#DejaVuSans-104\"/>\n       <use x=\"647.265625\" xlink:href=\"#DejaVuSans-101\"/>\n       <use x=\"708.789062\" xlink:href=\"#DejaVuSans-32\"/>\n       <use x=\"740.576172\" xlink:href=\"#DejaVuSans-66\"/>\n       <use x=\"809.179688\" xlink:href=\"#DejaVuSans-97\"/>\n       <use x=\"870.458984\" xlink:href=\"#DejaVuSans-100\"/>\n       <use x=\"933.935547\" xlink:href=\"#DejaVuSans-32\"/>\n       <use x=\"965.722656\" xlink:href=\"#DejaVuSans-97\"/>\n       <use x=\"1027.001953\" xlink:href=\"#DejaVuSans-110\"/>\n       <use x=\"1090.380859\" xlink:href=\"#DejaVuSans-100\"/>\n       <use x=\"1153.857422\" xlink:href=\"#DejaVuSans-32\"/>\n       <use x=\"1185.644531\" xlink:href=\"#DejaVuSans-116\"/>\n       <use x=\"1224.853516\" xlink:href=\"#DejaVuSans-104\"/>\n       <use x=\"1288.232422\" xlink:href=\"#DejaVuSans-101\"/>\n       <use x=\"1349.755859\" xlink:href=\"#DejaVuSans-32\"/>\n       <use x=\"1381.542969\" xlink:href=\"#DejaVuSans-85\"/>\n       <use x=\"1454.736328\" xlink:href=\"#DejaVuSans-103\"/>\n       <use x=\"1518.212891\" xlink:href=\"#DejaVuSans-108\"/>\n       <use x=\"1545.996094\" xlink:href=\"#DejaVuSans-121\"/>\n      </g>\n     </g>\n    </g>\n    <g id=\"text_17\">\n     <!-- title -->\n     <g transform=\"translate(14.798437 167.993125)rotate(-90)scale(0.1 -0.1)\">\n      <use xlink:href=\"#DejaVuSans-116\"/>\n      <use x=\"39.208984\" xlink:href=\"#DejaVuSans-105\"/>\n      <use x=\"66.992188\" xlink:href=\"#DejaVuSans-116\"/>\n      <use x=\"106.201172\" xlink:href=\"#DejaVuSans-108\"/>\n      <use x=\"133.984375\" xlink:href=\"#DejaVuSans-101\"/>\n     </g>\n    </g>\n   </g>\n   <g id=\"line2d_16\">\n    <path clip-path=\"url(#p9a40361d46)\" d=\"M 0 0 \n\" style=\"fill:none;stroke:#424242;stroke-linecap:square;stroke-width:2.7;\"/>\n   </g>\n   <g id=\"line2d_17\">\n    <path clip-path=\"url(#p9a40361d46)\" d=\"M 0 0 \n\" style=\"fill:none;stroke:#424242;stroke-linecap:square;stroke-width:2.7;\"/>\n   </g>\n   <g id=\"line2d_18\">\n    <path clip-path=\"url(#p9a40361d46)\" d=\"M 0 0 \n\" style=\"fill:none;stroke:#424242;stroke-linecap:square;stroke-width:2.7;\"/>\n   </g>\n   <g id=\"line2d_19\">\n    <path clip-path=\"url(#p9a40361d46)\" d=\"M 0 0 \n\" style=\"fill:none;stroke:#424242;stroke-linecap:square;stroke-width:2.7;\"/>\n   </g>\n   <g id=\"line2d_20\">\n    <path clip-path=\"url(#p9a40361d46)\" d=\"M 0 0 \n\" style=\"fill:none;stroke:#424242;stroke-linecap:square;stroke-width:2.7;\"/>\n   </g>\n   <g id=\"line2d_21\">\n    <path clip-path=\"url(#p9a40361d46)\" d=\"M 0 0 \n\" style=\"fill:none;stroke:#424242;stroke-linecap:square;stroke-width:2.7;\"/>\n   </g>\n   <g id=\"line2d_22\">\n    <path clip-path=\"url(#p9a40361d46)\" d=\"M 0 0 \n\" style=\"fill:none;stroke:#424242;stroke-linecap:square;stroke-width:2.7;\"/>\n   </g>\n   <g id=\"line2d_23\">\n    <path clip-path=\"url(#p9a40361d46)\" d=\"M 0 0 \n\" style=\"fill:none;stroke:#424242;stroke-linecap:square;stroke-width:2.7;\"/>\n   </g>\n   <g id=\"line2d_24\">\n    <path clip-path=\"url(#p9a40361d46)\" d=\"M 0 0 \n\" style=\"fill:none;stroke:#424242;stroke-linecap:square;stroke-width:2.7;\"/>\n   </g>\n   <g id=\"line2d_25\">\n    <path clip-path=\"url(#p9a40361d46)\" d=\"M 0 0 \n\" style=\"fill:none;stroke:#424242;stroke-linecap:square;stroke-width:2.7;\"/>\n   </g>\n   <g id=\"patch_13\">\n    <path d=\"M 272.8625 294.118125 \nL 272.8625 22.318125 \n\" style=\"fill:none;stroke:#000000;stroke-linecap:square;stroke-linejoin:miter;stroke-width:0.8;\"/>\n   </g>\n   <g id=\"patch_14\">\n    <path d=\"M 719.2625 294.118125 \nL 719.2625 22.318125 \n\" style=\"fill:none;stroke:#000000;stroke-linecap:square;stroke-linejoin:miter;stroke-width:0.8;\"/>\n   </g>\n   <g id=\"patch_15\">\n    <path d=\"M 272.8625 294.118125 \nL 719.2625 294.118125 \n\" style=\"fill:none;stroke:#000000;stroke-linecap:square;stroke-linejoin:miter;stroke-width:0.8;\"/>\n   </g>\n   <g id=\"patch_16\">\n    <path d=\"M 272.8625 22.318125 \nL 719.2625 22.318125 \n\" style=\"fill:none;stroke:#000000;stroke-linecap:square;stroke-linejoin:miter;stroke-width:0.8;\"/>\n   </g>\n   <g id=\"text_18\">\n    <!-- Топ фильмов по их рейтингу(округлен до целых чисел) -->\n    <defs>\n     <path d=\"M -0.296875 72.90625 \nL 61.375 72.90625 \nL 61.375 64.59375 \nL 35.5 64.59375 \nL 35.5 0 \nL 25.59375 0 \nL 25.59375 64.59375 \nL -0.296875 64.59375 \nz\n\" id=\"DejaVuSans-1058\"/>\n     <path d=\"M 30.609375 48.390625 \nQ 23.390625 48.390625 19.1875 42.75 \nQ 14.984375 37.109375 14.984375 27.296875 \nQ 14.984375 17.484375 19.15625 11.84375 \nQ 23.34375 6.203125 30.609375 6.203125 \nQ 37.796875 6.203125 41.984375 11.859375 \nQ 46.1875 17.53125 46.1875 27.296875 \nQ 46.1875 37.015625 41.984375 42.703125 \nQ 37.796875 48.390625 30.609375 48.390625 \nz\nM 30.609375 56 \nQ 42.328125 56 49.015625 48.375 \nQ 55.71875 40.765625 55.71875 27.296875 \nQ 55.71875 13.875 49.015625 6.21875 \nQ 42.328125 -1.421875 30.609375 -1.421875 \nQ 18.84375 -1.421875 12.171875 6.21875 \nQ 5.515625 13.875 5.515625 27.296875 \nQ 5.515625 40.765625 12.171875 48.375 \nQ 18.84375 56 30.609375 56 \nz\n\" id=\"DejaVuSans-1086\"/>\n     <path d=\"M 56.296875 54.6875 \nL 56.296875 0 \nL 47.265625 0 \nL 47.265625 47.515625 \nL 18.109375 47.515625 \nL 18.109375 0 \nL 9.078125 0 \nL 9.078125 54.6875 \nz\n\" id=\"DejaVuSans-1087\"/>\n     <path d=\"M 14.796875 27.296875 \nQ 14.796875 15.828125 18.328125 10.96875 \nQ 21.875 6.109375 27.875 6.109375 \nQ 32.671875 6.109375 38.234375 14.3125 \nL 38.234375 40.28125 \nQ 32.671875 48.484375 27.875 48.484375 \nQ 21.875 48.484375 18.328125 43.625 \nQ 14.796875 38.765625 14.796875 27.296875 \nz\nM 38.234375 -20.796875 \nL 38.234375 6.984375 \nQ 35.453125 2.390625 32.25 0.484375 \nQ 29.046875 -1.421875 25 -1.421875 \nQ 16.84375 -1.421875 11.15625 6.125 \nQ 5.46875 13.671875 5.46875 27.09375 \nQ 5.46875 40.53125 11.15625 48.265625 \nQ 16.84375 56 25 56 \nQ 29.046875 56 32.25 54.140625 \nQ 35.453125 52.296875 38.234375 47.703125 \nL 38.234375 72.90625 \nL 47.265625 72.90625 \nL 47.265625 47.703125 \nQ 50.046875 52.296875 53.25 54.140625 \nQ 56.453125 56 60.5 56 \nQ 68.65625 56 74.34375 48.265625 \nQ 80.03125 40.53125 80.03125 27.09375 \nQ 80.03125 13.671875 74.34375 6.125 \nQ 68.65625 -1.421875 60.5 -1.421875 \nQ 56.453125 -1.421875 53.25 0.484375 \nQ 50.046875 2.390625 47.265625 6.984375 \nL 47.265625 -20.796875 \nz\nM 70.703125 27.296875 \nQ 70.703125 38.765625 67.15625 43.625 \nQ 63.625 48.484375 57.625 48.484375 \nQ 52.828125 48.484375 47.265625 40.28125 \nL 47.265625 14.3125 \nQ 52.828125 6.109375 57.625 6.109375 \nQ 63.625 6.109375 67.15625 10.96875 \nQ 70.703125 15.828125 70.703125 27.296875 \nz\n\" id=\"DejaVuSans-1092\"/>\n     <path d=\"M 55.90625 54.6875 \nL 55.90625 0 \nL 46.96875 0 \nL 46.96875 43.890625 \nL 20.609375 0 \nL 9.078125 0 \nL 9.078125 54.6875 \nL 18.015625 54.6875 \nL 18.015625 10.890625 \nL 44.34375 54.6875 \nz\n\" id=\"DejaVuSans-1080\"/>\n     <path d=\"M 3.71875 0 \nL 3.71875 7.46875 \nQ 12.59375 8.84375 15.328125 14.984375 \nQ 18.65625 23.640625 18.65625 45.75 \nL 18.65625 54.6875 \nL 55.609375 54.6875 \nL 55.609375 0 \nL 46.625 0 \nL 46.625 47.515625 \nL 27.640625 47.515625 \nL 27.640625 42.09375 \nQ 27.640625 21 23.34375 11.53125 \nQ 18.75 1.421875 3.71875 0 \nz\n\" id=\"DejaVuSans-1083\"/>\n     <path d=\"M 43.453125 16.21875 \nQ 43.453125 20.609375 40.25 22.90625 \nQ 37.0625 25.203125 30.90625 25.203125 \nL 18.109375 25.203125 \nL 18.109375 7.171875 \nL 30.90625 7.171875 \nQ 37.0625 7.171875 40.25 9.484375 \nQ 43.453125 11.8125 43.453125 16.21875 \nz\nM 9.078125 54.6875 \nL 18.109375 54.6875 \nL 18.109375 32.375 \nL 31.296875 32.375 \nQ 41.75 32.375 47.390625 28.390625 \nQ 53.03125 24.421875 53.03125 16.21875 \nQ 53.03125 8.015625 47.390625 4 \nQ 41.75 0 31.296875 0 \nL 9.078125 0 \nz\n\" id=\"DejaVuSans-1100\"/>\n     <path d=\"M 9.078125 54.6875 \nL 22.21875 54.6875 \nL 37.75 18.0625 \nL 53.328125 54.6875 \nL 66.359375 54.6875 \nL 66.359375 0 \nL 57.328125 0 \nL 57.328125 46.09375 \nL 42.234375 10.5 \nL 33.25 10.5 \nL 18.109375 46.09375 \nL 18.109375 0 \nL 9.078125 0 \nz\n\" id=\"DejaVuSans-1084\"/>\n     <path d=\"M 18.0625 25.203125 \nL 18.0625 7.171875 \nL 30.859375 7.171875 \nQ 37.015625 7.171875 40.234375 9.484375 \nQ 43.453125 11.8125 43.453125 16.21875 \nQ 43.453125 20.609375 40.234375 22.90625 \nQ 37.015625 25.203125 30.859375 25.203125 \nz\nM 18.0625 47.515625 \nL 18.0625 32.375 \nL 29.890625 32.375 \nQ 34.96875 32.375 38.1875 34.390625 \nQ 41.40625 36.421875 41.40625 40.046875 \nQ 41.40625 43.65625 38.1875 45.578125 \nQ 34.96875 47.515625 29.890625 47.515625 \nz\nM 9.078125 54.6875 \nL 30.46875 54.6875 \nQ 40.09375 54.6875 45.265625 51.171875 \nQ 50.4375 47.65625 50.4375 41.15625 \nQ 50.4375 36.140625 47.796875 33.171875 \nQ 45.171875 30.21875 39.984375 29.5 \nQ 46.1875 28.328125 49.609375 24.609375 \nQ 53.03125 20.90625 53.03125 15.328125 \nQ 53.03125 8.015625 47.390625 4 \nQ 41.75 0 31.296875 0 \nL 9.078125 0 \nz\n\" id=\"DejaVuSans-1074\"/>\n     <path d=\"M 54.890625 54.6875 \nL 35.109375 28.078125 \nL 55.90625 0 \nL 45.3125 0 \nL 29.390625 21.484375 \nL 13.484375 0 \nL 2.875 0 \nL 24.125 28.609375 \nL 4.6875 54.6875 \nL 15.28125 54.6875 \nL 29.78125 35.203125 \nL 44.28125 54.6875 \nz\n\" id=\"DejaVuSans-1093\"/>\n     <path d=\"M 18.109375 8.203125 \nL 18.109375 -20.796875 \nL 9.078125 -20.796875 \nL 9.078125 54.6875 \nL 18.109375 54.6875 \nL 18.109375 46.390625 \nQ 20.953125 51.265625 25.265625 53.625 \nQ 29.59375 56 35.59375 56 \nQ 45.5625 56 51.78125 48.09375 \nQ 58.015625 40.1875 58.015625 27.296875 \nQ 58.015625 14.40625 51.78125 6.484375 \nQ 45.5625 -1.421875 35.59375 -1.421875 \nQ 29.59375 -1.421875 25.265625 0.953125 \nQ 20.953125 3.328125 18.109375 8.203125 \nz\nM 48.6875 27.296875 \nQ 48.6875 37.203125 44.609375 42.84375 \nQ 40.53125 48.484375 33.40625 48.484375 \nQ 26.265625 48.484375 22.1875 42.84375 \nQ 18.109375 37.203125 18.109375 27.296875 \nQ 18.109375 17.390625 22.1875 11.75 \nQ 26.265625 6.109375 33.40625 6.109375 \nQ 40.53125 6.109375 44.609375 11.75 \nQ 48.6875 17.390625 48.6875 27.296875 \nz\n\" id=\"DejaVuSans-1088\"/>\n     <path d=\"M 56.203125 29.59375 \nL 56.203125 25.203125 \nL 14.890625 25.203125 \nQ 15.484375 15.921875 20.484375 11.0625 \nQ 25.484375 6.203125 34.421875 6.203125 \nQ 39.59375 6.203125 44.453125 7.46875 \nQ 49.3125 8.734375 54.109375 11.28125 \nL 54.109375 2.78125 \nQ 49.265625 0.734375 44.1875 -0.34375 \nQ 39.109375 -1.421875 33.890625 -1.421875 \nQ 20.796875 -1.421875 13.15625 6.1875 \nQ 5.515625 13.8125 5.515625 26.8125 \nQ 5.515625 40.234375 12.765625 48.109375 \nQ 20.015625 56 32.328125 56 \nQ 43.359375 56 49.78125 48.890625 \nQ 56.203125 41.796875 56.203125 29.59375 \nz\nM 47.21875 32.234375 \nQ 47.125 39.59375 43.09375 43.984375 \nQ 39.0625 48.390625 32.421875 48.390625 \nQ 24.90625 48.390625 20.390625 44.140625 \nQ 15.875 39.890625 15.1875 32.171875 \nz\n\" id=\"DejaVuSans-1077\"/>\n     <path d=\"M 55.90625 54.6875 \nL 55.90625 0 \nL 46.96875 0 \nL 46.96875 43.890625 \nL 20.609375 0 \nL 9.078125 0 \nL 9.078125 54.6875 \nL 18.015625 54.6875 \nL 18.015625 10.890625 \nL 44.34375 54.6875 \nz\nM 17.21875 75.515625 \nL 22.984375 75.515625 \nQ 23.515625 71.859375 25.875 70.015625 \nQ 28.25 68.1875 32.5 68.1875 \nQ 36.703125 68.1875 39.046875 70 \nQ 41.390625 71.8125 42.015625 75.515625 \nL 47.78125 75.515625 \nQ 47.296875 68.53125 43.4375 65.015625 \nQ 39.578125 61.5 32.5 61.5 \nQ 25.421875 61.5 21.5625 65.015625 \nQ 17.703125 68.53125 17.21875 75.515625 \nz\n\" id=\"DejaVuSans-1081\"/>\n     <path d=\"M 2.9375 54.6875 \nL 55.328125 54.6875 \nL 55.328125 47.515625 \nL 33.546875 47.515625 \nL 33.546875 0 \nL 24.703125 0 \nL 24.703125 47.515625 \nL 2.9375 47.515625 \nz\n\" id=\"DejaVuSans-1090\"/>\n     <path d=\"M 9.078125 54.6875 \nL 18.109375 54.6875 \nL 18.109375 32.375 \nL 47.265625 32.375 \nL 47.265625 54.6875 \nL 56.296875 54.6875 \nL 56.296875 0 \nL 47.265625 0 \nL 47.265625 25.203125 \nL 18.109375 25.203125 \nL 18.109375 0 \nL 9.078125 0 \nz\n\" id=\"DejaVuSans-1085\"/>\n     <path d=\"M 9.078125 0 \nL 9.078125 54.6875 \nL 47.65625 54.6875 \nL 47.65625 47.515625 \nL 18.109375 47.515625 \nL 18.109375 0 \nz\n\" id=\"DejaVuSans-1075\"/>\n     <path d=\"M 32.171875 -5.078125 \nQ 28.375 -14.84375 24.75 -17.8125 \nQ 21.140625 -20.796875 15.09375 -20.796875 \nL 7.90625 -20.796875 \nL 7.90625 -13.28125 \nL 13.1875 -13.28125 \nQ 16.890625 -13.28125 18.9375 -11.515625 \nQ 21 -9.765625 23.484375 -3.21875 \nL 25.09375 0.875 \nL 2.984375 54.6875 \nL 12.5 54.6875 \nL 29.59375 11.921875 \nL 46.6875 54.6875 \nL 56.203125 54.6875 \nz\n\" id=\"DejaVuSans-1091\"/>\n     <path d=\"M 31 75.875 \nQ 24.46875 64.65625 21.28125 53.65625 \nQ 18.109375 42.671875 18.109375 31.390625 \nQ 18.109375 20.125 21.3125 9.0625 \nQ 24.515625 -2 31 -13.1875 \nL 23.1875 -13.1875 \nQ 15.875 -1.703125 12.234375 9.375 \nQ 8.59375 20.453125 8.59375 31.390625 \nQ 8.59375 42.28125 12.203125 53.3125 \nQ 15.828125 64.359375 23.1875 75.875 \nz\n\" id=\"DejaVuSans-40\"/>\n     <path d=\"M 9.078125 54.6875 \nL 18.015625 54.6875 \nL 18.015625 29 \nL 43.359375 54.6875 \nL 54.390625 54.6875 \nL 33.5 33.546875 \nL 57.078125 0 \nL 47.015625 0 \nL 27.640625 27.59375 \nL 18.015625 17.828125 \nL 18.015625 0 \nL 9.078125 0 \nz\n\" id=\"DejaVuSans-1082\"/>\n     <path d=\"M 21.625 7.171875 \nL 47.703125 7.171875 \nL 47.703125 47.515625 \nL 28.8125 47.515625 \nL 28.8125 40.671875 \nQ 28.8125 20.5625 23.046875 9.8125 \nz\nM 8.59375 7.171875 \nQ 13.03125 9.125 14.984375 13.28125 \nQ 19.78125 23.578125 19.78125 44.34375 \nL 19.78125 54.6875 \nL 56.734375 54.6875 \nL 56.734375 7.171875 \nL 63.921875 7.171875 \nL 63.921875 -13.8125 \nL 56.734375 -13.8125 \nL 56.734375 0 \nL 12.40625 0 \nL 12.40625 -13.8125 \nL 5.21875 -13.8125 \nL 5.21875 7.171875 \nz\n\" id=\"DejaVuSans-1076\"/>\n     <path d=\"M 56.296875 0 \nL 9.078125 0 \nL 9.078125 54.6875 \nL 18.109375 54.6875 \nL 18.109375 7.171875 \nL 47.265625 7.171875 \nL 47.265625 54.6875 \nL 56.296875 54.6875 \nL 56.296875 7.171875 \nL 63.484375 7.171875 \nL 63.484375 -13.8125 \nL 56.296875 -13.8125 \nz\n\" id=\"DejaVuSans-1094\"/>\n     <path d=\"M 61.046875 54.6875 \nL 70.03125 54.6875 \nL 70.03125 0 \nL 61.046875 0 \nz\nM 65.546875 56 \nz\nM 43.453125 16.21875 \nQ 43.453125 20.609375 40.25 22.90625 \nQ 37.0625 25.203125 30.90625 25.203125 \nL 18.109375 25.203125 \nL 18.109375 7.171875 \nL 30.90625 7.171875 \nQ 37.0625 7.171875 40.25 9.484375 \nQ 43.453125 11.8125 43.453125 16.21875 \nz\nM 9.078125 54.6875 \nL 18.109375 54.6875 \nL 18.109375 32.375 \nL 31.296875 32.375 \nQ 41.75 32.375 47.390625 28.390625 \nQ 53.03125 24.421875 53.03125 16.21875 \nQ 53.03125 8.015625 47.390625 4 \nQ 41.75 0 31.296875 0 \nL 9.078125 0 \nz\n\" id=\"DejaVuSans-1099\"/>\n     <path d=\"M 41.015625 0 \nL 41.015625 23 \nL 24.265625 23 \nQ 16.796875 23 11.8125 27.640625 \nQ 7.328125 31.84375 7.328125 40.828125 \nL 7.328125 54.6875 \nL 16.3125 54.6875 \nL 16.3125 41.65625 \nQ 16.3125 35.9375 18.84375 33.0625 \nQ 21.4375 30.171875 26.515625 30.171875 \nL 41.015625 30.171875 \nL 41.015625 54.6875 \nL 50 54.6875 \nL 50 0 \nz\n\" id=\"DejaVuSans-1095\"/>\n     <path d=\"M 48.78125 52.59375 \nL 48.78125 44.1875 \nQ 44.96875 46.296875 41.140625 47.34375 \nQ 37.3125 48.390625 33.40625 48.390625 \nQ 24.65625 48.390625 19.8125 42.84375 \nQ 14.984375 37.3125 14.984375 27.296875 \nQ 14.984375 17.28125 19.8125 11.734375 \nQ 24.65625 6.203125 33.40625 6.203125 \nQ 37.3125 6.203125 41.140625 7.25 \nQ 44.96875 8.296875 48.78125 10.40625 \nL 48.78125 2.09375 \nQ 45.015625 0.34375 40.984375 -0.53125 \nQ 36.96875 -1.421875 32.421875 -1.421875 \nQ 20.0625 -1.421875 12.78125 6.34375 \nQ 5.515625 14.109375 5.515625 27.296875 \nQ 5.515625 40.671875 12.859375 48.328125 \nQ 20.21875 56 33.015625 56 \nQ 37.15625 56 41.109375 55.140625 \nQ 45.0625 54.296875 48.78125 52.59375 \nz\n\" id=\"DejaVuSans-1089\"/>\n     <path d=\"M 8.015625 75.875 \nL 15.828125 75.875 \nQ 23.140625 64.359375 26.78125 53.3125 \nQ 30.421875 42.28125 30.421875 31.390625 \nQ 30.421875 20.453125 26.78125 9.375 \nQ 23.140625 -1.703125 15.828125 -13.1875 \nL 8.015625 -13.1875 \nQ 14.5 -2 17.703125 9.0625 \nQ 20.90625 20.125 20.90625 31.390625 \nQ 20.90625 42.671875 17.703125 53.65625 \nQ 14.5 64.65625 8.015625 75.875 \nz\n\" id=\"DejaVuSans-41\"/>\n    </defs>\n    <g transform=\"translate(318.9275 16.318125)scale(0.12 -0.12)\">\n     <use xlink:href=\"#DejaVuSans-1058\"/>\n     <use x=\"61.083984\" xlink:href=\"#DejaVuSans-1086\"/>\n     <use x=\"122.265625\" xlink:href=\"#DejaVuSans-1087\"/>\n     <use x=\"187.646484\" xlink:href=\"#DejaVuSans-32\"/>\n     <use x=\"219.433594\" xlink:href=\"#DejaVuSans-1092\"/>\n     <use x=\"304.931641\" xlink:href=\"#DejaVuSans-1080\"/>\n     <use x=\"369.921875\" xlink:href=\"#DejaVuSans-1083\"/>\n     <use x=\"433.837891\" xlink:href=\"#DejaVuSans-1100\"/>\n     <use x=\"492.773438\" xlink:href=\"#DejaVuSans-1084\"/>\n     <use x=\"568.212891\" xlink:href=\"#DejaVuSans-1086\"/>\n     <use x=\"629.394531\" xlink:href=\"#DejaVuSans-1074\"/>\n     <use x=\"688.330078\" xlink:href=\"#DejaVuSans-32\"/>\n     <use x=\"720.117188\" xlink:href=\"#DejaVuSans-1087\"/>\n     <use x=\"785.498047\" xlink:href=\"#DejaVuSans-1086\"/>\n     <use x=\"846.679688\" xlink:href=\"#DejaVuSans-32\"/>\n     <use x=\"878.466797\" xlink:href=\"#DejaVuSans-1080\"/>\n     <use x=\"943.457031\" xlink:href=\"#DejaVuSans-1093\"/>\n     <use x=\"1002.636719\" xlink:href=\"#DejaVuSans-32\"/>\n     <use x=\"1034.423828\" xlink:href=\"#DejaVuSans-1088\"/>\n     <use x=\"1097.900391\" xlink:href=\"#DejaVuSans-1077\"/>\n     <use x=\"1159.423828\" xlink:href=\"#DejaVuSans-1081\"/>\n     <use x=\"1224.414062\" xlink:href=\"#DejaVuSans-1090\"/>\n     <use x=\"1282.666016\" xlink:href=\"#DejaVuSans-1080\"/>\n     <use x=\"1347.65625\" xlink:href=\"#DejaVuSans-1085\"/>\n     <use x=\"1413.037109\" xlink:href=\"#DejaVuSans-1075\"/>\n     <use x=\"1465.576172\" xlink:href=\"#DejaVuSans-1091\"/>\n     <use x=\"1524.755859\" xlink:href=\"#DejaVuSans-40\"/>\n     <use x=\"1563.769531\" xlink:href=\"#DejaVuSans-1086\"/>\n     <use x=\"1624.951172\" xlink:href=\"#DejaVuSans-1082\"/>\n     <use x=\"1685.351562\" xlink:href=\"#DejaVuSans-1088\"/>\n     <use x=\"1748.828125\" xlink:href=\"#DejaVuSans-1091\"/>\n     <use x=\"1808.007812\" xlink:href=\"#DejaVuSans-1075\"/>\n     <use x=\"1860.546875\" xlink:href=\"#DejaVuSans-1083\"/>\n     <use x=\"1924.462891\" xlink:href=\"#DejaVuSans-1077\"/>\n     <use x=\"1985.986328\" xlink:href=\"#DejaVuSans-1085\"/>\n     <use x=\"2051.367188\" xlink:href=\"#DejaVuSans-32\"/>\n     <use x=\"2083.154297\" xlink:href=\"#DejaVuSans-1076\"/>\n     <use x=\"2152.294922\" xlink:href=\"#DejaVuSans-1086\"/>\n     <use x=\"2213.476562\" xlink:href=\"#DejaVuSans-32\"/>\n     <use x=\"2245.263672\" xlink:href=\"#DejaVuSans-1094\"/>\n     <use x=\"2313.330078\" xlink:href=\"#DejaVuSans-1077\"/>\n     <use x=\"2374.853516\" xlink:href=\"#DejaVuSans-1083\"/>\n     <use x=\"2438.769531\" xlink:href=\"#DejaVuSans-1099\"/>\n     <use x=\"2517.724609\" xlink:href=\"#DejaVuSans-1093\"/>\n     <use x=\"2576.904297\" xlink:href=\"#DejaVuSans-32\"/>\n     <use x=\"2608.691406\" xlink:href=\"#DejaVuSans-1095\"/>\n     <use x=\"2667.773438\" xlink:href=\"#DejaVuSans-1080\"/>\n     <use x=\"2732.763672\" xlink:href=\"#DejaVuSans-1089\"/>\n     <use x=\"2787.744141\" xlink:href=\"#DejaVuSans-1077\"/>\n     <use x=\"2849.267578\" xlink:href=\"#DejaVuSans-1083\"/>\n     <use x=\"2913.183594\" xlink:href=\"#DejaVuSans-41\"/>\n    </g>\n   </g>\n  </g>\n </g>\n <defs>\n  <clipPath id=\"p9a40361d46\">\n   <rect height=\"271.8\" width=\"446.4\" x=\"272.8625\" y=\"22.318125\"/>\n  </clipPath>\n </defs>\n</svg>\n"
          },
          "metadata": {
            "needs_background": "light"
          }
        }
      ],
      "source": [
        "#Визуализируем\n",
        "sns.barplot(x=\"ratings\", y =\"title\", data=film_rating).set(title='Топ фильмов по их рейтингу(округлен до целых чисел)')\n"
      ]
    },
    {
      "cell_type": "markdown",
      "metadata": {
        "id": "bZGeuDAeXtnS"
      },
      "source": [
        "#### Задача 6. \n",
        "Используйте ссылку `http://www.imdb.com/` и динамически добавляя ссылку на фильм из колонки `links` соберите описание фильмов. Пример поиска необходимого текст представлен ниже. Добавьте эту информацию в исходный датафрейм.\n"
      ]
    },
    {
      "cell_type": "code",
      "source": [
        "film_url = 'http://www.imdb.com/title/tt0068646/'\n",
        "html_text = requests.get(film_url, headers={'User-Agent': 'Mozilla/5.0'}).text\n",
        "response.status_code"
      ],
      "metadata": {
        "colab": {
          "base_uri": "https://localhost:8080/"
        },
        "id": "JTqrzs6ai3m-",
        "outputId": "5944f2f4-e478-493f-fdb9-e63e90d03f2e"
      },
      "execution_count": null,
      "outputs": [
        {
          "output_type": "execute_result",
          "data": {
            "text/plain": [
              "200"
            ]
          },
          "metadata": {},
          "execution_count": 226
        }
      ]
    },
    {
      "cell_type": "code",
      "source": [
        "soup = BeautifulSoup(html_text, 'lxml')\n",
        "soup.find_all(attrs={\"name\": \"description\"})[0].get(\"content\")"
      ],
      "metadata": {
        "colab": {
          "base_uri": "https://localhost:8080/",
          "height": 54
        },
        "id": "JaatDDiBi_cU",
        "outputId": "2bc98fd2-c2a4-4d9b-fbe2-9a4b631b26dd"
      },
      "execution_count": null,
      "outputs": [
        {
          "output_type": "execute_result",
          "data": {
            "text/plain": [
              "'The Godfather: Directed by Francis Ford Coppola. With Marlon Brando, Al Pacino, James Caan, Richard S. Castellano. The aging patriarch of an organized crime dynasty in postwar New York City transfers control of his clandestine empire to his reluctant youngest son.'"
            ],
            "application/vnd.google.colaboratory.intrinsic+json": {
              "type": "string"
            }
          },
          "metadata": {},
          "execution_count": 28
        }
      ]
    },
    {
      "cell_type": "code",
      "execution_count": null,
      "metadata": {
        "id": "MlF8T1XsXtnT"
      },
      "outputs": [],
      "source": [
        "def get_description(dtf, links_column):\n",
        "  descriptions = []\n",
        "  for link in links_column:\n",
        "    film_url = f'http://www.imdb.com/{link}'\n",
        "    html_text = requests.get(film_url, headers={'User-Agent': 'Mozilla/5.0'}).text\n",
        "    soup = BeautifulSoup(html_text, 'lxml')\n",
        "    description = soup.find_all(attrs={\"name\": \"description\"})[0].get(\"content\")\n",
        "    descriptions.append(description)\n",
        "  dtf['description'] = descriptions"
      ]
    },
    {
      "cell_type": "code",
      "execution_count": null,
      "metadata": {
        "id": "QdxUDPM7XtnT"
      },
      "outputs": [],
      "source": [
        "get_description(data, data.links)\n"
      ]
    },
    {
      "cell_type": "code",
      "source": [
        "data.iloc[0:8, 4:8]"
      ],
      "metadata": {
        "colab": {
          "base_uri": "https://localhost:8080/",
          "height": 300
        },
        "id": "ulegXLhCi2gq",
        "outputId": "8841f8a3-17bc-4970-e3ea-c222abfe25b2"
      },
      "execution_count": null,
      "outputs": [
        {
          "output_type": "execute_result",
          "data": {
            "text/plain": [
              "                                           title  year             Directors  \\\n",
              "0                       The Shawshank Redemption  1994        Frank Darabont   \n",
              "1                                  The Godfather  1972  Francis Ford Coppola   \n",
              "2                                The Dark Knight  2008     Christopher Nolan   \n",
              "3                          The Godfather Part II  1974  Francis Ford Coppola   \n",
              "4                                   12 Angry Men  1957          Sidney Lumet   \n",
              "5                               Schindler's List  1993      Steven Spielberg   \n",
              "6  The Lord of the Rings: The Return of the King  2003         Peter Jackson   \n",
              "7                                   Pulp Fiction  1994     Quentin Tarantino   \n",
              "\n",
              "                                         description  \n",
              "0  The Shawshank Redemption: Directed by Frank Da...  \n",
              "1  The Godfather: Directed by Francis Ford Coppol...  \n",
              "2  The Dark Knight: Directed by Christopher Nolan...  \n",
              "3  The Godfather Part II: Directed by Francis For...  \n",
              "4  12 Angry Men: Directed by Sidney Lumet. With M...  \n",
              "5  Schindler's List: Directed by Steven Spielberg...  \n",
              "6  The Lord of the Rings: The Return of the King:...  \n",
              "7  Pulp Fiction: Directed by Quentin Tarantino. W...  "
            ],
            "text/html": [
              "\n",
              "  <div id=\"df-e7612ebb-bcf2-4768-8e4e-4a0d66169569\">\n",
              "    <div class=\"colab-df-container\">\n",
              "      <div>\n",
              "<style scoped>\n",
              "    .dataframe tbody tr th:only-of-type {\n",
              "        vertical-align: middle;\n",
              "    }\n",
              "\n",
              "    .dataframe tbody tr th {\n",
              "        vertical-align: top;\n",
              "    }\n",
              "\n",
              "    .dataframe thead th {\n",
              "        text-align: right;\n",
              "    }\n",
              "</style>\n",
              "<table border=\"1\" class=\"dataframe\">\n",
              "  <thead>\n",
              "    <tr style=\"text-align: right;\">\n",
              "      <th></th>\n",
              "      <th>title</th>\n",
              "      <th>year</th>\n",
              "      <th>Directors</th>\n",
              "      <th>description</th>\n",
              "    </tr>\n",
              "  </thead>\n",
              "  <tbody>\n",
              "    <tr>\n",
              "      <th>0</th>\n",
              "      <td>The Shawshank Redemption</td>\n",
              "      <td>1994</td>\n",
              "      <td>Frank Darabont</td>\n",
              "      <td>The Shawshank Redemption: Directed by Frank Da...</td>\n",
              "    </tr>\n",
              "    <tr>\n",
              "      <th>1</th>\n",
              "      <td>The Godfather</td>\n",
              "      <td>1972</td>\n",
              "      <td>Francis Ford Coppola</td>\n",
              "      <td>The Godfather: Directed by Francis Ford Coppol...</td>\n",
              "    </tr>\n",
              "    <tr>\n",
              "      <th>2</th>\n",
              "      <td>The Dark Knight</td>\n",
              "      <td>2008</td>\n",
              "      <td>Christopher Nolan</td>\n",
              "      <td>The Dark Knight: Directed by Christopher Nolan...</td>\n",
              "    </tr>\n",
              "    <tr>\n",
              "      <th>3</th>\n",
              "      <td>The Godfather Part II</td>\n",
              "      <td>1974</td>\n",
              "      <td>Francis Ford Coppola</td>\n",
              "      <td>The Godfather Part II: Directed by Francis For...</td>\n",
              "    </tr>\n",
              "    <tr>\n",
              "      <th>4</th>\n",
              "      <td>12 Angry Men</td>\n",
              "      <td>1957</td>\n",
              "      <td>Sidney Lumet</td>\n",
              "      <td>12 Angry Men: Directed by Sidney Lumet. With M...</td>\n",
              "    </tr>\n",
              "    <tr>\n",
              "      <th>5</th>\n",
              "      <td>Schindler's List</td>\n",
              "      <td>1993</td>\n",
              "      <td>Steven Spielberg</td>\n",
              "      <td>Schindler's List: Directed by Steven Spielberg...</td>\n",
              "    </tr>\n",
              "    <tr>\n",
              "      <th>6</th>\n",
              "      <td>The Lord of the Rings: The Return of the King</td>\n",
              "      <td>2003</td>\n",
              "      <td>Peter Jackson</td>\n",
              "      <td>The Lord of the Rings: The Return of the King:...</td>\n",
              "    </tr>\n",
              "    <tr>\n",
              "      <th>7</th>\n",
              "      <td>Pulp Fiction</td>\n",
              "      <td>1994</td>\n",
              "      <td>Quentin Tarantino</td>\n",
              "      <td>Pulp Fiction: Directed by Quentin Tarantino. W...</td>\n",
              "    </tr>\n",
              "  </tbody>\n",
              "</table>\n",
              "</div>\n",
              "      <button class=\"colab-df-convert\" onclick=\"convertToInteractive('df-e7612ebb-bcf2-4768-8e4e-4a0d66169569')\"\n",
              "              title=\"Convert this dataframe to an interactive table.\"\n",
              "              style=\"display:none;\">\n",
              "        \n",
              "  <svg xmlns=\"http://www.w3.org/2000/svg\" height=\"24px\"viewBox=\"0 0 24 24\"\n",
              "       width=\"24px\">\n",
              "    <path d=\"M0 0h24v24H0V0z\" fill=\"none\"/>\n",
              "    <path d=\"M18.56 5.44l.94 2.06.94-2.06 2.06-.94-2.06-.94-.94-2.06-.94 2.06-2.06.94zm-11 1L8.5 8.5l.94-2.06 2.06-.94-2.06-.94L8.5 2.5l-.94 2.06-2.06.94zm10 10l.94 2.06.94-2.06 2.06-.94-2.06-.94-.94-2.06-.94 2.06-2.06.94z\"/><path d=\"M17.41 7.96l-1.37-1.37c-.4-.4-.92-.59-1.43-.59-.52 0-1.04.2-1.43.59L10.3 9.45l-7.72 7.72c-.78.78-.78 2.05 0 2.83L4 21.41c.39.39.9.59 1.41.59.51 0 1.02-.2 1.41-.59l7.78-7.78 2.81-2.81c.8-.78.8-2.07 0-2.86zM5.41 20L4 18.59l7.72-7.72 1.47 1.35L5.41 20z\"/>\n",
              "  </svg>\n",
              "      </button>\n",
              "      \n",
              "  <style>\n",
              "    .colab-df-container {\n",
              "      display:flex;\n",
              "      flex-wrap:wrap;\n",
              "      gap: 12px;\n",
              "    }\n",
              "\n",
              "    .colab-df-convert {\n",
              "      background-color: #E8F0FE;\n",
              "      border: none;\n",
              "      border-radius: 50%;\n",
              "      cursor: pointer;\n",
              "      display: none;\n",
              "      fill: #1967D2;\n",
              "      height: 32px;\n",
              "      padding: 0 0 0 0;\n",
              "      width: 32px;\n",
              "    }\n",
              "\n",
              "    .colab-df-convert:hover {\n",
              "      background-color: #E2EBFA;\n",
              "      box-shadow: 0px 1px 2px rgba(60, 64, 67, 0.3), 0px 1px 3px 1px rgba(60, 64, 67, 0.15);\n",
              "      fill: #174EA6;\n",
              "    }\n",
              "\n",
              "    [theme=dark] .colab-df-convert {\n",
              "      background-color: #3B4455;\n",
              "      fill: #D2E3FC;\n",
              "    }\n",
              "\n",
              "    [theme=dark] .colab-df-convert:hover {\n",
              "      background-color: #434B5C;\n",
              "      box-shadow: 0px 1px 3px 1px rgba(0, 0, 0, 0.15);\n",
              "      filter: drop-shadow(0px 1px 2px rgba(0, 0, 0, 0.3));\n",
              "      fill: #FFFFFF;\n",
              "    }\n",
              "  </style>\n",
              "\n",
              "      <script>\n",
              "        const buttonEl =\n",
              "          document.querySelector('#df-e7612ebb-bcf2-4768-8e4e-4a0d66169569 button.colab-df-convert');\n",
              "        buttonEl.style.display =\n",
              "          google.colab.kernel.accessAllowed ? 'block' : 'none';\n",
              "\n",
              "        async function convertToInteractive(key) {\n",
              "          const element = document.querySelector('#df-e7612ebb-bcf2-4768-8e4e-4a0d66169569');\n",
              "          const dataTable =\n",
              "            await google.colab.kernel.invokeFunction('convertToInteractive',\n",
              "                                                     [key], {});\n",
              "          if (!dataTable) return;\n",
              "\n",
              "          const docLinkHtml = 'Like what you see? Visit the ' +\n",
              "            '<a target=\"_blank\" href=https://colab.research.google.com/notebooks/data_table.ipynb>data table notebook</a>'\n",
              "            + ' to learn more about interactive tables.';\n",
              "          element.innerHTML = '';\n",
              "          dataTable['output_type'] = 'display_data';\n",
              "          await google.colab.output.renderOutput(dataTable, element);\n",
              "          const docLink = document.createElement('div');\n",
              "          docLink.innerHTML = docLinkHtml;\n",
              "          element.appendChild(docLink);\n",
              "        }\n",
              "      </script>\n",
              "    </div>\n",
              "  </div>\n",
              "  "
            ]
          },
          "metadata": {},
          "execution_count": 31
        }
      ]
    },
    {
      "cell_type": "markdown",
      "metadata": {
        "id": "LuFRlSv1lLe2"
      },
      "source": [
        "#### Задача 7. \n",
        "С помощью регулярных выражений найдите в текстах описания фильмов имена актеров, если это возможно (то есть - они там упоминаются). Добавьте эту информацию в датафрейм и посчитайте, для скольких фильмов получилось это сдлеать. Подсказка: перечисление актеров иногда начинается с with. "
      ]
    },
    {
      "cell_type": "code",
      "execution_count": null,
      "metadata": {
        "colab": {
          "base_uri": "https://localhost:8080/",
          "height": 54
        },
        "id": "CCgxTWcqXtnU",
        "outputId": "f08d896a-c94a-4d84-8f28-d102c5c166f1"
      },
      "outputs": [
        {
          "output_type": "execute_result",
          "data": {
            "text/plain": [
              "'The Shawshank Redemption: Directed by Frank Darabont. With Tim Robbins, Morgan Freeman, Bob Gunton, William Sadler. Two imprisoned men bond over a number of years, finding solace and eventual redemption through acts of common decency.'"
            ],
            "application/vnd.google.colaboratory.intrinsic+json": {
              "type": "string"
            }
          },
          "metadata": {},
          "execution_count": 32
        }
      ],
      "source": [
        "data[\"description\"][0]"
      ]
    },
    {
      "cell_type": "code",
      "execution_count": null,
      "metadata": {
        "id": "33xIP7fOXtnV"
      },
      "outputs": [],
      "source": [
        "#Ищем имена актеров\n",
        "def cast_find(text):\n",
        "  cast = re.findall('(?<=With)(.+?[a-z])\\.', text)\n",
        "  return cast[0]\n",
        "\n",
        "\n",
        "data[\"cast\"] = data[\"description\"].apply(cast_find)\n"
      ]
    },
    {
      "cell_type": "code",
      "source": [
        "#Проверяем как работает функция\n",
        "data.iloc[0:8, 4:9]"
      ],
      "metadata": {
        "colab": {
          "base_uri": "https://localhost:8080/",
          "height": 300
        },
        "id": "LlY8uQcdyyd4",
        "outputId": "9393907a-3b4b-42a7-b57a-e3e987de7f0b"
      },
      "execution_count": null,
      "outputs": [
        {
          "output_type": "execute_result",
          "data": {
            "text/plain": [
              "                                           title  year             Directors  \\\n",
              "0                       The Shawshank Redemption  1994        Frank Darabont   \n",
              "1                                  The Godfather  1972  Francis Ford Coppola   \n",
              "2                                The Dark Knight  2008     Christopher Nolan   \n",
              "3                          The Godfather Part II  1974  Francis Ford Coppola   \n",
              "4                                   12 Angry Men  1957          Sidney Lumet   \n",
              "5                               Schindler's List  1993      Steven Spielberg   \n",
              "6  The Lord of the Rings: The Return of the King  2003         Peter Jackson   \n",
              "7                                   Pulp Fiction  1994     Quentin Tarantino   \n",
              "\n",
              "                                         description  \\\n",
              "0  The Shawshank Redemption: Directed by Frank Da...   \n",
              "1  The Godfather: Directed by Francis Ford Coppol...   \n",
              "2  The Dark Knight: Directed by Christopher Nolan...   \n",
              "3  The Godfather Part II: Directed by Francis For...   \n",
              "4  12 Angry Men: Directed by Sidney Lumet. With M...   \n",
              "5  Schindler's List: Directed by Steven Spielberg...   \n",
              "6  The Lord of the Rings: The Return of the King:...   \n",
              "7  Pulp Fiction: Directed by Quentin Tarantino. W...   \n",
              "\n",
              "                                                cast  \n",
              "0   Tim Robbins, Morgan Freeman, Bob Gunton, Will...  \n",
              "1   Marlon Brando, Al Pacino, James Caan, Richard...  \n",
              "2   Christian Bale, Heath Ledger, Aaron Eckhart, ...  \n",
              "3   Al Pacino, Robert Duvall, Diane Keaton, Rober...  \n",
              "4   Martin Balsam, John Fiedler, Lee J. Cobb, E.G...  \n",
              "5   Liam Neeson, Ben Kingsley, Ralph Fiennes, Car...  \n",
              "6   Noel Appleby, Ali Astin, Sean Astin, David Aston  \n",
              "7   Tim Roth, Amanda Plummer, Laura Lovelace, Joh...  "
            ],
            "text/html": [
              "\n",
              "  <div id=\"df-1d9460bd-c2e7-4133-b73e-ee2c8c24eba4\">\n",
              "    <div class=\"colab-df-container\">\n",
              "      <div>\n",
              "<style scoped>\n",
              "    .dataframe tbody tr th:only-of-type {\n",
              "        vertical-align: middle;\n",
              "    }\n",
              "\n",
              "    .dataframe tbody tr th {\n",
              "        vertical-align: top;\n",
              "    }\n",
              "\n",
              "    .dataframe thead th {\n",
              "        text-align: right;\n",
              "    }\n",
              "</style>\n",
              "<table border=\"1\" class=\"dataframe\">\n",
              "  <thead>\n",
              "    <tr style=\"text-align: right;\">\n",
              "      <th></th>\n",
              "      <th>title</th>\n",
              "      <th>year</th>\n",
              "      <th>Directors</th>\n",
              "      <th>description</th>\n",
              "      <th>cast</th>\n",
              "    </tr>\n",
              "  </thead>\n",
              "  <tbody>\n",
              "    <tr>\n",
              "      <th>0</th>\n",
              "      <td>The Shawshank Redemption</td>\n",
              "      <td>1994</td>\n",
              "      <td>Frank Darabont</td>\n",
              "      <td>The Shawshank Redemption: Directed by Frank Da...</td>\n",
              "      <td>Tim Robbins, Morgan Freeman, Bob Gunton, Will...</td>\n",
              "    </tr>\n",
              "    <tr>\n",
              "      <th>1</th>\n",
              "      <td>The Godfather</td>\n",
              "      <td>1972</td>\n",
              "      <td>Francis Ford Coppola</td>\n",
              "      <td>The Godfather: Directed by Francis Ford Coppol...</td>\n",
              "      <td>Marlon Brando, Al Pacino, James Caan, Richard...</td>\n",
              "    </tr>\n",
              "    <tr>\n",
              "      <th>2</th>\n",
              "      <td>The Dark Knight</td>\n",
              "      <td>2008</td>\n",
              "      <td>Christopher Nolan</td>\n",
              "      <td>The Dark Knight: Directed by Christopher Nolan...</td>\n",
              "      <td>Christian Bale, Heath Ledger, Aaron Eckhart, ...</td>\n",
              "    </tr>\n",
              "    <tr>\n",
              "      <th>3</th>\n",
              "      <td>The Godfather Part II</td>\n",
              "      <td>1974</td>\n",
              "      <td>Francis Ford Coppola</td>\n",
              "      <td>The Godfather Part II: Directed by Francis For...</td>\n",
              "      <td>Al Pacino, Robert Duvall, Diane Keaton, Rober...</td>\n",
              "    </tr>\n",
              "    <tr>\n",
              "      <th>4</th>\n",
              "      <td>12 Angry Men</td>\n",
              "      <td>1957</td>\n",
              "      <td>Sidney Lumet</td>\n",
              "      <td>12 Angry Men: Directed by Sidney Lumet. With M...</td>\n",
              "      <td>Martin Balsam, John Fiedler, Lee J. Cobb, E.G...</td>\n",
              "    </tr>\n",
              "    <tr>\n",
              "      <th>5</th>\n",
              "      <td>Schindler's List</td>\n",
              "      <td>1993</td>\n",
              "      <td>Steven Spielberg</td>\n",
              "      <td>Schindler's List: Directed by Steven Spielberg...</td>\n",
              "      <td>Liam Neeson, Ben Kingsley, Ralph Fiennes, Car...</td>\n",
              "    </tr>\n",
              "    <tr>\n",
              "      <th>6</th>\n",
              "      <td>The Lord of the Rings: The Return of the King</td>\n",
              "      <td>2003</td>\n",
              "      <td>Peter Jackson</td>\n",
              "      <td>The Lord of the Rings: The Return of the King:...</td>\n",
              "      <td>Noel Appleby, Ali Astin, Sean Astin, David Aston</td>\n",
              "    </tr>\n",
              "    <tr>\n",
              "      <th>7</th>\n",
              "      <td>Pulp Fiction</td>\n",
              "      <td>1994</td>\n",
              "      <td>Quentin Tarantino</td>\n",
              "      <td>Pulp Fiction: Directed by Quentin Tarantino. W...</td>\n",
              "      <td>Tim Roth, Amanda Plummer, Laura Lovelace, Joh...</td>\n",
              "    </tr>\n",
              "  </tbody>\n",
              "</table>\n",
              "</div>\n",
              "      <button class=\"colab-df-convert\" onclick=\"convertToInteractive('df-1d9460bd-c2e7-4133-b73e-ee2c8c24eba4')\"\n",
              "              title=\"Convert this dataframe to an interactive table.\"\n",
              "              style=\"display:none;\">\n",
              "        \n",
              "  <svg xmlns=\"http://www.w3.org/2000/svg\" height=\"24px\"viewBox=\"0 0 24 24\"\n",
              "       width=\"24px\">\n",
              "    <path d=\"M0 0h24v24H0V0z\" fill=\"none\"/>\n",
              "    <path d=\"M18.56 5.44l.94 2.06.94-2.06 2.06-.94-2.06-.94-.94-2.06-.94 2.06-2.06.94zm-11 1L8.5 8.5l.94-2.06 2.06-.94-2.06-.94L8.5 2.5l-.94 2.06-2.06.94zm10 10l.94 2.06.94-2.06 2.06-.94-2.06-.94-.94-2.06-.94 2.06-2.06.94z\"/><path d=\"M17.41 7.96l-1.37-1.37c-.4-.4-.92-.59-1.43-.59-.52 0-1.04.2-1.43.59L10.3 9.45l-7.72 7.72c-.78.78-.78 2.05 0 2.83L4 21.41c.39.39.9.59 1.41.59.51 0 1.02-.2 1.41-.59l7.78-7.78 2.81-2.81c.8-.78.8-2.07 0-2.86zM5.41 20L4 18.59l7.72-7.72 1.47 1.35L5.41 20z\"/>\n",
              "  </svg>\n",
              "      </button>\n",
              "      \n",
              "  <style>\n",
              "    .colab-df-container {\n",
              "      display:flex;\n",
              "      flex-wrap:wrap;\n",
              "      gap: 12px;\n",
              "    }\n",
              "\n",
              "    .colab-df-convert {\n",
              "      background-color: #E8F0FE;\n",
              "      border: none;\n",
              "      border-radius: 50%;\n",
              "      cursor: pointer;\n",
              "      display: none;\n",
              "      fill: #1967D2;\n",
              "      height: 32px;\n",
              "      padding: 0 0 0 0;\n",
              "      width: 32px;\n",
              "    }\n",
              "\n",
              "    .colab-df-convert:hover {\n",
              "      background-color: #E2EBFA;\n",
              "      box-shadow: 0px 1px 2px rgba(60, 64, 67, 0.3), 0px 1px 3px 1px rgba(60, 64, 67, 0.15);\n",
              "      fill: #174EA6;\n",
              "    }\n",
              "\n",
              "    [theme=dark] .colab-df-convert {\n",
              "      background-color: #3B4455;\n",
              "      fill: #D2E3FC;\n",
              "    }\n",
              "\n",
              "    [theme=dark] .colab-df-convert:hover {\n",
              "      background-color: #434B5C;\n",
              "      box-shadow: 0px 1px 3px 1px rgba(0, 0, 0, 0.15);\n",
              "      filter: drop-shadow(0px 1px 2px rgba(0, 0, 0, 0.3));\n",
              "      fill: #FFFFFF;\n",
              "    }\n",
              "  </style>\n",
              "\n",
              "      <script>\n",
              "        const buttonEl =\n",
              "          document.querySelector('#df-1d9460bd-c2e7-4133-b73e-ee2c8c24eba4 button.colab-df-convert');\n",
              "        buttonEl.style.display =\n",
              "          google.colab.kernel.accessAllowed ? 'block' : 'none';\n",
              "\n",
              "        async function convertToInteractive(key) {\n",
              "          const element = document.querySelector('#df-1d9460bd-c2e7-4133-b73e-ee2c8c24eba4');\n",
              "          const dataTable =\n",
              "            await google.colab.kernel.invokeFunction('convertToInteractive',\n",
              "                                                     [key], {});\n",
              "          if (!dataTable) return;\n",
              "\n",
              "          const docLinkHtml = 'Like what you see? Visit the ' +\n",
              "            '<a target=\"_blank\" href=https://colab.research.google.com/notebooks/data_table.ipynb>data table notebook</a>'\n",
              "            + ' to learn more about interactive tables.';\n",
              "          element.innerHTML = '';\n",
              "          dataTable['output_type'] = 'display_data';\n",
              "          await google.colab.output.renderOutput(dataTable, element);\n",
              "          const docLink = document.createElement('div');\n",
              "          docLink.innerHTML = docLinkHtml;\n",
              "          element.appendChild(docLink);\n",
              "        }\n",
              "      </script>\n",
              "    </div>\n",
              "  </div>\n",
              "  "
            ]
          },
          "metadata": {},
          "execution_count": 34
        }
      ]
    },
    {
      "cell_type": "code",
      "source": [
        "#Считаем пустые строки\n",
        "data.cast.isnull().sum()"
      ],
      "metadata": {
        "colab": {
          "base_uri": "https://localhost:8080/"
        },
        "id": "aWVvEN4YzM64",
        "outputId": "492d4b1f-e39e-4340-c17a-ba8ed4f424a1"
      },
      "execution_count": null,
      "outputs": [
        {
          "output_type": "execute_result",
          "data": {
            "text/plain": [
              "0"
            ]
          },
          "metadata": {},
          "execution_count": 35
        }
      ]
    },
    {
      "cell_type": "markdown",
      "metadata": {
        "id": "L_20GyCBlMQ-"
      },
      "source": [
        "#### Задача 8. \n",
        "Распарсите исходную страницу с топ-250 фильмов и получите для каждого фильмов количество оценок. Пример текста в исходной странице:`9.2 based on 2,554,919 user ratings`. Из этого текста нужно достать = `2,554,919`. Подсказка: используя метод `find_all` с аргументом `attrs` в который нужно передать `{'class': 'ratingColumn imdbRating'}` от страници `http://www.imdb.com/chart/top`. Найдите 10 фильмов (вывести их название и кол-во оценок) у которых, самое большое количество оценок.\n"
      ]
    },
    {
      "cell_type": "code",
      "execution_count": null,
      "metadata": {
        "id": "5YS3htgQXtnV"
      },
      "outputs": [],
      "source": [
        "url = 'http://www.imdb.com/chart/top'\n",
        "response = requests.get(url)\n",
        "soup = BeautifulSoup(response.text, 'lxml')\n",
        "rating_votes = soup.find_all(attrs={'class': 'ratingColumn imdbRating'})"
      ]
    },
    {
      "cell_type": "code",
      "source": [
        "rating_votes[0]"
      ],
      "metadata": {
        "colab": {
          "base_uri": "https://localhost:8080/"
        },
        "id": "QlxpgosMz_Fo",
        "outputId": "b8e47f7c-e929-4641-e471-e3393617bda5"
      },
      "execution_count": null,
      "outputs": [
        {
          "output_type": "execute_result",
          "data": {
            "text/plain": [
              "<td class=\"ratingColumn imdbRating\">\n",
              "<strong title=\"9.2 based on 2,675,425 user ratings\">9.2</strong>\n",
              "</td>"
            ]
          },
          "metadata": {},
          "execution_count": 37
        }
      ]
    },
    {
      "cell_type": "code",
      "source": [
        "#Создаем список из количества проголосовавших, преобразуя его в числа и убирав лишнее.\n",
        "votes = []\n",
        "for tags in rating_votes:\n",
        "  line = tags.find(\"strong\").get(\"title\")\n",
        "  digits = re.findall(r\"(?<=on) (.*) (?=user)\", line)\n",
        "  votes.append(int(digits[0].strip().replace(\",\", \"\")))\n",
        "\n",
        "line"
      ],
      "metadata": {
        "colab": {
          "base_uri": "https://localhost:8080/",
          "height": 36
        },
        "id": "7nlDvbdK7AJN",
        "outputId": "59f1f602-dac1-4cb8-fc01-f27369793a5f"
      },
      "execution_count": null,
      "outputs": [
        {
          "output_type": "execute_result",
          "data": {
            "text/plain": [
              "'8.0 based on 34,843 user ratings'"
            ],
            "application/vnd.google.colaboratory.intrinsic+json": {
              "type": "string"
            }
          },
          "metadata": {},
          "execution_count": 38
        }
      ]
    },
    {
      "cell_type": "code",
      "source": [
        "#Сохраняем данные в таблице \n",
        "data[\"votes\"] = votes"
      ],
      "metadata": {
        "id": "bTJ4mhzL8nVo"
      },
      "execution_count": null,
      "outputs": []
    },
    {
      "cell_type": "code",
      "source": [
        "#Сортируем по числу проголосовавших\n",
        "sorted_votes = data.sort_values(by=['votes'], ascending=False)\n",
        "sorted_votes.iloc[0:12, 4:12]"
      ],
      "metadata": {
        "colab": {
          "base_uri": "https://localhost:8080/",
          "height": 407
        },
        "id": "QOrnwiRrFfaI",
        "outputId": "e520362d-27ff-478d-d2d4-93863e24f4bc"
      },
      "execution_count": null,
      "outputs": [
        {
          "output_type": "execute_result",
          "data": {
            "text/plain": [
              "                                                title  year  \\\n",
              "0                            The Shawshank Redemption  1994   \n",
              "2                                     The Dark Knight  2008   \n",
              "13                                          Inception  2010   \n",
              "11                                         Fight Club  1999   \n",
              "10                                       Forrest Gump  1994   \n",
              "7                                        Pulp Fiction  1994   \n",
              "15                                         The Matrix  1999   \n",
              "8   The Lord of the Rings: The Fellowship of the Ring  2001   \n",
              "1                                       The Godfather  1972   \n",
              "6       The Lord of the Rings: The Return of the King  2003   \n",
              "\n",
              "               Directors                                        description  \\\n",
              "0         Frank Darabont  The Shawshank Redemption: Directed by Frank Da...   \n",
              "2      Christopher Nolan  The Dark Knight: Directed by Christopher Nolan...   \n",
              "13     Christopher Nolan  Inception: Directed by Christopher Nolan. With...   \n",
              "11         David Fincher  Fight Club: Directed by David Fincher. With Ed...   \n",
              "10       Robert Zemeckis  Forrest Gump: Directed by Robert Zemeckis. Wit...   \n",
              "7      Quentin Tarantino  Pulp Fiction: Directed by Quentin Tarantino. W...   \n",
              "15        Lana Wachowski  The Matrix: Directed by Lana Wachowski, Lilly ...   \n",
              "8          Peter Jackson  The Lord of the Rings: The Fellowship of the R...   \n",
              "1   Francis Ford Coppola  The Godfather: Directed by Francis Ford Coppol...   \n",
              "6          Peter Jackson  The Lord of the Rings: The Return of the King:...   \n",
              "\n",
              "                                                 cast    votes  \n",
              "0    Tim Robbins, Morgan Freeman, Bob Gunton, Will...  2675425  \n",
              "2    Christian Bale, Heath Ledger, Aaron Eckhart, ...  2648600  \n",
              "13   Leonardo DiCaprio, Joseph Gordon-Levitt, Elli...  2348053  \n",
              "11   Edward Norton, Brad Pitt, Meat Loaf, Zach Gre...  2120945  \n",
              "10   Tom Hanks, Rebecca Williams, Sally Field, Mic...  2075167  \n",
              "7    Tim Roth, Amanda Plummer, Laura Lovelace, Joh...  2050705  \n",
              "15   Keanu Reeves, Laurence Fishburne, Carrie-Anne...  1910778  \n",
              "8    Alan Howard, Noel Appleby, Sean Astin, Sala B...  1872991  \n",
              "1    Marlon Brando, Al Pacino, James Caan, Richard...  1854463  \n",
              "6    Noel Appleby, Ali Astin, Sean Astin, David Aston  1843696  "
            ],
            "text/html": [
              "\n",
              "  <div id=\"df-882832dd-c0b7-407f-a4d2-de815843e4e3\">\n",
              "    <div class=\"colab-df-container\">\n",
              "      <div>\n",
              "<style scoped>\n",
              "    .dataframe tbody tr th:only-of-type {\n",
              "        vertical-align: middle;\n",
              "    }\n",
              "\n",
              "    .dataframe tbody tr th {\n",
              "        vertical-align: top;\n",
              "    }\n",
              "\n",
              "    .dataframe thead th {\n",
              "        text-align: right;\n",
              "    }\n",
              "</style>\n",
              "<table border=\"1\" class=\"dataframe\">\n",
              "  <thead>\n",
              "    <tr style=\"text-align: right;\">\n",
              "      <th></th>\n",
              "      <th>title</th>\n",
              "      <th>year</th>\n",
              "      <th>Directors</th>\n",
              "      <th>description</th>\n",
              "      <th>cast</th>\n",
              "      <th>votes</th>\n",
              "    </tr>\n",
              "  </thead>\n",
              "  <tbody>\n",
              "    <tr>\n",
              "      <th>0</th>\n",
              "      <td>The Shawshank Redemption</td>\n",
              "      <td>1994</td>\n",
              "      <td>Frank Darabont</td>\n",
              "      <td>The Shawshank Redemption: Directed by Frank Da...</td>\n",
              "      <td>Tim Robbins, Morgan Freeman, Bob Gunton, Will...</td>\n",
              "      <td>2675425</td>\n",
              "    </tr>\n",
              "    <tr>\n",
              "      <th>2</th>\n",
              "      <td>The Dark Knight</td>\n",
              "      <td>2008</td>\n",
              "      <td>Christopher Nolan</td>\n",
              "      <td>The Dark Knight: Directed by Christopher Nolan...</td>\n",
              "      <td>Christian Bale, Heath Ledger, Aaron Eckhart, ...</td>\n",
              "      <td>2648600</td>\n",
              "    </tr>\n",
              "    <tr>\n",
              "      <th>13</th>\n",
              "      <td>Inception</td>\n",
              "      <td>2010</td>\n",
              "      <td>Christopher Nolan</td>\n",
              "      <td>Inception: Directed by Christopher Nolan. With...</td>\n",
              "      <td>Leonardo DiCaprio, Joseph Gordon-Levitt, Elli...</td>\n",
              "      <td>2348053</td>\n",
              "    </tr>\n",
              "    <tr>\n",
              "      <th>11</th>\n",
              "      <td>Fight Club</td>\n",
              "      <td>1999</td>\n",
              "      <td>David Fincher</td>\n",
              "      <td>Fight Club: Directed by David Fincher. With Ed...</td>\n",
              "      <td>Edward Norton, Brad Pitt, Meat Loaf, Zach Gre...</td>\n",
              "      <td>2120945</td>\n",
              "    </tr>\n",
              "    <tr>\n",
              "      <th>10</th>\n",
              "      <td>Forrest Gump</td>\n",
              "      <td>1994</td>\n",
              "      <td>Robert Zemeckis</td>\n",
              "      <td>Forrest Gump: Directed by Robert Zemeckis. Wit...</td>\n",
              "      <td>Tom Hanks, Rebecca Williams, Sally Field, Mic...</td>\n",
              "      <td>2075167</td>\n",
              "    </tr>\n",
              "    <tr>\n",
              "      <th>7</th>\n",
              "      <td>Pulp Fiction</td>\n",
              "      <td>1994</td>\n",
              "      <td>Quentin Tarantino</td>\n",
              "      <td>Pulp Fiction: Directed by Quentin Tarantino. W...</td>\n",
              "      <td>Tim Roth, Amanda Plummer, Laura Lovelace, Joh...</td>\n",
              "      <td>2050705</td>\n",
              "    </tr>\n",
              "    <tr>\n",
              "      <th>15</th>\n",
              "      <td>The Matrix</td>\n",
              "      <td>1999</td>\n",
              "      <td>Lana Wachowski</td>\n",
              "      <td>The Matrix: Directed by Lana Wachowski, Lilly ...</td>\n",
              "      <td>Keanu Reeves, Laurence Fishburne, Carrie-Anne...</td>\n",
              "      <td>1910778</td>\n",
              "    </tr>\n",
              "    <tr>\n",
              "      <th>8</th>\n",
              "      <td>The Lord of the Rings: The Fellowship of the Ring</td>\n",
              "      <td>2001</td>\n",
              "      <td>Peter Jackson</td>\n",
              "      <td>The Lord of the Rings: The Fellowship of the R...</td>\n",
              "      <td>Alan Howard, Noel Appleby, Sean Astin, Sala B...</td>\n",
              "      <td>1872991</td>\n",
              "    </tr>\n",
              "    <tr>\n",
              "      <th>1</th>\n",
              "      <td>The Godfather</td>\n",
              "      <td>1972</td>\n",
              "      <td>Francis Ford Coppola</td>\n",
              "      <td>The Godfather: Directed by Francis Ford Coppol...</td>\n",
              "      <td>Marlon Brando, Al Pacino, James Caan, Richard...</td>\n",
              "      <td>1854463</td>\n",
              "    </tr>\n",
              "    <tr>\n",
              "      <th>6</th>\n",
              "      <td>The Lord of the Rings: The Return of the King</td>\n",
              "      <td>2003</td>\n",
              "      <td>Peter Jackson</td>\n",
              "      <td>The Lord of the Rings: The Return of the King:...</td>\n",
              "      <td>Noel Appleby, Ali Astin, Sean Astin, David Aston</td>\n",
              "      <td>1843696</td>\n",
              "    </tr>\n",
              "  </tbody>\n",
              "</table>\n",
              "</div>\n",
              "      <button class=\"colab-df-convert\" onclick=\"convertToInteractive('df-882832dd-c0b7-407f-a4d2-de815843e4e3')\"\n",
              "              title=\"Convert this dataframe to an interactive table.\"\n",
              "              style=\"display:none;\">\n",
              "        \n",
              "  <svg xmlns=\"http://www.w3.org/2000/svg\" height=\"24px\"viewBox=\"0 0 24 24\"\n",
              "       width=\"24px\">\n",
              "    <path d=\"M0 0h24v24H0V0z\" fill=\"none\"/>\n",
              "    <path d=\"M18.56 5.44l.94 2.06.94-2.06 2.06-.94-2.06-.94-.94-2.06-.94 2.06-2.06.94zm-11 1L8.5 8.5l.94-2.06 2.06-.94-2.06-.94L8.5 2.5l-.94 2.06-2.06.94zm10 10l.94 2.06.94-2.06 2.06-.94-2.06-.94-.94-2.06-.94 2.06-2.06.94z\"/><path d=\"M17.41 7.96l-1.37-1.37c-.4-.4-.92-.59-1.43-.59-.52 0-1.04.2-1.43.59L10.3 9.45l-7.72 7.72c-.78.78-.78 2.05 0 2.83L4 21.41c.39.39.9.59 1.41.59.51 0 1.02-.2 1.41-.59l7.78-7.78 2.81-2.81c.8-.78.8-2.07 0-2.86zM5.41 20L4 18.59l7.72-7.72 1.47 1.35L5.41 20z\"/>\n",
              "  </svg>\n",
              "      </button>\n",
              "      \n",
              "  <style>\n",
              "    .colab-df-container {\n",
              "      display:flex;\n",
              "      flex-wrap:wrap;\n",
              "      gap: 12px;\n",
              "    }\n",
              "\n",
              "    .colab-df-convert {\n",
              "      background-color: #E8F0FE;\n",
              "      border: none;\n",
              "      border-radius: 50%;\n",
              "      cursor: pointer;\n",
              "      display: none;\n",
              "      fill: #1967D2;\n",
              "      height: 32px;\n",
              "      padding: 0 0 0 0;\n",
              "      width: 32px;\n",
              "    }\n",
              "\n",
              "    .colab-df-convert:hover {\n",
              "      background-color: #E2EBFA;\n",
              "      box-shadow: 0px 1px 2px rgba(60, 64, 67, 0.3), 0px 1px 3px 1px rgba(60, 64, 67, 0.15);\n",
              "      fill: #174EA6;\n",
              "    }\n",
              "\n",
              "    [theme=dark] .colab-df-convert {\n",
              "      background-color: #3B4455;\n",
              "      fill: #D2E3FC;\n",
              "    }\n",
              "\n",
              "    [theme=dark] .colab-df-convert:hover {\n",
              "      background-color: #434B5C;\n",
              "      box-shadow: 0px 1px 3px 1px rgba(0, 0, 0, 0.15);\n",
              "      filter: drop-shadow(0px 1px 2px rgba(0, 0, 0, 0.3));\n",
              "      fill: #FFFFFF;\n",
              "    }\n",
              "  </style>\n",
              "\n",
              "      <script>\n",
              "        const buttonEl =\n",
              "          document.querySelector('#df-882832dd-c0b7-407f-a4d2-de815843e4e3 button.colab-df-convert');\n",
              "        buttonEl.style.display =\n",
              "          google.colab.kernel.accessAllowed ? 'block' : 'none';\n",
              "\n",
              "        async function convertToInteractive(key) {\n",
              "          const element = document.querySelector('#df-882832dd-c0b7-407f-a4d2-de815843e4e3');\n",
              "          const dataTable =\n",
              "            await google.colab.kernel.invokeFunction('convertToInteractive',\n",
              "                                                     [key], {});\n",
              "          if (!dataTable) return;\n",
              "\n",
              "          const docLinkHtml = 'Like what you see? Visit the ' +\n",
              "            '<a target=\"_blank\" href=https://colab.research.google.com/notebooks/data_table.ipynb>data table notebook</a>'\n",
              "            + ' to learn more about interactive tables.';\n",
              "          element.innerHTML = '';\n",
              "          dataTable['output_type'] = 'display_data';\n",
              "          await google.colab.output.renderOutput(dataTable, element);\n",
              "          const docLink = document.createElement('div');\n",
              "          docLink.innerHTML = docLinkHtml;\n",
              "          element.appendChild(docLink);\n",
              "        }\n",
              "      </script>\n",
              "    </div>\n",
              "  </div>\n",
              "  "
            ]
          },
          "metadata": {},
          "execution_count": 40
        }
      ]
    },
    {
      "cell_type": "markdown",
      "metadata": {
        "id": "GsP4yhV7XtnV"
      },
      "source": [
        "#### Задача 9. \n",
        "Постройте топ 10 слов, которые встречаются \n",
        "\n",
        "1.   в названии фильмов\n",
        "2.   в описании фильмов\n",
        "3.   в названии и в описании фильмов\n"
      ]
    },
    {
      "cell_type": "code",
      "execution_count": null,
      "metadata": {
        "id": "ZkwMweh4XtnV",
        "colab": {
          "base_uri": "https://localhost:8080/"
        },
        "outputId": "dc7ee69e-8c37-46be-eb77-87f5f73512e8"
      },
      "outputs": [
        {
          "output_type": "stream",
          "name": "stderr",
          "text": [
            "[nltk_data] Downloading package stopwords to /root/nltk_data...\n",
            "[nltk_data]   Package stopwords is already up-to-date!\n",
            "[nltk_data] Downloading package punkt to /root/nltk_data...\n",
            "[nltk_data]   Package punkt is already up-to-date!\n",
            "[nltk_data] Downloading package wordnet to /root/nltk_data...\n",
            "[nltk_data]   Package wordnet is already up-to-date!\n",
            "[nltk_data] Downloading package omw-1.4 to /root/nltk_data...\n"
          ]
        }
      ],
      "source": [
        "import nltk\n",
        "from nltk.stem import WordNetLemmatizer\n",
        "from nltk.tokenize import word_tokenize\n",
        "from nltk.corpus import stopwords\n",
        "import os, json\n",
        "from string import punctuation\n",
        "nltk.download('stopwords')\n",
        "nltk.download('punkt')\n",
        "nltk.download('wordnet')\n",
        "nltk.download('omw-1.4')\n",
        "\n",
        "stopword = stopwords.words('english')\n",
        "\n",
        "lemmatizer = WordNetLemmatizer()"
      ]
    },
    {
      "cell_type": "code",
      "source": [
        "#создаем функцию, с помощью которой нормализуем текст, убирая служебные слова, цифры, провели лемматизацию.\n",
        "def lemmatizing(words):\n",
        "  a = []\n",
        "  tokens = word_tokenize(words)\n",
        "  for token in tokens:\n",
        "      lemmas = lemmatizer.lemmatize(token).lower()\n",
        "      if lemmas not in stopword and lemmas != \" \" \\\n",
        "       and lemmas.strip() not in punctuation \\\n",
        "       and len(lemmas) > 2 \\\n",
        "       and token.isdigit() == False:\n",
        "        a.append(lemmas)\n",
        "  return a\n",
        "\n",
        "print(data['title'][0])\n",
        "print(lemmatizing(data['title'][0]))\n",
        "\n",
        "print(data[\"description\"][0])\n",
        "print(lemmatizing(data['description'][0]))\n",
        "   "
      ],
      "metadata": {
        "id": "aciYrrXHFeOa",
        "colab": {
          "base_uri": "https://localhost:8080/"
        },
        "outputId": "3576de4a-bd89-4058-ee86-c0ca8f11c544"
      },
      "execution_count": null,
      "outputs": [
        {
          "output_type": "stream",
          "name": "stdout",
          "text": [
            "The Shawshank Redemption\n",
            "['shawshank', 'redemption']\n",
            "The Shawshank Redemption: Directed by Frank Darabont. With Tim Robbins, Morgan Freeman, Bob Gunton, William Sadler. Two imprisoned men bond over a number of years, finding solace and eventual redemption through acts of common decency.\n",
            "['shawshank', 'redemption', 'directed', 'frank', 'darabont', 'tim', 'robbins', 'morgan', 'freeman', 'bob', 'gunton', 'william', 'sadler', 'two', 'imprisoned', 'men', 'bond', 'number', 'year', 'finding', 'solace', 'eventual', 'redemption', 'act', 'common', 'decency']\n"
          ]
        }
      ]
    },
    {
      "cell_type": "code",
      "source": [
        "#Создаем новый датафрейм, применяя функцию нормализации текста и записывая леммы из названий фильмов. Series.explode() для преобразования списков в строки и удобного подсчета встречаемости слова.\n",
        "new_df[\"film_lemmas\"] = data['title'].apply(lemmatizing)\n",
        "top_film = new_df[\"film_lemmas\"].explode().value_counts()\n",
        "top_film[:10]"
      ],
      "metadata": {
        "colab": {
          "base_uri": "https://localhost:8080/"
        },
        "id": "JyI6fm3zVQBb",
        "outputId": "ae3ef389-f79d-4ce3-c749-c56969d2f7ea"
      },
      "execution_count": null,
      "outputs": [
        {
          "output_type": "execute_result",
          "data": {
            "text/plain": [
              "wars        3\n",
              "life        3\n",
              "wild        3\n",
              "father      3\n",
              "lord        3\n",
              "rings       3\n",
              "star        3\n",
              "story       3\n",
              "episode     2\n",
              "american    2\n",
              "Name: title, dtype: int64"
            ]
          },
          "metadata": {},
          "execution_count": 151
        }
      ]
    },
    {
      "cell_type": "code",
      "source": [
        "#Топ слов, встречающихся в описаниях фильмов\n",
        "new_df[\"desc_lemmas\"] = data['description'].apply(lemmatizing)\n",
        "top_desc = new_df[\"desc_lemmas\"].explode().value_counts()\n",
        "top_desc[:10]"
      ],
      "metadata": {
        "colab": {
          "base_uri": "https://localhost:8080/"
        },
        "id": "xbH3uSlab2WY",
        "outputId": "d3fa017e-5d12-4697-c5b0-e3a66be61cd3"
      },
      "execution_count": null,
      "outputs": [
        {
          "output_type": "execute_result",
          "data": {
            "text/plain": [
              "directed    250\n",
              "life         39\n",
              "young        30\n",
              "john         30\n",
              "two          29\n",
              "robert       26\n",
              "find         26\n",
              "war          24\n",
              "one          23\n",
              "help         23\n",
              "Name: description, dtype: int64"
            ]
          },
          "metadata": {},
          "execution_count": 152
        }
      ]
    },
    {
      "cell_type": "code",
      "source": [
        "#Объединили две колонки в одну и повторили. Топ слов, встречающихся в описаниях и названиях фильмов\n",
        "new_df[\"desc_film_lemmas\"] = new_df[\"desc_lemmas\"] + new_df[\"film_lemmas\"]\n",
        "new_df[\"desc_film_lemmas\"].explode().value_counts()[:10]"
      ],
      "metadata": {
        "colab": {
          "base_uri": "https://localhost:8080/"
        },
        "id": "9Mb99cr_pep6",
        "outputId": "365447c2-2066-4c18-836b-5a93430e2d58"
      },
      "execution_count": null,
      "outputs": [
        {
          "output_type": "execute_result",
          "data": {
            "text/plain": [
              "directed    250\n",
              "life         42\n",
              "two          31\n",
              "john         30\n",
              "young        30\n",
              "find         26\n",
              "robert       26\n",
              "one          25\n",
              "war          25\n",
              "help         24\n",
              "dtype: int64"
            ]
          },
          "metadata": {},
          "execution_count": 164
        }
      ]
    },
    {
      "cell_type": "markdown",
      "metadata": {
        "id": "ysRcuhxOXtnW"
      },
      "source": [
        "#### Задача 10*. \n",
        "Спарсить теги фильмов со страницы каждого фильма, так например для `The Godfather` ожидается получить список из `Crime, Drama`. (Можно увидеть эти теги по картинкой к фильму)\n"
      ]
    },
    {
      "cell_type": "code",
      "execution_count": null,
      "metadata": {
        "id": "V06MVoCYXtnW",
        "colab": {
          "base_uri": "https://localhost:8080/",
          "height": 447
        },
        "outputId": "349b3727-d5af-4c85-c40d-48965145d334"
      },
      "outputs": [
        {
          "output_type": "error",
          "ename": "KeyboardInterrupt",
          "evalue": "ignored",
          "traceback": [
            "\u001b[0;31m---------------------------------------------------------------------------\u001b[0m",
            "\u001b[0;31mTypeError\u001b[0m                                 Traceback (most recent call last)",
            "\u001b[0;32m/usr/local/lib/python3.8/dist-packages/urllib3/connectionpool.py\u001b[0m in \u001b[0;36m_make_request\u001b[0;34m(self, conn, method, url, timeout, chunked, **httplib_request_kw)\u001b[0m\n\u001b[1;32m    376\u001b[0m             \u001b[0;32mtry\u001b[0m\u001b[0;34m:\u001b[0m  \u001b[0;31m# Python 2.7, use buffering of HTTP responses\u001b[0m\u001b[0;34m\u001b[0m\u001b[0;34m\u001b[0m\u001b[0m\n\u001b[0;32m--> 377\u001b[0;31m                 \u001b[0mhttplib_response\u001b[0m \u001b[0;34m=\u001b[0m \u001b[0mconn\u001b[0m\u001b[0;34m.\u001b[0m\u001b[0mgetresponse\u001b[0m\u001b[0;34m(\u001b[0m\u001b[0mbuffering\u001b[0m\u001b[0;34m=\u001b[0m\u001b[0;32mTrue\u001b[0m\u001b[0;34m)\u001b[0m\u001b[0;34m\u001b[0m\u001b[0;34m\u001b[0m\u001b[0m\n\u001b[0m\u001b[1;32m    378\u001b[0m             \u001b[0;32mexcept\u001b[0m \u001b[0mTypeError\u001b[0m\u001b[0;34m:\u001b[0m  \u001b[0;31m# Python 3\u001b[0m\u001b[0;34m\u001b[0m\u001b[0;34m\u001b[0m\u001b[0m\n",
            "\u001b[0;31mTypeError\u001b[0m: getresponse() got an unexpected keyword argument 'buffering'",
            "\nDuring handling of the above exception, another exception occurred:\n",
            "\u001b[0;31mKeyboardInterrupt\u001b[0m                         Traceback (most recent call last)",
            "\u001b[0;32m<ipython-input-213-3946e30f0b2a>\u001b[0m in \u001b[0;36m<module>\u001b[0;34m\u001b[0m\n\u001b[1;32m      9\u001b[0m   \u001b[0;32mreturn\u001b[0m \u001b[0mgenres\u001b[0m\u001b[0;34m\u001b[0m\u001b[0;34m\u001b[0m\u001b[0m\n\u001b[1;32m     10\u001b[0m \u001b[0;34m\u001b[0m\u001b[0m\n\u001b[0;32m---> 11\u001b[0;31m \u001b[0mdata\u001b[0m\u001b[0;34m[\u001b[0m\u001b[0;34m'genres'\u001b[0m\u001b[0;34m]\u001b[0m \u001b[0;34m=\u001b[0m \u001b[0mlist\u001b[0m\u001b[0;34m(\u001b[0m\u001b[0mmap\u001b[0m\u001b[0;34m(\u001b[0m\u001b[0mgenre_extractor\u001b[0m\u001b[0;34m(\u001b[0m\u001b[0mdata\u001b[0m\u001b[0;34m[\u001b[0m\u001b[0;34m'links'\u001b[0m\u001b[0;34m]\u001b[0m\u001b[0;34m)\u001b[0m\u001b[0;34m)\u001b[0m\u001b[0;34m)\u001b[0m\u001b[0;34m\u001b[0m\u001b[0;34m\u001b[0m\u001b[0m\n\u001b[0m\u001b[1;32m     12\u001b[0m \u001b[0mdata\u001b[0m\u001b[0;34m[\u001b[0m\u001b[0;34m'genres'\u001b[0m\u001b[0;34m]\u001b[0m\u001b[0;34m\u001b[0m\u001b[0;34m\u001b[0m\u001b[0m\n",
            "\u001b[0;32m<ipython-input-213-3946e30f0b2a>\u001b[0m in \u001b[0;36mgenre_extractor\u001b[0;34m(links_column)\u001b[0m\n\u001b[1;32m      3\u001b[0m   \u001b[0;32mfor\u001b[0m \u001b[0mlink\u001b[0m \u001b[0;32min\u001b[0m \u001b[0mlinks_column\u001b[0m\u001b[0;34m:\u001b[0m\u001b[0;34m\u001b[0m\u001b[0;34m\u001b[0m\u001b[0m\n\u001b[1;32m      4\u001b[0m     \u001b[0mfilm_url\u001b[0m \u001b[0;34m=\u001b[0m \u001b[0;34mf'http://www.imdb.com/{link}'\u001b[0m\u001b[0;34m\u001b[0m\u001b[0;34m\u001b[0m\u001b[0m\n\u001b[0;32m----> 5\u001b[0;31m     \u001b[0mhtml_text\u001b[0m \u001b[0;34m=\u001b[0m \u001b[0mrequests\u001b[0m\u001b[0;34m.\u001b[0m\u001b[0mget\u001b[0m\u001b[0;34m(\u001b[0m\u001b[0mfilm_url\u001b[0m\u001b[0;34m,\u001b[0m \u001b[0mheaders\u001b[0m\u001b[0;34m=\u001b[0m\u001b[0;34m{\u001b[0m\u001b[0;34m'User-Agent'\u001b[0m\u001b[0;34m:\u001b[0m \u001b[0;34m'Mozilla/5.0'\u001b[0m\u001b[0;34m}\u001b[0m\u001b[0;34m)\u001b[0m\u001b[0;34m.\u001b[0m\u001b[0mtext\u001b[0m\u001b[0;34m\u001b[0m\u001b[0;34m\u001b[0m\u001b[0m\n\u001b[0m\u001b[1;32m      6\u001b[0m     \u001b[0msoup\u001b[0m \u001b[0;34m=\u001b[0m \u001b[0mBeautifulSoup\u001b[0m\u001b[0;34m(\u001b[0m\u001b[0mhtml_text\u001b[0m\u001b[0;34m,\u001b[0m \u001b[0;34m'lxml'\u001b[0m\u001b[0;34m)\u001b[0m\u001b[0;34m\u001b[0m\u001b[0;34m\u001b[0m\u001b[0m\n\u001b[1;32m      7\u001b[0m     \u001b[0mgenre\u001b[0m \u001b[0;34m=\u001b[0m \u001b[0msoup\u001b[0m\u001b[0;34m.\u001b[0m\u001b[0mfind_all\u001b[0m\u001b[0;34m(\u001b[0m\u001b[0;34m'div'\u001b[0m\u001b[0;34m,\u001b[0m \u001b[0mattrs\u001b[0m\u001b[0;34m=\u001b[0m\u001b[0;34m{\u001b[0m\u001b[0;34m\"data-testid\"\u001b[0m\u001b[0;34m:\u001b[0m \u001b[0;34m\"genres\"\u001b[0m\u001b[0;34m}\u001b[0m\u001b[0;34m)\u001b[0m\u001b[0;34m\u001b[0m\u001b[0;34m\u001b[0m\u001b[0m\n",
            "\u001b[0;32m/usr/local/lib/python3.8/dist-packages/requests/api.py\u001b[0m in \u001b[0;36mget\u001b[0;34m(url, params, **kwargs)\u001b[0m\n\u001b[1;32m     74\u001b[0m \u001b[0;34m\u001b[0m\u001b[0m\n\u001b[1;32m     75\u001b[0m     \u001b[0mkwargs\u001b[0m\u001b[0;34m.\u001b[0m\u001b[0msetdefault\u001b[0m\u001b[0;34m(\u001b[0m\u001b[0;34m'allow_redirects'\u001b[0m\u001b[0;34m,\u001b[0m \u001b[0;32mTrue\u001b[0m\u001b[0;34m)\u001b[0m\u001b[0;34m\u001b[0m\u001b[0;34m\u001b[0m\u001b[0m\n\u001b[0;32m---> 76\u001b[0;31m     \u001b[0;32mreturn\u001b[0m \u001b[0mrequest\u001b[0m\u001b[0;34m(\u001b[0m\u001b[0;34m'get'\u001b[0m\u001b[0;34m,\u001b[0m \u001b[0murl\u001b[0m\u001b[0;34m,\u001b[0m \u001b[0mparams\u001b[0m\u001b[0;34m=\u001b[0m\u001b[0mparams\u001b[0m\u001b[0;34m,\u001b[0m \u001b[0;34m**\u001b[0m\u001b[0mkwargs\u001b[0m\u001b[0;34m)\u001b[0m\u001b[0;34m\u001b[0m\u001b[0;34m\u001b[0m\u001b[0m\n\u001b[0m\u001b[1;32m     77\u001b[0m \u001b[0;34m\u001b[0m\u001b[0m\n\u001b[1;32m     78\u001b[0m \u001b[0;34m\u001b[0m\u001b[0m\n",
            "\u001b[0;32m/usr/local/lib/python3.8/dist-packages/requests/api.py\u001b[0m in \u001b[0;36mrequest\u001b[0;34m(method, url, **kwargs)\u001b[0m\n\u001b[1;32m     59\u001b[0m     \u001b[0;31m# cases, and look like a memory leak in others.\u001b[0m\u001b[0;34m\u001b[0m\u001b[0;34m\u001b[0m\u001b[0;34m\u001b[0m\u001b[0m\n\u001b[1;32m     60\u001b[0m     \u001b[0;32mwith\u001b[0m \u001b[0msessions\u001b[0m\u001b[0;34m.\u001b[0m\u001b[0mSession\u001b[0m\u001b[0;34m(\u001b[0m\u001b[0;34m)\u001b[0m \u001b[0;32mas\u001b[0m \u001b[0msession\u001b[0m\u001b[0;34m:\u001b[0m\u001b[0;34m\u001b[0m\u001b[0;34m\u001b[0m\u001b[0m\n\u001b[0;32m---> 61\u001b[0;31m         \u001b[0;32mreturn\u001b[0m \u001b[0msession\u001b[0m\u001b[0;34m.\u001b[0m\u001b[0mrequest\u001b[0m\u001b[0;34m(\u001b[0m\u001b[0mmethod\u001b[0m\u001b[0;34m=\u001b[0m\u001b[0mmethod\u001b[0m\u001b[0;34m,\u001b[0m \u001b[0murl\u001b[0m\u001b[0;34m=\u001b[0m\u001b[0murl\u001b[0m\u001b[0;34m,\u001b[0m \u001b[0;34m**\u001b[0m\u001b[0mkwargs\u001b[0m\u001b[0;34m)\u001b[0m\u001b[0;34m\u001b[0m\u001b[0;34m\u001b[0m\u001b[0m\n\u001b[0m\u001b[1;32m     62\u001b[0m \u001b[0;34m\u001b[0m\u001b[0m\n\u001b[1;32m     63\u001b[0m \u001b[0;34m\u001b[0m\u001b[0m\n",
            "\u001b[0;32m/usr/local/lib/python3.8/dist-packages/requests/sessions.py\u001b[0m in \u001b[0;36mrequest\u001b[0;34m(self, method, url, params, data, headers, cookies, files, auth, timeout, allow_redirects, proxies, hooks, stream, verify, cert, json)\u001b[0m\n\u001b[1;32m    528\u001b[0m         }\n\u001b[1;32m    529\u001b[0m         \u001b[0msend_kwargs\u001b[0m\u001b[0;34m.\u001b[0m\u001b[0mupdate\u001b[0m\u001b[0;34m(\u001b[0m\u001b[0msettings\u001b[0m\u001b[0;34m)\u001b[0m\u001b[0;34m\u001b[0m\u001b[0;34m\u001b[0m\u001b[0m\n\u001b[0;32m--> 530\u001b[0;31m         \u001b[0mresp\u001b[0m \u001b[0;34m=\u001b[0m \u001b[0mself\u001b[0m\u001b[0;34m.\u001b[0m\u001b[0msend\u001b[0m\u001b[0;34m(\u001b[0m\u001b[0mprep\u001b[0m\u001b[0;34m,\u001b[0m \u001b[0;34m**\u001b[0m\u001b[0msend_kwargs\u001b[0m\u001b[0;34m)\u001b[0m\u001b[0;34m\u001b[0m\u001b[0;34m\u001b[0m\u001b[0m\n\u001b[0m\u001b[1;32m    531\u001b[0m \u001b[0;34m\u001b[0m\u001b[0m\n\u001b[1;32m    532\u001b[0m         \u001b[0;32mreturn\u001b[0m \u001b[0mresp\u001b[0m\u001b[0;34m\u001b[0m\u001b[0;34m\u001b[0m\u001b[0m\n",
            "\u001b[0;32m/usr/local/lib/python3.8/dist-packages/requests/sessions.py\u001b[0m in \u001b[0;36msend\u001b[0;34m(self, request, **kwargs)\u001b[0m\n\u001b[1;32m    663\u001b[0m \u001b[0;34m\u001b[0m\u001b[0m\n\u001b[1;32m    664\u001b[0m         \u001b[0;31m# Resolve redirects if allowed.\u001b[0m\u001b[0;34m\u001b[0m\u001b[0;34m\u001b[0m\u001b[0;34m\u001b[0m\u001b[0m\n\u001b[0;32m--> 665\u001b[0;31m         \u001b[0mhistory\u001b[0m \u001b[0;34m=\u001b[0m \u001b[0;34m[\u001b[0m\u001b[0mresp\u001b[0m \u001b[0;32mfor\u001b[0m \u001b[0mresp\u001b[0m \u001b[0;32min\u001b[0m \u001b[0mgen\u001b[0m\u001b[0;34m]\u001b[0m \u001b[0;32mif\u001b[0m \u001b[0mallow_redirects\u001b[0m \u001b[0;32melse\u001b[0m \u001b[0;34m[\u001b[0m\u001b[0;34m]\u001b[0m\u001b[0;34m\u001b[0m\u001b[0;34m\u001b[0m\u001b[0m\n\u001b[0m\u001b[1;32m    666\u001b[0m \u001b[0;34m\u001b[0m\u001b[0m\n\u001b[1;32m    667\u001b[0m         \u001b[0;31m# Shuffle things around if there's history.\u001b[0m\u001b[0;34m\u001b[0m\u001b[0;34m\u001b[0m\u001b[0;34m\u001b[0m\u001b[0m\n",
            "\u001b[0;32m/usr/local/lib/python3.8/dist-packages/requests/sessions.py\u001b[0m in \u001b[0;36m<listcomp>\u001b[0;34m(.0)\u001b[0m\n\u001b[1;32m    663\u001b[0m \u001b[0;34m\u001b[0m\u001b[0m\n\u001b[1;32m    664\u001b[0m         \u001b[0;31m# Resolve redirects if allowed.\u001b[0m\u001b[0;34m\u001b[0m\u001b[0;34m\u001b[0m\u001b[0;34m\u001b[0m\u001b[0m\n\u001b[0;32m--> 665\u001b[0;31m         \u001b[0mhistory\u001b[0m \u001b[0;34m=\u001b[0m \u001b[0;34m[\u001b[0m\u001b[0mresp\u001b[0m \u001b[0;32mfor\u001b[0m \u001b[0mresp\u001b[0m \u001b[0;32min\u001b[0m \u001b[0mgen\u001b[0m\u001b[0;34m]\u001b[0m \u001b[0;32mif\u001b[0m \u001b[0mallow_redirects\u001b[0m \u001b[0;32melse\u001b[0m \u001b[0;34m[\u001b[0m\u001b[0;34m]\u001b[0m\u001b[0;34m\u001b[0m\u001b[0;34m\u001b[0m\u001b[0m\n\u001b[0m\u001b[1;32m    666\u001b[0m \u001b[0;34m\u001b[0m\u001b[0m\n\u001b[1;32m    667\u001b[0m         \u001b[0;31m# Shuffle things around if there's history.\u001b[0m\u001b[0;34m\u001b[0m\u001b[0;34m\u001b[0m\u001b[0;34m\u001b[0m\u001b[0m\n",
            "\u001b[0;32m/usr/local/lib/python3.8/dist-packages/requests/sessions.py\u001b[0m in \u001b[0;36mresolve_redirects\u001b[0;34m(self, resp, req, stream, timeout, verify, cert, proxies, yield_requests, **adapter_kwargs)\u001b[0m\n\u001b[1;32m    235\u001b[0m             \u001b[0;32melse\u001b[0m\u001b[0;34m:\u001b[0m\u001b[0;34m\u001b[0m\u001b[0;34m\u001b[0m\u001b[0m\n\u001b[1;32m    236\u001b[0m \u001b[0;34m\u001b[0m\u001b[0m\n\u001b[0;32m--> 237\u001b[0;31m                 resp = self.send(\n\u001b[0m\u001b[1;32m    238\u001b[0m                     \u001b[0mreq\u001b[0m\u001b[0;34m,\u001b[0m\u001b[0;34m\u001b[0m\u001b[0;34m\u001b[0m\u001b[0m\n\u001b[1;32m    239\u001b[0m                     \u001b[0mstream\u001b[0m\u001b[0;34m=\u001b[0m\u001b[0mstream\u001b[0m\u001b[0;34m,\u001b[0m\u001b[0;34m\u001b[0m\u001b[0;34m\u001b[0m\u001b[0m\n",
            "\u001b[0;32m/usr/local/lib/python3.8/dist-packages/requests/sessions.py\u001b[0m in \u001b[0;36msend\u001b[0;34m(self, request, **kwargs)\u001b[0m\n\u001b[1;32m    641\u001b[0m \u001b[0;34m\u001b[0m\u001b[0m\n\u001b[1;32m    642\u001b[0m         \u001b[0;31m# Send the request\u001b[0m\u001b[0;34m\u001b[0m\u001b[0;34m\u001b[0m\u001b[0;34m\u001b[0m\u001b[0m\n\u001b[0;32m--> 643\u001b[0;31m         \u001b[0mr\u001b[0m \u001b[0;34m=\u001b[0m \u001b[0madapter\u001b[0m\u001b[0;34m.\u001b[0m\u001b[0msend\u001b[0m\u001b[0;34m(\u001b[0m\u001b[0mrequest\u001b[0m\u001b[0;34m,\u001b[0m \u001b[0;34m**\u001b[0m\u001b[0mkwargs\u001b[0m\u001b[0;34m)\u001b[0m\u001b[0;34m\u001b[0m\u001b[0;34m\u001b[0m\u001b[0m\n\u001b[0m\u001b[1;32m    644\u001b[0m \u001b[0;34m\u001b[0m\u001b[0m\n\u001b[1;32m    645\u001b[0m         \u001b[0;31m# Total elapsed time of the request (approximately)\u001b[0m\u001b[0;34m\u001b[0m\u001b[0;34m\u001b[0m\u001b[0;34m\u001b[0m\u001b[0m\n",
            "\u001b[0;32m/usr/local/lib/python3.8/dist-packages/requests/adapters.py\u001b[0m in \u001b[0;36msend\u001b[0;34m(self, request, stream, timeout, verify, cert, proxies)\u001b[0m\n\u001b[1;32m    437\u001b[0m         \u001b[0;32mtry\u001b[0m\u001b[0;34m:\u001b[0m\u001b[0;34m\u001b[0m\u001b[0;34m\u001b[0m\u001b[0m\n\u001b[1;32m    438\u001b[0m             \u001b[0;32mif\u001b[0m \u001b[0;32mnot\u001b[0m \u001b[0mchunked\u001b[0m\u001b[0;34m:\u001b[0m\u001b[0;34m\u001b[0m\u001b[0;34m\u001b[0m\u001b[0m\n\u001b[0;32m--> 439\u001b[0;31m                 resp = conn.urlopen(\n\u001b[0m\u001b[1;32m    440\u001b[0m                     \u001b[0mmethod\u001b[0m\u001b[0;34m=\u001b[0m\u001b[0mrequest\u001b[0m\u001b[0;34m.\u001b[0m\u001b[0mmethod\u001b[0m\u001b[0;34m,\u001b[0m\u001b[0;34m\u001b[0m\u001b[0;34m\u001b[0m\u001b[0m\n\u001b[1;32m    441\u001b[0m                     \u001b[0murl\u001b[0m\u001b[0;34m=\u001b[0m\u001b[0murl\u001b[0m\u001b[0;34m,\u001b[0m\u001b[0;34m\u001b[0m\u001b[0;34m\u001b[0m\u001b[0m\n",
            "\u001b[0;32m/usr/local/lib/python3.8/dist-packages/urllib3/connectionpool.py\u001b[0m in \u001b[0;36murlopen\u001b[0;34m(self, method, url, body, headers, retries, redirect, assert_same_host, timeout, pool_timeout, release_conn, chunked, body_pos, **response_kw)\u001b[0m\n\u001b[1;32m    595\u001b[0m \u001b[0;34m\u001b[0m\u001b[0m\n\u001b[1;32m    596\u001b[0m             \u001b[0;31m# Make the request on the httplib connection object.\u001b[0m\u001b[0;34m\u001b[0m\u001b[0;34m\u001b[0m\u001b[0;34m\u001b[0m\u001b[0m\n\u001b[0;32m--> 597\u001b[0;31m             httplib_response = self._make_request(conn, method, url,\n\u001b[0m\u001b[1;32m    598\u001b[0m                                                   \u001b[0mtimeout\u001b[0m\u001b[0;34m=\u001b[0m\u001b[0mtimeout_obj\u001b[0m\u001b[0;34m,\u001b[0m\u001b[0;34m\u001b[0m\u001b[0;34m\u001b[0m\u001b[0m\n\u001b[1;32m    599\u001b[0m                                                   \u001b[0mbody\u001b[0m\u001b[0;34m=\u001b[0m\u001b[0mbody\u001b[0m\u001b[0;34m,\u001b[0m \u001b[0mheaders\u001b[0m\u001b[0;34m=\u001b[0m\u001b[0mheaders\u001b[0m\u001b[0;34m,\u001b[0m\u001b[0;34m\u001b[0m\u001b[0;34m\u001b[0m\u001b[0m\n",
            "\u001b[0;32m/usr/local/lib/python3.8/dist-packages/urllib3/connectionpool.py\u001b[0m in \u001b[0;36m_make_request\u001b[0;34m(self, conn, method, url, timeout, chunked, **httplib_request_kw)\u001b[0m\n\u001b[1;32m    378\u001b[0m             \u001b[0;32mexcept\u001b[0m \u001b[0mTypeError\u001b[0m\u001b[0;34m:\u001b[0m  \u001b[0;31m# Python 3\u001b[0m\u001b[0;34m\u001b[0m\u001b[0;34m\u001b[0m\u001b[0m\n\u001b[1;32m    379\u001b[0m                 \u001b[0;32mtry\u001b[0m\u001b[0;34m:\u001b[0m\u001b[0;34m\u001b[0m\u001b[0;34m\u001b[0m\u001b[0m\n\u001b[0;32m--> 380\u001b[0;31m                     \u001b[0mhttplib_response\u001b[0m \u001b[0;34m=\u001b[0m \u001b[0mconn\u001b[0m\u001b[0;34m.\u001b[0m\u001b[0mgetresponse\u001b[0m\u001b[0;34m(\u001b[0m\u001b[0;34m)\u001b[0m\u001b[0;34m\u001b[0m\u001b[0;34m\u001b[0m\u001b[0m\n\u001b[0m\u001b[1;32m    381\u001b[0m                 \u001b[0;32mexcept\u001b[0m \u001b[0mException\u001b[0m \u001b[0;32mas\u001b[0m \u001b[0me\u001b[0m\u001b[0;34m:\u001b[0m\u001b[0;34m\u001b[0m\u001b[0;34m\u001b[0m\u001b[0m\n\u001b[1;32m    382\u001b[0m                     \u001b[0;31m# Remove the TypeError from the exception chain in Python 3;\u001b[0m\u001b[0;34m\u001b[0m\u001b[0;34m\u001b[0m\u001b[0;34m\u001b[0m\u001b[0m\n",
            "\u001b[0;32m/usr/lib/python3.8/http/client.py\u001b[0m in \u001b[0;36mgetresponse\u001b[0;34m(self)\u001b[0m\n\u001b[1;32m   1346\u001b[0m         \u001b[0;32mtry\u001b[0m\u001b[0;34m:\u001b[0m\u001b[0;34m\u001b[0m\u001b[0;34m\u001b[0m\u001b[0m\n\u001b[1;32m   1347\u001b[0m             \u001b[0;32mtry\u001b[0m\u001b[0;34m:\u001b[0m\u001b[0;34m\u001b[0m\u001b[0;34m\u001b[0m\u001b[0m\n\u001b[0;32m-> 1348\u001b[0;31m                 \u001b[0mresponse\u001b[0m\u001b[0;34m.\u001b[0m\u001b[0mbegin\u001b[0m\u001b[0;34m(\u001b[0m\u001b[0;34m)\u001b[0m\u001b[0;34m\u001b[0m\u001b[0;34m\u001b[0m\u001b[0m\n\u001b[0m\u001b[1;32m   1349\u001b[0m             \u001b[0;32mexcept\u001b[0m \u001b[0mConnectionError\u001b[0m\u001b[0;34m:\u001b[0m\u001b[0;34m\u001b[0m\u001b[0;34m\u001b[0m\u001b[0m\n\u001b[1;32m   1350\u001b[0m                 \u001b[0mself\u001b[0m\u001b[0;34m.\u001b[0m\u001b[0mclose\u001b[0m\u001b[0;34m(\u001b[0m\u001b[0;34m)\u001b[0m\u001b[0;34m\u001b[0m\u001b[0;34m\u001b[0m\u001b[0m\n",
            "\u001b[0;32m/usr/lib/python3.8/http/client.py\u001b[0m in \u001b[0;36mbegin\u001b[0;34m(self)\u001b[0m\n\u001b[1;32m    314\u001b[0m         \u001b[0;31m# read until we get a non-100 response\u001b[0m\u001b[0;34m\u001b[0m\u001b[0;34m\u001b[0m\u001b[0;34m\u001b[0m\u001b[0m\n\u001b[1;32m    315\u001b[0m         \u001b[0;32mwhile\u001b[0m \u001b[0;32mTrue\u001b[0m\u001b[0;34m:\u001b[0m\u001b[0;34m\u001b[0m\u001b[0;34m\u001b[0m\u001b[0m\n\u001b[0;32m--> 316\u001b[0;31m             \u001b[0mversion\u001b[0m\u001b[0;34m,\u001b[0m \u001b[0mstatus\u001b[0m\u001b[0;34m,\u001b[0m \u001b[0mreason\u001b[0m \u001b[0;34m=\u001b[0m \u001b[0mself\u001b[0m\u001b[0;34m.\u001b[0m\u001b[0m_read_status\u001b[0m\u001b[0;34m(\u001b[0m\u001b[0;34m)\u001b[0m\u001b[0;34m\u001b[0m\u001b[0;34m\u001b[0m\u001b[0m\n\u001b[0m\u001b[1;32m    317\u001b[0m             \u001b[0;32mif\u001b[0m \u001b[0mstatus\u001b[0m \u001b[0;34m!=\u001b[0m \u001b[0mCONTINUE\u001b[0m\u001b[0;34m:\u001b[0m\u001b[0;34m\u001b[0m\u001b[0;34m\u001b[0m\u001b[0m\n\u001b[1;32m    318\u001b[0m                 \u001b[0;32mbreak\u001b[0m\u001b[0;34m\u001b[0m\u001b[0;34m\u001b[0m\u001b[0m\n",
            "\u001b[0;32m/usr/lib/python3.8/http/client.py\u001b[0m in \u001b[0;36m_read_status\u001b[0;34m(self)\u001b[0m\n\u001b[1;32m    275\u001b[0m \u001b[0;34m\u001b[0m\u001b[0m\n\u001b[1;32m    276\u001b[0m     \u001b[0;32mdef\u001b[0m \u001b[0m_read_status\u001b[0m\u001b[0;34m(\u001b[0m\u001b[0mself\u001b[0m\u001b[0;34m)\u001b[0m\u001b[0;34m:\u001b[0m\u001b[0;34m\u001b[0m\u001b[0;34m\u001b[0m\u001b[0m\n\u001b[0;32m--> 277\u001b[0;31m         \u001b[0mline\u001b[0m \u001b[0;34m=\u001b[0m \u001b[0mstr\u001b[0m\u001b[0;34m(\u001b[0m\u001b[0mself\u001b[0m\u001b[0;34m.\u001b[0m\u001b[0mfp\u001b[0m\u001b[0;34m.\u001b[0m\u001b[0mreadline\u001b[0m\u001b[0;34m(\u001b[0m\u001b[0m_MAXLINE\u001b[0m \u001b[0;34m+\u001b[0m \u001b[0;36m1\u001b[0m\u001b[0;34m)\u001b[0m\u001b[0;34m,\u001b[0m \u001b[0;34m\"iso-8859-1\"\u001b[0m\u001b[0;34m)\u001b[0m\u001b[0;34m\u001b[0m\u001b[0;34m\u001b[0m\u001b[0m\n\u001b[0m\u001b[1;32m    278\u001b[0m         \u001b[0;32mif\u001b[0m \u001b[0mlen\u001b[0m\u001b[0;34m(\u001b[0m\u001b[0mline\u001b[0m\u001b[0;34m)\u001b[0m \u001b[0;34m>\u001b[0m \u001b[0m_MAXLINE\u001b[0m\u001b[0;34m:\u001b[0m\u001b[0;34m\u001b[0m\u001b[0;34m\u001b[0m\u001b[0m\n\u001b[1;32m    279\u001b[0m             \u001b[0;32mraise\u001b[0m \u001b[0mLineTooLong\u001b[0m\u001b[0;34m(\u001b[0m\u001b[0;34m\"status line\"\u001b[0m\u001b[0;34m)\u001b[0m\u001b[0;34m\u001b[0m\u001b[0;34m\u001b[0m\u001b[0m\n",
            "\u001b[0;32m/usr/lib/python3.8/socket.py\u001b[0m in \u001b[0;36mreadinto\u001b[0;34m(self, b)\u001b[0m\n\u001b[1;32m    667\u001b[0m         \u001b[0;32mwhile\u001b[0m \u001b[0;32mTrue\u001b[0m\u001b[0;34m:\u001b[0m\u001b[0;34m\u001b[0m\u001b[0;34m\u001b[0m\u001b[0m\n\u001b[1;32m    668\u001b[0m             \u001b[0;32mtry\u001b[0m\u001b[0;34m:\u001b[0m\u001b[0;34m\u001b[0m\u001b[0;34m\u001b[0m\u001b[0m\n\u001b[0;32m--> 669\u001b[0;31m                 \u001b[0;32mreturn\u001b[0m \u001b[0mself\u001b[0m\u001b[0;34m.\u001b[0m\u001b[0m_sock\u001b[0m\u001b[0;34m.\u001b[0m\u001b[0mrecv_into\u001b[0m\u001b[0;34m(\u001b[0m\u001b[0mb\u001b[0m\u001b[0;34m)\u001b[0m\u001b[0;34m\u001b[0m\u001b[0;34m\u001b[0m\u001b[0m\n\u001b[0m\u001b[1;32m    670\u001b[0m             \u001b[0;32mexcept\u001b[0m \u001b[0mtimeout\u001b[0m\u001b[0;34m:\u001b[0m\u001b[0;34m\u001b[0m\u001b[0;34m\u001b[0m\u001b[0m\n\u001b[1;32m    671\u001b[0m                 \u001b[0mself\u001b[0m\u001b[0;34m.\u001b[0m\u001b[0m_timeout_occurred\u001b[0m \u001b[0;34m=\u001b[0m \u001b[0;32mTrue\u001b[0m\u001b[0;34m\u001b[0m\u001b[0;34m\u001b[0m\u001b[0m\n",
            "\u001b[0;32m/usr/lib/python3.8/ssl.py\u001b[0m in \u001b[0;36mrecv_into\u001b[0;34m(self, buffer, nbytes, flags)\u001b[0m\n\u001b[1;32m   1239\u001b[0m                   \u001b[0;34m\"non-zero flags not allowed in calls to recv_into() on %s\"\u001b[0m \u001b[0;34m%\u001b[0m\u001b[0;34m\u001b[0m\u001b[0;34m\u001b[0m\u001b[0m\n\u001b[1;32m   1240\u001b[0m                   self.__class__)\n\u001b[0;32m-> 1241\u001b[0;31m             \u001b[0;32mreturn\u001b[0m \u001b[0mself\u001b[0m\u001b[0;34m.\u001b[0m\u001b[0mread\u001b[0m\u001b[0;34m(\u001b[0m\u001b[0mnbytes\u001b[0m\u001b[0;34m,\u001b[0m \u001b[0mbuffer\u001b[0m\u001b[0;34m)\u001b[0m\u001b[0;34m\u001b[0m\u001b[0;34m\u001b[0m\u001b[0m\n\u001b[0m\u001b[1;32m   1242\u001b[0m         \u001b[0;32melse\u001b[0m\u001b[0;34m:\u001b[0m\u001b[0;34m\u001b[0m\u001b[0;34m\u001b[0m\u001b[0m\n\u001b[1;32m   1243\u001b[0m             \u001b[0;32mreturn\u001b[0m \u001b[0msuper\u001b[0m\u001b[0;34m(\u001b[0m\u001b[0;34m)\u001b[0m\u001b[0;34m.\u001b[0m\u001b[0mrecv_into\u001b[0m\u001b[0;34m(\u001b[0m\u001b[0mbuffer\u001b[0m\u001b[0;34m,\u001b[0m \u001b[0mnbytes\u001b[0m\u001b[0;34m,\u001b[0m \u001b[0mflags\u001b[0m\u001b[0;34m)\u001b[0m\u001b[0;34m\u001b[0m\u001b[0;34m\u001b[0m\u001b[0m\n",
            "\u001b[0;32m/usr/lib/python3.8/ssl.py\u001b[0m in \u001b[0;36mread\u001b[0;34m(self, len, buffer)\u001b[0m\n\u001b[1;32m   1097\u001b[0m         \u001b[0;32mtry\u001b[0m\u001b[0;34m:\u001b[0m\u001b[0;34m\u001b[0m\u001b[0;34m\u001b[0m\u001b[0m\n\u001b[1;32m   1098\u001b[0m             \u001b[0;32mif\u001b[0m \u001b[0mbuffer\u001b[0m \u001b[0;32mis\u001b[0m \u001b[0;32mnot\u001b[0m \u001b[0;32mNone\u001b[0m\u001b[0;34m:\u001b[0m\u001b[0;34m\u001b[0m\u001b[0;34m\u001b[0m\u001b[0m\n\u001b[0;32m-> 1099\u001b[0;31m                 \u001b[0;32mreturn\u001b[0m \u001b[0mself\u001b[0m\u001b[0;34m.\u001b[0m\u001b[0m_sslobj\u001b[0m\u001b[0;34m.\u001b[0m\u001b[0mread\u001b[0m\u001b[0;34m(\u001b[0m\u001b[0mlen\u001b[0m\u001b[0;34m,\u001b[0m \u001b[0mbuffer\u001b[0m\u001b[0;34m)\u001b[0m\u001b[0;34m\u001b[0m\u001b[0;34m\u001b[0m\u001b[0m\n\u001b[0m\u001b[1;32m   1100\u001b[0m             \u001b[0;32melse\u001b[0m\u001b[0;34m:\u001b[0m\u001b[0;34m\u001b[0m\u001b[0;34m\u001b[0m\u001b[0m\n\u001b[1;32m   1101\u001b[0m                 \u001b[0;32mreturn\u001b[0m \u001b[0mself\u001b[0m\u001b[0;34m.\u001b[0m\u001b[0m_sslobj\u001b[0m\u001b[0;34m.\u001b[0m\u001b[0mread\u001b[0m\u001b[0;34m(\u001b[0m\u001b[0mlen\u001b[0m\u001b[0;34m)\u001b[0m\u001b[0;34m\u001b[0m\u001b[0;34m\u001b[0m\u001b[0m\n",
            "\u001b[0;31mKeyboardInterrupt\u001b[0m: "
          ]
        }
      ],
      "source": [
        "def genre_extractor(links_column):\n",
        "  genres = []\n",
        "  for link in links_column:\n",
        "    film_url = f'http://www.imdb.com/{link}'\n",
        "    html_text = requests.get(film_url, headers={'User-Agent': 'Mozilla/5.0'}).text\n",
        "    soup = BeautifulSoup(html_text, 'lxml')\n",
        "    genre = soup.find_all('div', attrs={\"data-testid\": \"genres\"})\n",
        "    genres.append(genre)\n",
        "  return genres\n",
        "\n",
        "data['genres'] = list(map(genre_extractor(data['links'])))\n",
        "data['genres']"
      ]
    }
  ],
  "metadata": {
    "colab": {
      "provenance": [],
      "collapsed_sections": [
        "ysRcuhxOXtnW"
      ],
      "name": "HW2_Bystrova.ipynb",
      "toc_visible": true
    },
    "kernelspec": {
      "display_name": "Python 3 (ipykernel)",
      "language": "python",
      "name": "python3"
    },
    "language_info": {
      "codemirror_mode": {
        "name": "ipython",
        "version": 3
      },
      "file_extension": ".py",
      "mimetype": "text/x-python",
      "name": "python",
      "nbconvert_exporter": "python",
      "pygments_lexer": "ipython3",
      "version": "3.9.12"
    }
  },
  "nbformat": 4,
  "nbformat_minor": 0
}