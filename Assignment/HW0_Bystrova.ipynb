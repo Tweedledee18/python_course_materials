{
 "cells": [
  {
   "cell_type": "markdown",
   "id": "e7f00d2b",
   "metadata": {},
   "source": [
    "#### Task 1. std out"
   ]
  },
  {
   "cell_type": "code",
   "execution_count": 2,
   "id": "cff51f6e",
   "metadata": {},
   "outputs": [
    {
     "name": "stdout",
     "output_type": "stream",
     "text": [
      "1, 5, old, new, Paris, cooper\n",
      "15oldnewPariscooper\n"
     ]
    }
   ],
   "source": [
    "s = input().split(\", \")\n",
    "print(\"\".join(s))"
   ]
  },
  {
   "cell_type": "markdown",
   "id": "d2a68a76",
   "metadata": {},
   "source": [
    "#### Task 2. Расстояние между точками"
   ]
  },
  {
   "cell_type": "code",
   "execution_count": 3,
   "id": "cfe49ad9",
   "metadata": {},
   "outputs": [
    {
     "name": "stdout",
     "output_type": "stream",
     "text": [
      "4.123105625617661\n"
     ]
    }
   ],
   "source": [
    "import math\n",
    "A = [0, 1]\n",
    "B = [1, 5]\n",
    "vec = math.sqrt(((B[0] - A[0])**2) + ((B[1] - A[1])**2))\n",
    "print(vec)"
   ]
  },
  {
   "cell_type": "markdown",
   "id": "e8ef8040",
   "metadata": {},
   "source": [
    "#### Task 3. Сумма float элементов в списке"
   ]
  },
  {
   "cell_type": "code",
   "execution_count": 4,
   "id": "84054052",
   "metadata": {},
   "outputs": [
    {
     "name": "stdout",
     "output_type": "stream",
     "text": [
      "2.0\n"
     ]
    }
   ],
   "source": [
    "color_list = [0.1,\"зеленый\", 1.6, \"белый\", 0.3, \"черный\", 7, \"2.0\"]\n",
    "fl_num = []\n",
    "i = 0\n",
    "while i < len(color_list):\n",
    "    item = color_list[i]\n",
    "    if type(item) is float:\n",
    "        fl_num.append(item)\n",
    "    i += 1\n",
    "print(sum(fl_num))"
   ]
  },
  {
   "cell_type": "markdown",
   "id": "a8a605ec",
   "metadata": {},
   "source": [
    "#### Task 4. Первый и последний элемент списка"
   ]
  },
  {
   "cell_type": "code",
   "execution_count": 5,
   "id": "830ff9b8",
   "metadata": {},
   "outputs": [
    {
     "name": "stdout",
     "output_type": "stream",
     "text": [
      "['красный', 'черный']\n"
     ]
    }
   ],
   "source": [
    "color_list = [\"красный\",\"зеленый\",\"белый\" ,\"черный\"]\n",
    "i = 0\n",
    "new_list = []\n",
    "while i > - len(color_list):\n",
    "    if i == 0 or i == -1:\n",
    "        elem = color_list[i]\n",
    "        new_list.append(elem)\n",
    "        i -= 1\n",
    "    else: i -= 1\n",
    "    continue\n",
    "print(new_list)"
   ]
  },
  {
   "cell_type": "code",
   "execution_count": 7,
   "id": "798d83ad",
   "metadata": {},
   "outputs": [
    {
     "name": "stdout",
     "output_type": "stream",
     "text": [
      "blue, yellow, green, purple, orange\n",
      "['blue', ' orange']\n"
     ]
    }
   ],
   "source": [
    "color_list = input().split(\",\")\n",
    "print(color_list[::len(color_list)-1])"
   ]
  },
  {
   "cell_type": "markdown",
   "id": "947a5043",
   "metadata": {},
   "source": [
    "#### Task 5. Element was found"
   ]
  },
  {
   "cell_type": "code",
   "execution_count": 4,
   "id": "8907c76f",
   "metadata": {},
   "outputs": [
    {
     "name": "stdout",
     "output_type": "stream",
     "text": [
      "-8\n",
      "element -8 was found\n"
     ]
    }
   ],
   "source": [
    "sample = [2, \"fresh\", 15, 3.8, \"couscous\", -8]\n",
    "i = 0\n",
    "sample1 = []\n",
    "while i < len(sample):\n",
    "    elem = str(sample[i])\n",
    "    sample1.append(elem)\n",
    "    i += 1\n",
    "\n",
    "check = input()\n",
    "if check in sample1:\n",
    "    print(\"element\", check, \"was found\")\n",
    "else:\n",
    "    print(\"Clear\")"
   ]
  },
  {
   "cell_type": "markdown",
   "id": "489f29ea",
   "metadata": {},
   "source": [
    "#### Task 6. Объединить элементы списка"
   ]
  },
  {
   "cell_type": "code",
   "execution_count": 7,
   "id": "3c59d7db",
   "metadata": {},
   "outputs": [
    {
     "name": "stdout",
     "output_type": "stream",
     "text": [
      "9 caMii  /\\y4LLIii proger v 2022 roDy\n"
     ]
    }
   ],
   "source": [
    "lst = [\"9\", \"caMii\", \" /\\y4LLIii\", \"proger\", \"v\", \"2022\", \"roDy\"]\n",
    "print(\" \".join(lst))"
   ]
  },
  {
   "cell_type": "markdown",
   "id": "6a607191",
   "metadata": {},
   "source": [
    "#### Task 7. Сразу по два элемента из двух списков"
   ]
  },
  {
   "cell_type": "code",
   "execution_count": 14,
   "id": "bffcef91",
   "metadata": {},
   "outputs": [
    {
     "name": "stdout",
     "output_type": "stream",
     "text": [
      "White Red\n",
      "Black Green\n",
      "Red White\n"
     ]
    }
   ],
   "source": [
    "color_list_1 = [\"White\", \"Black\", \"Red\"]\n",
    "color_list_2 = [\"Red\", \"Green\", \"White\"]\n",
    "n = 0\n",
    "N = 0\n",
    "while n < len(color_list_1) and N < len(color_list_2):\n",
    "    print(color_list_1[n], color_list_2[N])\n",
    "    n += 1\n",
    "    N += 1"
   ]
  },
  {
   "cell_type": "markdown",
   "id": "7aa0a09f",
   "metadata": {},
   "source": [
    "#### Task 8. Элемент по индексу (*3)"
   ]
  },
  {
   "cell_type": "code",
   "execution_count": 15,
   "id": "dedbd89f",
   "metadata": {},
   "outputs": [
    {
     "name": "stdout",
     "output_type": "stream",
     "text": [
      "aaabbbbbbcccccccccdddddddddddd"
     ]
    }
   ],
   "source": [
    "elem = [\"a\", \"b\", \"c\", \"d\"]\n",
    "i = 0\n",
    "while i < len(elem):\n",
    "    print((elem[i]) * (i +1) * 3, end=\"\")\n",
    "    i += 1"
   ]
  },
  {
   "cell_type": "markdown",
   "id": "bc6a69b7",
   "metadata": {},
   "source": [
    "#### Task 9. Рассортировать элементы"
   ]
  },
  {
   "cell_type": "code",
   "execution_count": 1,
   "id": "008e2918",
   "metadata": {},
   "outputs": [
    {
     "name": "stdout",
     "output_type": "stream",
     "text": [
      "integers [1, 11111] floats [2.4, 1000.0] strings ['a', 'b', 's', 't', 'r', 'i', 'n', 'g', 'new', 'old']\n"
     ]
    }
   ],
   "source": [
    "sample = [[\"a\", \"b\", 1, 2.4], \"string\", [\"new\", 11111, 1000.0, \"old\"]]\n",
    "integers = []\n",
    "floats = []\n",
    "strings = []\n",
    "\n",
    "for row in sample:\n",
    "    for elem in row:\n",
    "        if type(elem) is int:\n",
    "            integers.append(elem)\n",
    "        elif type(elem) is float:\n",
    "            floats.append(elem)\n",
    "        else: strings.append(elem)\n",
    "print(\"integers\", integers, \"floats\", floats, \"strings\", strings)"
   ]
  },
  {
   "cell_type": "markdown",
   "id": "203578d0",
   "metadata": {},
   "source": [
    "#### Task 10. Настоящее время"
   ]
  },
  {
   "cell_type": "code",
   "execution_count": 3,
   "id": "91a9e8b3",
   "metadata": {},
   "outputs": [
    {
     "name": "stdout",
     "output_type": "stream",
     "text": [
      "Wed Oct 12 00:30:43 2022\n"
     ]
    }
   ],
   "source": [
    "import time\n",
    "now = time.ctime()\n",
    "print(now)"
   ]
  }
 ],
 "metadata": {
  "kernelspec": {
   "display_name": "Python 3 (ipykernel)",
   "language": "python",
   "name": "python3"
  },
  "language_info": {
   "codemirror_mode": {
    "name": "ipython",
    "version": 3
   },
   "file_extension": ".py",
   "mimetype": "text/x-python",
   "name": "python",
   "nbconvert_exporter": "python",
   "pygments_lexer": "ipython3",
   "version": "3.9.12"
  }
 },
 "nbformat": 4,
 "nbformat_minor": 5
}
