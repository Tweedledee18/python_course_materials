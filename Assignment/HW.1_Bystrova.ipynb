{
 "cells": [
  {
   "cell_type": "markdown",
   "id": "ef43214b",
   "metadata": {},
   "source": [
    "# 0. Наибольший общий делитель - 1 балл\n",
    "Напишите функцию, которая на вход принимает два целых числа, а на выходе отдает их наибольших общий делитель. \n",
    "\n",
    "Пример\n",
    "\n",
    "Ввод \n",
    "\n",
    "`lcd(10,2)`\n",
    "\n",
    "Вывод\n",
    "\n",
    "`2`\n",
    "\n",
    "Пример\n",
    "\n",
    "Ввод \n",
    "\n",
    "`lcd(10,25)`\n",
    "\n",
    "Вывод\n",
    "\n",
    "`5`"
   ]
  },
  {
   "cell_type": "code",
   "execution_count": 14,
   "id": "d227561c",
   "metadata": {},
   "outputs": [
    {
     "name": "stdout",
     "output_type": "stream",
     "text": [
      "56\n",
      "14\n",
      "GCD (56, 14) = 14\n"
     ]
    }
   ],
   "source": [
    "def GCD(a, b):\n",
    "    while a != b:\n",
    "        if a > b:\n",
    "            a = a - b\n",
    "        else:\n",
    "            b = b - a\n",
    "    return a\n",
    "\n",
    "c = int(input())\n",
    "d = int(input())\n",
    "\n",
    "print(f\"GCD ({c}, {d}) =\", GCD(c, d))\n"
   ]
  },
  {
   "cell_type": "markdown",
   "id": "777171f3",
   "metadata": {},
   "source": [
    "# 1. Задачка про перевод из `camel_case`'a в `snake_case` - 1.5 балла\n",
    " Напишите функцию, которая на вход принимает строку, записанную в `CamelCase`, а переводит ее в `snake_case`.\n",
    " Подсказка: идите по строке циклом, обрабатывайте каждый символ, если символ заглавный, к обработанным ранее добавляйте нижнее подчеркивание и нынешний переводите в `lower case` \n",
    " \n",
    " Пример:\n",
    "\n",
    "**Вход**: `'camelCaseVar'`\n",
    "\n",
    "**Выход**: `'camel_сase_var'`"
   ]
  },
  {
   "cell_type": "code",
   "execution_count": 18,
   "id": "5e4c1ced",
   "metadata": {},
   "outputs": [
    {
     "name": "stdout",
     "output_type": "stream",
     "text": [
      "camelCaseVarTestnot_Working\n",
      "result: camel_case_var_testnot__working\n"
     ]
    }
   ],
   "source": [
    "import re\n",
    "def case_changer(string):\n",
    "    string = re.sub(r'(?=[A-Z]+)', \"_\", string).lower()  #Positive lookahead условие, прокачали на NLP курсе)) \n",
    "    return string\n",
    "\n",
    "string = input()\n",
    "print(\"result:\", case_changer(string))\n"
   ]
  },
  {
   "cell_type": "markdown",
   "id": "929847a2",
   "metadata": {},
   "source": [
    "# 2. Про Поросёнка Петра - 2 балла\n",
    "На плоскости в точке `(0,0)` стоит Поросёнок Пётр. Он умеет ходить налево, направо, вверх и вниз. Расстояние его прохода в какую-либо сторону измеряется в шагах. Когда он идет вправо, его первая координата увеличивается, когда влево - уменьшается. Когда он идет вверх, его вторая координата увеличивается, а когда вниз - уменьшается.\n",
    "С клавиатуры считывается число `N` - число ходов, которые сделает Пётр. После чего на каждом шаге спрашивается, сколько шагов и в какую сторону за этот ход Пётр сделает. Так происходит, пока Пётр не осуществит все N ходов.\n",
    "Программа должна вывести, сколько шагов Пётр должен был бы сделать, чтобы кратчайшим путем прибыть из свое начальной точки `(0,0)` в свою конечную точку. \n",
    "\n",
    "Напоминание: Пётр умеет ходить только вверх-вниз, и влево-вправо, но не по диагонали.\n",
    "\n",
    "Пример ввода:\n",
    "\n",
    "Введите N: `3`\n",
    "\n",
    "Ход 1: `Вверх 1`\n",
    "\n",
    "Ход 2: `Вниз 1`\n",
    "\n",
    "Ход 3: `Вверх 1`\n",
    "\n",
    "Пример вывода:\n",
    "`Пётр находится на расстоянии 1 от (0,0)`"
   ]
  },
  {
   "cell_type": "code",
   "execution_count": 144,
   "id": "5fa08fd0",
   "metadata": {},
   "outputs": [
    {
     "name": "stdout",
     "output_type": "stream",
     "text": [
      "Введите N: 3\n",
      "Ход 1: Вверх 1\n",
      "Ход 2: Вниз 1\n",
      "Ход 3: Вверх 1\n",
      "Пётр находится на расстоянии 1 от (0,0)\n"
     ]
    }
   ],
   "source": [
    "start_x = 0\n",
    "start_y = 0\n",
    "Num_moves = int(input('Введите N: '))\n",
    "for move in range(Num_moves):\n",
    "    moves = input(f'Ход {move + 1}: ')\n",
    "    direction, coord = moves.split()\n",
    "    if direction == \"Вверх\":\n",
    "        start_y += int(coord)\n",
    "    if direction == \"Вниз\":\n",
    "        start_y -= int(coord)\n",
    "    if direction == \"Вправо\":\n",
    "        start_x += int(coord)\n",
    "    if direction == \"Влево\":  \n",
    "        start_x -= int(coord)\n",
    "        \n",
    "      \n",
    "\n",
    "print(f'Пётр находится на расстоянии {abs(start_x) + abs(start_y)} от (0,0)')\n"
   ]
  },
  {
   "cell_type": "markdown",
   "id": "818909ca",
   "metadata": {},
   "source": [
    "# 3. Sort the keys of the dictionary from a to z.  - 0.5 балла"
   ]
  },
  {
   "cell_type": "code",
   "execution_count": 30,
   "id": "b81d45f3",
   "metadata": {},
   "outputs": [
    {
     "data": {
      "text/plain": [
       "{'cheesecake': 4, 'chocolate': 2, 'pudding': 3, 'tiramisu': 5}"
      ]
     },
     "execution_count": 30,
     "metadata": {},
     "output_type": "execute_result"
    }
   ],
   "source": [
    "d_= {\"tiramisu\":5, \"chocolate\":2, \"pudding\":3, \"cheesecake\":4}\n",
    "\n",
    "d_sorted = dict(sorted(d_.items()))\n",
    "d_sorted"
   ]
  },
  {
   "cell_type": "markdown",
   "id": "77275ebf",
   "metadata": {},
   "source": [
    "# 4. Compare three values, return true only if 2 or more values are equal - 0.5 балла"
   ]
  },
  {
   "cell_type": "code",
   "execution_count": 166,
   "id": "d0893272",
   "metadata": {},
   "outputs": [
    {
     "name": "stdout",
     "output_type": "stream",
     "text": [
      "True\n",
      "True\n",
      "True\n",
      "False\n"
     ]
    }
   ],
   "source": [
    "def comparison(a, b, c):\n",
    "    if a * b == a * c or b * a == b * c or c * a == c * b:\n",
    "        return \"True\"\n",
    "    else:\n",
    "        \n",
    "        return \"False\"\n",
    "\n",
    "print(comparison(1, 2, 1))\n",
    "print(comparison(21, 22, 22))\n",
    "print(comparison(666,666, 666))\n",
    "print(comparison(43,56, 11))"
   ]
  },
  {
   "cell_type": "markdown",
   "id": "895340c0",
   "metadata": {},
   "source": [
    "# 5. Given a list with pairs, sort on the sum of pairs - 0.5 балла"
   ]
  },
  {
   "cell_type": "code",
   "execution_count": 2,
   "id": "7a8971e2",
   "metadata": {
    "scrolled": true
   },
   "outputs": [
    {
     "data": {
      "text/plain": [
       "[(3, 1), (3, 6), (4, 7), (8, 4), (5, 9)]"
      ]
     },
     "execution_count": 2,
     "metadata": {},
     "output_type": "execute_result"
    }
   ],
   "source": [
    "x = [(3,6),(4,7),(5,9),(8,4),(3,1)]\n",
    "x.sort(key = lambda x: x[0] + x[1])\n",
    "x"
   ]
  },
  {
   "cell_type": "markdown",
   "id": "be5b7018",
   "metadata": {},
   "source": [
    "# 6. Create a function that takes a list of numbers. Return the largest number in the list. - 0.5 балла"
   ]
  },
  {
   "cell_type": "code",
   "execution_count": 27,
   "id": "2ddbc7bf",
   "metadata": {},
   "outputs": [
    {
     "name": "stdout",
     "output_type": "stream",
     "text": [
      "5\n",
      "600\n",
      "1001\n"
     ]
    }
   ],
   "source": [
    "def findLargestNum(numslist):\n",
    "    return (max(numslist))\n",
    "    \n",
    "\n",
    "print(findLargestNum([4, 5, 1, 3]))\n",
    "\n",
    "print(findLargestNum([300, 200, 600, 150]))\n",
    "\n",
    "print(findLargestNum([1000, 1001, 857, 1]))"
   ]
  },
  {
   "cell_type": "markdown",
   "id": "17918763",
   "metadata": {},
   "source": [
    "# 7. Create a function that takes a string and returns the concatenated first and last character. - 0.5 балла"
   ]
  },
  {
   "cell_type": "code",
   "execution_count": 24,
   "id": "7062bfdb",
   "metadata": {},
   "outputs": [
    {
     "name": "stdout",
     "output_type": "stream",
     "text": [
      "cherrycherry\n",
      "ababab\n",
      "kiwikiwikiwikiwikiwi\n"
     ]
    }
   ],
   "source": [
    "def repetition(word, num):\n",
    "    return (word * num)\n",
    "\n",
    "print(repetition(\"cherry\", 2))\n",
    "print(repetition(\"ab\", 3))\n",
    "print(repetition(\"kiwi\", 5))"
   ]
  },
  {
   "cell_type": "markdown",
   "id": "5c2fe48a",
   "metadata": {},
   "source": [
    "# 8. <font color='red'>Create a function that takes a 2D list lst returns the sum of the minimum value in each row. - 0.5 балла</font>"
   ]
  },
  {
   "cell_type": "code",
   "execution_count": 25,
   "id": "c3232abb",
   "metadata": {},
   "outputs": [
    {
     "ename": "SyntaxError",
     "evalue": "unexpected EOF while parsing (3349093157.py, line 26)",
     "output_type": "error",
     "traceback": [
      "\u001b[1;36m  Input \u001b[1;32mIn [25]\u001b[1;36m\u001b[0m\n\u001b[1;33m    # minimum value of the third row is 20\u001b[0m\n\u001b[1;37m                                          ^\u001b[0m\n\u001b[1;31mSyntaxError\u001b[0m\u001b[1;31m:\u001b[0m unexpected EOF while parsing\n"
     ]
    }
   ],
   "source": [
    "def sum_minimums(matrix):\n",
    "    mins = []\n",
    "    i = 0\n",
    "    for i in range (matrix):\n",
    "        i += 1\n",
    "        \n",
    "        for j in range(len(matrix[i])):\n",
    "            min1 = min(matrix[i])\n",
    "            mins.append(min1)\n",
    "            return min1\n",
    "                       \n",
    "\n",
    "sum_minimums([\n",
    "    [1, 2, 3, 4, 5],\n",
    "  [5, 6, 7, 8, 9],\n",
    "  [20, 21, 34, 56, 100]] \n",
    "    \n",
    "    \n",
    "    ##➞ 26\n",
    "\n",
    "\n",
    "    \n",
    "\n",
    "# minimum value of the first row is 1\n",
    "# minimum value of the second row is 5\n",
    "# minimum value of the third row is 20"
   ]
  },
  {
   "cell_type": "code",
   "execution_count": 22,
   "id": "7b459e41",
   "metadata": {},
   "outputs": [
    {
     "ename": "SyntaxError",
     "evalue": "unexpected EOF while parsing (1397895626.py, line 11)",
     "output_type": "error",
     "traceback": [
      "\u001b[1;36m  Input \u001b[1;32mIn [22]\u001b[1;36m\u001b[0m\n\u001b[1;33m    [20, 21, 34, 56, 100]]\u001b[0m\n\u001b[1;37m                               ^\u001b[0m\n\u001b[1;31mSyntaxError\u001b[0m\u001b[1;31m:\u001b[0m unexpected EOF while parsing\n"
     ]
    }
   ],
   "source": [
    "def sum_minimums(m): \n",
    "    minimum = m[0][0]\n",
    "    for i in range(len(m)):\n",
    "        for j in range(len(m[i])):\n",
    "            if m[i][j] < minimum: # if yes, we found smaller number\n",
    "                minimum=m[i][j]\n",
    "                \n",
    "sum_minimums([\n",
    "    [1, 2, 3, 4, 5],\n",
    "  [5, 6, 7, 8, 9],\n",
    "  [20, 21, 34, 56, 100]]     "
   ]
  },
  {
   "cell_type": "markdown",
   "id": "88c6709f",
   "metadata": {},
   "source": [
    "# 9. Create a function to return the amount of potatoes there are in a string. - 0.5 балла"
   ]
  },
  {
   "cell_type": "code",
   "execution_count": 44,
   "id": "e2610cbd",
   "metadata": {},
   "outputs": [
    {
     "name": "stdout",
     "output_type": "stream",
     "text": [
      "1\n",
      "2\n",
      "2\n"
     ]
    }
   ],
   "source": [
    "def potatoes(words):\n",
    "    return words.count(\"potato\")\n",
    "\n",
    "print(potatoes(\"potato\"))\n",
    "print(potatoes(\"potatopotato\"))\n",
    "print(potatoes(\"potatoapplepotatoes\"))"
   ]
  },
  {
   "cell_type": "markdown",
   "id": "7fb5aa44",
   "metadata": {},
   "source": [
    "# 10. Create a function that takes a list of integers as an argument and returns a unique number from that list. All numbers except unique ones have the same number of occurrences in the list. - 0.5 балла"
   ]
  },
  {
   "cell_type": "code",
   "execution_count": 126,
   "id": "a43f80e0",
   "metadata": {},
   "outputs": [
    {
     "name": "stdout",
     "output_type": "stream",
     "text": [
      "3\n",
      "2\n",
      "None\n",
      "8\n",
      "101\n"
     ]
    }
   ],
   "source": [
    "from collections import Counter\n",
    "\n",
    "def find_single_number(numlst):\n",
    "    nums = Counter(numlst)  #создали counter, где values - счетчики вхождений ключа в строке.\n",
    "    for key, value in nums.items():\n",
    "        if value == 1:\n",
    "            return key\n",
    "\n",
    "print(find_single_number([2, 2, 2, 3, 4, 4, 4]))\n",
    "print(find_single_number([2]))\n",
    "print(find_single_number([]))\n",
    "print(find_single_number([7, 13, 3, 6, 5, 4, 4, 13, 5, 3, 6, 7, 6, 5, 3, 13, 4, 7, 13, 5, 7, 4, 3, 6, 8, 4, 3, 7, 5, 6, 13]))\n",
    "print(find_single_number([1, 2, 3, 6, 5, 4, 4, 2, 5, 3, 6, 1, 6, 5, 3, 2, 4, 1, 2, 5, 1, 4, 3, 6, 101, 4, 3, 1, 5, 6, 2]))"
   ]
  },
  {
   "cell_type": "markdown",
   "id": "0313ea52",
   "metadata": {},
   "source": [
    "# 11.  Given a letter and a list of words, return whether the letter does not appear in any of the words. - 0.5 балла"
   ]
  },
  {
   "cell_type": "code",
   "execution_count": 7,
   "id": "0cb649a5",
   "metadata": {},
   "outputs": [
    {
     "name": "stdout",
     "output_type": "stream",
     "text": [
      "False\n",
      "True\n"
     ]
    }
   ],
   "source": [
    "\n",
    "def forbidden_letter(letter, lst):\n",
    "    for word in lst:\n",
    "        for char in word:\n",
    "            if letter != char:\n",
    "                return \"True\"\n",
    "            else:\n",
    "                return \"False\"\n",
    "\n",
    "\n",
    "\n",
    "\n",
    "print(forbidden_letter(\"r\", [\"rock\", \"paper\", \"scissors\"]))\n",
    "\n",
    "print(forbidden_letter(\"a\", [\"spoon\", \"fork\", \"knife\"]))\n"
   ]
  },
  {
   "cell_type": "markdown",
   "id": "0a7ef5b5",
   "metadata": {},
   "source": [
    "# 12.  Define a function which create a Pattern like this one.  - *2 балла*"
   ]
  },
  {
   "cell_type": "code",
   "execution_count": 423,
   "id": "7617ebb7",
   "metadata": {
    "scrolled": true
   },
   "outputs": [
    {
     "ename": "SyntaxError",
     "evalue": "invalid syntax (4208475931.py, line 12)",
     "output_type": "error",
     "traceback": [
      "\u001b[1;36m  Input \u001b[1;32mIn [423]\u001b[1;36m\u001b[0m\n\u001b[1;33m    Pattern:\u001b[0m\n\u001b[1;37m            ^\u001b[0m\n\u001b[1;31mSyntaxError\u001b[0m\u001b[1;31m:\u001b[0m invalid syntax\n"
     ]
    }
   ],
   "source": [
    "Input: 4\n",
    "\n",
    "Pattern:\n",
    "    \n",
    " 01234\n",
    "  | |     0\n",
    " -----    1\n",
    "  | |     2\n",
    " -----    3\n",
    "  | |     4"
   ]
  },
  {
   "cell_type": "code",
   "execution_count": 7,
   "id": "85670fcd",
   "metadata": {},
   "outputs": [
    {
     "name": "stdout",
     "output_type": "stream",
     "text": [
      "Input:4\n",
      "01234\n",
      " | |    0\n",
      "-----   1\n",
      " | |    2\n",
      "-----   3\n",
      " | |    4\n",
      "-----   5\n"
     ]
    }
   ],
   "source": [
    "n = int(input(\"Input:\"))\n",
    "i = 0\n",
    "k = 0\n",
    "\n",
    "\n",
    "\n",
    "print(*range(n+1), sep='')\n",
    "for i in range(0, n+2, 2):\n",
    "    print(\" |\"*2,\" \"*4, i, sep = '')\n",
    "    i += 1\n",
    "    for k in range(i):\n",
    "        k += 1\n",
    "    print(\"-\" * (n+1),\" \"*3, k, sep = '' )"
   ]
  },
  {
   "cell_type": "markdown",
   "id": "91a59521",
   "metadata": {},
   "source": [
    "#  13. Create a function that takes three numbers as arguments and returns True if it's a triangle and False if not.  - 0.5 балла"
   ]
  },
  {
   "cell_type": "code",
   "execution_count": null,
   "id": "d867302c",
   "metadata": {},
   "outputs": [],
   "source": [
    "#У треугольника сумма любых двух сторон должна быть больше третьей\n",
    "def is_triangle(a, b, c):\n",
    "    if (a + b <= c) | (b + c <= a) | (c + a <= b):\n",
    "        print(\"False\")\n",
    "    else:\n",
    "        print(\"True\")\n",
    "    \n",
    "is_triangle(2, 3, 4) \n",
    "\n",
    "is_triangle(3, 4, 5) \n",
    "\n",
    "is_triangle(4, 3, 8) "
   ]
  },
  {
   "cell_type": "markdown",
   "id": "2bdfb66e",
   "metadata": {},
   "source": [
    "#  <font color='red'>14. Create a \"Code\" Generator that takes text as input and replaces some letter with another letter, and outputs the \"encoded\" message. Create funcs to encode and decode messages</font>"
   ]
  },
  {
   "cell_type": "code",
   "execution_count": null,
   "id": "0caf2b35",
   "metadata": {},
   "outputs": [],
   "source": [
    "replacement = {\"a\": \"b\", \"d\": \"1\" ......}"
   ]
  }
 ],
 "metadata": {
  "kernelspec": {
   "display_name": "Python 3 (ipykernel)",
   "language": "python",
   "name": "python3"
  },
  "language_info": {
   "codemirror_mode": {
    "name": "ipython",
    "version": 3
   },
   "file_extension": ".py",
   "mimetype": "text/x-python",
   "name": "python",
   "nbconvert_exporter": "python",
   "pygments_lexer": "ipython3",
   "version": "3.9.12"
  }
 },
 "nbformat": 4,
 "nbformat_minor": 5
}
